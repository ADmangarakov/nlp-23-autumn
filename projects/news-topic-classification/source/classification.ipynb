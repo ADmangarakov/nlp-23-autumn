{
 "cells": [
  {
   "cell_type": "code",
   "execution_count": 1,
   "outputs": [
    {
     "name": "stderr",
     "output_type": "stream",
     "text": [
      "C:\\Users\\goras\\AppData\\Roaming\\Python\\Python311\\site-packages\\torchaudio\\backend\\utils.py:74: UserWarning: No audio backend is available.\n",
      "  warnings.warn(\"No audio backend is available.\")\n"
     ]
    }
   ],
   "source": [
    "import os\n",
    "from typing import Any\n",
    "\n",
    "import numpy as np\n",
    "import time\n",
    "\n",
    "from pytorch_lightning.utilities.types import STEP_OUTPUT\n",
    "from sklearn.svm import SVC\n",
    "from sklearn.metrics import precision_score, recall_score, f1_score, accuracy_score"
   ],
   "metadata": {
    "collapsed": false,
    "ExecuteTime": {
     "end_time": "2023-11-29T12:30:31.843180800Z",
     "start_time": "2023-11-29T12:30:29.987121300Z"
    }
   },
   "id": "866709bfce1891a8"
  },
  {
   "cell_type": "code",
   "execution_count": 2,
   "outputs": [],
   "source": [
    "train_embeddings = os.path.realpath(\"../assets/annotated_corpus/train_embeddings.tsv\")\n",
    "test_embeddings = os.path.realpath(\"../assets/annotated_corpus/test_embeddings.tsv\")\n",
    "topics = os.listdir(os.path.realpath(\"../assets/annotated_corpus/train\"))"
   ],
   "metadata": {
    "collapsed": false,
    "ExecuteTime": {
     "end_time": "2023-11-29T12:30:31.847766800Z",
     "start_time": "2023-11-29T12:30:31.844181600Z"
    }
   },
   "id": "initial_id"
  },
  {
   "cell_type": "code",
   "execution_count": 3,
   "outputs": [],
   "source": [
    "def prepare_dataset(filename):\n",
    "    x_raw = []\n",
    "    y_raw = []\n",
    "    with open(filename) as f:\n",
    "        lines = f.readlines()\n",
    "        for line in lines:\n",
    "            y_raw.append(topics.index(line.split(\"\\t\", 1)[0].split(\"\\\\\")[0]))\n",
    "            x_raw.append(list(map(float, line.split(\"\\t\", 1)[1].split(\"\\t\"))))\n",
    "            \n",
    "    return np.array(x_raw), np.array(y_raw)"
   ],
   "metadata": {
    "collapsed": false,
    "ExecuteTime": {
     "end_time": "2023-11-29T12:30:31.866091Z",
     "start_time": "2023-11-29T12:30:31.848765800Z"
    }
   },
   "id": "c2e3ab3b728d560e"
  },
  {
   "cell_type": "code",
   "execution_count": 4,
   "outputs": [],
   "source": [
    "x_train, y_train = prepare_dataset(train_embeddings)\n",
    "x_test, y_test = prepare_dataset(test_embeddings)"
   ],
   "metadata": {
    "collapsed": false,
    "ExecuteTime": {
     "end_time": "2023-11-29T12:30:32.595412300Z",
     "start_time": "2023-11-29T12:30:31.853798300Z"
    }
   },
   "id": "9559fe9e7321a093"
  },
  {
   "cell_type": "code",
   "execution_count": 5,
   "outputs": [],
   "source": [
    "clf1 = SVC()"
   ],
   "metadata": {
    "collapsed": false,
    "ExecuteTime": {
     "end_time": "2023-11-29T12:30:32.601039800Z",
     "start_time": "2023-11-29T12:30:32.596532400Z"
    }
   },
   "id": "e7c0c5080075d0f"
  },
  {
   "cell_type": "code",
   "execution_count": 6,
   "outputs": [
    {
     "data": {
      "text/plain": "SVC()",
      "text/html": "<style>#sk-container-id-1 {color: black;}#sk-container-id-1 pre{padding: 0;}#sk-container-id-1 div.sk-toggleable {background-color: white;}#sk-container-id-1 label.sk-toggleable__label {cursor: pointer;display: block;width: 100%;margin-bottom: 0;padding: 0.3em;box-sizing: border-box;text-align: center;}#sk-container-id-1 label.sk-toggleable__label-arrow:before {content: \"▸\";float: left;margin-right: 0.25em;color: #696969;}#sk-container-id-1 label.sk-toggleable__label-arrow:hover:before {color: black;}#sk-container-id-1 div.sk-estimator:hover label.sk-toggleable__label-arrow:before {color: black;}#sk-container-id-1 div.sk-toggleable__content {max-height: 0;max-width: 0;overflow: hidden;text-align: left;background-color: #f0f8ff;}#sk-container-id-1 div.sk-toggleable__content pre {margin: 0.2em;color: black;border-radius: 0.25em;background-color: #f0f8ff;}#sk-container-id-1 input.sk-toggleable__control:checked~div.sk-toggleable__content {max-height: 200px;max-width: 100%;overflow: auto;}#sk-container-id-1 input.sk-toggleable__control:checked~label.sk-toggleable__label-arrow:before {content: \"▾\";}#sk-container-id-1 div.sk-estimator input.sk-toggleable__control:checked~label.sk-toggleable__label {background-color: #d4ebff;}#sk-container-id-1 div.sk-label input.sk-toggleable__control:checked~label.sk-toggleable__label {background-color: #d4ebff;}#sk-container-id-1 input.sk-hidden--visually {border: 0;clip: rect(1px 1px 1px 1px);clip: rect(1px, 1px, 1px, 1px);height: 1px;margin: -1px;overflow: hidden;padding: 0;position: absolute;width: 1px;}#sk-container-id-1 div.sk-estimator {font-family: monospace;background-color: #f0f8ff;border: 1px dotted black;border-radius: 0.25em;box-sizing: border-box;margin-bottom: 0.5em;}#sk-container-id-1 div.sk-estimator:hover {background-color: #d4ebff;}#sk-container-id-1 div.sk-parallel-item::after {content: \"\";width: 100%;border-bottom: 1px solid gray;flex-grow: 1;}#sk-container-id-1 div.sk-label:hover label.sk-toggleable__label {background-color: #d4ebff;}#sk-container-id-1 div.sk-serial::before {content: \"\";position: absolute;border-left: 1px solid gray;box-sizing: border-box;top: 0;bottom: 0;left: 50%;z-index: 0;}#sk-container-id-1 div.sk-serial {display: flex;flex-direction: column;align-items: center;background-color: white;padding-right: 0.2em;padding-left: 0.2em;position: relative;}#sk-container-id-1 div.sk-item {position: relative;z-index: 1;}#sk-container-id-1 div.sk-parallel {display: flex;align-items: stretch;justify-content: center;background-color: white;position: relative;}#sk-container-id-1 div.sk-item::before, #sk-container-id-1 div.sk-parallel-item::before {content: \"\";position: absolute;border-left: 1px solid gray;box-sizing: border-box;top: 0;bottom: 0;left: 50%;z-index: -1;}#sk-container-id-1 div.sk-parallel-item {display: flex;flex-direction: column;z-index: 1;position: relative;background-color: white;}#sk-container-id-1 div.sk-parallel-item:first-child::after {align-self: flex-end;width: 50%;}#sk-container-id-1 div.sk-parallel-item:last-child::after {align-self: flex-start;width: 50%;}#sk-container-id-1 div.sk-parallel-item:only-child::after {width: 0;}#sk-container-id-1 div.sk-dashed-wrapped {border: 1px dashed gray;margin: 0 0.4em 0.5em 0.4em;box-sizing: border-box;padding-bottom: 0.4em;background-color: white;}#sk-container-id-1 div.sk-label label {font-family: monospace;font-weight: bold;display: inline-block;line-height: 1.2em;}#sk-container-id-1 div.sk-label-container {text-align: center;}#sk-container-id-1 div.sk-container {/* jupyter's `normalize.less` sets `[hidden] { display: none; }` but bootstrap.min.css set `[hidden] { display: none !important; }` so we also need the `!important` here to be able to override the default hidden behavior on the sphinx rendered scikit-learn.org. See: https://github.com/scikit-learn/scikit-learn/issues/21755 */display: inline-block !important;position: relative;}#sk-container-id-1 div.sk-text-repr-fallback {display: none;}</style><div id=\"sk-container-id-1\" class=\"sk-top-container\"><div class=\"sk-text-repr-fallback\"><pre>SVC()</pre><b>In a Jupyter environment, please rerun this cell to show the HTML representation or trust the notebook. <br />On GitHub, the HTML representation is unable to render, please try loading this page with nbviewer.org.</b></div><div class=\"sk-container\" hidden><div class=\"sk-item\"><div class=\"sk-estimator sk-toggleable\"><input class=\"sk-toggleable__control sk-hidden--visually\" id=\"sk-estimator-id-1\" type=\"checkbox\" checked><label for=\"sk-estimator-id-1\" class=\"sk-toggleable__label sk-toggleable__label-arrow\">SVC</label><div class=\"sk-toggleable__content\"><pre>SVC()</pre></div></div></div></div></div>"
     },
     "execution_count": 6,
     "metadata": {},
     "output_type": "execute_result"
    }
   ],
   "source": [
    "clf1.fit(x_train, y_train)"
   ],
   "metadata": {
    "collapsed": false,
    "ExecuteTime": {
     "end_time": "2023-11-29T12:30:34.339844300Z",
     "start_time": "2023-11-29T12:30:32.598039700Z"
    }
   },
   "id": "9b784bd42837f113"
  },
  {
   "cell_type": "code",
   "execution_count": 7,
   "outputs": [],
   "source": [
    "preds = clf1.predict(x_test)"
   ],
   "metadata": {
    "collapsed": false,
    "ExecuteTime": {
     "end_time": "2023-11-29T12:30:39.135089800Z",
     "start_time": "2023-11-29T12:30:34.342845100Z"
    }
   },
   "id": "53cae70deec8bfba"
  },
  {
   "cell_type": "code",
   "execution_count": 8,
   "outputs": [],
   "source": [
    "def calculate_raw_metrics(pred, gt):\n",
    "    metrics_dict = {}\n",
    "    if pred.shape != gt.shape:\n",
    "        raise RuntimeError(\"Shapes doesn't fit\")\n",
    "    for i in gt:\n",
    "        if i not in metrics_dict.keys():\n",
    "             metrics_dict[i] = {\"tp\": 0, \"fp\": 0, \"tn\": 0, \"fn\": 0}\n",
    "    for i in range(pred.shape[0]):\n",
    "        if pred[i] == gt[i]:\n",
    "            metrics_dict[gt[i]][\"tp\"] += 1\n",
    "            for j in metrics_dict.keys():\n",
    "                if j != gt[i]:\n",
    "                    metrics_dict[j][\"tn\"] += 1\n",
    "        else:\n",
    "            metrics_dict[pred[i]][\"fp\"] += 1\n",
    "            metrics_dict[gt[i]][\"fn\"] += 1\n",
    "    \n",
    "    return metrics_dict\n",
    "         "
   ],
   "metadata": {
    "collapsed": false,
    "ExecuteTime": {
     "end_time": "2023-11-29T12:30:39.140662600Z",
     "start_time": "2023-11-29T12:30:39.135089800Z"
    }
   },
   "id": "aa6aa5ec5ebf7c4b"
  },
  {
   "cell_type": "code",
   "execution_count": 9,
   "outputs": [],
   "source": [
    "def calculate_metrics(pred, gt):\n",
    "    raw_dict = calculate_raw_metrics(pred, gt)\n",
    "    metrics_dict = {}\n",
    "    global_tp = 0\n",
    "    global_fp = 0\n",
    "    global_tn = 0\n",
    "    global_fn = 0\n",
    "    metrics_dict[\"precision_macro\"] = 0\n",
    "    metrics_dict[\"recall_macro\"] = 0\n",
    "    metrics_dict[\"f1_macro\"] = 0\n",
    "    for i in raw_dict.keys():\n",
    "        metrics_dict[i] = {}\n",
    "        metrics_dict[i][\"precision\"] = raw_dict[i][\"tp\"] / (raw_dict[i][\"tp\"] + raw_dict[i][\"fp\"])\n",
    "        metrics_dict[i][\"recall\"] = raw_dict[i][\"tp\"] / (raw_dict[i][\"tp\"] + raw_dict[i][\"fn\"])\n",
    "        metrics_dict[i][\"f1\"] = 2 * raw_dict[i][\"tp\"] / (2 * raw_dict[i][\"tp\"] + raw_dict[i][\"fp\"] + raw_dict[i][\"fn\"])\n",
    "        global_tp += raw_dict[i][\"tp\"]\n",
    "        global_tn += raw_dict[i][\"tn\"]\n",
    "        global_fn += raw_dict[i][\"fn\"]\n",
    "        global_fp += raw_dict[i][\"fp\"]\n",
    "        metrics_dict[\"precision_macro\"] += metrics_dict[i][\"precision\"] / len(raw_dict.keys())\n",
    "        metrics_dict[\"recall_macro\"] += metrics_dict[i][\"recall\"] / len(raw_dict.keys())\n",
    "        metrics_dict[\"f1_macro\"] += metrics_dict[i][\"f1\"] / len(raw_dict.keys())\n",
    "    metrics_dict[\"precision_micro\"] = global_tp / (global_tp + global_fp)\n",
    "    metrics_dict[\"recall_micro\"] = global_tp / (global_tp + global_fn)\n",
    "    metrics_dict[\"f1_micro\"] = 2 * global_tp / (2 * global_tp + global_fn + global_fp)\n",
    "    metrics_dict[\"accuracy\"] = global_tp / gt.shape[0]\n",
    "    return metrics_dict"
   ],
   "metadata": {
    "collapsed": false,
    "ExecuteTime": {
     "end_time": "2023-11-29T12:30:39.146014300Z",
     "start_time": "2023-11-29T12:30:39.143506400Z"
    }
   },
   "id": "266bb72e1ca273d2"
  },
  {
   "cell_type": "code",
   "execution_count": 10,
   "outputs": [],
   "source": [
    "def reference_metrics(pred, gt):\n",
    "    print(\"Precision:\", precision_score(gt, pred, average=None))\n",
    "    print(\"Recall:\", recall_score(gt, pred, average=None))\n",
    "    print(\"F1:\", f1_score(gt, pred, average=None))\n",
    "    print(\"Precision macro:\", precision_score(gt, pred, average=\"macro\"))\n",
    "    print(\"Recall macro:\", recall_score(gt, pred, average=\"macro\"))\n",
    "    print(\"F1 macro:\", f1_score(gt, pred, average=\"macro\"))\n",
    "    print(\"Precision micro:\", precision_score(gt, pred, average=\"micro\"))\n",
    "    print(\"Recall micro:\", recall_score(gt, pred, average=\"micro\"))\n",
    "    print(\"F1 micro:\", f1_score(gt, pred, average=\"micro\"))\n",
    "    print(\"Accuracy:\", accuracy_score(gt, pred))"
   ],
   "metadata": {
    "collapsed": false,
    "ExecuteTime": {
     "end_time": "2023-11-29T12:30:39.150993900Z",
     "start_time": "2023-11-29T12:30:39.145014400Z"
    }
   },
   "id": "e6b8f8b8ab452c1f"
  },
  {
   "cell_type": "code",
   "execution_count": 11,
   "outputs": [
    {
     "data": {
      "text/plain": "{'precision_macro': 0.6094318395116503,\n 'recall_macro': 0.6031450316917899,\n 'f1_macro': 0.6011658272407356,\n 0: {'precision': 0.4131578947368421,\n  'recall': 0.49216300940438873,\n  'f1': 0.4492131616595136},\n 1: {'precision': 0.47648261758691207,\n  'recall': 0.5989717223650386,\n  'f1': 0.530751708428246},\n 2: {'precision': 0.5023584905660378,\n  'recall': 0.5406091370558376,\n  'f1': 0.5207823960880196},\n 3: {'precision': 0.5632530120481928,\n  'recall': 0.4770408163265306,\n  'f1': 0.5165745856353591},\n 4: {'precision': 0.5145118733509235,\n  'recall': 0.5064935064935064,\n  'f1': 0.5104712041884817},\n 5: {'precision': 0.6579710144927536,\n  'recall': 0.5746835443037974,\n  'f1': 0.6135135135135135},\n 6: {'precision': 0.6307339449541285,\n  'recall': 0.7051282051282052,\n  'f1': 0.6658595641646489},\n 7: {'precision': 0.6702412868632708,\n  'recall': 0.6313131313131313,\n  'f1': 0.6501950585175552},\n 8: {'precision': 0.6746987951807228,\n  'recall': 0.7035175879396985,\n  'f1': 0.6888068880688807},\n 9: {'precision': 0.7283653846153846,\n  'recall': 0.7632241813602015,\n  'f1': 0.7453874538745388},\n 10: {'precision': 0.841688654353562,\n  'recall': 0.7994987468671679,\n  'f1': 0.8200514138817481},\n 11: {'precision': 0.7959183673469388,\n  'recall': 0.6893939393939394,\n  'f1': 0.7388362652232747},\n 12: {'precision': 0.4975845410628019,\n  'recall': 0.5241730279898219,\n  'f1': 0.5105328376703842},\n 13: {'precision': 0.6739130434782609,\n  'recall': 0.7045454545454546,\n  'f1': 0.6888888888888889},\n 14: {'precision': 0.7154255319148937,\n  'recall': 0.682741116751269,\n  'f1': 0.6987012987012987},\n 15: {'precision': 0.6301652892561983,\n  'recall': 0.7663316582914573,\n  'f1': 0.691609977324263},\n 16: {'precision': 0.5357917570498916,\n  'recall': 0.6785714285714286,\n  'f1': 0.5987878787878788},\n 17: {'precision': 0.8557692307692307,\n  'recall': 0.7101063829787234,\n  'f1': 0.7761627906976745},\n 18: {'precision': 0.4356060606060606,\n  'recall': 0.3709677419354839,\n  'f1': 0.40069686411149824},\n 19: {'precision': 0.375,\n  'recall': 0.14342629482071714,\n  'f1': 0.207492795389049},\n 'precision_micro': 0.6155071694105151,\n 'recall_micro': 0.6155071694105151,\n 'f1_micro': 0.6155071694105151,\n 'accuracy': 0.6155071694105151}"
     },
     "execution_count": 11,
     "metadata": {},
     "output_type": "execute_result"
    }
   ],
   "source": [
    "calculate_metrics(preds, y_test)"
   ],
   "metadata": {
    "collapsed": false,
    "ExecuteTime": {
     "end_time": "2023-11-29T12:30:39.174478500Z",
     "start_time": "2023-11-29T12:30:39.164499700Z"
    }
   },
   "id": "874e9f74a1a86039"
  },
  {
   "cell_type": "code",
   "execution_count": 12,
   "outputs": [
    {
     "name": "stdout",
     "output_type": "stream",
     "text": [
      "Precision: [0.41315789 0.47648262 0.50235849 0.56325301 0.51451187 0.65797101\n",
      " 0.63073394 0.67024129 0.6746988  0.72836538 0.84168865 0.79591837\n",
      " 0.49758454 0.67391304 0.71542553 0.63016529 0.53579176 0.85576923\n",
      " 0.43560606 0.375     ]\n",
      "Recall: [0.49216301 0.59897172 0.54060914 0.47704082 0.50649351 0.57468354\n",
      " 0.70512821 0.63131313 0.70351759 0.76322418 0.79949875 0.68939394\n",
      " 0.52417303 0.70454545 0.68274112 0.76633166 0.67857143 0.71010638\n",
      " 0.37096774 0.14342629]\n",
      "F1: [0.44921316 0.53075171 0.5207824  0.51657459 0.5104712  0.61351351\n",
      " 0.66585956 0.65019506 0.68880689 0.74538745 0.82005141 0.73883627\n",
      " 0.51053284 0.68888889 0.6987013  0.69160998 0.59878788 0.77616279\n",
      " 0.40069686 0.2074928 ]\n",
      "Precision macro: 0.6094318395116503\n",
      "Recall macro: 0.6031450316917899\n",
      "F1 macro: 0.6011658272407358\n",
      "Precision micro: 0.6155071694105151\n",
      "Recall micro: 0.6155071694105151\n",
      "F1 micro: 0.6155071694105151\n",
      "Accuracy: 0.6155071694105151\n"
     ]
    }
   ],
   "source": [
    "reference_metrics(preds, y_test)"
   ],
   "metadata": {
    "collapsed": false,
    "ExecuteTime": {
     "end_time": "2023-11-29T12:30:39.191649500Z",
     "start_time": "2023-11-29T12:30:39.169479Z"
    }
   },
   "id": "d18ad66726634bd4"
  },
  {
   "cell_type": "code",
   "execution_count": 13,
   "outputs": [],
   "source": [
    "def train_evaluate_model(model, x_train, y_train, x_test, y_test):\n",
    "    t_begin = time.time()\n",
    "    model.fit(x_train, y_train, )\n",
    "    t_end = time.time()\n",
    "    preds = model.predict(x_test)\n",
    "    metrics = calculate_metrics(preds, y_test)\n",
    "    print(\"Precision macro:\", metrics[\"precision_macro\"])\n",
    "    print(\"Recall macro:\", metrics[\"recall_macro\"])\n",
    "    print(\"F1 macro:\", metrics[\"f1_macro\"])\n",
    "    print(\"Precision micro:\", metrics[\"precision_micro\"])\n",
    "    print(\"Recall micro:\", metrics[\"recall_micro\"])\n",
    "    print(\"F1 micro:\", metrics[\"f1_micro\"])\n",
    "    print(\"Accuracy:\", metrics[\"accuracy\"])\n",
    "    print(\"Time:\", t_end - t_begin)\n",
    "    return model"
   ],
   "metadata": {
    "collapsed": false,
    "ExecuteTime": {
     "end_time": "2023-11-29T12:30:39.197299Z",
     "start_time": "2023-11-29T12:30:39.192649400Z"
    }
   },
   "id": "d493b4070b57a17c"
  },
  {
   "cell_type": "code",
   "execution_count": 14,
   "outputs": [
    {
     "name": "stdout",
     "output_type": "stream",
     "text": [
      "Precision macro: 0.5838814434185216\n",
      "Recall macro: 0.5800174779931806\n",
      "F1 macro: 0.5803307731726697\n",
      "Precision micro: 0.591343600637281\n",
      "Recall micro: 0.591343600637281\n",
      "F1 micro: 0.591343600637281\n",
      "Accuracy: 0.591343600637281\n",
      "Time: 1.721287727355957\n"
     ]
    }
   ],
   "source": [
    "svm_linear = train_evaluate_model(SVC(kernel=\"linear\"), x_train, y_train, x_test, y_test)"
   ],
   "metadata": {
    "collapsed": false,
    "ExecuteTime": {
     "end_time": "2023-11-29T12:30:42.227931Z",
     "start_time": "2023-11-29T12:30:39.196297700Z"
    }
   },
   "id": "7f31d6082213eb77"
  },
  {
   "cell_type": "code",
   "execution_count": 15,
   "outputs": [
    {
     "name": "stdout",
     "output_type": "stream",
     "text": [
      "Precision macro: 0.596506155124358\n",
      "Recall macro: 0.5679343996596157\n",
      "F1 macro: 0.5674166259201783\n",
      "Precision micro: 0.5804567180031864\n",
      "Recall micro: 0.5804567180031864\n",
      "F1 micro: 0.5804567180031864\n",
      "Accuracy: 0.5804567180031864\n",
      "Time: 1.6366562843322754\n"
     ]
    }
   ],
   "source": [
    "svm_poly = train_evaluate_model(SVC(kernel=\"poly\"), x_train, y_train, x_test, y_test)"
   ],
   "metadata": {
    "collapsed": false,
    "ExecuteTime": {
     "end_time": "2023-11-29T12:30:45.598541200Z",
     "start_time": "2023-11-29T12:30:42.229935200Z"
    }
   },
   "id": "9cffb2df944f3b92"
  },
  {
   "cell_type": "code",
   "execution_count": 16,
   "outputs": [
    {
     "name": "stdout",
     "output_type": "stream",
     "text": [
      "Precision macro: 0.6094318395116503\n",
      "Recall macro: 0.6031450316917899\n",
      "F1 macro: 0.6011658272407356\n",
      "Precision micro: 0.6155071694105151\n",
      "Recall micro: 0.6155071694105151\n",
      "F1 micro: 0.6155071694105151\n",
      "Accuracy: 0.6155071694105151\n",
      "Time: 1.7894978523254395\n"
     ]
    }
   ],
   "source": [
    "svm_rbf = train_evaluate_model(SVC(kernel=\"rbf\"), x_train, y_train, x_test, y_test)"
   ],
   "metadata": {
    "collapsed": false,
    "ExecuteTime": {
     "end_time": "2023-11-29T12:30:52.149042100Z",
     "start_time": "2023-11-29T12:30:45.598541200Z"
    }
   },
   "id": "3889f2239083feb2"
  },
  {
   "cell_type": "code",
   "execution_count": 17,
   "outputs": [
    {
     "name": "stdout",
     "output_type": "stream",
     "text": [
      "Precision macro: 0.5133849007888904\n",
      "Recall macro: 0.507557426089674\n",
      "F1 macro: 0.5051890074696551\n",
      "Precision micro: 0.5188528943175783\n",
      "Recall micro: 0.5188528943175783\n",
      "F1 micro: 0.5188528943175783\n",
      "Accuracy: 0.5188528943175783\n",
      "Time: 1.4131038188934326\n"
     ]
    }
   ],
   "source": [
    "svm_sigmoid = train_evaluate_model(SVC(kernel=\"sigmoid\"), x_train, y_train, x_test, y_test)"
   ],
   "metadata": {
    "collapsed": false,
    "ExecuteTime": {
     "end_time": "2023-11-29T12:30:55.376971700Z",
     "start_time": "2023-11-29T12:30:52.150043400Z"
    }
   },
   "id": "f6be8cfa6c9a79a2"
  },
  {
   "cell_type": "code",
   "execution_count": 18,
   "outputs": [],
   "source": [
    "import torch\n",
    "import pytorch_lightning as pl"
   ],
   "metadata": {
    "collapsed": false,
    "ExecuteTime": {
     "end_time": "2023-11-29T12:30:55.376971700Z",
     "start_time": "2023-11-29T12:30:55.376971700Z"
    }
   },
   "id": "c4b11225b7cf2adb"
  },
  {
   "cell_type": "code",
   "execution_count": 19,
   "outputs": [],
   "source": [
    "class MLP(pl.LightningModule):\n",
    "\n",
    "    def __init__(self):\n",
    "        super().__init__()\n",
    "\n",
    "        # Building a linear encoder\n",
    "        self.layers = torch.nn.Sequential(\n",
    "            torch.nn.Linear(100, 512),\n",
    "            torch.nn.ReLU(),\n",
    "            torch.nn.Linear(512, 1024),\n",
    "            torch.nn.ReLU(),\n",
    "            torch.nn.Linear(1024, 2048),\n",
    "            torch.nn.ReLU(),\n",
    "            torch.nn.Linear(2048, 2048),\n",
    "            torch.nn.ReLU(),\n",
    "            torch.nn.Linear(2048, 1024),\n",
    "            torch.nn.ReLU(),\n",
    "            torch.nn.Linear(1024, 512),\n",
    "            torch.nn.ReLU(),\n",
    "            torch.nn.Linear(512, 20),\n",
    "            torch.nn.Softmax(dim=0)\n",
    "        )\n",
    "        self.loss_func = torch.nn.CrossEntropyLoss()\n",
    "\n",
    "    def forward(self, x):\n",
    "        return self.layers(x)\n",
    "    \n",
    "    def training_step(self, batch, batch_idx):\n",
    "        x = batch[:, :100]\n",
    "        y = batch[:, 100:]\n",
    "        y_hat = self.layers(x)\n",
    "        loss = self.loss_func(y_hat, y)\n",
    "        \n",
    "        self.log(\"train_loss\", loss)\n",
    "        return loss\n",
    "    \n",
    "    def validation_step(self, batch, batch_idx):\n",
    "        x = batch[:, :100]\n",
    "        y = batch[:, 100:]\n",
    "        y_hat = self.layers(x)\n",
    "        loss = self.loss_func(y_hat, y)\n",
    "        self.log(\"val_loss\", loss)\n",
    "        return loss\n",
    "    \n",
    "    def configure_optimizers(self):\n",
    "        optimizer = torch.optim.Adam(self.parameters(),\n",
    "                                     lr=1e-5,\n",
    "                                     weight_decay=1e-8)\n",
    "        return optimizer"
   ],
   "metadata": {
    "collapsed": false,
    "ExecuteTime": {
     "end_time": "2023-11-29T12:30:55.381767900Z",
     "start_time": "2023-11-29T12:30:55.376971700Z"
    }
   },
   "id": "1ed87d8692038a27"
  },
  {
   "cell_type": "code",
   "execution_count": 20,
   "outputs": [],
   "source": [
    "y_train_onehot = torch.nn.functional.one_hot(torch.tensor(y_train, dtype=torch.int64))\n",
    "data = torch.cat((torch.tensor(x_train, dtype=torch.float64), y_train_onehot), dim=1).float()"
   ],
   "metadata": {
    "collapsed": false,
    "ExecuteTime": {
     "end_time": "2023-11-29T12:30:55.391028700Z",
     "start_time": "2023-11-29T12:30:55.382768100Z"
    }
   },
   "id": "848e1256251710a9"
  },
  {
   "cell_type": "code",
   "execution_count": 21,
   "outputs": [
    {
     "name": "stderr",
     "output_type": "stream",
     "text": [
      "GPU available: True (cuda), used: True\n",
      "TPU available: False, using: 0 TPU cores\n",
      "IPU available: False, using: 0 IPUs\n",
      "HPU available: False, using: 0 HPUs\n"
     ]
    }
   ],
   "source": [
    "train_loader = torch.utils.data.DataLoader(dataset=data, batch_size=32, shuffle=True)\n",
    "early_stop_callback = pl.callbacks.EarlyStopping(monitor=\"val_loss\")\n",
    "checkpoint_callback = pl.callbacks.ModelCheckpoint(monitor=\"val_loss\")\n",
    "logger = pl.loggers.TensorBoardLogger(\"tensorboard_logs/\")\n",
    "trainer = pl.Trainer(max_epochs=200, logger=logger)"
   ],
   "metadata": {
    "collapsed": false,
    "ExecuteTime": {
     "end_time": "2023-11-29T12:30:55.549877Z",
     "start_time": "2023-11-29T12:30:55.393029500Z"
    }
   },
   "id": "2511f5b6442485c2"
  },
  {
   "cell_type": "code",
   "execution_count": 22,
   "outputs": [
    {
     "name": "stderr",
     "output_type": "stream",
     "text": [
      "C:\\Users\\goras\\miniconda3\\envs\\NLP\\Lib\\site-packages\\pytorch_lightning\\trainer\\configuration_validator.py:74: You defined a `validation_step` but have no `val_dataloader`. Skipping val loop.\n",
      "You are using a CUDA device ('NVIDIA GeForce RTX 4080') that has Tensor Cores. To properly utilize them, you should set `torch.set_float32_matmul_precision('medium' | 'high')` which will trade-off precision for performance. For more details, read https://pytorch.org/docs/stable/generated/torch.set_float32_matmul_precision.html#torch.set_float32_matmul_precision\n",
      "Missing logger folder: tensorboard_logs/lightning_logs\n",
      "LOCAL_RANK: 0 - CUDA_VISIBLE_DEVICES: [0]\n",
      "\n",
      "  | Name      | Type             | Params\n",
      "-----------------------------------------------\n",
      "0 | layers    | Sequential       | 9.5 M \n",
      "1 | loss_func | CrossEntropyLoss | 0     \n",
      "-----------------------------------------------\n",
      "9.5 M     Trainable params\n",
      "0         Non-trainable params\n",
      "9.5 M     Total params\n",
      "38.023    Total estimated model params size (MB)\n",
      "C:\\Users\\goras\\miniconda3\\envs\\NLP\\Lib\\site-packages\\pytorch_lightning\\trainer\\connectors\\data_connector.py:441: The 'train_dataloader' does not have many workers which may be a bottleneck. Consider increasing the value of the `num_workers` argument` to `num_workers=19` in the `DataLoader` to improve performance.\n"
     ]
    },
    {
     "data": {
      "text/plain": "Training: |          | 0/? [00:00<?, ?it/s]",
      "application/vnd.jupyter.widget-view+json": {
       "version_major": 2,
       "version_minor": 0,
       "model_id": "f6309088810543f98ad80f375c4575aa"
      }
     },
     "metadata": {},
     "output_type": "display_data"
    },
    {
     "name": "stderr",
     "output_type": "stream",
     "text": [
      "`Trainer.fit` stopped: `max_epochs=200` reached.\n"
     ]
    }
   ],
   "source": [
    "mlp = MLP()\n",
    "trainer.fit(mlp, train_loader)"
   ],
   "metadata": {
    "collapsed": false,
    "ExecuteTime": {
     "end_time": "2023-11-29T12:35:32.038936900Z",
     "start_time": "2023-11-29T12:30:55.547876800Z"
    }
   },
   "id": "e6835339b465200a"
  },
  {
   "cell_type": "markdown",
   "source": [],
   "metadata": {
    "collapsed": false
   },
   "id": "5506b1b14841253a"
  },
  {
   "cell_type": "markdown",
   "source": [],
   "metadata": {
    "collapsed": false
   },
   "id": "925043aa6e210834"
  },
  {
   "cell_type": "code",
   "execution_count": 23,
   "outputs": [],
   "source": [
    "preds = torch.argmax(mlp.forward(torch.tensor(x_test).float()).detach(), dim=1).numpy()"
   ],
   "metadata": {
    "collapsed": false,
    "ExecuteTime": {
     "end_time": "2023-11-29T12:37:19.749827900Z",
     "start_time": "2023-11-29T12:37:19.458728100Z"
    }
   },
   "id": "d5c1941ea8e93ac6"
  },
  {
   "cell_type": "code",
   "execution_count": 24,
   "outputs": [
    {
     "data": {
      "text/plain": "{'precision_macro': 0.576430930771504,\n 'recall_macro': 0.5133588698764082,\n 'f1_macro': 0.5124632498260108,\n 0: {'precision': 0.4413793103448276,\n  'recall': 0.2006269592476489,\n  'f1': 0.27586206896551724},\n 1: {'precision': 0.4, 'recall': 0.4730077120822622, 'f1': 0.4334511189634865},\n 2: {'precision': 0.6146341463414634,\n  'recall': 0.3197969543147208,\n  'f1': 0.42070116861435725},\n 3: {'precision': 0.5186567164179104,\n  'recall': 0.35459183673469385,\n  'f1': 0.4212121212121212},\n 4: {'precision': 0.41568627450980394,\n  'recall': 0.5506493506493506,\n  'f1': 0.47374301675977654},\n 5: {'precision': 0.5429769392033543,\n  'recall': 0.6556962025316456,\n  'f1': 0.5940366972477065},\n 6: {'precision': 0.6430379746835443,\n  'recall': 0.6512820512820513,\n  'f1': 0.6471337579617834},\n 7: {'precision': 0.8425925925925926,\n  'recall': 0.2297979797979798,\n  'f1': 0.3611111111111111},\n 8: {'precision': 0.47761194029850745,\n  'recall': 0.7236180904522613,\n  'f1': 0.5754245754245755},\n 9: {'precision': 0.8022813688212928,\n  'recall': 0.5314861460957179,\n  'f1': 0.6393939393939394},\n 10: {'precision': 0.6313868613138686,\n  'recall': 0.8671679197994987,\n  'f1': 0.7307286166842661},\n 11: {'precision': 0.8228782287822878,\n  'recall': 0.5631313131313131,\n  'f1': 0.6686656671664168},\n 12: {'precision': 0.36900369003690037,\n  'recall': 0.5089058524173028,\n  'f1': 0.42780748663101603},\n 13: {'precision': 0.8518518518518519,\n  'recall': 0.5227272727272727,\n  'f1': 0.647887323943662},\n 14: {'precision': 0.7101910828025477,\n  'recall': 0.565989847715736,\n  'f1': 0.6299435028248588},\n 15: {'precision': 0.7298850574712644,\n  'recall': 0.31909547738693467,\n  'f1': 0.44405594405594406},\n 16: {'precision': 0.573208722741433,\n  'recall': 0.5054945054945055,\n  'f1': 0.5372262773722628},\n 17: {'precision': 0.7146401985111662,\n  'recall': 0.7659574468085106,\n  'f1': 0.7394094993581515},\n 18: {'precision': 0.24953445065176907,\n  'recall': 0.432258064516129,\n  'f1': 0.31641086186540734},\n 19: {'precision': 0.17718120805369128,\n  'recall': 0.5258964143426295,\n  'f1': 0.26506024096385544},\n 'precision_micro': 0.516728624535316,\n 'recall_micro': 0.516728624535316,\n 'f1_micro': 0.516728624535316,\n 'accuracy': 0.516728624535316}"
     },
     "execution_count": 24,
     "metadata": {},
     "output_type": "execute_result"
    }
   ],
   "source": [
    "calculate_metrics(preds, y_test)"
   ],
   "metadata": {
    "collapsed": false,
    "ExecuteTime": {
     "end_time": "2023-11-29T12:37:19.762959800Z",
     "start_time": "2023-11-29T12:37:19.751830400Z"
    }
   },
   "id": "f3069b204f442ca"
  },
  {
   "cell_type": "code",
   "execution_count": 25,
   "outputs": [
    {
     "name": "stdout",
     "output_type": "stream",
     "text": [
      "Precision macro: 0.6094318395116503\n",
      "Recall macro: 0.6031450316917899\n",
      "F1 macro: 0.6011658272407356\n",
      "Precision micro: 0.6155071694105151\n",
      "Recall micro: 0.6155071694105151\n",
      "F1 micro: 0.6155071694105151\n",
      "Accuracy: 0.6155071694105151\n",
      "Time: 1.9175629615783691\n"
     ]
    },
    {
     "data": {
      "text/plain": "SVC()",
      "text/html": "<style>#sk-container-id-2 {color: black;}#sk-container-id-2 pre{padding: 0;}#sk-container-id-2 div.sk-toggleable {background-color: white;}#sk-container-id-2 label.sk-toggleable__label {cursor: pointer;display: block;width: 100%;margin-bottom: 0;padding: 0.3em;box-sizing: border-box;text-align: center;}#sk-container-id-2 label.sk-toggleable__label-arrow:before {content: \"▸\";float: left;margin-right: 0.25em;color: #696969;}#sk-container-id-2 label.sk-toggleable__label-arrow:hover:before {color: black;}#sk-container-id-2 div.sk-estimator:hover label.sk-toggleable__label-arrow:before {color: black;}#sk-container-id-2 div.sk-toggleable__content {max-height: 0;max-width: 0;overflow: hidden;text-align: left;background-color: #f0f8ff;}#sk-container-id-2 div.sk-toggleable__content pre {margin: 0.2em;color: black;border-radius: 0.25em;background-color: #f0f8ff;}#sk-container-id-2 input.sk-toggleable__control:checked~div.sk-toggleable__content {max-height: 200px;max-width: 100%;overflow: auto;}#sk-container-id-2 input.sk-toggleable__control:checked~label.sk-toggleable__label-arrow:before {content: \"▾\";}#sk-container-id-2 div.sk-estimator input.sk-toggleable__control:checked~label.sk-toggleable__label {background-color: #d4ebff;}#sk-container-id-2 div.sk-label input.sk-toggleable__control:checked~label.sk-toggleable__label {background-color: #d4ebff;}#sk-container-id-2 input.sk-hidden--visually {border: 0;clip: rect(1px 1px 1px 1px);clip: rect(1px, 1px, 1px, 1px);height: 1px;margin: -1px;overflow: hidden;padding: 0;position: absolute;width: 1px;}#sk-container-id-2 div.sk-estimator {font-family: monospace;background-color: #f0f8ff;border: 1px dotted black;border-radius: 0.25em;box-sizing: border-box;margin-bottom: 0.5em;}#sk-container-id-2 div.sk-estimator:hover {background-color: #d4ebff;}#sk-container-id-2 div.sk-parallel-item::after {content: \"\";width: 100%;border-bottom: 1px solid gray;flex-grow: 1;}#sk-container-id-2 div.sk-label:hover label.sk-toggleable__label {background-color: #d4ebff;}#sk-container-id-2 div.sk-serial::before {content: \"\";position: absolute;border-left: 1px solid gray;box-sizing: border-box;top: 0;bottom: 0;left: 50%;z-index: 0;}#sk-container-id-2 div.sk-serial {display: flex;flex-direction: column;align-items: center;background-color: white;padding-right: 0.2em;padding-left: 0.2em;position: relative;}#sk-container-id-2 div.sk-item {position: relative;z-index: 1;}#sk-container-id-2 div.sk-parallel {display: flex;align-items: stretch;justify-content: center;background-color: white;position: relative;}#sk-container-id-2 div.sk-item::before, #sk-container-id-2 div.sk-parallel-item::before {content: \"\";position: absolute;border-left: 1px solid gray;box-sizing: border-box;top: 0;bottom: 0;left: 50%;z-index: -1;}#sk-container-id-2 div.sk-parallel-item {display: flex;flex-direction: column;z-index: 1;position: relative;background-color: white;}#sk-container-id-2 div.sk-parallel-item:first-child::after {align-self: flex-end;width: 50%;}#sk-container-id-2 div.sk-parallel-item:last-child::after {align-self: flex-start;width: 50%;}#sk-container-id-2 div.sk-parallel-item:only-child::after {width: 0;}#sk-container-id-2 div.sk-dashed-wrapped {border: 1px dashed gray;margin: 0 0.4em 0.5em 0.4em;box-sizing: border-box;padding-bottom: 0.4em;background-color: white;}#sk-container-id-2 div.sk-label label {font-family: monospace;font-weight: bold;display: inline-block;line-height: 1.2em;}#sk-container-id-2 div.sk-label-container {text-align: center;}#sk-container-id-2 div.sk-container {/* jupyter's `normalize.less` sets `[hidden] { display: none; }` but bootstrap.min.css set `[hidden] { display: none !important; }` so we also need the `!important` here to be able to override the default hidden behavior on the sphinx rendered scikit-learn.org. See: https://github.com/scikit-learn/scikit-learn/issues/21755 */display: inline-block !important;position: relative;}#sk-container-id-2 div.sk-text-repr-fallback {display: none;}</style><div id=\"sk-container-id-2\" class=\"sk-top-container\"><div class=\"sk-text-repr-fallback\"><pre>SVC()</pre><b>In a Jupyter environment, please rerun this cell to show the HTML representation or trust the notebook. <br />On GitHub, the HTML representation is unable to render, please try loading this page with nbviewer.org.</b></div><div class=\"sk-container\" hidden><div class=\"sk-item\"><div class=\"sk-estimator sk-toggleable\"><input class=\"sk-toggleable__control sk-hidden--visually\" id=\"sk-estimator-id-2\" type=\"checkbox\" checked><label for=\"sk-estimator-id-2\" class=\"sk-toggleable__label sk-toggleable__label-arrow\">SVC</label><div class=\"sk-toggleable__content\"><pre>SVC()</pre></div></div></div></div></div>"
     },
     "execution_count": 25,
     "metadata": {},
     "output_type": "execute_result"
    }
   ],
   "source": [
    "train_evaluate_model(SVC(kernel=\"rbf\"), x_train, y_train, x_test, y_test)"
   ],
   "metadata": {
    "collapsed": false,
    "ExecuteTime": {
     "end_time": "2023-11-29T12:37:26.463227500Z",
     "start_time": "2023-11-29T12:37:19.804558500Z"
    }
   },
   "id": "a7a4ca79f91653f8"
  },
  {
   "cell_type": "code",
   "execution_count": 26,
   "outputs": [],
   "source": [
    "perm = np.random.permutation(len(x_train))"
   ],
   "metadata": {
    "collapsed": false,
    "ExecuteTime": {
     "end_time": "2023-11-29T12:37:26.464735200Z",
     "start_time": "2023-11-29T12:37:26.462387300Z"
    }
   },
   "id": "c2d60b2f5993af5c"
  },
  {
   "cell_type": "code",
   "execution_count": 27,
   "outputs": [
    {
     "name": "stdout",
     "output_type": "stream",
     "text": [
      "Precision macro: 0.604330472109496\n",
      "Recall macro: 0.5997121584870035\n",
      "F1 macro: 0.5975067673515035\n",
      "Precision micro: 0.612453531598513\n",
      "Recall micro: 0.612453531598513\n",
      "F1 micro: 0.612453531598513\n",
      "Accuracy: 0.612453531598513\n",
      "Time: 1.4208297729492188\n"
     ]
    },
    {
     "data": {
      "text/plain": "SVC()",
      "text/html": "<style>#sk-container-id-3 {color: black;}#sk-container-id-3 pre{padding: 0;}#sk-container-id-3 div.sk-toggleable {background-color: white;}#sk-container-id-3 label.sk-toggleable__label {cursor: pointer;display: block;width: 100%;margin-bottom: 0;padding: 0.3em;box-sizing: border-box;text-align: center;}#sk-container-id-3 label.sk-toggleable__label-arrow:before {content: \"▸\";float: left;margin-right: 0.25em;color: #696969;}#sk-container-id-3 label.sk-toggleable__label-arrow:hover:before {color: black;}#sk-container-id-3 div.sk-estimator:hover label.sk-toggleable__label-arrow:before {color: black;}#sk-container-id-3 div.sk-toggleable__content {max-height: 0;max-width: 0;overflow: hidden;text-align: left;background-color: #f0f8ff;}#sk-container-id-3 div.sk-toggleable__content pre {margin: 0.2em;color: black;border-radius: 0.25em;background-color: #f0f8ff;}#sk-container-id-3 input.sk-toggleable__control:checked~div.sk-toggleable__content {max-height: 200px;max-width: 100%;overflow: auto;}#sk-container-id-3 input.sk-toggleable__control:checked~label.sk-toggleable__label-arrow:before {content: \"▾\";}#sk-container-id-3 div.sk-estimator input.sk-toggleable__control:checked~label.sk-toggleable__label {background-color: #d4ebff;}#sk-container-id-3 div.sk-label input.sk-toggleable__control:checked~label.sk-toggleable__label {background-color: #d4ebff;}#sk-container-id-3 input.sk-hidden--visually {border: 0;clip: rect(1px 1px 1px 1px);clip: rect(1px, 1px, 1px, 1px);height: 1px;margin: -1px;overflow: hidden;padding: 0;position: absolute;width: 1px;}#sk-container-id-3 div.sk-estimator {font-family: monospace;background-color: #f0f8ff;border: 1px dotted black;border-radius: 0.25em;box-sizing: border-box;margin-bottom: 0.5em;}#sk-container-id-3 div.sk-estimator:hover {background-color: #d4ebff;}#sk-container-id-3 div.sk-parallel-item::after {content: \"\";width: 100%;border-bottom: 1px solid gray;flex-grow: 1;}#sk-container-id-3 div.sk-label:hover label.sk-toggleable__label {background-color: #d4ebff;}#sk-container-id-3 div.sk-serial::before {content: \"\";position: absolute;border-left: 1px solid gray;box-sizing: border-box;top: 0;bottom: 0;left: 50%;z-index: 0;}#sk-container-id-3 div.sk-serial {display: flex;flex-direction: column;align-items: center;background-color: white;padding-right: 0.2em;padding-left: 0.2em;position: relative;}#sk-container-id-3 div.sk-item {position: relative;z-index: 1;}#sk-container-id-3 div.sk-parallel {display: flex;align-items: stretch;justify-content: center;background-color: white;position: relative;}#sk-container-id-3 div.sk-item::before, #sk-container-id-3 div.sk-parallel-item::before {content: \"\";position: absolute;border-left: 1px solid gray;box-sizing: border-box;top: 0;bottom: 0;left: 50%;z-index: -1;}#sk-container-id-3 div.sk-parallel-item {display: flex;flex-direction: column;z-index: 1;position: relative;background-color: white;}#sk-container-id-3 div.sk-parallel-item:first-child::after {align-self: flex-end;width: 50%;}#sk-container-id-3 div.sk-parallel-item:last-child::after {align-self: flex-start;width: 50%;}#sk-container-id-3 div.sk-parallel-item:only-child::after {width: 0;}#sk-container-id-3 div.sk-dashed-wrapped {border: 1px dashed gray;margin: 0 0.4em 0.5em 0.4em;box-sizing: border-box;padding-bottom: 0.4em;background-color: white;}#sk-container-id-3 div.sk-label label {font-family: monospace;font-weight: bold;display: inline-block;line-height: 1.2em;}#sk-container-id-3 div.sk-label-container {text-align: center;}#sk-container-id-3 div.sk-container {/* jupyter's `normalize.less` sets `[hidden] { display: none; }` but bootstrap.min.css set `[hidden] { display: none !important; }` so we also need the `!important` here to be able to override the default hidden behavior on the sphinx rendered scikit-learn.org. See: https://github.com/scikit-learn/scikit-learn/issues/21755 */display: inline-block !important;position: relative;}#sk-container-id-3 div.sk-text-repr-fallback {display: none;}</style><div id=\"sk-container-id-3\" class=\"sk-top-container\"><div class=\"sk-text-repr-fallback\"><pre>SVC()</pre><b>In a Jupyter environment, please rerun this cell to show the HTML representation or trust the notebook. <br />On GitHub, the HTML representation is unable to render, please try loading this page with nbviewer.org.</b></div><div class=\"sk-container\" hidden><div class=\"sk-item\"><div class=\"sk-estimator sk-toggleable\"><input class=\"sk-toggleable__control sk-hidden--visually\" id=\"sk-estimator-id-3\" type=\"checkbox\" checked><label for=\"sk-estimator-id-3\" class=\"sk-toggleable__label sk-toggleable__label-arrow\">SVC</label><div class=\"sk-toggleable__content\"><pre>SVC()</pre></div></div></div></div></div>"
     },
     "execution_count": 27,
     "metadata": {},
     "output_type": "execute_result"
    }
   ],
   "source": [
    "train_evaluate_model(SVC(kernel=\"rbf\"), x_train[perm][:9000], y_train[perm][:9000], x_test, y_test)"
   ],
   "metadata": {
    "collapsed": false,
    "ExecuteTime": {
     "end_time": "2023-11-29T12:37:31.591575300Z",
     "start_time": "2023-11-29T12:37:26.465736200Z"
    }
   },
   "id": "a200bc8f9cf85d06"
  },
  {
   "cell_type": "code",
   "execution_count": 28,
   "outputs": [
    {
     "name": "stdout",
     "output_type": "stream",
     "text": [
      "Precision macro: 0.5960550858747757\n",
      "Recall macro: 0.5909648829370316\n",
      "F1 macro: 0.5870041233430862\n",
      "Precision micro: 0.6042219861922464\n",
      "Recall micro: 0.6042219861922464\n",
      "F1 micro: 0.6042219861922464\n",
      "Accuracy: 0.6042219861922464\n",
      "Time: 0.6676673889160156\n"
     ]
    },
    {
     "data": {
      "text/plain": "SVC()",
      "text/html": "<style>#sk-container-id-4 {color: black;}#sk-container-id-4 pre{padding: 0;}#sk-container-id-4 div.sk-toggleable {background-color: white;}#sk-container-id-4 label.sk-toggleable__label {cursor: pointer;display: block;width: 100%;margin-bottom: 0;padding: 0.3em;box-sizing: border-box;text-align: center;}#sk-container-id-4 label.sk-toggleable__label-arrow:before {content: \"▸\";float: left;margin-right: 0.25em;color: #696969;}#sk-container-id-4 label.sk-toggleable__label-arrow:hover:before {color: black;}#sk-container-id-4 div.sk-estimator:hover label.sk-toggleable__label-arrow:before {color: black;}#sk-container-id-4 div.sk-toggleable__content {max-height: 0;max-width: 0;overflow: hidden;text-align: left;background-color: #f0f8ff;}#sk-container-id-4 div.sk-toggleable__content pre {margin: 0.2em;color: black;border-radius: 0.25em;background-color: #f0f8ff;}#sk-container-id-4 input.sk-toggleable__control:checked~div.sk-toggleable__content {max-height: 200px;max-width: 100%;overflow: auto;}#sk-container-id-4 input.sk-toggleable__control:checked~label.sk-toggleable__label-arrow:before {content: \"▾\";}#sk-container-id-4 div.sk-estimator input.sk-toggleable__control:checked~label.sk-toggleable__label {background-color: #d4ebff;}#sk-container-id-4 div.sk-label input.sk-toggleable__control:checked~label.sk-toggleable__label {background-color: #d4ebff;}#sk-container-id-4 input.sk-hidden--visually {border: 0;clip: rect(1px 1px 1px 1px);clip: rect(1px, 1px, 1px, 1px);height: 1px;margin: -1px;overflow: hidden;padding: 0;position: absolute;width: 1px;}#sk-container-id-4 div.sk-estimator {font-family: monospace;background-color: #f0f8ff;border: 1px dotted black;border-radius: 0.25em;box-sizing: border-box;margin-bottom: 0.5em;}#sk-container-id-4 div.sk-estimator:hover {background-color: #d4ebff;}#sk-container-id-4 div.sk-parallel-item::after {content: \"\";width: 100%;border-bottom: 1px solid gray;flex-grow: 1;}#sk-container-id-4 div.sk-label:hover label.sk-toggleable__label {background-color: #d4ebff;}#sk-container-id-4 div.sk-serial::before {content: \"\";position: absolute;border-left: 1px solid gray;box-sizing: border-box;top: 0;bottom: 0;left: 50%;z-index: 0;}#sk-container-id-4 div.sk-serial {display: flex;flex-direction: column;align-items: center;background-color: white;padding-right: 0.2em;padding-left: 0.2em;position: relative;}#sk-container-id-4 div.sk-item {position: relative;z-index: 1;}#sk-container-id-4 div.sk-parallel {display: flex;align-items: stretch;justify-content: center;background-color: white;position: relative;}#sk-container-id-4 div.sk-item::before, #sk-container-id-4 div.sk-parallel-item::before {content: \"\";position: absolute;border-left: 1px solid gray;box-sizing: border-box;top: 0;bottom: 0;left: 50%;z-index: -1;}#sk-container-id-4 div.sk-parallel-item {display: flex;flex-direction: column;z-index: 1;position: relative;background-color: white;}#sk-container-id-4 div.sk-parallel-item:first-child::after {align-self: flex-end;width: 50%;}#sk-container-id-4 div.sk-parallel-item:last-child::after {align-self: flex-start;width: 50%;}#sk-container-id-4 div.sk-parallel-item:only-child::after {width: 0;}#sk-container-id-4 div.sk-dashed-wrapped {border: 1px dashed gray;margin: 0 0.4em 0.5em 0.4em;box-sizing: border-box;padding-bottom: 0.4em;background-color: white;}#sk-container-id-4 div.sk-label label {font-family: monospace;font-weight: bold;display: inline-block;line-height: 1.2em;}#sk-container-id-4 div.sk-label-container {text-align: center;}#sk-container-id-4 div.sk-container {/* jupyter's `normalize.less` sets `[hidden] { display: none; }` but bootstrap.min.css set `[hidden] { display: none !important; }` so we also need the `!important` here to be able to override the default hidden behavior on the sphinx rendered scikit-learn.org. See: https://github.com/scikit-learn/scikit-learn/issues/21755 */display: inline-block !important;position: relative;}#sk-container-id-4 div.sk-text-repr-fallback {display: none;}</style><div id=\"sk-container-id-4\" class=\"sk-top-container\"><div class=\"sk-text-repr-fallback\"><pre>SVC()</pre><b>In a Jupyter environment, please rerun this cell to show the HTML representation or trust the notebook. <br />On GitHub, the HTML representation is unable to render, please try loading this page with nbviewer.org.</b></div><div class=\"sk-container\" hidden><div class=\"sk-item\"><div class=\"sk-estimator sk-toggleable\"><input class=\"sk-toggleable__control sk-hidden--visually\" id=\"sk-estimator-id-4\" type=\"checkbox\" checked><label for=\"sk-estimator-id-4\" class=\"sk-toggleable__label sk-toggleable__label-arrow\">SVC</label><div class=\"sk-toggleable__content\"><pre>SVC()</pre></div></div></div></div></div>"
     },
     "execution_count": 28,
     "metadata": {},
     "output_type": "execute_result"
    }
   ],
   "source": [
    "train_evaluate_model(SVC(kernel=\"rbf\"), x_train[perm][:6000], y_train[perm][:6000], x_test, y_test)"
   ],
   "metadata": {
    "collapsed": false,
    "ExecuteTime": {
     "end_time": "2023-11-29T12:37:34.791371100Z",
     "start_time": "2023-11-29T12:37:31.590574100Z"
    }
   },
   "id": "5a6264ed5a22e112"
  },
  {
   "cell_type": "code",
   "execution_count": 29,
   "outputs": [
    {
     "name": "stdout",
     "output_type": "stream",
     "text": [
      "Precision macro: 0.5616501182372478\n",
      "Recall macro: 0.5502151864246196\n",
      "F1 macro: 0.5452925527560657\n",
      "Precision micro: 0.564259160913436\n",
      "Recall micro: 0.564259160913436\n",
      "F1 micro: 0.564259160913436\n",
      "Accuracy: 0.564259160913436\n",
      "Time: 0.11269116401672363\n"
     ]
    },
    {
     "data": {
      "text/plain": "SVC()",
      "text/html": "<style>#sk-container-id-5 {color: black;}#sk-container-id-5 pre{padding: 0;}#sk-container-id-5 div.sk-toggleable {background-color: white;}#sk-container-id-5 label.sk-toggleable__label {cursor: pointer;display: block;width: 100%;margin-bottom: 0;padding: 0.3em;box-sizing: border-box;text-align: center;}#sk-container-id-5 label.sk-toggleable__label-arrow:before {content: \"▸\";float: left;margin-right: 0.25em;color: #696969;}#sk-container-id-5 label.sk-toggleable__label-arrow:hover:before {color: black;}#sk-container-id-5 div.sk-estimator:hover label.sk-toggleable__label-arrow:before {color: black;}#sk-container-id-5 div.sk-toggleable__content {max-height: 0;max-width: 0;overflow: hidden;text-align: left;background-color: #f0f8ff;}#sk-container-id-5 div.sk-toggleable__content pre {margin: 0.2em;color: black;border-radius: 0.25em;background-color: #f0f8ff;}#sk-container-id-5 input.sk-toggleable__control:checked~div.sk-toggleable__content {max-height: 200px;max-width: 100%;overflow: auto;}#sk-container-id-5 input.sk-toggleable__control:checked~label.sk-toggleable__label-arrow:before {content: \"▾\";}#sk-container-id-5 div.sk-estimator input.sk-toggleable__control:checked~label.sk-toggleable__label {background-color: #d4ebff;}#sk-container-id-5 div.sk-label input.sk-toggleable__control:checked~label.sk-toggleable__label {background-color: #d4ebff;}#sk-container-id-5 input.sk-hidden--visually {border: 0;clip: rect(1px 1px 1px 1px);clip: rect(1px, 1px, 1px, 1px);height: 1px;margin: -1px;overflow: hidden;padding: 0;position: absolute;width: 1px;}#sk-container-id-5 div.sk-estimator {font-family: monospace;background-color: #f0f8ff;border: 1px dotted black;border-radius: 0.25em;box-sizing: border-box;margin-bottom: 0.5em;}#sk-container-id-5 div.sk-estimator:hover {background-color: #d4ebff;}#sk-container-id-5 div.sk-parallel-item::after {content: \"\";width: 100%;border-bottom: 1px solid gray;flex-grow: 1;}#sk-container-id-5 div.sk-label:hover label.sk-toggleable__label {background-color: #d4ebff;}#sk-container-id-5 div.sk-serial::before {content: \"\";position: absolute;border-left: 1px solid gray;box-sizing: border-box;top: 0;bottom: 0;left: 50%;z-index: 0;}#sk-container-id-5 div.sk-serial {display: flex;flex-direction: column;align-items: center;background-color: white;padding-right: 0.2em;padding-left: 0.2em;position: relative;}#sk-container-id-5 div.sk-item {position: relative;z-index: 1;}#sk-container-id-5 div.sk-parallel {display: flex;align-items: stretch;justify-content: center;background-color: white;position: relative;}#sk-container-id-5 div.sk-item::before, #sk-container-id-5 div.sk-parallel-item::before {content: \"\";position: absolute;border-left: 1px solid gray;box-sizing: border-box;top: 0;bottom: 0;left: 50%;z-index: -1;}#sk-container-id-5 div.sk-parallel-item {display: flex;flex-direction: column;z-index: 1;position: relative;background-color: white;}#sk-container-id-5 div.sk-parallel-item:first-child::after {align-self: flex-end;width: 50%;}#sk-container-id-5 div.sk-parallel-item:last-child::after {align-self: flex-start;width: 50%;}#sk-container-id-5 div.sk-parallel-item:only-child::after {width: 0;}#sk-container-id-5 div.sk-dashed-wrapped {border: 1px dashed gray;margin: 0 0.4em 0.5em 0.4em;box-sizing: border-box;padding-bottom: 0.4em;background-color: white;}#sk-container-id-5 div.sk-label label {font-family: monospace;font-weight: bold;display: inline-block;line-height: 1.2em;}#sk-container-id-5 div.sk-label-container {text-align: center;}#sk-container-id-5 div.sk-container {/* jupyter's `normalize.less` sets `[hidden] { display: none; }` but bootstrap.min.css set `[hidden] { display: none !important; }` so we also need the `!important` here to be able to override the default hidden behavior on the sphinx rendered scikit-learn.org. See: https://github.com/scikit-learn/scikit-learn/issues/21755 */display: inline-block !important;position: relative;}#sk-container-id-5 div.sk-text-repr-fallback {display: none;}</style><div id=\"sk-container-id-5\" class=\"sk-top-container\"><div class=\"sk-text-repr-fallback\"><pre>SVC()</pre><b>In a Jupyter environment, please rerun this cell to show the HTML representation or trust the notebook. <br />On GitHub, the HTML representation is unable to render, please try loading this page with nbviewer.org.</b></div><div class=\"sk-container\" hidden><div class=\"sk-item\"><div class=\"sk-estimator sk-toggleable\"><input class=\"sk-toggleable__control sk-hidden--visually\" id=\"sk-estimator-id-5\" type=\"checkbox\" checked><label for=\"sk-estimator-id-5\" class=\"sk-toggleable__label sk-toggleable__label-arrow\">SVC</label><div class=\"sk-toggleable__content\"><pre>SVC()</pre></div></div></div></div></div>"
     },
     "execution_count": 29,
     "metadata": {},
     "output_type": "execute_result"
    }
   ],
   "source": [
    "train_evaluate_model(SVC(kernel=\"rbf\"), x_train[perm][:2000], y_train[perm][:2000], x_test, y_test)"
   ],
   "metadata": {
    "collapsed": false,
    "ExecuteTime": {
     "end_time": "2023-11-29T12:37:42.019769600Z",
     "start_time": "2023-11-29T12:37:40.890729100Z"
    }
   },
   "id": "55e0227c38206914"
  },
  {
   "cell_type": "code",
   "execution_count": 30,
   "outputs": [
    {
     "name": "stdout",
     "output_type": "stream",
     "text": [
      "Precision macro: 0.598190431460595\n",
      "Recall macro: 0.5921900800382862\n",
      "F1 macro: 0.5899904317703418\n",
      "Precision micro: 0.604753053637812\n",
      "Recall micro: 0.604753053637812\n",
      "F1 micro: 0.604753053637812\n",
      "Accuracy: 0.604753053637812\n",
      "Time: 1.7547059059143066\n"
     ]
    },
    {
     "data": {
      "text/plain": "SVC()",
      "text/html": "<style>#sk-container-id-6 {color: black;}#sk-container-id-6 pre{padding: 0;}#sk-container-id-6 div.sk-toggleable {background-color: white;}#sk-container-id-6 label.sk-toggleable__label {cursor: pointer;display: block;width: 100%;margin-bottom: 0;padding: 0.3em;box-sizing: border-box;text-align: center;}#sk-container-id-6 label.sk-toggleable__label-arrow:before {content: \"▸\";float: left;margin-right: 0.25em;color: #696969;}#sk-container-id-6 label.sk-toggleable__label-arrow:hover:before {color: black;}#sk-container-id-6 div.sk-estimator:hover label.sk-toggleable__label-arrow:before {color: black;}#sk-container-id-6 div.sk-toggleable__content {max-height: 0;max-width: 0;overflow: hidden;text-align: left;background-color: #f0f8ff;}#sk-container-id-6 div.sk-toggleable__content pre {margin: 0.2em;color: black;border-radius: 0.25em;background-color: #f0f8ff;}#sk-container-id-6 input.sk-toggleable__control:checked~div.sk-toggleable__content {max-height: 200px;max-width: 100%;overflow: auto;}#sk-container-id-6 input.sk-toggleable__control:checked~label.sk-toggleable__label-arrow:before {content: \"▾\";}#sk-container-id-6 div.sk-estimator input.sk-toggleable__control:checked~label.sk-toggleable__label {background-color: #d4ebff;}#sk-container-id-6 div.sk-label input.sk-toggleable__control:checked~label.sk-toggleable__label {background-color: #d4ebff;}#sk-container-id-6 input.sk-hidden--visually {border: 0;clip: rect(1px 1px 1px 1px);clip: rect(1px, 1px, 1px, 1px);height: 1px;margin: -1px;overflow: hidden;padding: 0;position: absolute;width: 1px;}#sk-container-id-6 div.sk-estimator {font-family: monospace;background-color: #f0f8ff;border: 1px dotted black;border-radius: 0.25em;box-sizing: border-box;margin-bottom: 0.5em;}#sk-container-id-6 div.sk-estimator:hover {background-color: #d4ebff;}#sk-container-id-6 div.sk-parallel-item::after {content: \"\";width: 100%;border-bottom: 1px solid gray;flex-grow: 1;}#sk-container-id-6 div.sk-label:hover label.sk-toggleable__label {background-color: #d4ebff;}#sk-container-id-6 div.sk-serial::before {content: \"\";position: absolute;border-left: 1px solid gray;box-sizing: border-box;top: 0;bottom: 0;left: 50%;z-index: 0;}#sk-container-id-6 div.sk-serial {display: flex;flex-direction: column;align-items: center;background-color: white;padding-right: 0.2em;padding-left: 0.2em;position: relative;}#sk-container-id-6 div.sk-item {position: relative;z-index: 1;}#sk-container-id-6 div.sk-parallel {display: flex;align-items: stretch;justify-content: center;background-color: white;position: relative;}#sk-container-id-6 div.sk-item::before, #sk-container-id-6 div.sk-parallel-item::before {content: \"\";position: absolute;border-left: 1px solid gray;box-sizing: border-box;top: 0;bottom: 0;left: 50%;z-index: -1;}#sk-container-id-6 div.sk-parallel-item {display: flex;flex-direction: column;z-index: 1;position: relative;background-color: white;}#sk-container-id-6 div.sk-parallel-item:first-child::after {align-self: flex-end;width: 50%;}#sk-container-id-6 div.sk-parallel-item:last-child::after {align-self: flex-start;width: 50%;}#sk-container-id-6 div.sk-parallel-item:only-child::after {width: 0;}#sk-container-id-6 div.sk-dashed-wrapped {border: 1px dashed gray;margin: 0 0.4em 0.5em 0.4em;box-sizing: border-box;padding-bottom: 0.4em;background-color: white;}#sk-container-id-6 div.sk-label label {font-family: monospace;font-weight: bold;display: inline-block;line-height: 1.2em;}#sk-container-id-6 div.sk-label-container {text-align: center;}#sk-container-id-6 div.sk-container {/* jupyter's `normalize.less` sets `[hidden] { display: none; }` but bootstrap.min.css set `[hidden] { display: none !important; }` so we also need the `!important` here to be able to override the default hidden behavior on the sphinx rendered scikit-learn.org. See: https://github.com/scikit-learn/scikit-learn/issues/21755 */display: inline-block !important;position: relative;}#sk-container-id-6 div.sk-text-repr-fallback {display: none;}</style><div id=\"sk-container-id-6\" class=\"sk-top-container\"><div class=\"sk-text-repr-fallback\"><pre>SVC()</pre><b>In a Jupyter environment, please rerun this cell to show the HTML representation or trust the notebook. <br />On GitHub, the HTML representation is unable to render, please try loading this page with nbviewer.org.</b></div><div class=\"sk-container\" hidden><div class=\"sk-item\"><div class=\"sk-estimator sk-toggleable\"><input class=\"sk-toggleable__control sk-hidden--visually\" id=\"sk-estimator-id-6\" type=\"checkbox\" checked><label for=\"sk-estimator-id-6\" class=\"sk-toggleable__label sk-toggleable__label-arrow\">SVC</label><div class=\"sk-toggleable__content\"><pre>SVC()</pre></div></div></div></div></div>"
     },
     "execution_count": 30,
     "metadata": {},
     "output_type": "execute_result"
    }
   ],
   "source": [
    "train_evaluate_model(SVC(kernel=\"rbf\"), x_train[:, 10:90], y_train, x_test[:, 10:90], y_test)"
   ],
   "metadata": {
    "collapsed": false,
    "ExecuteTime": {
     "end_time": "2023-11-29T12:37:47.780299700Z",
     "start_time": "2023-11-29T12:37:42.017768500Z"
    }
   },
   "id": "a6f21f50a1f5aeef"
  },
  {
   "cell_type": "code",
   "execution_count": 31,
   "outputs": [
    {
     "data": {
      "text/plain": "PCA(n_components=50)",
      "text/html": "<style>#sk-container-id-7 {color: black;}#sk-container-id-7 pre{padding: 0;}#sk-container-id-7 div.sk-toggleable {background-color: white;}#sk-container-id-7 label.sk-toggleable__label {cursor: pointer;display: block;width: 100%;margin-bottom: 0;padding: 0.3em;box-sizing: border-box;text-align: center;}#sk-container-id-7 label.sk-toggleable__label-arrow:before {content: \"▸\";float: left;margin-right: 0.25em;color: #696969;}#sk-container-id-7 label.sk-toggleable__label-arrow:hover:before {color: black;}#sk-container-id-7 div.sk-estimator:hover label.sk-toggleable__label-arrow:before {color: black;}#sk-container-id-7 div.sk-toggleable__content {max-height: 0;max-width: 0;overflow: hidden;text-align: left;background-color: #f0f8ff;}#sk-container-id-7 div.sk-toggleable__content pre {margin: 0.2em;color: black;border-radius: 0.25em;background-color: #f0f8ff;}#sk-container-id-7 input.sk-toggleable__control:checked~div.sk-toggleable__content {max-height: 200px;max-width: 100%;overflow: auto;}#sk-container-id-7 input.sk-toggleable__control:checked~label.sk-toggleable__label-arrow:before {content: \"▾\";}#sk-container-id-7 div.sk-estimator input.sk-toggleable__control:checked~label.sk-toggleable__label {background-color: #d4ebff;}#sk-container-id-7 div.sk-label input.sk-toggleable__control:checked~label.sk-toggleable__label {background-color: #d4ebff;}#sk-container-id-7 input.sk-hidden--visually {border: 0;clip: rect(1px 1px 1px 1px);clip: rect(1px, 1px, 1px, 1px);height: 1px;margin: -1px;overflow: hidden;padding: 0;position: absolute;width: 1px;}#sk-container-id-7 div.sk-estimator {font-family: monospace;background-color: #f0f8ff;border: 1px dotted black;border-radius: 0.25em;box-sizing: border-box;margin-bottom: 0.5em;}#sk-container-id-7 div.sk-estimator:hover {background-color: #d4ebff;}#sk-container-id-7 div.sk-parallel-item::after {content: \"\";width: 100%;border-bottom: 1px solid gray;flex-grow: 1;}#sk-container-id-7 div.sk-label:hover label.sk-toggleable__label {background-color: #d4ebff;}#sk-container-id-7 div.sk-serial::before {content: \"\";position: absolute;border-left: 1px solid gray;box-sizing: border-box;top: 0;bottom: 0;left: 50%;z-index: 0;}#sk-container-id-7 div.sk-serial {display: flex;flex-direction: column;align-items: center;background-color: white;padding-right: 0.2em;padding-left: 0.2em;position: relative;}#sk-container-id-7 div.sk-item {position: relative;z-index: 1;}#sk-container-id-7 div.sk-parallel {display: flex;align-items: stretch;justify-content: center;background-color: white;position: relative;}#sk-container-id-7 div.sk-item::before, #sk-container-id-7 div.sk-parallel-item::before {content: \"\";position: absolute;border-left: 1px solid gray;box-sizing: border-box;top: 0;bottom: 0;left: 50%;z-index: -1;}#sk-container-id-7 div.sk-parallel-item {display: flex;flex-direction: column;z-index: 1;position: relative;background-color: white;}#sk-container-id-7 div.sk-parallel-item:first-child::after {align-self: flex-end;width: 50%;}#sk-container-id-7 div.sk-parallel-item:last-child::after {align-self: flex-start;width: 50%;}#sk-container-id-7 div.sk-parallel-item:only-child::after {width: 0;}#sk-container-id-7 div.sk-dashed-wrapped {border: 1px dashed gray;margin: 0 0.4em 0.5em 0.4em;box-sizing: border-box;padding-bottom: 0.4em;background-color: white;}#sk-container-id-7 div.sk-label label {font-family: monospace;font-weight: bold;display: inline-block;line-height: 1.2em;}#sk-container-id-7 div.sk-label-container {text-align: center;}#sk-container-id-7 div.sk-container {/* jupyter's `normalize.less` sets `[hidden] { display: none; }` but bootstrap.min.css set `[hidden] { display: none !important; }` so we also need the `!important` here to be able to override the default hidden behavior on the sphinx rendered scikit-learn.org. See: https://github.com/scikit-learn/scikit-learn/issues/21755 */display: inline-block !important;position: relative;}#sk-container-id-7 div.sk-text-repr-fallback {display: none;}</style><div id=\"sk-container-id-7\" class=\"sk-top-container\"><div class=\"sk-text-repr-fallback\"><pre>PCA(n_components=50)</pre><b>In a Jupyter environment, please rerun this cell to show the HTML representation or trust the notebook. <br />On GitHub, the HTML representation is unable to render, please try loading this page with nbviewer.org.</b></div><div class=\"sk-container\" hidden><div class=\"sk-item\"><div class=\"sk-estimator sk-toggleable\"><input class=\"sk-toggleable__control sk-hidden--visually\" id=\"sk-estimator-id-7\" type=\"checkbox\" checked><label for=\"sk-estimator-id-7\" class=\"sk-toggleable__label sk-toggleable__label-arrow\">PCA</label><div class=\"sk-toggleable__content\"><pre>PCA(n_components=50)</pre></div></div></div></div></div>"
     },
     "execution_count": 31,
     "metadata": {},
     "output_type": "execute_result"
    }
   ],
   "source": [
    "from sklearn.decomposition import PCA\n",
    "\n",
    "pca = PCA(n_components=50)\n",
    "pca.fit(x_train)"
   ],
   "metadata": {
    "collapsed": false,
    "ExecuteTime": {
     "end_time": "2023-11-29T12:37:47.937379300Z",
     "start_time": "2023-11-29T12:37:47.780299700Z"
    }
   },
   "id": "eae2c7eef2c62966"
  },
  {
   "cell_type": "code",
   "execution_count": 32,
   "outputs": [
    {
     "name": "stdout",
     "output_type": "stream",
     "text": [
      "Precision macro: 0.5967968054431144\n",
      "Recall macro: 0.5926388705883661\n",
      "F1 macro: 0.5892118904607058\n",
      "Precision micro: 0.6058151885289432\n",
      "Recall micro: 0.6058151885289432\n",
      "F1 micro: 0.6058151885289432\n",
      "Accuracy: 0.6058151885289432\n",
      "Time: 1.4941844940185547\n"
     ]
    },
    {
     "data": {
      "text/plain": "SVC()",
      "text/html": "<style>#sk-container-id-8 {color: black;}#sk-container-id-8 pre{padding: 0;}#sk-container-id-8 div.sk-toggleable {background-color: white;}#sk-container-id-8 label.sk-toggleable__label {cursor: pointer;display: block;width: 100%;margin-bottom: 0;padding: 0.3em;box-sizing: border-box;text-align: center;}#sk-container-id-8 label.sk-toggleable__label-arrow:before {content: \"▸\";float: left;margin-right: 0.25em;color: #696969;}#sk-container-id-8 label.sk-toggleable__label-arrow:hover:before {color: black;}#sk-container-id-8 div.sk-estimator:hover label.sk-toggleable__label-arrow:before {color: black;}#sk-container-id-8 div.sk-toggleable__content {max-height: 0;max-width: 0;overflow: hidden;text-align: left;background-color: #f0f8ff;}#sk-container-id-8 div.sk-toggleable__content pre {margin: 0.2em;color: black;border-radius: 0.25em;background-color: #f0f8ff;}#sk-container-id-8 input.sk-toggleable__control:checked~div.sk-toggleable__content {max-height: 200px;max-width: 100%;overflow: auto;}#sk-container-id-8 input.sk-toggleable__control:checked~label.sk-toggleable__label-arrow:before {content: \"▾\";}#sk-container-id-8 div.sk-estimator input.sk-toggleable__control:checked~label.sk-toggleable__label {background-color: #d4ebff;}#sk-container-id-8 div.sk-label input.sk-toggleable__control:checked~label.sk-toggleable__label {background-color: #d4ebff;}#sk-container-id-8 input.sk-hidden--visually {border: 0;clip: rect(1px 1px 1px 1px);clip: rect(1px, 1px, 1px, 1px);height: 1px;margin: -1px;overflow: hidden;padding: 0;position: absolute;width: 1px;}#sk-container-id-8 div.sk-estimator {font-family: monospace;background-color: #f0f8ff;border: 1px dotted black;border-radius: 0.25em;box-sizing: border-box;margin-bottom: 0.5em;}#sk-container-id-8 div.sk-estimator:hover {background-color: #d4ebff;}#sk-container-id-8 div.sk-parallel-item::after {content: \"\";width: 100%;border-bottom: 1px solid gray;flex-grow: 1;}#sk-container-id-8 div.sk-label:hover label.sk-toggleable__label {background-color: #d4ebff;}#sk-container-id-8 div.sk-serial::before {content: \"\";position: absolute;border-left: 1px solid gray;box-sizing: border-box;top: 0;bottom: 0;left: 50%;z-index: 0;}#sk-container-id-8 div.sk-serial {display: flex;flex-direction: column;align-items: center;background-color: white;padding-right: 0.2em;padding-left: 0.2em;position: relative;}#sk-container-id-8 div.sk-item {position: relative;z-index: 1;}#sk-container-id-8 div.sk-parallel {display: flex;align-items: stretch;justify-content: center;background-color: white;position: relative;}#sk-container-id-8 div.sk-item::before, #sk-container-id-8 div.sk-parallel-item::before {content: \"\";position: absolute;border-left: 1px solid gray;box-sizing: border-box;top: 0;bottom: 0;left: 50%;z-index: -1;}#sk-container-id-8 div.sk-parallel-item {display: flex;flex-direction: column;z-index: 1;position: relative;background-color: white;}#sk-container-id-8 div.sk-parallel-item:first-child::after {align-self: flex-end;width: 50%;}#sk-container-id-8 div.sk-parallel-item:last-child::after {align-self: flex-start;width: 50%;}#sk-container-id-8 div.sk-parallel-item:only-child::after {width: 0;}#sk-container-id-8 div.sk-dashed-wrapped {border: 1px dashed gray;margin: 0 0.4em 0.5em 0.4em;box-sizing: border-box;padding-bottom: 0.4em;background-color: white;}#sk-container-id-8 div.sk-label label {font-family: monospace;font-weight: bold;display: inline-block;line-height: 1.2em;}#sk-container-id-8 div.sk-label-container {text-align: center;}#sk-container-id-8 div.sk-container {/* jupyter's `normalize.less` sets `[hidden] { display: none; }` but bootstrap.min.css set `[hidden] { display: none !important; }` so we also need the `!important` here to be able to override the default hidden behavior on the sphinx rendered scikit-learn.org. See: https://github.com/scikit-learn/scikit-learn/issues/21755 */display: inline-block !important;position: relative;}#sk-container-id-8 div.sk-text-repr-fallback {display: none;}</style><div id=\"sk-container-id-8\" class=\"sk-top-container\"><div class=\"sk-text-repr-fallback\"><pre>SVC()</pre><b>In a Jupyter environment, please rerun this cell to show the HTML representation or trust the notebook. <br />On GitHub, the HTML representation is unable to render, please try loading this page with nbviewer.org.</b></div><div class=\"sk-container\" hidden><div class=\"sk-item\"><div class=\"sk-estimator sk-toggleable\"><input class=\"sk-toggleable__control sk-hidden--visually\" id=\"sk-estimator-id-8\" type=\"checkbox\" checked><label for=\"sk-estimator-id-8\" class=\"sk-toggleable__label sk-toggleable__label-arrow\">SVC</label><div class=\"sk-toggleable__content\"><pre>SVC()</pre></div></div></div></div></div>"
     },
     "execution_count": 32,
     "metadata": {},
     "output_type": "execute_result"
    }
   ],
   "source": [
    "train_evaluate_model(SVC(kernel=\"rbf\"), pca.transform(x_train), y_train, pca.transform(x_test), y_test)"
   ],
   "metadata": {
    "collapsed": false,
    "ExecuteTime": {
     "end_time": "2023-11-29T12:37:53.095248900Z",
     "start_time": "2023-11-29T12:37:47.937379300Z"
    }
   },
   "id": "3fe9d7a7deb30f3b"
  },
  {
   "cell_type": "code",
   "execution_count": 33,
   "outputs": [],
   "source": [
    "pca_2 = PCA(n_components=2)"
   ],
   "metadata": {
    "collapsed": false,
    "ExecuteTime": {
     "end_time": "2023-11-29T12:37:53.096756800Z",
     "start_time": "2023-11-29T12:37:53.095248900Z"
    }
   },
   "id": "55d30990ba0093fd"
  },
  {
   "cell_type": "code",
   "execution_count": 34,
   "outputs": [],
   "source": [
    "draw_data = pca_2.fit_transform(x_train[perm][:500])"
   ],
   "metadata": {
    "collapsed": false,
    "ExecuteTime": {
     "end_time": "2023-11-29T12:37:53.136184700Z",
     "start_time": "2023-11-29T12:37:53.098756100Z"
    }
   },
   "id": "9f9191df8225e4a1"
  },
  {
   "cell_type": "code",
   "execution_count": 35,
   "outputs": [
    {
     "data": {
      "text/plain": "array([[ 9.01830202e-01, -1.98448944e-01],\n       [ 8.01255038e-01, -1.10687759e+00],\n       [-1.23622762e+00, -1.65364890e-01],\n       [-4.84784740e-01,  4.62136469e-01],\n       [ 9.94870936e-01, -2.07887468e-01],\n       [ 1.86732641e-01, -7.94540907e-01],\n       [-7.00220246e-01,  2.13616595e+00],\n       [-6.64188055e-01, -1.59870771e-01],\n       [-9.66081797e-01, -8.42434227e-01],\n       [ 4.00273026e-01, -1.75981487e+00],\n       [ 1.70672346e+00, -1.22882489e+00],\n       [-2.65914053e-01, -1.82718992e-01],\n       [ 7.37017700e-02,  1.60068053e+00],\n       [ 1.52225377e+00, -8.03028861e-01],\n       [-2.22223933e+00, -9.95408621e-01],\n       [ 2.18962977e+00,  1.75843490e-01],\n       [ 7.02672607e-01, -7.76858597e-01],\n       [-5.63953404e-01, -3.53759843e-01],\n       [-9.51483066e-01,  2.20221015e+00],\n       [ 1.61195968e+00, -3.83751007e-02],\n       [-1.69969716e+00, -4.75916589e-01],\n       [ 1.08055021e+00,  1.74799128e+00],\n       [ 1.17692100e-01, -1.16833427e+00],\n       [-8.87210851e-01,  3.71451082e-01],\n       [ 9.20075378e-01, -6.01266060e-01],\n       [-7.12916977e-01,  9.52962644e-02],\n       [-5.76170725e-01,  2.31956379e-01],\n       [ 3.08687631e+00, -1.57822660e+00],\n       [-1.32210794e+00,  3.99299450e+00],\n       [ 2.04963743e+00,  7.51413347e-01],\n       [ 1.04608600e+00, -1.05675177e+00],\n       [ 9.81228811e-01,  3.07045096e-01],\n       [-9.41250879e-01,  3.84618151e-01],\n       [-2.25824902e-01,  1.56632626e+00],\n       [ 1.01069011e+00, -7.63135228e-02],\n       [-1.17240267e+00,  8.30667875e-01],\n       [-6.85096551e-01,  1.76372301e+00],\n       [-1.48640622e+00, -1.93528227e-01],\n       [ 5.01505466e-01, -1.04024828e-01],\n       [-1.13710142e+00,  8.67639883e-01],\n       [-9.71033199e-01,  4.50586978e-01],\n       [-1.07644155e+00,  1.46273433e-02],\n       [-6.93069154e-01,  1.98355107e+00],\n       [ 2.73682409e-01, -1.54876572e+00],\n       [-4.41021035e-01,  1.83143945e-01],\n       [-1.24645977e+00, -1.15495535e-01],\n       [-9.68597033e-01, -9.05951472e-01],\n       [ 2.08239886e+00,  2.72394150e-01],\n       [-8.94497790e-01,  4.21316810e+00],\n       [ 3.50974427e-01, -1.66735248e+00],\n       [ 9.50596742e-01, -8.59149446e-01],\n       [-1.33719238e+00, -1.35293024e+00],\n       [ 2.73725831e-01, -2.06740789e-01],\n       [-2.69321655e-01, -3.78567449e-01],\n       [-2.31366160e+00, -7.40727064e-01],\n       [ 1.29378228e+00,  2.26854340e+00],\n       [ 2.84886466e-01,  8.11409638e-01],\n       [ 1.01472346e+00,  1.23940969e+00],\n       [ 2.01364540e-01,  2.80666979e+00],\n       [-1.09902386e+00, -5.87499510e-01],\n       [ 6.38266884e-01, -2.06348285e-02],\n       [ 2.90583233e+00,  1.62820760e+00],\n       [ 2.31937633e+00, -9.43508019e-01],\n       [-1.29600698e+00, -1.14072261e+00],\n       [ 7.92176212e-01, -1.44156874e+00],\n       [ 1.85699228e+00,  2.33182363e+00],\n       [ 7.58814622e-01,  2.67387677e-02],\n       [-1.02719090e+00,  2.60725422e+00],\n       [-5.75245180e-01, -5.83854098e-01],\n       [-1.97012263e+00, -8.02956791e-01],\n       [-5.27630558e-01,  1.77613993e-02],\n       [ 4.27938189e-02,  4.22553926e-01],\n       [-1.75809117e+00, -5.67521326e-01],\n       [-5.28513556e-01, -2.66417130e-01],\n       [-9.25624145e-01,  2.09137796e+00],\n       [-7.07352028e-01, -5.81082422e-01],\n       [ 2.56646167e-01, -1.49992268e+00],\n       [ 2.58466988e+00,  8.31049097e-01],\n       [ 1.45351807e+00, -1.31716098e+00],\n       [ 2.48142027e-01,  1.30961120e-01],\n       [-1.40606833e+00,  1.62741260e+00],\n       [-1.46102849e+00,  2.79824853e-01],\n       [-1.51542700e+00,  4.16602648e-01],\n       [-2.41991827e+00, -6.46096442e-01],\n       [ 8.46337254e-01, -1.95345985e+00],\n       [-1.25770633e+00,  5.45294410e-01],\n       [-1.02106547e-01,  9.11248402e-01],\n       [-2.69460331e-01, -1.38759665e+00],\n       [ 1.43918731e+00, -8.85891388e-01],\n       [ 4.97311839e-01,  1.35915293e+00],\n       [ 1.59697093e+00, -1.65787784e+00],\n       [ 5.48829737e-01,  1.26503756e+00],\n       [-2.49069138e-01,  2.35590547e+00],\n       [-1.90659588e+00, -2.51883224e-01],\n       [-1.31990356e+00, -5.50716216e-01],\n       [ 5.34888738e-02, -1.44135942e+00],\n       [-1.36582921e+00,  1.24758355e+00],\n       [ 7.67226869e-01, -3.10707872e-01],\n       [ 2.26165448e-01,  2.36274210e+00],\n       [ 1.62919885e+00,  5.54644199e-01],\n       [-2.08005876e+00,  1.10302734e-01],\n       [-1.68561123e+00, -1.71630867e+00],\n       [-1.77688241e-01, -6.19853923e-01],\n       [ 7.48455258e-01, -3.78031857e-01],\n       [-3.87828517e-01, -8.76461260e-01],\n       [-2.20459035e-01,  2.02845042e+00],\n       [-2.68687094e-02,  1.76562755e+00],\n       [ 4.58713623e-02, -1.75365518e-01],\n       [ 3.64154849e+00,  8.30725782e-01],\n       [ 3.09797626e-01, -6.60362772e-02],\n       [ 1.32596460e+00, -9.66888120e-01],\n       [ 4.32843611e-01, -3.87276661e-01],\n       [-4.26418201e-01,  1.29655426e+00],\n       [ 1.23658368e+00,  7.59164355e-01],\n       [-7.58290885e-01,  5.43456348e-01],\n       [-1.05500634e+00,  1.68212111e-01],\n       [-1.02126482e+00,  9.69131386e-01],\n       [ 1.35155613e+00, -5.15524872e-01],\n       [-6.99031844e-02, -3.33921419e-01],\n       [-6.75189599e-01,  9.79886945e-01],\n       [-1.84657307e-01, -4.15730735e-01],\n       [ 2.00319344e+00,  6.42907965e-01],\n       [-1.23189867e+00, -1.17301867e+00],\n       [-4.11940044e-01, -4.65710821e-01],\n       [-1.61112201e+00,  4.61274036e-01],\n       [-1.12285780e-01,  3.05566051e-01],\n       [ 4.18410250e-01, -8.66878020e-01],\n       [ 1.72959153e+00, -9.67415792e-01],\n       [-9.22269643e-01,  1.53678859e-01],\n       [ 5.02706641e-01, -3.61063293e-01],\n       [-5.23835342e-01,  2.66122584e-01],\n       [ 4.18488782e-01, -1.95008603e+00],\n       [-1.98799223e+00,  1.37490554e-01],\n       [-1.57564112e+00, -1.40044145e+00],\n       [ 8.62918964e-01, -1.24378856e+00],\n       [-1.01474016e+00, -3.36886363e-01],\n       [ 6.29929329e-01,  2.52507685e+00],\n       [-1.28596137e-01,  9.44629825e-01],\n       [-1.02033673e+00, -1.01569041e+00],\n       [-1.53144920e+00,  8.34940748e-01],\n       [-1.19096945e+00, -9.79696359e-01],\n       [-4.66370937e-01, -1.43566719e+00],\n       [ 1.37614532e+00,  4.82137362e-01],\n       [ 2.22714083e+00,  1.91361302e+00],\n       [ 5.55891908e-01, -4.45512687e-01],\n       [-1.62853516e+00, -1.77118788e+00],\n       [-1.69274908e+00, -7.29137024e-01],\n       [ 9.29335035e-01, -8.12568960e-01],\n       [-1.38086009e+00,  2.96567079e-01],\n       [ 4.29143067e-01,  1.17229159e+00],\n       [-1.33804628e+00,  8.32132368e-01],\n       [-1.31037667e+00, -9.30234978e-01],\n       [ 8.18228087e-01, -5.95493367e-01],\n       [-1.83519850e-01,  1.42181749e+00],\n       [-6.89501956e-01, -4.85539538e-01],\n       [-6.59080709e-01,  3.26072282e+00],\n       [ 1.93231790e+00, -6.31186395e-01],\n       [ 1.45499010e-01, -5.13192852e-02],\n       [-1.34191037e+00, -7.31687270e-01],\n       [-1.14050378e-01,  2.00979044e-01],\n       [ 5.96128837e-03,  9.44414939e-01],\n       [ 8.55208321e-01, -9.83139636e-01],\n       [-1.02472529e+00,  8.05605182e-01],\n       [ 8.84699305e-01,  1.55885873e+00],\n       [-1.22719540e-01, -3.04889525e-02],\n       [ 8.78508950e-01,  5.66702327e-01],\n       [-1.09754302e+00, -4.77127092e-01],\n       [-1.37106825e+00,  7.34194226e-01],\n       [ 2.51658865e+00, -6.81294653e-01],\n       [-4.16369674e-01,  1.16850654e+00],\n       [ 1.40934748e+00, -3.74133154e-01],\n       [-9.01859676e-01,  1.19344534e+00],\n       [-8.04144987e-01, -6.20668663e-03],\n       [ 1.18041777e+00, -5.29542690e-02],\n       [ 6.89223139e-01, -1.24716651e+00],\n       [ 2.59350244e+00,  2.51112370e+00],\n       [-1.27462613e+00,  1.22840832e+00],\n       [-1.07401779e+00,  1.70523844e+00],\n       [-9.20917424e-01,  6.83804938e-01],\n       [ 2.20046831e+00,  3.54536891e-01],\n       [-2.00348226e+00, -3.72441807e-01],\n       [ 8.09948751e-01,  4.93344392e-01],\n       [ 1.66552649e+00,  1.60495625e+00],\n       [ 6.99871750e-01,  1.92182856e+00],\n       [-1.24378507e+00, -2.72757289e-03],\n       [-4.89486135e-01,  3.06308307e-01],\n       [-7.47653806e-02,  2.12918128e+00],\n       [ 1.51140347e+00,  7.37224688e-01],\n       [ 1.73929318e+00,  2.07928973e+00],\n       [ 2.76186921e-01, -1.26960436e+00],\n       [-1.61947223e-01,  4.89305290e-01],\n       [-6.92373777e-01,  4.85859347e-01],\n       [ 3.18236056e-01, -1.37523825e+00],\n       [ 1.62627622e+00, -4.31078142e-01],\n       [-7.72303357e-01, -2.90995986e-01],\n       [-4.58512481e-01,  1.15806056e+00],\n       [-1.30067423e+00, -1.17970197e-02],\n       [-6.81740597e-01, -2.28586443e-02],\n       [ 1.72857774e+00,  6.30970712e-01],\n       [-9.74457778e-02, -1.26359226e+00],\n       [-1.98087539e+00, -6.20921294e-01],\n       [ 1.13452881e+00,  1.57973075e-01],\n       [ 1.81091872e+00,  1.61908101e-01],\n       [ 1.56036881e+00, -1.48690506e+00],\n       [-1.09478132e+00, -1.88286604e-01],\n       [-9.28147346e-03,  1.49017251e+00],\n       [ 1.00811459e+00, -2.84759155e-01],\n       [-2.12884857e+00,  2.31735735e-01],\n       [-1.47187627e+00, -7.17158272e-01],\n       [-1.18054909e+00, -9.67754429e-01],\n       [-1.61844413e+00, -1.32701739e-01],\n       [ 1.84134612e+00,  5.84118555e-01],\n       [-1.23733034e+00, -5.85806516e-02],\n       [ 6.64511028e-01, -1.87641579e-01],\n       [ 2.56477623e+00, -1.04819708e+00],\n       [ 1.87787245e-01,  6.73334877e-01],\n       [ 2.76390750e-01, -1.08087221e+00],\n       [-9.45214140e-01, -7.09061256e-01],\n       [ 1.41522655e+00, -1.51908169e+00],\n       [ 5.76078688e-01, -3.90820495e-02],\n       [-1.36018950e-01,  1.77585596e+00],\n       [-2.02892759e+00,  1.37960017e+00],\n       [ 2.14246633e+00, -1.30988123e+00],\n       [-1.46542329e-01, -7.47860905e-01],\n       [ 2.08134049e-01, -1.72459204e-01],\n       [ 2.58189770e+00,  4.26755587e-01],\n       [ 7.42852320e-01, -9.68887746e-02],\n       [-2.05970296e+00, -1.66437260e+00],\n       [ 1.99399191e+00, -9.37764991e-01],\n       [-1.48655165e+00,  5.59862612e-01],\n       [ 2.24905621e+00,  2.22052676e+00],\n       [-1.69437217e-01, -1.40796333e+00],\n       [ 1.88904789e+00, -3.03722329e-01],\n       [ 1.31565926e+00, -2.46767367e+00],\n       [ 8.32502241e-01, -1.41532628e+00],\n       [ 3.02485805e-01, -3.64590503e-01],\n       [-1.44704845e+00,  1.42348931e-01],\n       [-4.03474987e-01,  1.39067420e+00],\n       [ 9.58852477e-01, -7.72079060e-01],\n       [-8.37123908e-01,  2.59349332e-01],\n       [-2.44538001e-01, -1.34572592e-01],\n       [-1.40659843e+00, -2.90753261e-01],\n       [ 1.98543108e+00,  1.08758764e+00],\n       [-1.20245516e-01, -1.08565640e+00],\n       [-1.19046176e-01,  3.93237547e-01],\n       [ 2.60255329e-01,  7.95714747e-01],\n       [-1.00337632e+00,  1.90274280e+00],\n       [-2.09658595e+00, -1.13248704e+00],\n       [ 9.94016695e-01,  1.60576815e-01],\n       [ 1.91707388e+00,  4.25547704e-01],\n       [ 4.69460900e-01, -1.15098402e+00],\n       [ 5.29228172e-01,  9.32607874e-01],\n       [-9.01757934e-01, -7.97983692e-01],\n       [-3.82717389e-02, -1.36108801e+00],\n       [ 7.87737479e-01,  9.40231427e-01],\n       [-1.26643131e+00, -9.57020482e-01],\n       [ 4.36998988e-01, -1.97542919e-01],\n       [-1.95430037e+00, -1.03309268e+00],\n       [-3.04001279e+00,  2.93790853e-02],\n       [-1.47933690e+00,  1.54399425e+00],\n       [ 7.55914666e-01,  8.98295484e-01],\n       [ 5.33274572e-01, -2.34411966e-01],\n       [ 4.73495477e-01,  1.28196181e+00],\n       [ 1.52089145e+00, -1.91678387e+00],\n       [ 4.49315363e-01, -2.69537570e-01],\n       [-3.64872676e-01,  1.61447245e+00],\n       [ 2.78787855e+00,  1.09930067e+00],\n       [-4.87757093e-01, -1.17698859e-02],\n       [ 4.07710901e-01,  3.42704018e-02],\n       [ 5.07673694e-01, -2.45808429e-03],\n       [ 1.36201997e+00, -7.98844406e-02],\n       [ 2.34238044e+00,  9.69809295e-01],\n       [-6.23678506e-01, -5.91650818e-01],\n       [-1.00555923e+00,  2.81880168e-01],\n       [-1.24405454e+00, -1.84966280e+00],\n       [-4.12939920e-02,  2.22027567e+00],\n       [-1.15124995e+00,  9.46969655e-02],\n       [-3.50757629e-01,  2.04886784e+00],\n       [-1.14835898e+00, -4.70972433e-01],\n       [ 4.41592153e+00, -4.51610474e-01],\n       [ 1.15306314e+00, -1.47145512e-01],\n       [-5.42450121e-01,  6.66825419e-01],\n       [-9.84898933e-01,  5.00025697e-01],\n       [-9.33073112e-01,  4.68163165e-01],\n       [-5.28234227e-01,  1.80773036e+00],\n       [-1.00636493e+00,  1.01027839e+00],\n       [-1.15412802e+00, -4.33447676e-01],\n       [ 7.39421094e-01,  1.00844216e+00],\n       [ 5.38986697e-01, -2.49557908e-01],\n       [-1.47083482e+00, -1.32942758e+00],\n       [ 2.98096190e+00, -2.94359577e-01],\n       [-1.43009663e+00, -1.03960725e+00],\n       [-1.50308893e+00, -4.04111262e-01],\n       [-1.18076387e+00, -6.54730219e-01],\n       [-7.88179215e-01, -3.04789989e-02],\n       [ 1.48429867e+00, -1.02862342e+00],\n       [ 1.39546945e+00,  8.12578734e-02],\n       [-5.93133000e-02, -5.90925464e-01],\n       [ 4.36192429e-01,  1.11272711e+00],\n       [-1.94587170e+00, -9.29782261e-01],\n       [ 8.47914967e-01, -4.71352379e-01],\n       [-1.01288873e+00, -2.57218084e-01],\n       [-2.21100740e-02, -1.30734339e-01],\n       [-1.18184919e-01,  6.90248193e-01],\n       [-1.27923427e+00,  9.58644931e-02],\n       [-6.25392985e-01, -3.43113368e-01],\n       [-1.18096819e+00,  5.18862657e-01],\n       [-1.61971789e+00,  3.75126141e-03],\n       [-1.75486967e+00, -4.02135570e-02],\n       [-1.44096326e+00, -7.80297503e-01],\n       [-1.88198187e-01, -1.02072280e+00],\n       [-1.79609788e+00, -4.49654232e-01],\n       [-7.58857658e-01,  2.26923023e+00],\n       [-4.82858304e-01,  1.68949460e+00],\n       [ 1.46247943e+00,  1.61841831e+00],\n       [ 8.70078770e-01, -1.70945644e-02],\n       [-3.48697795e-01, -1.46932693e+00],\n       [ 3.87206772e-01,  1.73724980e+00],\n       [-7.64298584e-01,  2.81427378e+00],\n       [-1.56620135e-01, -1.89918757e-01],\n       [ 2.02442474e+00, -5.88508934e-01],\n       [-6.36132786e-01, -1.28284780e-01],\n       [-1.36460453e+00, -1.56574648e-01],\n       [ 5.04465923e-01,  2.44366223e+00],\n       [ 8.92648773e-01,  4.55432542e-01],\n       [ 5.15435025e-01,  1.09994766e+00],\n       [ 8.65428660e-01, -4.88754257e-01],\n       [-7.81847153e-03, -1.24013309e-01],\n       [ 1.59061262e+00, -6.61353629e-01],\n       [ 1.45065831e+00, -8.60486097e-01],\n       [ 1.04443777e+00, -1.00958798e+00],\n       [ 1.73084462e+00, -1.18060384e-01],\n       [-2.31408331e+00, -3.42417618e-01],\n       [ 3.02631947e+00, -4.26481873e-01],\n       [-1.50283773e-01,  2.86051835e-01],\n       [-1.13878197e+00,  1.19036685e-01],\n       [-1.79369993e+00,  3.61914887e-01],\n       [ 2.30188368e-01, -8.51297987e-01],\n       [-1.90645742e+00, -1.71644005e+00],\n       [-1.59344487e+00, -1.44573040e+00],\n       [-1.50291304e-02,  6.43511642e-01],\n       [ 4.88041557e-01, -1.66146859e+00],\n       [ 5.34362816e-01, -6.78349541e-01],\n       [ 1.87384131e+00, -4.79480430e-01],\n       [-1.72471850e+00,  3.23387578e-01],\n       [ 1.83906048e-01,  2.06478455e-01],\n       [ 8.65550265e-01, -1.33170204e+00],\n       [-8.12721400e-01,  8.82206661e-01],\n       [ 1.24547240e+00, -2.04183348e+00],\n       [-4.42780302e-01,  6.55692611e-01],\n       [-1.56925210e+00,  1.93940394e-02],\n       [-1.15707738e-01, -6.72545379e-01],\n       [ 7.37017700e-02,  1.60068053e+00],\n       [ 1.64945096e+00, -5.54795239e-01],\n       [-3.41619195e-01, -7.21297925e-01],\n       [ 1.42386484e+00,  1.37213657e+00],\n       [-1.65451443e+00, -9.11870697e-01],\n       [-1.81202894e+00, -1.47498000e+00],\n       [ 4.80623322e-01, -1.48683008e+00],\n       [-1.68534073e+00, -9.15433680e-01],\n       [-4.17201571e-02,  5.33301022e-01],\n       [-1.54903473e+00,  1.95098585e+00],\n       [-1.16943254e+00, -1.02079469e+00],\n       [ 4.55725461e-01, -1.51800140e+00],\n       [ 5.26957276e-01,  4.67350879e-01],\n       [ 1.39944136e+00, -1.42660187e+00],\n       [ 1.43465917e+00, -4.47093565e-01],\n       [ 6.36824809e-02, -8.61510727e-01],\n       [-5.96128498e-01, -6.96322254e-01],\n       [ 3.12095650e-01, -6.37174422e-01],\n       [ 1.49831566e-01, -1.17255331e+00],\n       [-9.21304562e-01, -1.64244820e-02],\n       [ 3.17913124e-01, -7.36893088e-01],\n       [-9.61843843e-01, -1.20875395e+00],\n       [ 1.94847937e-01,  1.93463901e+00],\n       [-2.81748764e+00, -1.76947830e-01],\n       [-7.80257793e-01,  9.69440687e-01],\n       [-1.46102254e+00, -1.78177302e-01],\n       [ 1.39812165e+00,  3.24180450e-01],\n       [-3.96840048e-01, -1.18220960e+00],\n       [-1.68869643e+00,  7.00093340e-01],\n       [ 5.01375977e-01, -2.65281108e-01],\n       [ 5.92234310e-01, -1.14560529e+00],\n       [ 1.59670332e+00, -1.44658528e+00],\n       [-1.12883859e+00,  2.06101728e-01],\n       [ 7.37017700e-02,  1.60068053e+00],\n       [-9.52791274e-01, -9.47128183e-01],\n       [ 1.50520840e-01, -7.10272455e-01],\n       [-8.94583137e-01, -3.69792186e-01],\n       [ 4.76006459e-01, -2.46400206e-01],\n       [ 1.25227445e+00, -1.13388886e+00],\n       [-1.47109323e+00, -1.11069297e-01],\n       [ 1.98862619e+00,  1.43951340e-01],\n       [-4.94323138e-01, -3.33442259e-01],\n       [ 1.07559119e+00,  6.46605458e-01],\n       [ 4.19315693e-01,  9.64946533e-02],\n       [ 6.72373019e-01, -1.48388841e+00],\n       [-1.06901365e+00,  5.52807704e-01],\n       [-4.78588043e-01, -7.54309679e-01],\n       [ 3.79368679e-01, -9.49438485e-01],\n       [ 8.26375519e-01,  1.27015650e-01],\n       [-1.10044533e+00, -1.29617178e+00],\n       [ 4.21925816e-01,  1.70546838e+00],\n       [-1.84429854e+00, -8.65300302e-01],\n       [ 1.25374472e+00, -1.28586805e+00],\n       [-7.32849403e-01,  4.05555402e-01],\n       [-2.05257330e+00, -8.16994010e-01],\n       [ 2.48266737e+00,  1.13458894e+00],\n       [ 1.11983213e+00, -6.44145510e-02],\n       [-1.23786666e+00, -8.58352643e-02],\n       [-4.43706203e-01, -8.65989006e-01],\n       [ 7.85655841e-01, -4.97400431e-01],\n       [ 1.90202969e-01,  5.98980990e-01],\n       [-1.00267685e+00,  1.25487407e+00],\n       [ 1.29872576e+00,  6.86272940e-01],\n       [ 2.94258656e-01,  1.88101622e+00],\n       [-5.56230930e-01,  3.57109813e-01],\n       [-9.31209162e-01, -7.38835238e-02],\n       [-4.81576867e-02,  1.81325979e+00],\n       [ 2.15906113e+00,  1.67694942e+00],\n       [ 3.84709910e+00, -2.36964242e-01],\n       [-5.85104982e-01,  2.62615721e+00],\n       [ 1.20319866e+00,  1.00684058e+00],\n       [ 1.01971583e-01, -6.98418176e-01],\n       [ 3.45731534e-01, -1.22832403e+00],\n       [-2.19425713e+00, -1.70297857e+00],\n       [-1.64387819e+00, -8.66004587e-01],\n       [-1.34583828e+00,  9.42595525e-03],\n       [-4.66049058e-01,  5.79723515e-01],\n       [ 1.13187957e+00,  8.47784796e-01],\n       [-1.76075578e+00, -2.37694245e+00],\n       [ 1.35809644e+00,  5.74075263e-01],\n       [ 4.18510755e-01, -9.96097824e-01],\n       [-1.44554454e+00,  2.18352034e+00],\n       [ 2.15098379e+00, -2.05841223e+00],\n       [ 1.04621709e+00, -1.10272302e+00],\n       [-5.04332467e-01, -1.81823116e+00],\n       [ 1.00115182e-01, -1.02457398e+00],\n       [ 3.18212506e-01, -8.77169744e-01],\n       [ 2.83886147e+00, -5.80093684e-01],\n       [ 3.17679325e-01, -1.07504787e+00],\n       [ 5.89427598e-01,  2.36220677e+00],\n       [-2.22649592e-01, -1.75687371e+00],\n       [ 1.75086329e-01, -1.41446993e-01],\n       [-4.36922370e-01,  1.34914585e+00],\n       [ 7.63140218e-01, -2.06525625e+00],\n       [-6.55083102e-01,  1.74152857e+00],\n       [ 1.18665056e+00,  4.60379180e-01],\n       [-4.85278681e-01,  1.00673408e+00],\n       [ 1.19115353e+00, -2.99070659e-01],\n       [-1.00597743e-01,  1.07238876e-01],\n       [ 1.59274080e+00, -2.36556894e-01],\n       [-1.66838197e+00, -1.46243921e+00],\n       [ 1.35129350e-01, -3.80276073e-01],\n       [ 7.82799582e-01, -1.45178526e+00],\n       [-2.03908166e+00,  1.28873895e+00],\n       [ 1.15147250e+00,  4.23198723e-01],\n       [-9.94030258e-01,  2.72519295e+00],\n       [ 3.28739686e+00, -4.37512798e-01],\n       [ 2.00305849e+00, -1.00164176e+00],\n       [-7.71402575e-01, -9.08158366e-02],\n       [-1.03003596e+00,  2.19246959e+00],\n       [-7.10194822e-01,  1.42775516e+00],\n       [-1.24416042e+00, -1.44041503e+00],\n       [ 2.15344472e+00, -5.73612252e-01],\n       [ 2.22960848e+00, -1.24159455e+00],\n       [ 3.84082233e-01, -1.26926799e+00],\n       [-1.78318402e+00, -6.23982202e-01],\n       [ 5.60986195e-01, -5.93057413e-02],\n       [-1.05860703e+00, -7.73125978e-02],\n       [-5.82041151e-01,  1.55693288e+00],\n       [ 2.71191414e+00,  6.14027972e-02],\n       [-8.50533335e-02,  4.08017391e-01],\n       [-1.03716077e+00, -1.13500885e+00],\n       [-1.57958112e+00, -1.64848869e+00],\n       [ 3.66415194e-01, -2.32862576e-01],\n       [-2.05867237e+00, -1.32675598e+00],\n       [-1.06081635e-01, -4.26446647e-01],\n       [-1.72590035e+00, -1.55993754e+00],\n       [ 6.96470842e-01, -1.93180777e+00],\n       [-1.59616513e+00,  2.35012600e-01],\n       [ 1.49011405e+00, -4.48806689e-01],\n       [ 2.03965114e+00,  3.16404962e-01],\n       [ 9.42388406e-02,  5.42865676e-01],\n       [-1.54278151e+00, -9.37870061e-02],\n       [ 1.66640578e+00,  2.27275940e-01],\n       [-1.74161168e-01,  8.94213648e-01],\n       [ 1.21614786e-01, -9.30203649e-01],\n       [-7.97721728e-01,  1.45721514e+00],\n       [ 2.50725392e+00, -1.17451636e+00],\n       [-1.45946408e+00,  4.06087389e-01],\n       [ 2.28822778e-01,  7.59191102e-01],\n       [ 8.68124395e-01,  1.97953685e+00],\n       [ 1.50004449e+00, -8.95879461e-01],\n       [-1.73688857e+00, -2.23127182e+00],\n       [ 9.41419868e-01, -5.63709725e-01],\n       [-3.93963768e-01,  5.34976404e-02],\n       [-4.04309151e-01,  6.15468455e-02],\n       [-1.60621752e+00, -8.00224017e-01],\n       [ 1.32305483e+00, -1.19220243e+00]])"
     },
     "execution_count": 35,
     "metadata": {},
     "output_type": "execute_result"
    }
   ],
   "source": [
    "draw_data"
   ],
   "metadata": {
    "collapsed": false,
    "ExecuteTime": {
     "end_time": "2023-11-29T12:37:53.146233Z",
     "start_time": "2023-11-29T12:37:53.137184600Z"
    }
   },
   "id": "28c0b48efcf58d9d"
  },
  {
   "cell_type": "code",
   "execution_count": 36,
   "outputs": [],
   "source": [
    "import matplotlib.pyplot as plt"
   ],
   "metadata": {
    "collapsed": false,
    "ExecuteTime": {
     "end_time": "2023-11-29T12:37:53.147740400Z",
     "start_time": "2023-11-29T12:37:53.145967900Z"
    }
   },
   "id": "6f5e4392676a9771"
  },
  {
   "cell_type": "code",
   "execution_count": 37,
   "outputs": [
    {
     "data": {
      "text/plain": "<matplotlib.collections.PathCollection at 0x25de7cb5450>"
     },
     "execution_count": 37,
     "metadata": {},
     "output_type": "execute_result"
    },
    {
     "data": {
      "text/plain": "<Figure size 640x480 with 1 Axes>",
      "image/png": "[encoded data removed]"
     },
     "metadata": {},
     "output_type": "display_data"
    }
   ],
   "source": [
    "plt.scatter(draw_data[:, 0], draw_data[:, 1], c=y_train[perm][:500], cmap=\"tab20\")"
   ],
   "metadata": {
    "collapsed": false,
    "ExecuteTime": {
     "end_time": "2023-11-29T12:37:53.298036500Z",
     "start_time": "2023-11-29T12:37:53.148741500Z"
    }
   },
   "id": "c31685c23179e0cb"
  },
  {
   "cell_type": "code",
   "execution_count": 40,
   "outputs": [],
   "source": [
    "x_train_extended = np.concatenate((x_train, np.sin(x_train), np.cos(x_train)), axis=1)\n",
    "x_test_extended = np.concatenate((x_test, np.sin(x_test), np.cos(x_test)), axis=1)"
   ],
   "metadata": {
    "collapsed": false,
    "ExecuteTime": {
     "end_time": "2023-11-29T12:41:54.810736400Z",
     "start_time": "2023-11-29T12:41:54.783935100Z"
    }
   },
   "id": "78e8449cabae1238"
  },
  {
   "cell_type": "code",
   "execution_count": 41,
   "outputs": [
    {
     "data": {
      "text/plain": "(11314, 300)"
     },
     "execution_count": 41,
     "metadata": {},
     "output_type": "execute_result"
    }
   ],
   "source": [
    "x_train_extended.shape"
   ],
   "metadata": {
    "collapsed": false,
    "ExecuteTime": {
     "end_time": "2023-11-29T12:42:46.834905700Z",
     "start_time": "2023-11-29T12:42:46.830875400Z"
    }
   },
   "id": "d95836e94623574d"
  },
  {
   "cell_type": "code",
   "execution_count": 43,
   "outputs": [
    {
     "name": "stdout",
     "output_type": "stream",
     "text": [
      "Precision macro: 0.599731313862988\n",
      "Recall macro: 0.5975955214510478\n",
      "F1 macro: 0.5928444777096269\n",
      "Precision micro: 0.6112586298459904\n",
      "Recall micro: 0.6112586298459904\n",
      "F1 micro: 0.6112586298459904\n",
      "Accuracy: 0.6112586298459904\n",
      "Time: 3.483166456222534\n"
     ]
    },
    {
     "data": {
      "text/plain": "SVC()",
      "text/html": "<style>#sk-container-id-9 {color: black;}#sk-container-id-9 pre{padding: 0;}#sk-container-id-9 div.sk-toggleable {background-color: white;}#sk-container-id-9 label.sk-toggleable__label {cursor: pointer;display: block;width: 100%;margin-bottom: 0;padding: 0.3em;box-sizing: border-box;text-align: center;}#sk-container-id-9 label.sk-toggleable__label-arrow:before {content: \"▸\";float: left;margin-right: 0.25em;color: #696969;}#sk-container-id-9 label.sk-toggleable__label-arrow:hover:before {color: black;}#sk-container-id-9 div.sk-estimator:hover label.sk-toggleable__label-arrow:before {color: black;}#sk-container-id-9 div.sk-toggleable__content {max-height: 0;max-width: 0;overflow: hidden;text-align: left;background-color: #f0f8ff;}#sk-container-id-9 div.sk-toggleable__content pre {margin: 0.2em;color: black;border-radius: 0.25em;background-color: #f0f8ff;}#sk-container-id-9 input.sk-toggleable__control:checked~div.sk-toggleable__content {max-height: 200px;max-width: 100%;overflow: auto;}#sk-container-id-9 input.sk-toggleable__control:checked~label.sk-toggleable__label-arrow:before {content: \"▾\";}#sk-container-id-9 div.sk-estimator input.sk-toggleable__control:checked~label.sk-toggleable__label {background-color: #d4ebff;}#sk-container-id-9 div.sk-label input.sk-toggleable__control:checked~label.sk-toggleable__label {background-color: #d4ebff;}#sk-container-id-9 input.sk-hidden--visually {border: 0;clip: rect(1px 1px 1px 1px);clip: rect(1px, 1px, 1px, 1px);height: 1px;margin: -1px;overflow: hidden;padding: 0;position: absolute;width: 1px;}#sk-container-id-9 div.sk-estimator {font-family: monospace;background-color: #f0f8ff;border: 1px dotted black;border-radius: 0.25em;box-sizing: border-box;margin-bottom: 0.5em;}#sk-container-id-9 div.sk-estimator:hover {background-color: #d4ebff;}#sk-container-id-9 div.sk-parallel-item::after {content: \"\";width: 100%;border-bottom: 1px solid gray;flex-grow: 1;}#sk-container-id-9 div.sk-label:hover label.sk-toggleable__label {background-color: #d4ebff;}#sk-container-id-9 div.sk-serial::before {content: \"\";position: absolute;border-left: 1px solid gray;box-sizing: border-box;top: 0;bottom: 0;left: 50%;z-index: 0;}#sk-container-id-9 div.sk-serial {display: flex;flex-direction: column;align-items: center;background-color: white;padding-right: 0.2em;padding-left: 0.2em;position: relative;}#sk-container-id-9 div.sk-item {position: relative;z-index: 1;}#sk-container-id-9 div.sk-parallel {display: flex;align-items: stretch;justify-content: center;background-color: white;position: relative;}#sk-container-id-9 div.sk-item::before, #sk-container-id-9 div.sk-parallel-item::before {content: \"\";position: absolute;border-left: 1px solid gray;box-sizing: border-box;top: 0;bottom: 0;left: 50%;z-index: -1;}#sk-container-id-9 div.sk-parallel-item {display: flex;flex-direction: column;z-index: 1;position: relative;background-color: white;}#sk-container-id-9 div.sk-parallel-item:first-child::after {align-self: flex-end;width: 50%;}#sk-container-id-9 div.sk-parallel-item:last-child::after {align-self: flex-start;width: 50%;}#sk-container-id-9 div.sk-parallel-item:only-child::after {width: 0;}#sk-container-id-9 div.sk-dashed-wrapped {border: 1px dashed gray;margin: 0 0.4em 0.5em 0.4em;box-sizing: border-box;padding-bottom: 0.4em;background-color: white;}#sk-container-id-9 div.sk-label label {font-family: monospace;font-weight: bold;display: inline-block;line-height: 1.2em;}#sk-container-id-9 div.sk-label-container {text-align: center;}#sk-container-id-9 div.sk-container {/* jupyter's `normalize.less` sets `[hidden] { display: none; }` but bootstrap.min.css set `[hidden] { display: none !important; }` so we also need the `!important` here to be able to override the default hidden behavior on the sphinx rendered scikit-learn.org. See: https://github.com/scikit-learn/scikit-learn/issues/21755 */display: inline-block !important;position: relative;}#sk-container-id-9 div.sk-text-repr-fallback {display: none;}</style><div id=\"sk-container-id-9\" class=\"sk-top-container\"><div class=\"sk-text-repr-fallback\"><pre>SVC()</pre><b>In a Jupyter environment, please rerun this cell to show the HTML representation or trust the notebook. <br />On GitHub, the HTML representation is unable to render, please try loading this page with nbviewer.org.</b></div><div class=\"sk-container\" hidden><div class=\"sk-item\"><div class=\"sk-estimator sk-toggleable\"><input class=\"sk-toggleable__control sk-hidden--visually\" id=\"sk-estimator-id-9\" type=\"checkbox\" checked><label for=\"sk-estimator-id-9\" class=\"sk-toggleable__label sk-toggleable__label-arrow\">SVC</label><div class=\"sk-toggleable__content\"><pre>SVC()</pre></div></div></div></div></div>"
     },
     "execution_count": 43,
     "metadata": {},
     "output_type": "execute_result"
    }
   ],
   "source": [
    "train_evaluate_model(SVC(kernel=\"rbf\"), x_train_extended, y_train, x_test_extended, y_test)"
   ],
   "metadata": {
    "collapsed": false,
    "ExecuteTime": {
     "end_time": "2023-11-29T12:43:58.536330500Z",
     "start_time": "2023-11-29T12:43:45.624699Z"
    }
   },
   "id": "5141dc5c5282dc3"
  }
 ],
 "metadata": {
  "kernelspec": {
   "display_name": "Python 3",
   "language": "python",
   "name": "python3"
  },
  "language_info": {
   "codemirror_mode": {
    "name": "ipython",
    "version": 2
   },
   "file_extension": ".py",
   "mimetype": "text/x-python",
   "name": "python",
   "nbconvert_exporter": "python",
   "pygments_lexer": "ipython2",
   "version": "2.7.6"
  }
 },
 "nbformat": 4,
 "nbformat_minor": 5
}
