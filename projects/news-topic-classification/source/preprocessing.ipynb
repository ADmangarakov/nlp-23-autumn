{
 "cells": [
  {
   "cell_type": "code",
   "execution_count": 1,
   "outputs": [],
   "source": [
    "import os\n",
    "import re\n",
    "\n",
    "from preprocessing import process_topic"
   ],
   "metadata": {
    "collapsed": false,
    "ExecuteTime": {
     "end_time": "2023-10-17T23:12:10.652677100Z",
     "start_time": "2023-10-17T23:12:10.456445100Z"
    }
   },
   "id": "325d785d68da0ce4"
  },
  {
   "cell_type": "code",
   "execution_count": 11,
   "outputs": [],
   "source": [
    "data_dir = os.path.realpath(\"../../../../data\")\n",
    "assets_dir = os.path.realpath(\"../assets/annotated_corpus\")\n",
    "train_dir = os.path.join(data_dir, \"train\")\n",
    "result_train_dir = os.path.join(assets_dir, \"train\")\n",
    "test_dir = os.path.join(data_dir, \"test\")\n",
    "result_test_dir = os.path.join(assets_dir, \"test\")\n",
    "\n",
    "topics = os.listdir(train_dir)"
   ],
   "metadata": {
    "collapsed": false,
    "ExecuteTime": {
     "end_time": "2023-10-17T23:19:39.047040200Z",
     "start_time": "2023-10-17T23:19:39.037Z"
    }
   },
   "id": "initial_id"
  },
  {
   "cell_type": "code",
   "execution_count": 12,
   "outputs": [
    {
     "data": {
      "text/plain": "['alt.atheism',\n 'comp.graphics',\n 'comp.os.ms-windows.misc',\n 'comp.sys.ibm.pc.hardware',\n 'comp.sys.mac.hardware',\n 'comp.windows.x',\n 'misc.forsale',\n 'rec.autos',\n 'rec.motorcycles',\n 'rec.sport.baseball',\n 'rec.sport.hockey',\n 'sci.crypt',\n 'sci.electronics',\n 'sci.med',\n 'sci.space',\n 'soc.religion.christian',\n 'talk.politics.guns',\n 'talk.politics.mideast',\n 'talk.politics.misc',\n 'talk.religion.misc']"
     },
     "execution_count": 12,
     "metadata": {},
     "output_type": "execute_result"
    }
   ],
   "source": [
    "topics"
   ],
   "metadata": {
    "collapsed": false,
    "ExecuteTime": {
     "end_time": "2023-10-17T23:19:39.199863900Z",
     "start_time": "2023-10-17T23:19:39.195152200Z"
    }
   },
   "id": "2d25e60988bb914c"
  },
  {
   "cell_type": "code",
   "execution_count": 13,
   "outputs": [],
   "source": [
    "with open(\"../assets/topics.txt\", \"w\") as f:\n",
    "    print(\"\\n\".join(topics), file=f)"
   ],
   "metadata": {
    "collapsed": false,
    "ExecuteTime": {
     "end_time": "2023-10-17T23:19:39.359454700Z",
     "start_time": "2023-10-17T23:19:39.356699100Z"
    }
   },
   "id": "95e17e498efccb26"
  },
  {
   "cell_type": "code",
   "execution_count": null,
   "outputs": [],
   "source": [
    "for t in topics:\n",
    "    process_topic(train_dir, result_train_dir, t)"
   ],
   "metadata": {
    "collapsed": false,
    "is_executing": true,
    "ExecuteTime": {
     "start_time": "2023-10-17T23:19:40.163863500Z"
    }
   },
   "id": "29920e5c454fe7ac"
  },
  {
   "cell_type": "code",
   "execution_count": null,
   "outputs": [],
   "source": [
    "for t in topics:\n",
    "    process_topic(test_dir, result_test_dir, t)"
   ],
   "metadata": {
    "collapsed": false,
    "is_executing": true
   },
   "id": "74ea208ed67835a9"
  },
  {
   "cell_type": "code",
   "execution_count": null,
   "outputs": [],
   "source": [],
   "metadata": {
    "collapsed": false
   },
   "id": "adcbd6e9d8cc0ab3"
  }
 ],
 "metadata": {
  "kernelspec": {
   "display_name": "Python 3",
   "language": "python",
   "name": "python3"
  },
  "language_info": {
   "codemirror_mode": {
    "name": "ipython",
    "version": 2
   },
   "file_extension": ".py",
   "mimetype": "text/x-python",
   "name": "python",
   "nbconvert_exporter": "python",
   "pygments_lexer": "ipython2",
   "version": "2.7.6"
  }
 },
 "nbformat": 4,
 "nbformat_minor": 5
}
