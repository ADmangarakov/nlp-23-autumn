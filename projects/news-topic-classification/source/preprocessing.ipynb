{
 "cells": [
  {
   "cell_type": "code",
   "execution_count": 1,
   "outputs": [],
   "source": [
    "import os\n",
    "import re"
   ],
   "metadata": {
    "collapsed": false,
    "ExecuteTime": {
     "end_time": "2023-10-04T14:34:22.198637300Z",
     "start_time": "2023-10-04T14:34:22.152615300Z"
    }
   },
   "id": "325d785d68da0ce4"
  },
  {
   "cell_type": "code",
   "execution_count": 2,
   "outputs": [],
   "source": [
    "data_dir = \"../../../../data\"\n",
    "train_dir = os.path.join(data_dir, \"train\")\n",
    "\n",
    "topics = os.listdir(train_dir)"
   ],
   "metadata": {
    "collapsed": false,
    "ExecuteTime": {
     "end_time": "2023-10-04T14:34:23.539993600Z",
     "start_time": "2023-10-04T14:34:23.486676400Z"
    }
   },
   "id": "initial_id"
  },
  {
   "cell_type": "code",
   "execution_count": 3,
   "outputs": [
    {
     "data": {
      "text/plain": "['alt.atheism',\n 'comp.graphics',\n 'comp.os.ms-windows.misc',\n 'comp.sys.ibm.pc.hardware',\n 'comp.sys.mac.hardware',\n 'comp.windows.x',\n 'misc.forsale',\n 'rec.autos',\n 'rec.motorcycles',\n 'rec.sport.baseball',\n 'rec.sport.hockey',\n 'sci.crypt',\n 'sci.electronics',\n 'sci.med',\n 'sci.space',\n 'soc.religion.christian',\n 'talk.politics.guns',\n 'talk.politics.mideast',\n 'talk.politics.misc',\n 'talk.religion.misc']"
     },
     "execution_count": 3,
     "metadata": {},
     "output_type": "execute_result"
    }
   ],
   "source": [
    "topics"
   ],
   "metadata": {
    "collapsed": false,
    "ExecuteTime": {
     "end_time": "2023-10-04T14:34:24.880735200Z",
     "start_time": "2023-10-04T14:34:24.765393500Z"
    }
   },
   "id": "2d25e60988bb914c"
  },
  {
   "cell_type": "code",
   "execution_count": 4,
   "outputs": [
    {
     "ename": "FileNotFoundError",
     "evalue": "[Errno 2] No such file or directory: '../assets/topics.txt'",
     "output_type": "error",
     "traceback": [
      "\u001B[1;31m---------------------------------------------------------------------------\u001B[0m",
      "\u001B[1;31mFileNotFoundError\u001B[0m                         Traceback (most recent call last)",
      "Cell \u001B[1;32mIn[4], line 1\u001B[0m\n\u001B[1;32m----> 1\u001B[0m \u001B[38;5;28;01mwith\u001B[39;00m \u001B[38;5;28mopen\u001B[39m(\u001B[38;5;124m\"\u001B[39m\u001B[38;5;124m../assets/topics.txt\u001B[39m\u001B[38;5;124m\"\u001B[39m, \u001B[38;5;124m\"\u001B[39m\u001B[38;5;124mw\u001B[39m\u001B[38;5;124m\"\u001B[39m) \u001B[38;5;28;01mas\u001B[39;00m f:\n\u001B[0;32m      2\u001B[0m     \u001B[38;5;28mprint\u001B[39m(\u001B[38;5;124m\"\u001B[39m\u001B[38;5;130;01m\\n\u001B[39;00m\u001B[38;5;124m\"\u001B[39m\u001B[38;5;241m.\u001B[39mjoin(topics), file\u001B[38;5;241m=\u001B[39mf)\n",
      "File \u001B[1;32m~\\miniconda3\\envs\\NLP\\Lib\\site-packages\\IPython\\core\\interactiveshell.py:286\u001B[0m, in \u001B[0;36m_modified_open\u001B[1;34m(file, *args, **kwargs)\u001B[0m\n\u001B[0;32m    279\u001B[0m \u001B[38;5;28;01mif\u001B[39;00m file \u001B[38;5;129;01min\u001B[39;00m {\u001B[38;5;241m0\u001B[39m, \u001B[38;5;241m1\u001B[39m, \u001B[38;5;241m2\u001B[39m}:\n\u001B[0;32m    280\u001B[0m     \u001B[38;5;28;01mraise\u001B[39;00m \u001B[38;5;167;01mValueError\u001B[39;00m(\n\u001B[0;32m    281\u001B[0m         \u001B[38;5;124mf\u001B[39m\u001B[38;5;124m\"\u001B[39m\u001B[38;5;124mIPython won\u001B[39m\u001B[38;5;124m'\u001B[39m\u001B[38;5;124mt let you open fd=\u001B[39m\u001B[38;5;132;01m{\u001B[39;00mfile\u001B[38;5;132;01m}\u001B[39;00m\u001B[38;5;124m by default \u001B[39m\u001B[38;5;124m\"\u001B[39m\n\u001B[0;32m    282\u001B[0m         \u001B[38;5;124m\"\u001B[39m\u001B[38;5;124mas it is likely to crash IPython. If you know what you are doing, \u001B[39m\u001B[38;5;124m\"\u001B[39m\n\u001B[0;32m    283\u001B[0m         \u001B[38;5;124m\"\u001B[39m\u001B[38;5;124myou can use builtins\u001B[39m\u001B[38;5;124m'\u001B[39m\u001B[38;5;124m open.\u001B[39m\u001B[38;5;124m\"\u001B[39m\n\u001B[0;32m    284\u001B[0m     )\n\u001B[1;32m--> 286\u001B[0m \u001B[38;5;28;01mreturn\u001B[39;00m io_open(file, \u001B[38;5;241m*\u001B[39margs, \u001B[38;5;241m*\u001B[39m\u001B[38;5;241m*\u001B[39mkwargs)\n",
      "\u001B[1;31mFileNotFoundError\u001B[0m: [Errno 2] No such file or directory: '../assets/topics.txt'"
     ]
    }
   ],
   "source": [
    "with open(\"../assets/topics.txt\", \"w\") as f:\n",
    "    print(\"\\n\".join(topics), file=f)"
   ],
   "metadata": {
    "collapsed": false,
    "ExecuteTime": {
     "end_time": "2023-10-04T14:34:27.000012100Z",
     "start_time": "2023-10-04T14:34:26.048441700Z"
    }
   },
   "id": "95e17e498efccb26"
  },
  {
   "cell_type": "code",
   "execution_count": 5,
   "outputs": [],
   "source": [
    "topic_dir = os.path.join(train_dir, topics[0])"
   ],
   "metadata": {
    "collapsed": false,
    "ExecuteTime": {
     "end_time": "2023-10-04T14:34:49.079336100Z",
     "start_time": "2023-10-04T14:34:49.021323400Z"
    }
   },
   "id": "29920e5c454fe7ac"
  },
  {
   "cell_type": "code",
   "execution_count": 6,
   "outputs": [
    {
     "name": "stdout",
     "output_type": "stream",
     "text": [
      "../../../../data\\train\\alt.atheism\n"
     ]
    }
   ],
   "source": [
    "print(topic_dir)"
   ],
   "metadata": {
    "collapsed": false,
    "ExecuteTime": {
     "end_time": "2023-10-04T14:34:50.145518400Z",
     "start_time": "2023-10-04T14:34:50.084735900Z"
    }
   },
   "id": "74ea208ed67835a9"
  },
  {
   "cell_type": "code",
   "execution_count": 7,
   "outputs": [],
   "source": [
    "files = os.listdir(topic_dir)"
   ],
   "metadata": {
    "collapsed": false,
    "ExecuteTime": {
     "end_time": "2023-10-04T14:34:54.727045200Z",
     "start_time": "2023-10-04T14:34:54.653239Z"
    }
   },
   "id": "4ef4da4a4db23fe2"
  },
  {
   "cell_type": "code",
   "execution_count": 8,
   "outputs": [
    {
     "data": {
      "text/plain": "['49960',\n '51060',\n '51119',\n '51120',\n '51121',\n '51122',\n '51123',\n '51124',\n '51125',\n '51126',\n '51127',\n '51128',\n '51130',\n '51131',\n '51132',\n '51133',\n '51134',\n '51135',\n '51136',\n '51139',\n '51140',\n '51141',\n '51142',\n '51143',\n '51144',\n '51145',\n '51146',\n '51147',\n '51148',\n '51149',\n '51150',\n '51151',\n '51152',\n '51153',\n '51154',\n '51155',\n '51156',\n '51157',\n '51158',\n '51159',\n '51160',\n '51161',\n '51162',\n '51163',\n '51164',\n '51165',\n '51169',\n '51170',\n '51171',\n '51172',\n '51173',\n '51174',\n '51175',\n '51176',\n '51177',\n '51178',\n '51179',\n '51180',\n '51181',\n '51182',\n '51183',\n '51184',\n '51185',\n '51186',\n '51187',\n '51188',\n '51189',\n '51190',\n '51191',\n '51192',\n '51193',\n '51194',\n '51195',\n '51196',\n '51197',\n '51198',\n '51199',\n '51200',\n '51201',\n '51202',\n '51203',\n '51204',\n '51205',\n '51206',\n '51208',\n '51209',\n '51210',\n '51211',\n '51212',\n '51213',\n '51214',\n '51215',\n '51216',\n '51217',\n '51218',\n '51219',\n '51220',\n '51221',\n '51222',\n '51223',\n '51224',\n '51225',\n '51226',\n '51227',\n '51228',\n '51229',\n '51230',\n '51231',\n '51232',\n '51233',\n '51234',\n '51235',\n '51236',\n '51237',\n '51238',\n '51239',\n '51240',\n '51241',\n '51242',\n '51243',\n '51244',\n '51245',\n '51246',\n '51247',\n '51249',\n '51250',\n '51251',\n '51252',\n '51253',\n '51254',\n '51255',\n '51256',\n '51258',\n '51259',\n '51260',\n '51261',\n '51262',\n '51265',\n '51266',\n '51267',\n '51268',\n '51269',\n '51270',\n '51271',\n '51272',\n '51273',\n '51274',\n '51275',\n '51276',\n '51277',\n '51278',\n '51279',\n '51280',\n '51281',\n '51282',\n '51283',\n '51284',\n '51285',\n '51286',\n '51287',\n '51288',\n '51290',\n '51291',\n '51292',\n '51293',\n '51294',\n '51295',\n '51296',\n '51297',\n '51298',\n '51299',\n '51300',\n '51301',\n '51302',\n '51303',\n '51304',\n '51305',\n '51306',\n '51307',\n '51308',\n '51309',\n '51310',\n '51311',\n '51312',\n '51313',\n '51314',\n '51315',\n '51316',\n '51317',\n '51318',\n '51319',\n '51320',\n '52499',\n '52909',\n '52910',\n '53055',\n '53056',\n '53057',\n '53058',\n '53059',\n '53062',\n '53064',\n '53065',\n '53066',\n '53067',\n '53069',\n '53070',\n '53071',\n '53072',\n '53073',\n '53075',\n '53078',\n '53081',\n '53082',\n '53083',\n '53085',\n '53086',\n '53087',\n '53090',\n '53093',\n '53094',\n '53095',\n '53096',\n '53097',\n '53098',\n '53099',\n '53106',\n '53108',\n '53110',\n '53111',\n '53112',\n '53113',\n '53114',\n '53117',\n '53118',\n '53120',\n '53121',\n '53122',\n '53123',\n '53124',\n '53125',\n '53126',\n '53127',\n '53130',\n '53131',\n '53132',\n '53133',\n '53134',\n '53135',\n '53136',\n '53137',\n '53139',\n '53140',\n '53141',\n '53142',\n '53143',\n '53144',\n '53145',\n '53149',\n '53150',\n '53151',\n '53153',\n '53154',\n '53157',\n '53158',\n '53159',\n '53160',\n '53161',\n '53162',\n '53163',\n '53164',\n '53165',\n '53166',\n '53167',\n '53168',\n '53170',\n '53171',\n '53172',\n '53173',\n '53174',\n '53175',\n '53176',\n '53177',\n '53178',\n '53179',\n '53180',\n '53181',\n '53182',\n '53183',\n '53184',\n '53185',\n '53186',\n '53187',\n '53188',\n '53190',\n '53191',\n '53192',\n '53193',\n '53194',\n '53195',\n '53196',\n '53197',\n '53198',\n '53199',\n '53201',\n '53203',\n '53208',\n '53209',\n '53210',\n '53211',\n '53212',\n '53213',\n '53214',\n '53215',\n '53216',\n '53217',\n '53218',\n '53219',\n '53220',\n '53221',\n '53222',\n '53223',\n '53224',\n '53225',\n '53226',\n '53228',\n '53229',\n '53230',\n '53231',\n '53232',\n '53235',\n '53237',\n '53238',\n '53239',\n '53240',\n '53243',\n '53248',\n '53249',\n '53250',\n '53251',\n '53252',\n '53256',\n '53258',\n '53266',\n '53267',\n '53269',\n '53271',\n '53274',\n '53275',\n '53281',\n '53282',\n '53283',\n '53284',\n '53285',\n '53286',\n '53287',\n '53288',\n '53289',\n '53290',\n '53292',\n '53298',\n '53303',\n '53304',\n '53305',\n '53306',\n '53307',\n '53308',\n '53309',\n '53311',\n '53312',\n '53314',\n '53323',\n '53334',\n '53347',\n '53351',\n '53366',\n '53370',\n '53371',\n '53373',\n '53374',\n '53375',\n '53376',\n '53377',\n '53380',\n '53381',\n '53382',\n '53383',\n '53387',\n '53389',\n '53390',\n '53391',\n '53434',\n '53435',\n '53436',\n '53437',\n '53438',\n '53439',\n '53440',\n '53441',\n '53442',\n '53443',\n '53445',\n '53449',\n '53459',\n '53460',\n '53465',\n '53466',\n '53467',\n '53468',\n '53471',\n '53477',\n '53478',\n '53483',\n '53509',\n '53510',\n '53512',\n '53515',\n '53518',\n '53519',\n '53521',\n '53522',\n '53523',\n '53524',\n '53525',\n '53526',\n '53527',\n '53528',\n '53529',\n '53531',\n '53532',\n '53533',\n '53534',\n '53535',\n '53571',\n '53572',\n '53573',\n '53574',\n '53654',\n '53655',\n '53656',\n '53660',\n '53661',\n '53753',\n '53754',\n '53755',\n '53756',\n '53757',\n '53758',\n '53759',\n '53760',\n '53761',\n '53762',\n '53763',\n '53764',\n '53765',\n '53766',\n '53780',\n '53785',\n '54165',\n '54166',\n '54167',\n '54168',\n '54178',\n '54179',\n '54180',\n '54181',\n '54182',\n '54198',\n '54199',\n '54200',\n '54201',\n '54202',\n '54203',\n '54204',\n '54227',\n '54228',\n '54470',\n '54471',\n '54472',\n '54473']"
     },
     "execution_count": 8,
     "metadata": {},
     "output_type": "execute_result"
    }
   ],
   "source": [
    "files"
   ],
   "metadata": {
    "collapsed": false,
    "ExecuteTime": {
     "end_time": "2023-10-04T14:34:55.753373700Z",
     "start_time": "2023-10-04T14:34:55.711640800Z"
    }
   },
   "id": "ace0dad9b2674a48"
  },
  {
   "cell_type": "code",
   "execution_count": 91,
   "outputs": [],
   "source": [
    "with open(os.path.join(topic_dir, files[0])) as f:\n",
    "    lines = f.readlines()\n",
    "counter = 0\n",
    "headers = {}\n",
    "for l in lines:\n",
    "    l_split = l.split(\": \", 1)\n",
    "    if len(l_split) == 2:\n",
    "        headers[l_split[0]] = l_split[1]\n",
    "        counter += 1\n",
    "    elif l == \"\\n\":\n",
    "        counter += 1\n",
    "    else:\n",
    "        break\n",
    "raw = \"\".join(lines[counter:]).replace(\"\\n\", \" \")"
   ],
   "metadata": {
    "collapsed": false,
    "ExecuteTime": {
     "end_time": "2023-10-04T16:22:52.277526500Z",
     "start_time": "2023-10-04T16:22:52.246843500Z"
    }
   },
   "id": "97a9e04263662175"
  },
  {
   "cell_type": "code",
   "execution_count": 92,
   "outputs": [
    {
     "data": {
      "text/plain": "{'From': 'mathew <mathew@mantis.co.uk>\\n',\n 'Subject': 'Alt.Atheism FAQ: Atheist Resources\\n',\n 'Summary': 'Books, addresses, music -- anything related to atheism\\n',\n 'Keywords': 'FAQ, atheism, books, music, fiction, addresses, contacts\\n',\n 'Expires': 'Thu, 29 Apr 1993 11:57:19 GMT\\n',\n 'Distribution': 'world\\n',\n 'Organization': 'Mantis Consultants, Cambridge. UK.\\n',\n 'Supersedes': '<19930301143317@mantis.co.uk>\\n',\n 'Lines': '290\\n',\n 'Archive-name': 'atheism/resources\\n',\n 'Alt-atheism-archive-name': 'resources\\n',\n 'Last-modified': '11 December 1992\\n',\n 'Version': '1.0\\n'}"
     },
     "execution_count": 92,
     "metadata": {},
     "output_type": "execute_result"
    }
   ],
   "source": [
    "headers"
   ],
   "metadata": {
    "collapsed": false,
    "ExecuteTime": {
     "end_time": "2023-10-04T16:22:53.123267Z",
     "start_time": "2023-10-04T16:22:53.091513Z"
    }
   },
   "id": "33abbb5d10ebac7c"
  },
  {
   "cell_type": "code",
   "execution_count": 93,
   "outputs": [
    {
     "data": {
      "text/plain": "'                              Atheist Resources\\n\\n                      Addresses of Atheist Organizations\\n\\n                                     USA\\n\\nFREEDOM FROM RELIGION FOUNDATION\\n\\nDarwin fish bumper stickers and assorted other atheist paraphernalia are\\navailable from the Freedom From Religion Foundation in the US.\\n\\nWrite to:  FFRF, P.O. Box 750, Madison, WI 53701.\\nTelephone: (608) 256-8900\\n\\nEVOLUTION DESIGNS\\n\\nEvolution Designs sell the \"Darwin fish\".  It\\'s a fish symbol, like the ones\\nChristians stick on their cars, but with feet and the word \"Darwin\" written\\ninside.  The deluxe moulded 3D plastic fish is $4.95 postpaid in the US.\\n\\nWrite to:  Evolution Designs, 7119 Laurel Canyon #4, North Hollywood,\\n           CA 91605.\\n\\nPeople in the San Francisco Bay area can get Darwin Fish from Lynn Gold --\\ntry mailing <figmo@netcom.com>.  For net people who go to Lynn directly, the\\nprice is $4.95 per fish.\\n\\nAMERICAN ATHEIST PRESS\\n\\nAAP publish various atheist books -- critiques of the Bible, lists of\\nBiblical contradictions, and so on.  One such book is:\\n\\n\"The Bible Handbook\" by W.P. Ball and G.W. Foote.  American Atheist Press.\\n372 pp.  ISBN 0-910309-26-4, 2nd edition, 1986.  Bible contradictions,\\nabsurdities, atrocities, immoralities... contains Ball, Foote: \"The Bible\\nContradicts Itself\", AAP.  Based on the King James version of the Bible.\\n\\nWrite to:  American Atheist Press, P.O. Box 140195, Austin, TX 78714-0195.\\n      or:  7215 Cameron Road, Austin, TX 78752-2973.\\nTelephone: (512) 458-1244\\nFax:       (512) 467-9525\\n\\nPROMETHEUS BOOKS\\n\\nSell books including Haught\\'s \"Holy Horrors\" (see below).\\n\\nWrite to:  700 East Amherst Street, Buffalo, New York 14215.\\nTelephone: (716) 837-2475.\\n\\nAn alternate address (which may be newer or older) is:\\nPrometheus Books, 59 Glenn Drive, Buffalo, NY 14228-2197.\\n\\nAFRICAN-AMERICANS FOR HUMANISM\\n\\nAn organization promoting black secular humanism and uncovering the history of\\nblack freethought.  They publish a quarterly newsletter, AAH EXAMINER.\\n\\nWrite to:  Norm R. Allen, Jr., African Americans for Humanism, P.O. Box 664,\\n           Buffalo, NY 14226.\\n\\n                                United Kingdom\\n\\nRationalist Press Association          National Secular Society\\n88 Islington High Street               702 Holloway Road\\nLondon N1 8EW                          London N19 3NL\\n071 226 7251                           071 272 1266\\n\\nBritish Humanist Association           South Place Ethical Society\\n14 Lamb\\'s Conduit Passage              Conway Hall\\nLondon WC1R 4RH                        Red Lion Square\\n071 430 0908                           London WC1R 4RL\\nfax 071 430 1271                       071 831 7723\\n\\nThe National Secular Society publish \"The Freethinker\", a monthly magazine\\nfounded in 1881.\\n\\n                                   Germany\\n\\nIBKA e.V.\\nInternationaler Bund der Konfessionslosen und Atheisten\\nPostfach 880, D-1000 Berlin 41. Germany.\\n\\nIBKA publish a journal:\\nMIZ. (Materialien und Informationen zur Zeit. Politisches\\nJournal der Konfessionslosesn und Atheisten. Hrsg. IBKA e.V.)\\nMIZ-Vertrieb, Postfach 880, D-1000 Berlin 41. Germany.\\n\\nFor atheist books, write to:\\n\\nIBDK, Internationaler B\"ucherdienst der Konfessionslosen\\nPostfach 3005, D-3000 Hannover 1. Germany.\\nTelephone: 0511/211216\\n\\n\\n                               Books -- Fiction\\n\\nTHOMAS M. DISCH\\n\\n\"The Santa Claus Compromise\"\\nShort story.  The ultimate proof that Santa exists.  All characters and \\nevents are fictitious.  Any similarity to living or dead gods -- uh, well...\\n\\nWALTER M. MILLER, JR\\n\\n\"A Canticle for Leibowitz\"\\nOne gem in this post atomic doomsday novel is the monks who spent their lives\\ncopying blueprints from \"Saint Leibowitz\", filling the sheets of paper with\\nink and leaving white lines and letters.\\n\\nEDGAR PANGBORN\\n\\n\"Davy\"\\nPost atomic doomsday novel set in clerical states.  The church, for example,\\nforbids that anyone \"produce, describe or use any substance containing...\\natoms\". \\n\\nPHILIP K. DICK\\n\\nPhilip K. Dick Dick wrote many philosophical and thought-provoking short \\nstories and novels.  His stories are bizarre at times, but very approachable.\\nHe wrote mainly SF, but he wrote about people, truth and religion rather than\\ntechnology.  Although he often believed that he had met some sort of God, he\\nremained sceptical.  Amongst his novels, the following are of some relevance:\\n\\n\"Galactic Pot-Healer\"\\nA fallible alien deity summons a group of Earth craftsmen and women to a\\nremote planet to raise a giant cathedral from beneath the oceans.  When the\\ndeity begins to demand faith from the earthers, pot-healer Joe Fernwright is\\nunable to comply.  A polished, ironic and amusing novel.\\n\\n\"A Maze of Death\"\\nNoteworthy for its description of a technology-based religion.\\n\\n\"VALIS\"\\nThe schizophrenic hero searches for the hidden mysteries of Gnostic\\nChristianity after reality is fired into his brain by a pink laser beam of\\nunknown but possibly divine origin.  He is accompanied by his dogmatic and\\ndismissively atheist friend and assorted other odd characters.\\n\\n\"The Divine Invasion\"\\nGod invades Earth by making a young woman pregnant as she returns from\\nanother star system.  Unfortunately she is terminally ill, and must be\\nassisted by a dead man whose brain is wired to 24-hour easy listening music.\\n\\nMARGARET ATWOOD\\n\\n\"The Handmaid\\'s Tale\"\\nA story based on the premise that the US Congress is mysteriously\\nassassinated, and fundamentalists quickly take charge of the nation to set it\\n\"right\" again.  The book is the diary of a woman\\'s life as she tries to live\\nunder the new Christian theocracy.  Women\\'s right to own property is revoked,\\nand their bank accounts are closed; sinful luxuries are outlawed, and the\\nradio is only used for readings from the Bible.  Crimes are punished\\nretroactively: doctors who performed legal abortions in the \"old world\" are\\nhunted down and hanged.  Atwood\\'s writing style is difficult to get used to\\nat first, but the tale grows more and more chilling as it goes on.\\n\\nVARIOUS AUTHORS\\n\\n\"The Bible\"\\nThis somewhat dull and rambling work has often been criticized.  However, it\\nis probably worth reading, if only so that you\\'ll know what all the fuss is\\nabout.  It exists in many different versions, so make sure you get the one\\ntrue version.\\n\\n                             Books -- Non-fiction\\n\\nPETER DE ROSA\\n\\n\"Vicars of Christ\", Bantam Press, 1988\\nAlthough de Rosa seems to be Christian or even Catholic this is a very\\nenlighting history of papal immoralities, adulteries, fallacies etc.\\n(German translation: \"Gottes erste Diener. Die dunkle Seite des Papsttums\",\\nDroemer-Knaur, 1989)\\n\\nMICHAEL MARTIN\\n\\n\"Atheism: A Philosophical Justification\", Temple University Press,\\n Philadelphia, USA.\\nA detailed and scholarly justification of atheism.  Contains an outstanding\\nappendix defining terminology and usage in this (necessarily) tendentious\\narea.  Argues both for \"negative atheism\" (i.e. the \"non-belief in the\\nexistence of god(s)\") and also for \"positive atheism\" (\"the belief in the\\nnon-existence of god(s)\").  Includes great refutations of the most\\nchallenging arguments for god; particular attention is paid to refuting\\ncontempory theists such as Platinga and Swinburne.\\n541 pages. ISBN 0-87722-642-3 (hardcover; paperback also available)\\n\\n\"The Case Against Christianity\", Temple University Press\\nA comprehensive critique of Christianity, in which he considers\\nthe best contemporary defences of Christianity and (ultimately)\\ndemonstrates that they are unsupportable and/or incoherent.\\n273 pages. ISBN 0-87722-767-5\\n\\nJAMES TURNER\\n\\n\"Without God, Without Creed\", The Johns Hopkins University Press, Baltimore,\\n MD, USA\\nSubtitled \"The Origins of Unbelief in America\".  Examines the way in which\\nunbelief (whether agnostic or atheistic)  became a mainstream alternative\\nworld-view.  Focusses on the period 1770-1900, and while considering France\\nand Britain the emphasis is on American, and particularly New England\\ndevelopments.  \"Neither a religious history of secularization or atheism,\\nWithout God, Without Creed is, rather, the intellectual history of the fate\\nof a single idea, the belief that God exists.\" \\n316 pages. ISBN (hardcover) 0-8018-2494-X (paper) 0-8018-3407-4\\n\\nGEORGE SELDES (Editor)\\n\\n\"The great thoughts\", Ballantine Books, New York, USA\\nA \"dictionary of quotations\" of a different kind, concentrating on statements\\nand writings which, explicitly or implicitly, present the person\\'s philosophy\\nand world-view.  Includes obscure (and often suppressed) opinions from many\\npeople.  For some popular observations, traces the way in which various\\npeople expressed and twisted the idea over the centuries.  Quite a number of\\nthe quotations are derived from Cardiff\\'s \"What Great Men Think of Religion\"\\nand Noyes\\' \"Views of Religion\".\\n490 pages. ISBN (paper) 0-345-29887-X.\\n\\nRICHARD SWINBURNE\\n\\n\"The Existence of God (Revised Edition)\", Clarendon Paperbacks, Oxford\\nThis book is the second volume in a trilogy that began with \"The Coherence of\\nTheism\" (1977) and was concluded with \"Faith and Reason\" (1981).  In this\\nwork, Swinburne attempts to construct a series of inductive arguments for the\\nexistence of God.  His arguments, which are somewhat tendentious and rely\\nupon the imputation of late 20th century western Christian values and\\naesthetics to a God which is supposedly as simple as can be conceived, were\\ndecisively rejected in Mackie\\'s \"The Miracle of Theism\".  In the revised\\nedition of \"The Existence of God\", Swinburne includes an Appendix in which he\\nmakes a somewhat incoherent attempt to rebut Mackie.\\n\\nJ. L. MACKIE\\n\\n\"The Miracle of Theism\", Oxford\\nThis (posthumous) volume contains a comprehensive review of the principal\\narguments for and against the existence of God.  It ranges from the classical\\nphilosophical positions of Descartes, Anselm, Berkeley, Hume et al, through\\nthe moral arguments of Newman, Kant and Sidgwick, to the recent restatements\\nof the classical theses by Plantinga and Swinburne.  It also addresses those\\npositions which push the concept of God beyond the realm of the rational,\\nsuch as those of Kierkegaard, Kung and Philips, as well as \"replacements for\\nGod\" such as Lelie\\'s axiarchism.  The book is a delight to read - less\\nformalistic and better written than Martin\\'s works, and refreshingly direct\\nwhen compared with the hand-waving of Swinburne.\\n\\nJAMES A. HAUGHT\\n\\n\"Holy Horrors: An Illustrated History of Religious Murder and Madness\",\\n Prometheus Books\\nLooks at religious persecution from ancient times to the present day -- and\\nnot only by Christians.\\nLibrary of Congress Catalog Card Number 89-64079. 1990.\\n\\nNORM R. ALLEN, JR.\\n\\n\"African American Humanism: an Anthology\"\\nSee the listing for African Americans for Humanism above.\\n\\nGORDON STEIN\\n\\n\"An Anthology of Atheism and Rationalism\", Prometheus Books\\nAn anthology covering a wide range of subjects, including \\'The Devil, Evil\\nand Morality\\' and \\'The History of Freethought\\'.  Comprehensive bibliography.\\n\\nEDMUND D. COHEN\\n\\n\"The Mind of The Bible-Believer\", Prometheus Books\\nA study of why people become Christian fundamentalists, and what effect it\\nhas on them.\\n\\n                                Net Resources\\n\\nThere\\'s a small mail-based archive server at mantis.co.uk which carries\\narchives of old alt.atheism.moderated articles and assorted other files.  For\\nmore information, send mail to archive-server@mantis.co.uk saying\\n\\n   help\\n   send atheism/index\\n\\nand it will mail back a reply.\\n\\n\\nmathew\\nя\\n'"
     },
     "execution_count": 93,
     "metadata": {},
     "output_type": "execute_result"
    }
   ],
   "source": [
    "raw "
   ],
   "metadata": {
    "collapsed": false,
    "ExecuteTime": {
     "end_time": "2023-10-04T16:22:54.767003700Z",
     "start_time": "2023-10-04T16:22:54.738579700Z"
    }
   },
   "id": "9c5629202262655e"
  },
  {
   "cell_type": "code",
   "execution_count": 94,
   "outputs": [],
   "source": [
    "raw = re.sub(r\"\\s{2,}|\\t+\", \" \", raw)\n",
    "raw = re.sub(r\"^\\s\", \"\", raw)"
   ],
   "metadata": {
    "collapsed": false,
    "ExecuteTime": {
     "end_time": "2023-10-04T16:23:58.077649500Z",
     "start_time": "2023-10-04T16:23:58.043267900Z"
    }
   },
   "id": "f0decbe003ab7693"
  },
  {
   "cell_type": "code",
   "execution_count": 95,
   "outputs": [
    {
     "data": {
      "text/plain": "'Atheist Resources Addresses of Atheist Organizations USA FREEDOM FROM RELIGION FOUNDATION Darwin fish bumper stickers and assorted other atheist paraphernalia are\\navailable from the Freedom From Religion Foundation in the US. Write to: FFRF, P.O. Box 750, Madison, WI 53701.\\nTelephone: (608) 256-8900 EVOLUTION DESIGNS Evolution Designs sell the \"Darwin fish\". It\\'s a fish symbol, like the ones\\nChristians stick on their cars, but with feet and the word \"Darwin\" written\\ninside. The deluxe moulded 3D plastic fish is $4.95 postpaid in the US. Write to: Evolution Designs, 7119 Laurel Canyon #4, North Hollywood, CA 91605. People in the San Francisco Bay area can get Darwin Fish from Lynn Gold --\\ntry mailing <figmo@netcom.com>. For net people who go to Lynn directly, the\\nprice is $4.95 per fish. AMERICAN ATHEIST PRESS AAP publish various atheist books -- critiques of the Bible, lists of\\nBiblical contradictions, and so on. One such book is: \"The Bible Handbook\" by W.P. Ball and G.W. Foote. American Atheist Press.\\n372 pp. ISBN 0-910309-26-4, 2nd edition, 1986. Bible contradictions,\\nabsurdities, atrocities, immoralities... contains Ball, Foote: \"The Bible\\nContradicts Itself\", AAP. Based on the King James version of the Bible. Write to: American Atheist Press, P.O. Box 140195, Austin, TX 78714-0195. or: 7215 Cameron Road, Austin, TX 78752-2973.\\nTelephone: (512) 458-1244\\nFax: (512) 467-9525 PROMETHEUS BOOKS Sell books including Haught\\'s \"Holy Horrors\" (see below). Write to: 700 East Amherst Street, Buffalo, New York 14215.\\nTelephone: (716) 837-2475. An alternate address (which may be newer or older) is:\\nPrometheus Books, 59 Glenn Drive, Buffalo, NY 14228-2197. AFRICAN-AMERICANS FOR HUMANISM An organization promoting black secular humanism and uncovering the history of\\nblack freethought. They publish a quarterly newsletter, AAH EXAMINER. Write to: Norm R. Allen, Jr., African Americans for Humanism, P.O. Box 664, Buffalo, NY 14226. United Kingdom Rationalist Press Association National Secular Society\\n88 Islington High Street 702 Holloway Road\\nLondon N1 8EW London N19 3NL\\n071 226 7251 071 272 1266 British Humanist Association South Place Ethical Society\\n14 Lamb\\'s Conduit Passage Conway Hall\\nLondon WC1R 4RH Red Lion Square\\n071 430 0908 London WC1R 4RL\\nfax 071 430 1271 071 831 7723 The National Secular Society publish \"The Freethinker\", a monthly magazine\\nfounded in 1881. Germany IBKA e.V.\\nInternationaler Bund der Konfessionslosen und Atheisten\\nPostfach 880, D-1000 Berlin 41. Germany. IBKA publish a journal:\\nMIZ. (Materialien und Informationen zur Zeit. Politisches\\nJournal der Konfessionslosesn und Atheisten. Hrsg. IBKA e.V.)\\nMIZ-Vertrieb, Postfach 880, D-1000 Berlin 41. Germany. For atheist books, write to: IBDK, Internationaler B\"ucherdienst der Konfessionslosen\\nPostfach 3005, D-3000 Hannover 1. Germany.\\nTelephone: 0511/211216 Books -- Fiction THOMAS M. DISCH \"The Santa Claus Compromise\"\\nShort story. The ultimate proof that Santa exists. All characters and events are fictitious. Any similarity to living or dead gods -- uh, well... WALTER M. MILLER, JR \"A Canticle for Leibowitz\"\\nOne gem in this post atomic doomsday novel is the monks who spent their lives\\ncopying blueprints from \"Saint Leibowitz\", filling the sheets of paper with\\nink and leaving white lines and letters. EDGAR PANGBORN \"Davy\"\\nPost atomic doomsday novel set in clerical states. The church, for example,\\nforbids that anyone \"produce, describe or use any substance containing...\\natoms\". PHILIP K. DICK Philip K. Dick Dick wrote many philosophical and thought-provoking short stories and novels. His stories are bizarre at times, but very approachable.\\nHe wrote mainly SF, but he wrote about people, truth and religion rather than\\ntechnology. Although he often believed that he had met some sort of God, he\\nremained sceptical. Amongst his novels, the following are of some relevance: \"Galactic Pot-Healer\"\\nA fallible alien deity summons a group of Earth craftsmen and women to a\\nremote planet to raise a giant cathedral from beneath the oceans. When the\\ndeity begins to demand faith from the earthers, pot-healer Joe Fernwright is\\nunable to comply. A polished, ironic and amusing novel. \"A Maze of Death\"\\nNoteworthy for its description of a technology-based religion. \"VALIS\"\\nThe schizophrenic hero searches for the hidden mysteries of Gnostic\\nChristianity after reality is fired into his brain by a pink laser beam of\\nunknown but possibly divine origin. He is accompanied by his dogmatic and\\ndismissively atheist friend and assorted other odd characters. \"The Divine Invasion\"\\nGod invades Earth by making a young woman pregnant as she returns from\\nanother star system. Unfortunately she is terminally ill, and must be\\nassisted by a dead man whose brain is wired to 24-hour easy listening music. MARGARET ATWOOD \"The Handmaid\\'s Tale\"\\nA story based on the premise that the US Congress is mysteriously\\nassassinated, and fundamentalists quickly take charge of the nation to set it\\n\"right\" again. The book is the diary of a woman\\'s life as she tries to live\\nunder the new Christian theocracy. Women\\'s right to own property is revoked,\\nand their bank accounts are closed; sinful luxuries are outlawed, and the\\nradio is only used for readings from the Bible. Crimes are punished\\nretroactively: doctors who performed legal abortions in the \"old world\" are\\nhunted down and hanged. Atwood\\'s writing style is difficult to get used to\\nat first, but the tale grows more and more chilling as it goes on. VARIOUS AUTHORS \"The Bible\"\\nThis somewhat dull and rambling work has often been criticized. However, it\\nis probably worth reading, if only so that you\\'ll know what all the fuss is\\nabout. It exists in many different versions, so make sure you get the one\\ntrue version. Books -- Non-fiction PETER DE ROSA \"Vicars of Christ\", Bantam Press, 1988\\nAlthough de Rosa seems to be Christian or even Catholic this is a very\\nenlighting history of papal immoralities, adulteries, fallacies etc.\\n(German translation: \"Gottes erste Diener. Die dunkle Seite des Papsttums\",\\nDroemer-Knaur, 1989) MICHAEL MARTIN \"Atheism: A Philosophical Justification\", Temple University Press, Philadelphia, USA.\\nA detailed and scholarly justification of atheism. Contains an outstanding\\nappendix defining terminology and usage in this (necessarily) tendentious\\narea. Argues both for \"negative atheism\" (i.e. the \"non-belief in the\\nexistence of god(s)\") and also for \"positive atheism\" (\"the belief in the\\nnon-existence of god(s)\"). Includes great refutations of the most\\nchallenging arguments for god; particular attention is paid to refuting\\ncontempory theists such as Platinga and Swinburne.\\n541 pages. ISBN 0-87722-642-3 (hardcover; paperback also available) \"The Case Against Christianity\", Temple University Press\\nA comprehensive critique of Christianity, in which he considers\\nthe best contemporary defences of Christianity and (ultimately)\\ndemonstrates that they are unsupportable and/or incoherent.\\n273 pages. ISBN 0-87722-767-5 JAMES TURNER \"Without God, Without Creed\", The Johns Hopkins University Press, Baltimore, MD, USA\\nSubtitled \"The Origins of Unbelief in America\". Examines the way in which\\nunbelief (whether agnostic or atheistic) became a mainstream alternative\\nworld-view. Focusses on the period 1770-1900, and while considering France\\nand Britain the emphasis is on American, and particularly New England\\ndevelopments. \"Neither a religious history of secularization or atheism,\\nWithout God, Without Creed is, rather, the intellectual history of the fate\\nof a single idea, the belief that God exists.\" 316 pages. ISBN (hardcover) 0-8018-2494-X (paper) 0-8018-3407-4 GEORGE SELDES (Editor) \"The great thoughts\", Ballantine Books, New York, USA\\nA \"dictionary of quotations\" of a different kind, concentrating on statements\\nand writings which, explicitly or implicitly, present the person\\'s philosophy\\nand world-view. Includes obscure (and often suppressed) opinions from many\\npeople. For some popular observations, traces the way in which various\\npeople expressed and twisted the idea over the centuries. Quite a number of\\nthe quotations are derived from Cardiff\\'s \"What Great Men Think of Religion\"\\nand Noyes\\' \"Views of Religion\".\\n490 pages. ISBN (paper) 0-345-29887-X. RICHARD SWINBURNE \"The Existence of God (Revised Edition)\", Clarendon Paperbacks, Oxford\\nThis book is the second volume in a trilogy that began with \"The Coherence of\\nTheism\" (1977) and was concluded with \"Faith and Reason\" (1981). In this\\nwork, Swinburne attempts to construct a series of inductive arguments for the\\nexistence of God. His arguments, which are somewhat tendentious and rely\\nupon the imputation of late 20th century western Christian values and\\naesthetics to a God which is supposedly as simple as can be conceived, were\\ndecisively rejected in Mackie\\'s \"The Miracle of Theism\". In the revised\\nedition of \"The Existence of God\", Swinburne includes an Appendix in which he\\nmakes a somewhat incoherent attempt to rebut Mackie. J. L. MACKIE \"The Miracle of Theism\", Oxford\\nThis (posthumous) volume contains a comprehensive review of the principal\\narguments for and against the existence of God. It ranges from the classical\\nphilosophical positions of Descartes, Anselm, Berkeley, Hume et al, through\\nthe moral arguments of Newman, Kant and Sidgwick, to the recent restatements\\nof the classical theses by Plantinga and Swinburne. It also addresses those\\npositions which push the concept of God beyond the realm of the rational,\\nsuch as those of Kierkegaard, Kung and Philips, as well as \"replacements for\\nGod\" such as Lelie\\'s axiarchism. The book is a delight to read - less\\nformalistic and better written than Martin\\'s works, and refreshingly direct\\nwhen compared with the hand-waving of Swinburne. JAMES A. HAUGHT \"Holy Horrors: An Illustrated History of Religious Murder and Madness\", Prometheus Books\\nLooks at religious persecution from ancient times to the present day -- and\\nnot only by Christians.\\nLibrary of Congress Catalog Card Number 89-64079. 1990. NORM R. ALLEN, JR. \"African American Humanism: an Anthology\"\\nSee the listing for African Americans for Humanism above. GORDON STEIN \"An Anthology of Atheism and Rationalism\", Prometheus Books\\nAn anthology covering a wide range of subjects, including \\'The Devil, Evil\\nand Morality\\' and \\'The History of Freethought\\'. Comprehensive bibliography. EDMUND D. COHEN \"The Mind of The Bible-Believer\", Prometheus Books\\nA study of why people become Christian fundamentalists, and what effect it\\nhas on them. Net Resources There\\'s a small mail-based archive server at mantis.co.uk which carries\\narchives of old alt.atheism.moderated articles and assorted other files. For\\nmore information, send mail to archive-server@mantis.co.uk saying help send atheism/index and it will mail back a reply. mathew\\nя\\n'"
     },
     "execution_count": 95,
     "metadata": {},
     "output_type": "execute_result"
    }
   ],
   "source": [
    "raw"
   ],
   "metadata": {
    "collapsed": false,
    "ExecuteTime": {
     "end_time": "2023-10-04T16:23:59.709921700Z",
     "start_time": "2023-10-04T16:23:59.693433500Z"
    }
   },
   "id": "582a11361181c78c"
  },
  {
   "cell_type": "code",
   "execution_count": 96,
   "outputs": [],
   "source": [
    "sentences = re.split(r\"(?<!\\w\\.\\w.)(?<![A-Z][a-z]\\.)(?<=\\.|\\?|\\!)\\s(?=[A-Z]|$)\", raw)"
   ],
   "metadata": {
    "collapsed": false,
    "ExecuteTime": {
     "end_time": "2023-10-04T16:24:32.156092500Z",
     "start_time": "2023-10-04T16:24:32.121600900Z"
    }
   },
   "id": "dc4c8b5f625c21e"
  },
  {
   "cell_type": "code",
   "execution_count": 97,
   "outputs": [
    {
     "data": {
      "text/plain": "['Atheist Resources Addresses of Atheist Organizations USA FREEDOM FROM RELIGION FOUNDATION Darwin fish bumper stickers and assorted other atheist paraphernalia are\\navailable from the Freedom From Religion Foundation in the US',\n 'Write to: FFRF, P.O. Box 750, Madison, WI 53701',\n 'Telephone: (608) 256-8900 EVOLUTION DESIGNS Evolution Designs sell the \"Darwin fish\"',\n 'It\\'s a fish symbol, like the ones\\nChristians stick on their cars, but with feet and the word \"Darwin\" written\\ninside',\n 'The deluxe moulded 3D plastic fish is $4.95 postpaid in the US',\n 'Write to: Evolution Designs, 7119 Laurel Canyon #4, North Hollywood, CA 91605',\n 'People in the San Francisco Bay area can get Darwin Fish from Lynn Gold --\\ntry mailing <figmo@netcom.com>',\n 'For net people who go to Lynn directly, the\\nprice is $4.95 per fish',\n 'AMERICAN ATHEIST PRESS AAP publish various atheist books -- critiques of the Bible, lists of\\nBiblical contradictions, and so on',\n 'One such book is: \"The Bible Handbook\" by W.P. Ball and G.W. Foote',\n 'American Atheist Press.\\n372 pp',\n 'ISBN 0-910309-26-4, 2nd edition, 1986',\n 'Bible contradictions,\\nabsurdities, atrocities, immoralities... contains Ball, Foote: \"The Bible\\nContradicts Itself\", AAP',\n 'Based on the King James version of the Bible',\n 'Write to: American Atheist Press, P.O. Box 140195, Austin, TX 78714-0195. or: 7215 Cameron Road, Austin, TX 78752-2973',\n 'Telephone: (512) 458-1244\\nFax: (512) 467-9525 PROMETHEUS BOOKS Sell books including Haught\\'s \"Holy Horrors\" (see below)',\n 'Write to: 700 East Amherst Street, Buffalo, New York 14215',\n 'Telephone: (716) 837-2475',\n 'An alternate address (which may be newer or older) is:\\nPrometheus Books, 59 Glenn Drive, Buffalo, NY 14228-2197',\n 'AFRICAN-AMERICANS FOR HUMANISM An organization promoting black secular humanism and uncovering the history of\\nblack freethought',\n 'They publish a quarterly newsletter, AAH EXAMINER',\n 'Write to: Norm R',\n 'Allen, Jr., African Americans for Humanism, P.O. Box 664, Buffalo, NY 14226',\n 'United Kingdom Rationalist Press Association National Secular Society\\n88 Islington High Street 702 Holloway Road\\nLondon N1 8EW London N19 3NL\\n071 226 7251 071 272 1266 British Humanist Association South Place Ethical Society\\n14 Lamb\\'s Conduit Passage Conway Hall\\nLondon WC1R 4RH Red Lion Square\\n071 430 0908 London WC1R 4RL\\nfax 071 430 1271 071 831 7723 The National Secular Society publish \"The Freethinker\", a monthly magazine\\nfounded in 1881',\n 'Germany IBKA e.V.\\nInternationaler Bund der Konfessionslosen und Atheisten\\nPostfach 880, D-1000 Berlin 41',\n 'Germany',\n 'IBKA publish a journal:\\nMIZ. (Materialien und Informationen zur Zeit',\n 'Politisches\\nJournal der Konfessionslosesn und Atheisten',\n 'Hrsg',\n 'IBKA e.V.)\\nMIZ-Vertrieb, Postfach 880, D-1000 Berlin 41',\n 'Germany',\n 'For atheist books, write to: IBDK, Internationaler B\"ucherdienst der Konfessionslosen\\nPostfach 3005, D-3000 Hannover 1',\n 'Germany',\n 'Telephone: 0511/211216 Books -- Fiction THOMAS M',\n 'DISCH \"The Santa Claus Compromise\"\\nShort story',\n 'The ultimate proof that Santa exists',\n 'All characters and events are fictitious',\n 'Any similarity to living or dead gods -- uh, well..',\n 'WALTER M',\n 'MILLER, JR \"A Canticle for Leibowitz\"\\nOne gem in this post atomic doomsday novel is the monks who spent their lives\\ncopying blueprints from \"Saint Leibowitz\", filling the sheets of paper with\\nink and leaving white lines and letters',\n 'EDGAR PANGBORN \"Davy\"\\nPost atomic doomsday novel set in clerical states',\n 'The church, for example,\\nforbids that anyone \"produce, describe or use any substance containing...\\natoms\"',\n 'PHILIP K',\n 'DICK Philip K',\n 'Dick Dick wrote many philosophical and thought-provoking short stories and novels',\n 'His stories are bizarre at times, but very approachable',\n 'He wrote mainly SF, but he wrote about people, truth and religion rather than\\ntechnology',\n 'Although he often believed that he had met some sort of God, he\\nremained sceptical',\n 'Amongst his novels, the following are of some relevance: \"Galactic Pot-Healer\"\\nA fallible alien deity summons a group of Earth craftsmen and women to a\\nremote planet to raise a giant cathedral from beneath the oceans',\n 'When the\\ndeity begins to demand faith from the earthers, pot-healer Joe Fernwright is\\nunable to comply',\n 'A polished, ironic and amusing novel. \"A Maze of Death\"\\nNoteworthy for its description of a technology-based religion. \"VALIS\"\\nThe schizophrenic hero searches for the hidden mysteries of Gnostic\\nChristianity after reality is fired into his brain by a pink laser beam of\\nunknown but possibly divine origin',\n 'He is accompanied by his dogmatic and\\ndismissively atheist friend and assorted other odd characters. \"The Divine Invasion\"\\nGod invades Earth by making a young woman pregnant as she returns from\\nanother star system',\n 'Unfortunately she is terminally ill, and must be\\nassisted by a dead man whose brain is wired to 24-hour easy listening music',\n 'MARGARET ATWOOD \"The Handmaid\\'s Tale\"\\nA story based on the premise that the US Congress is mysteriously\\nassassinated, and fundamentalists quickly take charge of the nation to set it\\n\"right\" again',\n \"The book is the diary of a woman's life as she tries to live\\nunder the new Christian theocracy\",\n \"Women's right to own property is revoked,\\nand their bank accounts are closed; sinful luxuries are outlawed, and the\\nradio is only used for readings from the Bible\",\n 'Crimes are punished\\nretroactively: doctors who performed legal abortions in the \"old world\" are\\nhunted down and hanged',\n \"Atwood's writing style is difficult to get used to\\nat first, but the tale grows more and more chilling as it goes on\",\n 'VARIOUS AUTHORS \"The Bible\"\\nThis somewhat dull and rambling work has often been criticized',\n \"However, it\\nis probably worth reading, if only so that you'll know what all the fuss is\\nabout\",\n 'It exists in many different versions, so make sure you get the one\\ntrue version',\n 'Books -- Non-fiction PETER DE ROSA \"Vicars of Christ\", Bantam Press, 1988\\nAlthough de Rosa seems to be Christian or even Catholic this is a very\\nenlighting history of papal immoralities, adulteries, fallacies etc.\\n(German translation: \"Gottes erste Diener',\n 'Die dunkle Seite des Papsttums\",\\nDroemer-Knaur, 1989) MICHAEL MARTIN \"Atheism: A Philosophical Justification\", Temple University Press, Philadelphia, USA',\n 'A detailed and scholarly justification of atheism',\n 'Contains an outstanding\\nappendix defining terminology and usage in this (necessarily) tendentious\\narea',\n 'Argues both for \"negative atheism\" (i.e. the \"non-belief in the\\nexistence of god(s)\") and also for \"positive atheism\" (\"the belief in the\\nnon-existence of god(s)\")',\n 'Includes great refutations of the most\\nchallenging arguments for god; particular attention is paid to refuting\\ncontempory theists such as Platinga and Swinburne.\\n541 pages',\n 'ISBN 0-87722-642-3 (hardcover; paperback also available) \"The Case Against Christianity\", Temple University Press\\nA comprehensive critique of Christianity, in which he considers\\nthe best contemporary defences of Christianity and (ultimately)\\ndemonstrates that they are unsupportable and/or incoherent.\\n273 pages',\n 'ISBN 0-87722-767-5 JAMES TURNER \"Without God, Without Creed\", The Johns Hopkins University Press, Baltimore, MD, USA\\nSubtitled \"The Origins of Unbelief in America\"',\n 'Examines the way in which\\nunbelief (whether agnostic or atheistic) became a mainstream alternative\\nworld-view',\n 'Focusses on the period 1770-1900, and while considering France\\nand Britain the emphasis is on American, and particularly New England\\ndevelopments. \"Neither a religious history of secularization or atheism,\\nWithout God, Without Creed is, rather, the intellectual history of the fate\\nof a single idea, the belief that God exists.\" 316 pages',\n 'ISBN (hardcover) 0-8018-2494-X (paper) 0-8018-3407-4 GEORGE SELDES (Editor) \"The great thoughts\", Ballantine Books, New York, USA\\nA \"dictionary of quotations\" of a different kind, concentrating on statements\\nand writings which, explicitly or implicitly, present the person\\'s philosophy\\nand world-view',\n 'Includes obscure (and often suppressed) opinions from many\\npeople',\n 'For some popular observations, traces the way in which various\\npeople expressed and twisted the idea over the centuries',\n 'Quite a number of\\nthe quotations are derived from Cardiff\\'s \"What Great Men Think of Religion\"\\nand Noyes\\' \"Views of Religion\".\\n490 pages',\n 'ISBN (paper) 0-345-29887-X',\n 'RICHARD SWINBURNE \"The Existence of God (Revised Edition)\", Clarendon Paperbacks, Oxford\\nThis book is the second volume in a trilogy that began with \"The Coherence of\\nTheism\" (1977) and was concluded with \"Faith and Reason\" (1981)',\n 'In this\\nwork, Swinburne attempts to construct a series of inductive arguments for the\\nexistence of God',\n 'His arguments, which are somewhat tendentious and rely\\nupon the imputation of late 20th century western Christian values and\\naesthetics to a God which is supposedly as simple as can be conceived, were\\ndecisively rejected in Mackie\\'s \"The Miracle of Theism\"',\n 'In the revised\\nedition of \"The Existence of God\", Swinburne includes an Appendix in which he\\nmakes a somewhat incoherent attempt to rebut Mackie',\n 'J',\n 'L',\n 'MACKIE \"The Miracle of Theism\", Oxford\\nThis (posthumous) volume contains a comprehensive review of the principal\\narguments for and against the existence of God',\n 'It ranges from the classical\\nphilosophical positions of Descartes, Anselm, Berkeley, Hume et al, through\\nthe moral arguments of Newman, Kant and Sidgwick, to the recent restatements\\nof the classical theses by Plantinga and Swinburne',\n 'It also addresses those\\npositions which push the concept of God beyond the realm of the rational,\\nsuch as those of Kierkegaard, Kung and Philips, as well as \"replacements for\\nGod\" such as Lelie\\'s axiarchism',\n \"The book is a delight to read - less\\nformalistic and better written than Martin's works, and refreshingly direct\\nwhen compared with the hand-waving of Swinburne\",\n 'JAMES A',\n 'HAUGHT \"Holy Horrors: An Illustrated History of Religious Murder and Madness\", Prometheus Books\\nLooks at religious persecution from ancient times to the present day -- and\\nnot only by Christians',\n 'Library of Congress Catalog Card Number 89-64079. 1990',\n 'NORM R',\n 'ALLEN, JR. \"African American Humanism: an Anthology\"\\nSee the listing for African Americans for Humanism above',\n 'GORDON STEIN \"An Anthology of Atheism and Rationalism\", Prometheus Books\\nAn anthology covering a wide range of subjects, including \\'The Devil, Evil\\nand Morality\\' and \\'The History of Freethought\\'',\n 'Comprehensive bibliography',\n 'EDMUND D',\n 'COHEN \"The Mind of The Bible-Believer\", Prometheus Books\\nA study of why people become Christian fundamentalists, and what effect it\\nhas on them',\n \"Net Resources There's a small mail-based archive server at mantis.co.uk which carries\\narchives of old alt.atheism.moderated articles and assorted other files\",\n 'For\\nmore information, send mail to archive-server@mantis.co.uk saying help send atheism/index and it will mail back a reply. mathew\\nя']"
     },
     "execution_count": 97,
     "metadata": {},
     "output_type": "execute_result"
    }
   ],
   "source": [
    "sentences = list(map(lambda x: x[:-1], sentences))\n",
    "sentences"
   ],
   "metadata": {
    "collapsed": false,
    "ExecuteTime": {
     "end_time": "2023-10-04T16:24:32.692178300Z",
     "start_time": "2023-10-04T16:24:32.680855400Z"
    }
   },
   "id": "7d3b8aac5c2e1332"
  },
  {
   "cell_type": "code",
   "execution_count": 72,
   "outputs": [],
   "source": [
    "s = sentences[23]"
   ],
   "metadata": {
    "collapsed": false,
    "ExecuteTime": {
     "end_time": "2023-10-04T15:47:53.576356200Z",
     "start_time": "2023-10-04T15:47:53.548231900Z"
    }
   },
   "id": "ec0ba48583cf5cb4"
  },
  {
   "cell_type": "code",
   "execution_count": 73,
   "outputs": [
    {
     "data": {
      "text/plain": "'United Kingdom Rationalist Press Association National Secular Society 88 Islington High Street 702 Holloway Road London N1 8EW London N19 3NL 071 226 7251 071 272 1266 British Humanist Association South Place Ethical Society 14 Lamb\\'s Conduit Passage Conway Hall London WC1R 4RH Red Lion Square 071 430 0908 London WC1R 4RL fax 071 430 1271 071 831 7723 The National Secular Society publish \"The Freethinker\", a monthly magazine founded in 1881'"
     },
     "execution_count": 73,
     "metadata": {},
     "output_type": "execute_result"
    }
   ],
   "source": [],
   "metadata": {
    "collapsed": false,
    "ExecuteTime": {
     "end_time": "2023-10-04T15:47:53.908843500Z",
     "start_time": "2023-10-04T15:47:53.876906300Z"
    }
   },
   "id": "df683533da5d3b49"
  },
  {
   "cell_type": "code",
   "execution_count": 90,
   "outputs": [
    {
     "data": {
      "text/plain": "['United',\n 'Kingdom',\n 'Rationalist',\n 'Press',\n 'Association',\n 'National',\n 'Secular',\n 'Society',\n '88',\n 'Islington',\n 'High',\n 'Street',\n '702',\n 'Holloway',\n 'Road',\n 'London',\n 'N1',\n '8EW',\n 'London',\n 'N19',\n '3NL',\n '071',\n '226',\n '7251',\n '071',\n '272',\n '1266',\n 'British',\n 'Humanist',\n 'Association',\n 'South',\n 'Place',\n 'Ethical',\n 'Society',\n '14',\n \"Lamb's\",\n 'Conduit',\n 'Passage',\n 'Conway',\n 'Hall',\n 'London',\n 'WC1R',\n '4RH',\n 'Red',\n 'Lion',\n 'Square',\n '071',\n '430',\n '0908',\n 'London',\n 'WC1R',\n '4RL',\n 'fax',\n '071',\n '430',\n '1271',\n '071',\n '831',\n '7723',\n 'The',\n 'National',\n 'Secular',\n 'Society',\n 'publish',\n 'The',\n 'Freethinker',\n 'a',\n 'monthly',\n 'magazine',\n 'founded',\n 'in',\n '1881']"
     },
     "execution_count": 90,
     "metadata": {},
     "output_type": "execute_result"
    }
   ],
   "source": [
    "words = re.findall(r\"(\\b[^\\s]+\\b)(?<=\\.\\w.)?\", s)\n",
    "words"
   ],
   "metadata": {
    "collapsed": false,
    "ExecuteTime": {
     "end_time": "2023-10-04T16:13:36.837200600Z",
     "start_time": "2023-10-04T16:13:36.805020200Z"
    }
   },
   "id": "f3bb2c3af3fb2ead"
  },
  {
   "cell_type": "code",
   "execution_count": null,
   "outputs": [],
   "source": [],
   "metadata": {
    "collapsed": false
   },
   "id": "adcbd6e9d8cc0ab3"
  }
 ],
 "metadata": {
  "kernelspec": {
   "display_name": "Python 3",
   "language": "python",
   "name": "python3"
  },
  "language_info": {
   "codemirror_mode": {
    "name": "ipython",
    "version": 2
   },
   "file_extension": ".py",
   "mimetype": "text/x-python",
   "name": "python",
   "nbconvert_exporter": "python",
   "pygments_lexer": "ipython2",
   "version": "2.7.6"
  }
 },
 "nbformat": 4,
 "nbformat_minor": 5
}
