{
 "cells": [
  {
   "cell_type": "code",
   "execution_count": null,
   "outputs": [],
   "source": [
    "import os\n",
    "\n",
    "from preprocessing import process_topic"
   ],
   "metadata": {
    "collapsed": false
   },
   "id": "325d785d68da0ce4"
  },
  {
   "cell_type": "code",
   "execution_count": null,
   "outputs": [],
   "source": [
    "data_dir = os.path.realpath(\"../../../../data\")\n",
    "assets_dir = os.path.realpath(\"../assets/annotated_corpus\")\n",
    "train_dir = os.path.join(data_dir, \"train\")\n",
    "result_train_dir = os.path.join(assets_dir, \"train\")\n",
    "test_dir = os.path.join(data_dir, \"test\")\n",
    "result_test_dir = os.path.join(assets_dir, \"test\")\n",
    "\n",
    "topics = os.listdir(train_dir)"
   ],
   "metadata": {
    "collapsed": false
   },
   "id": "initial_id"
  },
  {
   "cell_type": "code",
   "execution_count": null,
   "outputs": [],
   "source": [
    "topics"
   ],
   "metadata": {
    "collapsed": false
   },
   "id": "2d25e60988bb914c"
  },
  {
   "cell_type": "code",
   "execution_count": null,
   "outputs": [],
   "source": [
    "with open(\"../assets/topics.txt\", \"w\") as f:\n",
    "    print(\"\\n\".join(topics), file=f)"
   ],
   "metadata": {
    "collapsed": false
   },
   "id": "95e17e498efccb26"
  },
  {
   "cell_type": "code",
   "execution_count": null,
   "outputs": [],
   "source": [
    "for t in topics:\n",
    "    process_topic(train_dir, result_train_dir, t)"
   ],
   "metadata": {
    "collapsed": false
   },
   "id": "29920e5c454fe7ac"
  },
  {
   "cell_type": "code",
   "execution_count": null,
   "outputs": [],
   "source": [
    "for t in topics:\n",
    "    process_topic(test_dir, result_test_dir, t)"
   ],
   "metadata": {
    "collapsed": false
   },
   "id": "74ea208ed67835a9"
  },
  {
   "cell_type": "code",
   "execution_count": null,
   "outputs": [],
   "source": [],
   "metadata": {
    "collapsed": false
   },
   "id": "adcbd6e9d8cc0ab3"
  }
 ],
 "metadata": {
  "kernelspec": {
   "display_name": "Python 3",
   "language": "python",
   "name": "python3"
  },
  "language_info": {
   "codemirror_mode": {
    "name": "ipython",
    "version": 2
   },
   "file_extension": ".py",
   "mimetype": "text/x-python",
   "name": "python",
   "nbconvert_exporter": "python",
   "pygments_lexer": "ipython2",
   "version": "2.7.6"
  }
 },
 "nbformat": 4,
 "nbformat_minor": 5
}
