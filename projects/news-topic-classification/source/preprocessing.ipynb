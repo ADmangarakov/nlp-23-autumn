{
 "cells": [
  {
   "cell_type": "code",
   "execution_count": 1,
   "outputs": [],
   "source": [
    "import os\n",
    "\n",
    "from preprocessing import process_topic"
   ],
   "metadata": {
    "collapsed": false,
    "ExecuteTime": {
     "end_time": "2023-11-05T16:34:21.194805300Z",
     "start_time": "2023-11-05T16:34:20.917357800Z"
    }
   },
   "id": "325d785d68da0ce4"
  },
  {
   "cell_type": "code",
   "execution_count": 2,
   "outputs": [],
   "source": [
    "data_dir = os.path.realpath(\"../../../../data\")\n",
    "assets_dir = os.path.realpath(\"../assets/annotated_corpus\")\n",
    "train_dir = os.path.join(data_dir, \"train\")\n",
    "result_train_dir = os.path.join(assets_dir, \"train\")\n",
    "test_dir = os.path.join(data_dir, \"test\")\n",
    "result_test_dir = os.path.join(assets_dir, \"test\")\n",
    "\n",
    "topics = os.listdir(train_dir)"
   ],
   "metadata": {
    "collapsed": false,
    "ExecuteTime": {
     "end_time": "2023-11-05T16:34:21.198595100Z",
     "start_time": "2023-11-05T16:34:21.197590800Z"
    }
   },
   "id": "initial_id"
  },
  {
   "cell_type": "code",
   "execution_count": 3,
   "outputs": [
    {
     "data": {
      "text/plain": "['alt.atheism',\n 'comp.graphics',\n 'comp.os.ms-windows.misc',\n 'comp.sys.ibm.pc.hardware',\n 'comp.sys.mac.hardware',\n 'comp.windows.x',\n 'misc.forsale',\n 'rec.autos',\n 'rec.motorcycles',\n 'rec.sport.baseball',\n 'rec.sport.hockey',\n 'sci.crypt',\n 'sci.electronics',\n 'sci.med',\n 'sci.space',\n 'soc.religion.christian',\n 'talk.politics.guns',\n 'talk.politics.mideast',\n 'talk.politics.misc',\n 'talk.religion.misc']"
     },
     "execution_count": 3,
     "metadata": {},
     "output_type": "execute_result"
    }
   ],
   "source": [
    "topics"
   ],
   "metadata": {
    "collapsed": false,
    "ExecuteTime": {
     "end_time": "2023-11-05T16:34:21.209237500Z",
     "start_time": "2023-11-05T16:34:21.199595Z"
    }
   },
   "id": "2d25e60988bb914c"
  },
  {
   "cell_type": "code",
   "execution_count": 4,
   "outputs": [],
   "source": [
    "with open(\"../assets/topics.txt\", \"w\") as f:\n",
    "    print(\"\\n\".join(topics), file=f)"
   ],
   "metadata": {
    "collapsed": false,
    "ExecuteTime": {
     "end_time": "2023-11-05T16:34:21.210238500Z",
     "start_time": "2023-11-05T16:34:21.205289400Z"
    }
   },
   "id": "95e17e498efccb26"
  },
  {
   "cell_type": "code",
   "execution_count": 5,
   "outputs": [],
   "source": [
    "for t in topics:\n",
    "    process_topic(train_dir, result_train_dir, t)"
   ],
   "metadata": {
    "collapsed": false,
    "ExecuteTime": {
     "end_time": "2023-11-05T16:35:26.025056200Z",
     "start_time": "2023-11-05T16:34:21.211237600Z"
    }
   },
   "id": "29920e5c454fe7ac"
  },
  {
   "cell_type": "code",
   "execution_count": 6,
   "outputs": [],
   "source": [
    "for t in topics:\n",
    "    process_topic(test_dir, result_test_dir, t)"
   ],
   "metadata": {
    "collapsed": false,
    "ExecuteTime": {
     "end_time": "2023-11-05T16:36:08.093189700Z",
     "start_time": "2023-11-05T16:35:26.026056500Z"
    }
   },
   "id": "74ea208ed67835a9"
  },
  {
   "cell_type": "code",
   "execution_count": null,
   "outputs": [],
   "source": [],
   "metadata": {
    "collapsed": false
   },
   "id": "adcbd6e9d8cc0ab3"
  }
 ],
 "metadata": {
  "kernelspec": {
   "display_name": "Python 3",
   "language": "python",
   "name": "python3"
  },
  "language_info": {
   "codemirror_mode": {
    "name": "ipython",
    "version": 2
   },
   "file_extension": ".py",
   "mimetype": "text/x-python",
   "name": "python",
   "nbconvert_exporter": "python",
   "pygments_lexer": "ipython2",
   "version": "2.7.6"
  }
 },
 "nbformat": 4,
 "nbformat_minor": 5
}
