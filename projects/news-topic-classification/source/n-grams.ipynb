{
 "cells": [
  {
   "cell_type": "code",
   "execution_count": 6,
   "outputs": [],
   "source": [
    "import os\n",
    "from math import sqrt\n",
    "import nltk\n",
    "from nltk.corpus import stopwords"
   ],
   "metadata": {
    "collapsed": false,
    "ExecuteTime": {
     "end_time": "2023-11-05T16:39:01.410279400Z",
     "start_time": "2023-11-05T16:39:01.403270100Z"
    }
   },
   "id": "6b7e22c497427904"
  },
  {
   "cell_type": "code",
   "execution_count": 7,
   "outputs": [
    {
     "name": "stderr",
     "output_type": "stream",
     "text": [
      "[nltk_data] Downloading package stopwords to\n",
      "[nltk_data]     C:\\Users\\goras\\AppData\\Roaming\\nltk_data...\n",
      "[nltk_data]   Unzipping corpora\\stopwords.zip.\n"
     ]
    },
    {
     "data": {
      "text/plain": "True"
     },
     "execution_count": 7,
     "metadata": {},
     "output_type": "execute_result"
    }
   ],
   "source": [
    "nltk.download('stopwords')"
   ],
   "metadata": {
    "collapsed": false,
    "ExecuteTime": {
     "end_time": "2023-11-05T16:39:02.312286700Z",
     "start_time": "2023-11-05T16:39:01.499095400Z"
    }
   },
   "id": "d01e8c336ae1c7bc"
  },
  {
   "cell_type": "code",
   "execution_count": 8,
   "outputs": [],
   "source": [
    "assets_dir = os.path.realpath(\"../assets/annotated_corpus\")\n",
    "train_dir = os.path.join(assets_dir, \"train\")"
   ],
   "metadata": {
    "collapsed": false,
    "ExecuteTime": {
     "end_time": "2023-11-05T16:39:03.952995400Z",
     "start_time": "2023-11-05T16:39:03.947816Z"
    }
   },
   "id": "initial_id"
  },
  {
   "cell_type": "code",
   "execution_count": 9,
   "outputs": [],
   "source": [
    "topics = os.listdir(train_dir)"
   ],
   "metadata": {
    "collapsed": false,
    "ExecuteTime": {
     "end_time": "2023-11-05T16:39:04.177179600Z",
     "start_time": "2023-11-05T16:39:04.171178300Z"
    }
   },
   "id": "f88b913a1d3a0da2"
  },
  {
   "cell_type": "code",
   "execution_count": 10,
   "outputs": [],
   "source": [
    "sentences = []\n",
    "for t in topics:\n",
    "    workdir = os.path.join(train_dir, t)\n",
    "    for filename in os.listdir(workdir):\n",
    "        with open(os.path.join(workdir, filename)) as f:\n",
    "            lines = \"\".join(f.readlines())\n",
    "            sentences_raw = lines.split(\"\\n\\n\")\n",
    "            for s in sentences_raw:\n",
    "                words = s.split(\"\\n\")\n",
    "                if len(words) == 0 or words[0] == \"\":\n",
    "                    continue\n",
    "                stems_raw = list(map(lambda x: x.split(\"\\t\")[1], words))\n",
    "                lemmas = list(map(lambda x: x.split(\"\\t\")[2], words))\n",
    "                stems = []\n",
    "                for i in range(len(stems_raw)):\n",
    "                    if lemmas[i] not in stopwords.words(\"english\"):\n",
    "                        stems.append(stems_raw[i])\n",
    "                sentences.append(stems)"
   ],
   "metadata": {
    "collapsed": false,
    "ExecuteTime": {
     "end_time": "2023-11-05T16:42:47.184219700Z",
     "start_time": "2023-11-05T16:39:04.692234300Z"
    }
   },
   "id": "6bc861c137c1b05e"
  },
  {
   "cell_type": "code",
   "execution_count": 11,
   "outputs": [
    {
     "data": {
      "text/plain": "191598"
     },
     "execution_count": 11,
     "metadata": {},
     "output_type": "execute_result"
    }
   ],
   "source": [
    "len(sentences)"
   ],
   "metadata": {
    "collapsed": false,
    "ExecuteTime": {
     "end_time": "2023-11-05T16:42:47.193326900Z",
     "start_time": "2023-11-05T16:42:47.187219200Z"
    }
   },
   "id": "79e0888745a18ec9"
  },
  {
   "cell_type": "code",
   "execution_count": 12,
   "outputs": [],
   "source": [
    "ngram_length = 3"
   ],
   "metadata": {
    "collapsed": false,
    "ExecuteTime": {
     "end_time": "2023-11-05T16:42:47.198330600Z",
     "start_time": "2023-11-05T16:42:47.190130700Z"
    }
   },
   "id": "716f53f3263c0f0b"
  },
  {
   "cell_type": "code",
   "execution_count": 13,
   "outputs": [],
   "source": [
    "ngrams = []\n",
    "word_count = {}\n",
    "ngrams_count = {}\n",
    "for s in sentences:\n",
    "    counter = 0\n",
    "    for w in s:\n",
    "        if w not in word_count.keys():\n",
    "            word_count[w] = 0\n",
    "        word_count[w] += 1\n",
    "        counter += 1\n",
    "    if counter < ngram_length:\n",
    "        continue\n",
    "    for i in range(len(s) - ngram_length + 1):\n",
    "        ngram = tuple(s[i:i+ngram_length])\n",
    "        if ngram not in ngrams_count.keys():\n",
    "            ngrams_count[ngram] = 0\n",
    "        ngrams_count[ngram] += 1\n",
    "        ngrams.append(ngram)"
   ],
   "metadata": {
    "collapsed": false,
    "ExecuteTime": {
     "end_time": "2023-11-05T16:42:48.148771800Z",
     "start_time": "2023-11-05T16:42:47.195331800Z"
    }
   },
   "id": "6e821bc9b2cba3ef"
  },
  {
   "cell_type": "code",
   "execution_count": 14,
   "outputs": [
    {
     "data": {
      "text/plain": "1130235"
     },
     "execution_count": 14,
     "metadata": {},
     "output_type": "execute_result"
    }
   ],
   "source": [
    "len(ngrams)"
   ],
   "metadata": {
    "collapsed": false,
    "ExecuteTime": {
     "end_time": "2023-11-05T16:42:48.154314500Z",
     "start_time": "2023-11-05T16:42:48.148771800Z"
    }
   },
   "id": "2f28dabe38244210"
  },
  {
   "cell_type": "code",
   "execution_count": 15,
   "outputs": [
    {
     "data": {
      "text/plain": "[('was', 12300),\n ('use', 8687),\n ('one', 8670),\n ('write', 8416),\n ('would', 8281),\n ('has', 7031),\n ('articl', 6878),\n ('like', 5886),\n ('get', 5842),\n ('peopl', 5519),\n ('know', 5374),\n ('x', 5121),\n ('think', 4750),\n ('max', 4597),\n ('time', 4556),\n ('say', 4283),\n ('1', 4221),\n ('go', 4086),\n ('also', 3991),\n ('make', 3988),\n ('doe', 3730),\n ('work', 3650),\n ('year', 3385),\n ('good', 3341),\n ('new', 3304),\n ('system', 3251),\n ('want', 3222),\n ('could', 3203),\n ('right', 3200),\n ('way', 3109)]"
     },
     "execution_count": 15,
     "metadata": {},
     "output_type": "execute_result"
    }
   ],
   "source": [
    "sorted(word_count.items(), key=lambda x: -x[1])[:30]"
   ],
   "metadata": {
    "collapsed": false,
    "ExecuteTime": {
     "end_time": "2023-11-05T16:42:48.175204300Z",
     "start_time": "2023-11-05T16:42:48.153314Z"
    }
   },
   "id": "f57643e132e31aab"
  },
  {
   "cell_type": "code",
   "execution_count": 16,
   "outputs": [
    {
     "data": {
      "text/plain": "[(('_', '_', '_'), 485),\n (('0', '1', '1'), 336),\n (('1', '0', '1'), 252),\n (('doe', 'anyon', 'know'), 218),\n (('2', '2', '2'), 157),\n (('1', '0', '0'), 140),\n (('0', '0', '0'), 133),\n (('1', '1', '0'), 117),\n (('0', '2', '2'), 100),\n (('7', '7', '7'), 97),\n (('1', '1', '2'), 84),\n (('pl', 'pl', 'pl'), 82),\n (('bank', 'n3jxp', 'skeptic'), 81),\n (('n3jxp', 'skeptic', 'chastiti'), 81),\n (('skeptic', 'chastiti', 'intellect'), 81),\n (('shame', 'surrend', 'soon'), 79),\n (('chastiti', 'intellect', 'shame'), 78),\n (('intellect', 'shame', 'surrend'), 78),\n (('scorer', 'g', 'pts'), 74),\n (('close', 'road', 'mountain'), 74),\n (('road', 'mountain', 'pass'), 74),\n (('proceed', 'work', 'extermin'), 74),\n (('would', 'great', 'appreci'), 72),\n (('p', 'p', 'p'), 72),\n (('soviet', 'armenia', 'today'), 72),\n (('armenia', 'today', 'longer'), 72),\n (('today', 'longer', 'exist'), 72),\n (('longer', 'exist', 'singl'), 72),\n (('exist', 'singl', 'turkish'), 72),\n (('singl', 'turkish', 'soul'), 72)]"
     },
     "execution_count": 16,
     "metadata": {},
     "output_type": "execute_result"
    }
   ],
   "source": [
    "sorted(ngrams_count.items(), key=lambda x: -x[1])[:30]"
   ],
   "metadata": {
    "collapsed": false,
    "ExecuteTime": {
     "end_time": "2023-11-05T16:42:48.263467700Z",
     "start_time": "2023-11-05T16:42:48.172004200Z"
    }
   },
   "id": "3c5c686dc4b8fe3f"
  },
  {
   "cell_type": "code",
   "execution_count": 17,
   "outputs": [],
   "source": [
    "total_words = sum(word_count.values())"
   ],
   "metadata": {
    "collapsed": false,
    "ExecuteTime": {
     "end_time": "2023-11-05T16:42:48.263467700Z",
     "start_time": "2023-11-05T16:42:48.259917600Z"
    }
   },
   "id": "7b1864dfd0a7f18a"
  },
  {
   "cell_type": "code",
   "execution_count": 18,
   "outputs": [
    {
     "data": {
      "text/plain": "1482989"
     },
     "execution_count": 18,
     "metadata": {},
     "output_type": "execute_result"
    }
   ],
   "source": [
    "total_words"
   ],
   "metadata": {
    "collapsed": false,
    "ExecuteTime": {
     "end_time": "2023-11-05T16:42:48.268979800Z",
     "start_time": "2023-11-05T16:42:48.263467700Z"
    }
   },
   "id": "fdab06b3666dc1e4"
  },
  {
   "cell_type": "code",
   "execution_count": 19,
   "outputs": [],
   "source": [
    "ngram_score = {}\n",
    "for ngram in set(ngrams):\n",
    "    count_mul_result = 1\n",
    "    for word in ngram:\n",
    "        count_mul_result *= word_count[word]\n",
    "    ngram_score[ngram] = (ngrams_count[ngram] - (count_mul_result / (total_words ** (ngram_length - 1)))) / sqrt(ngrams_count[ngram])"
   ],
   "metadata": {
    "collapsed": false,
    "ExecuteTime": {
     "end_time": "2023-11-05T16:42:49.388219600Z",
     "start_time": "2023-11-05T16:42:48.268979800Z"
    }
   },
   "id": "7101b626930f67ac"
  },
  {
   "cell_type": "code",
   "execution_count": 20,
   "outputs": [
    {
     "data": {
      "text/plain": "[(('_', '_', '_'), 22.02269575380346),\n (('0', '1', '1'), 18.329204061593007),\n (('1', '0', '1'), 15.873239175855426),\n (('doe', 'anyon', 'know'), 14.763420534899202),\n (('2', '2', '2'), 12.529041904853722),\n (('1', '0', '0'), 11.831157081567426),\n (('0', '0', '0'), 11.531956833135402),\n (('1', '1', '0'), 10.814791897725733),\n (('0', '2', '2'), 9.999022942943222),\n (('7', '7', '7'), 9.848803743779651),\n (('1', '1', '2'), 9.162552651699903),\n (('pl', 'pl', 'pl'), 9.055365684545587),\n (('n3jxp', 'skeptic', 'chastiti'), 8.999999956040595),\n (('skeptic', 'chastiti', 'intellect'), 8.999999951156218),\n (('bank', 'n3jxp', 'skeptic'), 8.999999805399222),\n (('shame', 'surrend', 'soon'), 8.888194088466022),\n (('chastiti', 'intellect', 'shame'), 8.831760817693489),\n (('intellect', 'shame', 'surrend'), 8.831760792783209),\n (('scorer', 'g', 'pts'), 8.602324680124548),\n (('road', 'mountain', 'pass'), 8.602321600730907),\n (('close', 'road', 'mountain'), 8.602321123945975),\n (('proceed', 'work', 'extermin'), 8.602319599512926),\n (('soviet', 'armenia', 'today'), 8.485278070054953),\n (('singl', 'turkish', 'soul'), 8.485276806888267),\n (('armenia', 'today', 'longer'), 8.485274884407067),\n (('longer', 'exist', 'singl'), 8.48526158070313),\n (('today', 'longer', 'exist'), 8.485252704220743),\n (('exist', 'singl', 'turkish'), 8.485250734930286),\n (('p', 'p', 'p'), 8.485244230321204),\n (('would', 'great', 'appreci'), 8.484889261339537)]"
     },
     "execution_count": 20,
     "metadata": {},
     "output_type": "execute_result"
    }
   ],
   "source": [
    "sorted(ngram_score.items(), key=lambda x: -x[1])[0:30]"
   ],
   "metadata": {
    "collapsed": false,
    "ExecuteTime": {
     "end_time": "2023-11-05T16:42:49.688341Z",
     "start_time": "2023-11-05T16:42:49.482093400Z"
    }
   },
   "id": "93e0fb33255e5cd3"
  },
  {
   "cell_type": "code",
   "execution_count": 21,
   "outputs": [],
   "source": [
    "from nltk.collocations import  *\n",
    "from nltk import Text\n",
    "import nltk"
   ],
   "metadata": {
    "collapsed": false,
    "ExecuteTime": {
     "end_time": "2023-11-05T16:42:49.688341Z",
     "start_time": "2023-11-05T16:42:49.685802400Z"
    }
   },
   "id": "2a4cdf5ca193481f"
  },
  {
   "cell_type": "code",
   "execution_count": 22,
   "outputs": [],
   "source": [
    "text = []\n",
    "for s in sentences:\n",
    "    text += s"
   ],
   "metadata": {
    "collapsed": false,
    "ExecuteTime": {
     "end_time": "2023-11-05T16:42:49.744012500Z",
     "start_time": "2023-11-05T16:42:49.688341Z"
    }
   },
   "id": "30064e56d9e8a6e5"
  },
  {
   "cell_type": "code",
   "execution_count": 23,
   "outputs": [],
   "source": [
    "finder = TrigramCollocationFinder.from_words(Text(text))"
   ],
   "metadata": {
    "collapsed": false,
    "ExecuteTime": {
     "end_time": "2023-11-05T16:42:53.475033600Z",
     "start_time": "2023-11-05T16:42:49.763033500Z"
    }
   },
   "id": "a2976f14789ad735"
  },
  {
   "cell_type": "code",
   "execution_count": 24,
   "outputs": [
    {
     "data": {
      "text/plain": "[('max', 'max', 'max'),\n ('_', '_', '_'),\n ('0', '1', '1'),\n ('x', 'x', 'x'),\n ('1', '0', '1'),\n ('doe', 'anyon', 'know'),\n ('2', '2', '2'),\n ('1', '0', '0'),\n ('0', '0', '0'),\n ('1', '1', '0'),\n ('0', '2', '2'),\n ('pl', 'pl', 'pl'),\n ('7', '7', '7'),\n ('0d', '0d', '0d'),\n ('1', '1', '2'),\n ('n3jxp', 'skeptic', 'chastiti'),\n ('skeptic', 'chastiti', 'intellect'),\n ('bank', 'n3jxp', 'skeptic'),\n ('shame', 'surrend', 'soon'),\n ('chastiti', 'intellect', 'shame'),\n ('intellect', 'shame', 'surrend'),\n ('max', 'max', 'pl'),\n ('p', 'p', 'p'),\n ('scorer', 'g', 'pts'),\n ('road', 'mountain', 'pass'),\n ('close', 'road', 'mountain'),\n ('proceed', 'work', 'extermin'),\n ('soviet', 'armenia', 'today'),\n ('singl', 'turkish', 'soul'),\n ('armenia', 'today', 'longer')]"
     },
     "execution_count": 24,
     "metadata": {},
     "output_type": "execute_result"
    }
   ],
   "source": [
    "finder.nbest(nltk.collocations.TrigramAssocMeasures().student_t, 30)"
   ],
   "metadata": {
    "collapsed": false,
    "ExecuteTime": {
     "end_time": "2023-11-05T16:42:56.845492700Z",
     "start_time": "2023-11-05T16:42:53.475033600Z"
    }
   },
   "id": "76a1e33cb984604b"
  },
  {
   "cell_type": "code",
   "execution_count": null,
   "outputs": [],
   "source": [
    " "
   ],
   "metadata": {
    "collapsed": false
   },
   "id": "6ecab9001185041d"
  }
 ],
 "metadata": {
  "kernelspec": {
   "display_name": "Python 3",
   "language": "python",
   "name": "python3"
  },
  "language_info": {
   "codemirror_mode": {
    "name": "ipython",
    "version": 2
   },
   "file_extension": ".py",
   "mimetype": "text/x-python",
   "name": "python",
   "nbconvert_exporter": "python",
   "pygments_lexer": "ipython2",
   "version": "2.7.6"
  }
 },
 "nbformat": 4,
 "nbformat_minor": 5
}
