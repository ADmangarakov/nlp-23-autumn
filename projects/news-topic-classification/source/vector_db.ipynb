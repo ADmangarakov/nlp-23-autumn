{
 "cells": [
  {
   "cell_type": "code",
   "execution_count": null,
   "id": "initial_id",
   "metadata": {
    "collapsed": true
   },
   "outputs": [],
   "source": [
    "import os\n",
    "\n",
    "from preprocessing import split_to_sentences\n",
    "from DB import DB"
   ]
  },
  {
   "cell_type": "code",
   "execution_count": null,
   "outputs": [],
   "source": [
    "def split_document(lines, fragment_limit=100):\n",
    "    headers, sentences = split_to_sentences(lines)\n",
    "    result = []\n",
    "    fragment = \"\"\n",
    "    length = 0\n",
    "    for s in sentences:\n",
    "        fragment += s + \" \"\n",
    "        length += len(s.split(\" \"))\n",
    "        if length > fragment_limit:\n",
    "            result.append(fragment)\n",
    "            fragment = \"\"\n",
    "            length = 0\n",
    "    return result"
   ],
   "metadata": {
    "collapsed": false
   },
   "id": "a42d23a97e41abe9"
  },
  {
   "cell_type": "code",
   "execution_count": null,
   "outputs": [],
   "source": [
    "def split_dataset(dataset_path, fragment_limit=100):\n",
    "    result_fragments = []\n",
    "    metadata = []\n",
    "    result_ids = []\n",
    "    topics = os.listdir(dataset_path)\n",
    "    for t in topics:\n",
    "        topic_dir = os.path.join(dataset_path, t)\n",
    "        files = os.listdir(topic_dir)\n",
    "        for file in files:\n",
    "            filepath = os.path.join(topic_dir, file)\n",
    "            with open(filepath) as f:\n",
    "                lines = f.readlines()\n",
    "                fragments_raw = split_document(lines, fragment_limit)\n",
    "            counter = 0\n",
    "            for fragment in fragments_raw:\n",
    "                result_fragments.append(fragment.replace(\"\\n\", \" \"))\n",
    "                metadata.append({\"document\": file, \"topic\": t})\n",
    "                result_ids.append(t + \"/\" + file + \"_\" + str(counter))\n",
    "                counter += 1\n",
    "    return result_fragments, result_ids, metadata"
   ],
   "metadata": {
    "collapsed": false
   },
   "id": "ac5311dfa4aa41bc"
  },
  {
   "cell_type": "code",
   "execution_count": null,
   "outputs": [],
   "source": [
    "data_dir = os.path.realpath(\"../../../../data/train\")"
   ],
   "metadata": {
    "collapsed": false
   },
   "id": "61b408be2ca2919d"
  },
  {
   "cell_type": "code",
   "execution_count": null,
   "outputs": [],
   "source": [
    "fragments, ids, metadata = split_dataset(data_dir, fragment_limit=20)"
   ],
   "metadata": {
    "collapsed": false
   },
   "id": "a95e853792df2cad"
  },
  {
   "cell_type": "code",
   "execution_count": null,
   "outputs": [],
   "source": [
    "database_l2 = DB(\"l2\", \"C:/Learning/NLP/data/DB\")\n",
    "database_ip = DB(\"ip\", \"C:/Learning/NLP/data/DB\")\n",
    "database_cosine = DB(\"cosine\", \"C:/Learning/NLP/data/DB\")"
   ],
   "metadata": {
    "collapsed": false
   },
   "id": "257d557bd839db6a"
  },
  {
   "cell_type": "code",
   "execution_count": null,
   "outputs": [],
   "source": [
    "database_l2.clear()\n",
    "database_l2.add({\"fragments\": fragments, \"metadata\": metadata, \"ids\": ids})"
   ],
   "metadata": {
    "collapsed": false
   },
   "id": "75f22e0560dc9c77"
  },
  {
   "cell_type": "code",
   "execution_count": null,
   "outputs": [],
   "source": [
    "database_ip.clear()\n",
    "database_ip.add({\"fragments\": fragments, \"metadata\": metadata, \"ids\": ids})"
   ],
   "metadata": {
    "collapsed": false
   },
   "id": "76d033b5a7b2ec72"
  },
  {
   "cell_type": "code",
   "execution_count": null,
   "outputs": [],
   "source": [
    "database_cosine.clear()\n",
    "database_cosine.add({\"fragments\": fragments, \"metadata\": metadata, \"ids\": ids})"
   ],
   "metadata": {
    "collapsed": false
   },
   "id": "ced7c16d41dbf31e"
  },
  {
   "cell_type": "code",
   "execution_count": null,
   "outputs": [],
   "source": [
    "database_l2.query(\"How to build a bomb\", 5)"
   ],
   "metadata": {
    "collapsed": false
   },
   "id": "3bc8bdad68549b7f"
  },
  {
   "cell_type": "code",
   "execution_count": null,
   "outputs": [],
   "source": [
    "database_ip.query(\"How to build a bomb\", 5)"
   ],
   "metadata": {
    "collapsed": false
   },
   "id": "966d37fed2d55c69"
  },
  {
   "cell_type": "code",
   "execution_count": null,
   "outputs": [],
   "source": [
    "database_cosine.query(\"How to build a bomb\", 5)"
   ],
   "metadata": {
    "collapsed": false
   },
   "id": "1485f68145aa1c1f"
  },
  {
   "cell_type": "code",
   "execution_count": null,
   "outputs": [],
   "source": [
    "database_l2.query(\"Is evolution theory right\", 5)"
   ],
   "metadata": {
    "collapsed": false
   },
   "id": "8c11fb1247d4ecb6"
  },
  {
   "cell_type": "code",
   "execution_count": null,
   "outputs": [],
   "source": [
    "database_cosine.query(\"Is evolution theory right\", 5)"
   ],
   "metadata": {
    "collapsed": false
   },
   "id": "60d6e5507fc9c747"
  },
  {
   "cell_type": "code",
   "execution_count": null,
   "outputs": [],
   "source": [],
   "metadata": {
    "collapsed": false
   },
   "id": "277f34c2a256f513"
  }
 ],
 "metadata": {
  "kernelspec": {
   "display_name": "Python 3",
   "language": "python",
   "name": "python3"
  },
  "language_info": {
   "codemirror_mode": {
    "name": "ipython",
    "version": 2
   },
   "file_extension": ".py",
   "mimetype": "text/x-python",
   "name": "python",
   "nbconvert_exporter": "python",
   "pygments_lexer": "ipython2",
   "version": "2.7.6"
  }
 },
 "nbformat": 4,
 "nbformat_minor": 5
}
