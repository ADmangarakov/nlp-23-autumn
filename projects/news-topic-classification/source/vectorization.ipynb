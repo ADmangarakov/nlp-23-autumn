{
 "cells": [
  {
   "cell_type": "code",
   "execution_count": 1,
   "outputs": [],
   "source": [
    "import os\n",
    "import re\n",
    "import json\n",
    "import pandas as pd\n",
    "import numpy as np\n",
    "import seaborn as sns\n",
    "from nltk.corpus import stopwords\n",
    "from preprocessing import preprocess_text\n",
    "from math import log10\n",
    "from gensim.models import Word2Vec\n",
    "from sklearn.decomposition import PCA"
   ],
   "metadata": {
    "collapsed": false,
    "ExecuteTime": {
     "end_time": "2023-11-15T11:54:51.641487400Z",
     "start_time": "2023-11-15T11:54:51.214845100Z"
    }
   },
   "id": "d7e35c2d93e3339d"
  },
  {
   "cell_type": "code",
   "execution_count": 2,
   "outputs": [],
   "source": [
    "train_dir = os.path.realpath(\"../assets/annotated_corpus/train\")\n",
    "result_dir = os.path.realpath(\"../assets/wordcount/train\")"
   ],
   "metadata": {
    "collapsed": false,
    "ExecuteTime": {
     "end_time": "2023-11-15T11:54:51.648612800Z",
     "start_time": "2023-11-15T11:54:51.642487400Z"
    }
   },
   "id": "initial_id"
  },
  {
   "cell_type": "code",
   "execution_count": 3,
   "outputs": [],
   "source": [
    "topics = os.listdir(train_dir)"
   ],
   "metadata": {
    "collapsed": false,
    "ExecuteTime": {
     "end_time": "2023-11-15T11:54:51.649612100Z",
     "start_time": "2023-11-15T11:54:51.647105600Z"
    }
   },
   "id": "2daf173c723b6ee9"
  },
  {
   "cell_type": "markdown",
   "source": [
    "# Task 1"
   ],
   "metadata": {
    "collapsed": false
   },
   "id": "2bd6102f8a656476"
  },
  {
   "cell_type": "code",
   "execution_count": 4,
   "outputs": [],
   "source": [
    "def get_stems_processed(filepath):\n",
    "    sentences = []\n",
    "    pattern = r\"([A-Za-z]+[-.@]?)+\\w*\\.?\"\n",
    "    with open(filepath) as f:\n",
    "            lines = \"\".join(f.readlines())\n",
    "            sentences_raw = lines.split(\"\\n\\n\")\n",
    "            for s in sentences_raw:\n",
    "                stems = []\n",
    "                words = s.split(\"\\n\")\n",
    "                if len(words) == 0 or words[0] == \"\":\n",
    "                    continue\n",
    "                stems_raw = list(map(lambda x: x.split(\"\\t\")[2], words))\n",
    "                lemmas = list(map(lambda x: x.split(\"\\t\")[2], words))\n",
    "                for i in range(len(stems_raw)):\n",
    "                    if lemmas[i] not in stopwords.words(\"english\") and re.match(pattern, lemmas[i]) is not None:\n",
    "                        stems.append(stems_raw[i])\n",
    "                sentences.append(stems)\n",
    "    return sentences"
   ],
   "metadata": {
    "collapsed": false,
    "ExecuteTime": {
     "end_time": "2023-11-15T11:54:51.657219200Z",
     "start_time": "2023-11-15T11:54:51.648612800Z"
    }
   },
   "id": "2559dc3e03ad4875"
  },
  {
   "cell_type": "code",
   "execution_count": 5,
   "outputs": [],
   "source": [
    "def count_words(sentences, count_by_sentences=False):\n",
    "    word_count = {}\n",
    "    sentences_count = []\n",
    "    for words in sentences:\n",
    "        s_count = {}\n",
    "        for w in words:\n",
    "            if w not in s_count.keys():\n",
    "                s_count[w] = 0\n",
    "            s_count[w] += 1\n",
    "            if w not in word_count.keys():\n",
    "                word_count[w] = 0\n",
    "            word_count[w] += 1\n",
    "        sentences_count.append(s_count)\n",
    "    return sentences_count if count_by_sentences else word_count"
   ],
   "metadata": {
    "collapsed": false,
    "ExecuteTime": {
     "end_time": "2023-11-15T11:54:51.658218500Z",
     "start_time": "2023-11-15T11:54:51.653610100Z"
    }
   },
   "id": "d5021cd9226debb6"
  },
  {
   "cell_type": "code",
   "execution_count": 6,
   "outputs": [],
   "source": [
    "all_documents = []\n",
    "word_dict_raw = {}\n",
    "for t in topics:\n",
    "    workdir = os.path.join(train_dir, t)\n",
    "    for filename in os.listdir(workdir):\n",
    "        stems = get_stems_processed(os.path.join(workdir, filename))\n",
    "        all_documents.append(stems)\n",
    "        counts = count_words(stems)\n",
    "        for w in counts.keys():\n",
    "            if w not in word_dict_raw.keys():\n",
    "                word_dict_raw[w] = 0\n",
    "            word_dict_raw[w] += counts[w]\n",
    "    break # process only 1st topic"
   ],
   "metadata": {
    "collapsed": false,
    "ExecuteTime": {
     "end_time": "2023-11-15T11:55:03.525129Z",
     "start_time": "2023-11-15T11:54:51.659218100Z"
    }
   },
   "id": "b110b36a52c8306e"
  },
  {
   "cell_type": "code",
   "execution_count": 7,
   "outputs": [],
   "source": [
    "word_dict = dict(word_dict_raw)\n",
    "\n",
    "for w in word_dict_raw.keys():\n",
    "    if word_dict_raw[w] < 90:\n",
    "        del word_dict[w]"
   ],
   "metadata": {
    "collapsed": false,
    "ExecuteTime": {
     "end_time": "2023-11-15T11:55:03.529956500Z",
     "start_time": "2023-11-15T11:55:03.526128100Z"
    }
   },
   "id": "8f0bb900731d4150"
  },
  {
   "cell_type": "code",
   "execution_count": 8,
   "outputs": [],
   "source": [
    "if not os.path.isdir(result_dir):\n",
    "    os.makedirs(result_dir, exist_ok=True)\n",
    "with open(os.path.join(result_dir, \"dictionary.json\"), \"w\") as f:\n",
    "    json.dump(word_dict, f, indent=1)"
   ],
   "metadata": {
    "collapsed": false,
    "ExecuteTime": {
     "end_time": "2023-11-15T11:55:03.533631900Z",
     "start_time": "2023-11-15T11:55:03.528956200Z"
    }
   },
   "id": "d43163f1a726311"
  },
  {
   "cell_type": "code",
   "execution_count": 9,
   "outputs": [],
   "source": [
    "doc_names = []\n",
    "matrix_arr = []\n",
    "for t in topics:\n",
    "    workdir = os.path.join(train_dir, t)\n",
    "    for filename in os.listdir(workdir):\n",
    "        doc_names.append(t + \"/\" + filename)\n",
    "        stems = get_stems_processed(os.path.join(workdir, filename))\n",
    "        counts = count_words(stems)\n",
    "        vec = []\n",
    "        for w in word_dict.keys():\n",
    "            if w in counts.keys():\n",
    "                vec.append(counts[w])\n",
    "            else:\n",
    "                vec.append(0)\n",
    "        matrix_arr.append(vec)\n",
    "        if sum(vec) == 0:\n",
    "            print(\"Zero vector for document\", filename)\n",
    "    break # process only 1st topic\n",
    "    "
   ],
   "metadata": {
    "collapsed": false,
    "ExecuteTime": {
     "end_time": "2023-11-15T11:55:13.326846700Z",
     "start_time": "2023-11-15T11:55:03.534632600Z"
    }
   },
   "id": "cf8dd1e55e8e274e"
  },
  {
   "cell_type": "code",
   "execution_count": 10,
   "outputs": [],
   "source": [
    "matrix = pd.DataFrame(matrix_arr)\n",
    "matrix.columns = word_dict.keys()\n",
    "matrix.index = doc_names"
   ],
   "metadata": {
    "collapsed": false,
    "ExecuteTime": {
     "end_time": "2023-11-15T11:55:13.338519900Z",
     "start_time": "2023-11-15T11:55:13.335845400Z"
    }
   },
   "id": "36106ec70f48c833"
  },
  {
   "cell_type": "code",
   "execution_count": 11,
   "outputs": [
    {
     "data": {
      "text/plain": "                       atheist  religion  u  like  one  christian  word  \\\nalt.atheism/49960.tsv        9         6  3     1    4          6     1   \nalt.atheism/51060.tsv       85        37  1     6   17         15     8   \nalt.atheism/51119.tsv        0         0  0     1    5          0     1   \nalt.atheism/51120.tsv        0         3  0     1    1          1     0   \nalt.atheism/51121.tsv        0         0  0     0    0          0     0   \n\n                       people  get  go  ...  want  another  nothing  tell  \\\nalt.atheism/49960.tsv       4    3   2  ...     0        0        0     0   \nalt.atheism/51060.tsv      19    1   2  ...     5        3        2     1   \nalt.atheism/51119.tsv       1    1   1  ...     0        0        1     0   \nalt.atheism/51120.tsv       0    0   0  ...     0        0        0     0   \nalt.atheism/51121.tsv       0    0   0  ...     0        0        0     0   \n\n                       writes  muslim  objective  need  come  islamic  \nalt.atheism/49960.tsv       0       0          0     0     0        0  \nalt.atheism/51060.tsv       0       0          0     0     0        0  \nalt.atheism/51119.tsv       1       0          0     0     0        0  \nalt.atheism/51120.tsv       1       0          0     0     0        0  \nalt.atheism/51121.tsv       1       0          0     0     0        0  \n\n[5 rows x 109 columns]",
      "text/html": "<div>\n<style scoped>\n    .dataframe tbody tr th:only-of-type {\n        vertical-align: middle;\n    }\n\n    .dataframe tbody tr th {\n        vertical-align: top;\n    }\n\n    .dataframe thead th {\n        text-align: right;\n    }\n</style>\n<table border=\"1\" class=\"dataframe\">\n  <thead>\n    <tr style=\"text-align: right;\">\n      <th></th>\n      <th>atheist</th>\n      <th>religion</th>\n      <th>u</th>\n      <th>like</th>\n      <th>one</th>\n      <th>christian</th>\n      <th>word</th>\n      <th>people</th>\n      <th>get</th>\n      <th>go</th>\n      <th>...</th>\n      <th>want</th>\n      <th>another</th>\n      <th>nothing</th>\n      <th>tell</th>\n      <th>writes</th>\n      <th>muslim</th>\n      <th>objective</th>\n      <th>need</th>\n      <th>come</th>\n      <th>islamic</th>\n    </tr>\n  </thead>\n  <tbody>\n    <tr>\n      <th>alt.atheism/49960.tsv</th>\n      <td>9</td>\n      <td>6</td>\n      <td>3</td>\n      <td>1</td>\n      <td>4</td>\n      <td>6</td>\n      <td>1</td>\n      <td>4</td>\n      <td>3</td>\n      <td>2</td>\n      <td>...</td>\n      <td>0</td>\n      <td>0</td>\n      <td>0</td>\n      <td>0</td>\n      <td>0</td>\n      <td>0</td>\n      <td>0</td>\n      <td>0</td>\n      <td>0</td>\n      <td>0</td>\n    </tr>\n    <tr>\n      <th>alt.atheism/51060.tsv</th>\n      <td>85</td>\n      <td>37</td>\n      <td>1</td>\n      <td>6</td>\n      <td>17</td>\n      <td>15</td>\n      <td>8</td>\n      <td>19</td>\n      <td>1</td>\n      <td>2</td>\n      <td>...</td>\n      <td>5</td>\n      <td>3</td>\n      <td>2</td>\n      <td>1</td>\n      <td>0</td>\n      <td>0</td>\n      <td>0</td>\n      <td>0</td>\n      <td>0</td>\n      <td>0</td>\n    </tr>\n    <tr>\n      <th>alt.atheism/51119.tsv</th>\n      <td>0</td>\n      <td>0</td>\n      <td>0</td>\n      <td>1</td>\n      <td>5</td>\n      <td>0</td>\n      <td>1</td>\n      <td>1</td>\n      <td>1</td>\n      <td>1</td>\n      <td>...</td>\n      <td>0</td>\n      <td>0</td>\n      <td>1</td>\n      <td>0</td>\n      <td>1</td>\n      <td>0</td>\n      <td>0</td>\n      <td>0</td>\n      <td>0</td>\n      <td>0</td>\n    </tr>\n    <tr>\n      <th>alt.atheism/51120.tsv</th>\n      <td>0</td>\n      <td>3</td>\n      <td>0</td>\n      <td>1</td>\n      <td>1</td>\n      <td>1</td>\n      <td>0</td>\n      <td>0</td>\n      <td>0</td>\n      <td>0</td>\n      <td>...</td>\n      <td>0</td>\n      <td>0</td>\n      <td>0</td>\n      <td>0</td>\n      <td>1</td>\n      <td>0</td>\n      <td>0</td>\n      <td>0</td>\n      <td>0</td>\n      <td>0</td>\n    </tr>\n    <tr>\n      <th>alt.atheism/51121.tsv</th>\n      <td>0</td>\n      <td>0</td>\n      <td>0</td>\n      <td>0</td>\n      <td>0</td>\n      <td>0</td>\n      <td>0</td>\n      <td>0</td>\n      <td>0</td>\n      <td>0</td>\n      <td>...</td>\n      <td>0</td>\n      <td>0</td>\n      <td>0</td>\n      <td>0</td>\n      <td>1</td>\n      <td>0</td>\n      <td>0</td>\n      <td>0</td>\n      <td>0</td>\n      <td>0</td>\n    </tr>\n  </tbody>\n</table>\n<p>5 rows × 109 columns</p>\n</div>"
     },
     "execution_count": 11,
     "metadata": {},
     "output_type": "execute_result"
    }
   ],
   "source": [
    "matrix.head()"
   ],
   "metadata": {
    "collapsed": false,
    "ExecuteTime": {
     "end_time": "2023-11-15T11:55:13.364503300Z",
     "start_time": "2023-11-15T11:55:13.338519900Z"
    }
   },
   "id": "2469275835db12a2"
  },
  {
   "cell_type": "code",
   "execution_count": 12,
   "outputs": [],
   "source": [
    "matrix.to_csv(os.path.join(result_dir, \"term-document.csv\"))"
   ],
   "metadata": {
    "collapsed": false,
    "ExecuteTime": {
     "end_time": "2023-11-15T11:55:13.395458300Z",
     "start_time": "2023-11-15T11:55:13.352573300Z"
    }
   },
   "id": "6702d77768a1421"
  },
  {
   "cell_type": "markdown",
   "source": [
    "# Task 2"
   ],
   "metadata": {
    "collapsed": false
   },
   "id": "64b6976a8b02fb23"
  },
  {
   "cell_type": "code",
   "execution_count": 13,
   "outputs": [],
   "source": [
    "def tf_idf(words, matrix):\n",
    "    total_words = sum(words.values())\n",
    "    total_documents = len(matrix.index)\n",
    "    result = []\n",
    "    for w in matrix.columns:\n",
    "        if w not in words:\n",
    "            result.append(0.0)\n",
    "            continue\n",
    "        t_f = words[w] / total_words\n",
    "        d_f = sum(matrix[w] > 0)\n",
    "        tfidf = t_f * log10((total_documents + 1) / (d_f + 1))\n",
    "        result.append(tfidf)\n",
    "    return result"
   ],
   "metadata": {
    "collapsed": false,
    "ExecuteTime": {
     "end_time": "2023-11-15T11:55:13.405458Z",
     "start_time": "2023-11-15T11:55:13.360579900Z"
    }
   },
   "id": "51d9dcb672e6d68"
  },
  {
   "cell_type": "code",
   "execution_count": 14,
   "outputs": [],
   "source": [
    "def vectorize_tf_idf(text, matrix):\n",
    "    preprocessed = preprocess_text(text)\n",
    "    text_dict = count_words([preprocessed])\n",
    "    return tf_idf(text_dict, matrix)"
   ],
   "metadata": {
    "collapsed": false,
    "ExecuteTime": {
     "end_time": "2023-11-15T11:55:13.406458600Z",
     "start_time": "2023-11-15T11:55:13.365502800Z"
    }
   },
   "id": "3cb7fdae298659b2"
  },
  {
   "cell_type": "code",
   "execution_count": 15,
   "outputs": [],
   "source": [
    "matrix = pd.read_csv(os.path.join(result_dir, \"term-document.csv\"), index_col=0)"
   ],
   "metadata": {
    "collapsed": false,
    "ExecuteTime": {
     "end_time": "2023-11-15T11:55:13.424457500Z",
     "start_time": "2023-11-15T11:55:13.368808800Z"
    }
   },
   "id": "9cd35ecb4b091b81"
  },
  {
   "cell_type": "code",
   "execution_count": 16,
   "outputs": [
    {
     "data": {
      "text/plain": "                       atheist  religion  u  like  one  christian  word  \\\nalt.atheism/49960.tsv        9         6  3     1    4          6     1   \nalt.atheism/51060.tsv       85        37  1     6   17         15     8   \nalt.atheism/51119.tsv        0         0  0     1    5          0     1   \nalt.atheism/51120.tsv        0         3  0     1    1          1     0   \nalt.atheism/51121.tsv        0         0  0     0    0          0     0   \n\n                       people  get  go  ...  want  another  nothing  tell  \\\nalt.atheism/49960.tsv       4    3   2  ...     0        0        0     0   \nalt.atheism/51060.tsv      19    1   2  ...     5        3        2     1   \nalt.atheism/51119.tsv       1    1   1  ...     0        0        1     0   \nalt.atheism/51120.tsv       0    0   0  ...     0        0        0     0   \nalt.atheism/51121.tsv       0    0   0  ...     0        0        0     0   \n\n                       writes  muslim  objective  need  come  islamic  \nalt.atheism/49960.tsv       0       0          0     0     0        0  \nalt.atheism/51060.tsv       0       0          0     0     0        0  \nalt.atheism/51119.tsv       1       0          0     0     0        0  \nalt.atheism/51120.tsv       1       0          0     0     0        0  \nalt.atheism/51121.tsv       1       0          0     0     0        0  \n\n[5 rows x 109 columns]",
      "text/html": "<div>\n<style scoped>\n    .dataframe tbody tr th:only-of-type {\n        vertical-align: middle;\n    }\n\n    .dataframe tbody tr th {\n        vertical-align: top;\n    }\n\n    .dataframe thead th {\n        text-align: right;\n    }\n</style>\n<table border=\"1\" class=\"dataframe\">\n  <thead>\n    <tr style=\"text-align: right;\">\n      <th></th>\n      <th>atheist</th>\n      <th>religion</th>\n      <th>u</th>\n      <th>like</th>\n      <th>one</th>\n      <th>christian</th>\n      <th>word</th>\n      <th>people</th>\n      <th>get</th>\n      <th>go</th>\n      <th>...</th>\n      <th>want</th>\n      <th>another</th>\n      <th>nothing</th>\n      <th>tell</th>\n      <th>writes</th>\n      <th>muslim</th>\n      <th>objective</th>\n      <th>need</th>\n      <th>come</th>\n      <th>islamic</th>\n    </tr>\n  </thead>\n  <tbody>\n    <tr>\n      <th>alt.atheism/49960.tsv</th>\n      <td>9</td>\n      <td>6</td>\n      <td>3</td>\n      <td>1</td>\n      <td>4</td>\n      <td>6</td>\n      <td>1</td>\n      <td>4</td>\n      <td>3</td>\n      <td>2</td>\n      <td>...</td>\n      <td>0</td>\n      <td>0</td>\n      <td>0</td>\n      <td>0</td>\n      <td>0</td>\n      <td>0</td>\n      <td>0</td>\n      <td>0</td>\n      <td>0</td>\n      <td>0</td>\n    </tr>\n    <tr>\n      <th>alt.atheism/51060.tsv</th>\n      <td>85</td>\n      <td>37</td>\n      <td>1</td>\n      <td>6</td>\n      <td>17</td>\n      <td>15</td>\n      <td>8</td>\n      <td>19</td>\n      <td>1</td>\n      <td>2</td>\n      <td>...</td>\n      <td>5</td>\n      <td>3</td>\n      <td>2</td>\n      <td>1</td>\n      <td>0</td>\n      <td>0</td>\n      <td>0</td>\n      <td>0</td>\n      <td>0</td>\n      <td>0</td>\n    </tr>\n    <tr>\n      <th>alt.atheism/51119.tsv</th>\n      <td>0</td>\n      <td>0</td>\n      <td>0</td>\n      <td>1</td>\n      <td>5</td>\n      <td>0</td>\n      <td>1</td>\n      <td>1</td>\n      <td>1</td>\n      <td>1</td>\n      <td>...</td>\n      <td>0</td>\n      <td>0</td>\n      <td>1</td>\n      <td>0</td>\n      <td>1</td>\n      <td>0</td>\n      <td>0</td>\n      <td>0</td>\n      <td>0</td>\n      <td>0</td>\n    </tr>\n    <tr>\n      <th>alt.atheism/51120.tsv</th>\n      <td>0</td>\n      <td>3</td>\n      <td>0</td>\n      <td>1</td>\n      <td>1</td>\n      <td>1</td>\n      <td>0</td>\n      <td>0</td>\n      <td>0</td>\n      <td>0</td>\n      <td>...</td>\n      <td>0</td>\n      <td>0</td>\n      <td>0</td>\n      <td>0</td>\n      <td>1</td>\n      <td>0</td>\n      <td>0</td>\n      <td>0</td>\n      <td>0</td>\n      <td>0</td>\n    </tr>\n    <tr>\n      <th>alt.atheism/51121.tsv</th>\n      <td>0</td>\n      <td>0</td>\n      <td>0</td>\n      <td>0</td>\n      <td>0</td>\n      <td>0</td>\n      <td>0</td>\n      <td>0</td>\n      <td>0</td>\n      <td>0</td>\n      <td>...</td>\n      <td>0</td>\n      <td>0</td>\n      <td>0</td>\n      <td>0</td>\n      <td>1</td>\n      <td>0</td>\n      <td>0</td>\n      <td>0</td>\n      <td>0</td>\n      <td>0</td>\n    </tr>\n  </tbody>\n</table>\n<p>5 rows × 109 columns</p>\n</div>"
     },
     "execution_count": 16,
     "metadata": {},
     "output_type": "execute_result"
    }
   ],
   "source": [
    "matrix.head()"
   ],
   "metadata": {
    "collapsed": false,
    "ExecuteTime": {
     "end_time": "2023-11-15T11:55:13.424457500Z",
     "start_time": "2023-11-15T11:55:13.382110Z"
    }
   },
   "id": "d853be53c6262033"
  },
  {
   "cell_type": "code",
   "execution_count": 17,
   "outputs": [],
   "source": [
    "t1 = \"\"\"Evolution Designs sell the \"Darwin fish\".  It's a fish symbol, like the ones\n",
    "Christians stick on their cars, but with feet and the word \"Darwin\" written\n",
    "inside.  The deluxe moulded 3D plastic fish is $4.95 postpaid in the US.\"\"\""
   ],
   "metadata": {
    "collapsed": false,
    "ExecuteTime": {
     "end_time": "2023-11-15T11:55:13.424457500Z",
     "start_time": "2023-11-15T11:55:13.390439500Z"
    }
   },
   "id": "bd61b3172b8d9297"
  },
  {
   "cell_type": "code",
   "execution_count": 18,
   "outputs": [],
   "source": [
    "t2 = \"\"\"A story based on the premise that the US Congress is mysteriously\n",
    "assassinated, and fundamentalists quickly take charge of the nation to set it\n",
    "\"right\" again.  The book is the diary of a woman's life as she tries to live\n",
    "under the new Christian theocracy.  Women's right to own property is revoked,\n",
    "and their bank accounts are closed; sinful luxuries are outlawed, and the\n",
    "radio is only used for readings from the Bible.  Crimes are punished\n",
    "retroactively: doctors who performed legal abortions in the \"old world\" are\n",
    "hunted down and hanged.  Atwood's writing style is difficult to get used to\n",
    "at first, but the tale grows more and more chilling as it goes on.\"\"\""
   ],
   "metadata": {
    "collapsed": false,
    "ExecuteTime": {
     "end_time": "2023-11-15T11:55:13.424457500Z",
     "start_time": "2023-11-15T11:55:13.392946300Z"
    }
   },
   "id": "838f6dd06cf84563"
  },
  {
   "cell_type": "code",
   "execution_count": 19,
   "outputs": [
    {
     "data": {
      "text/plain": "[0.0,\n 0.0,\n 0.0,\n 0.0218768751774201,\n 0.012432423012091104,\n 0.03612550989803289,\n 0.031028788166082465,\n 0.0,\n 0.0,\n 0.0,\n 0.0,\n 0.0,\n 0.0,\n 0.0,\n 0.0,\n 0.0,\n 0.0,\n 0.0,\n 0.0,\n 0.0,\n 0.0,\n 0.0,\n 0.0,\n 0.0,\n 0.0,\n 0.0,\n 0.0,\n 0.0,\n 0.0,\n 0.0,\n 0.0,\n 0.0,\n 0.0,\n 0.0,\n 0.0,\n 0.0,\n 0.0,\n 0.0,\n 0.0,\n 0.0,\n 0.0,\n 0.0,\n 0.0,\n 0.0,\n 0.0,\n 0.0,\n 0.0,\n 0.0,\n 0.0,\n 0.0,\n 0.0,\n 0.0,\n 0.0,\n 0.0,\n 0.0,\n 0.0,\n 0.0,\n 0.0,\n 0.0,\n 0.0,\n 0.0,\n 0.0,\n 0.0,\n 0.0,\n 0.0,\n 0.0,\n 0.0,\n 0.0,\n 0.0,\n 0.0,\n 0.0,\n 0.0,\n 0.0,\n 0.0,\n 0.0,\n 0.0,\n 0.0,\n 0.0,\n 0.0,\n 0.0,\n 0.0,\n 0.0,\n 0.0,\n 0.0,\n 0.0,\n 0.0,\n 0.0,\n 0.0,\n 0.0,\n 0.0,\n 0.0,\n 0.0,\n 0.0,\n 0.0,\n 0.0,\n 0.0,\n 0.0,\n 0.0,\n 0.0,\n 0.0,\n 0.0,\n 0.0,\n 0.0,\n 0.0,\n 0.0,\n 0.0,\n 0.0,\n 0.0,\n 0.0]"
     },
     "execution_count": 19,
     "metadata": {},
     "output_type": "execute_result"
    }
   ],
   "source": [
    "vectorize_tf_idf(t1, matrix)"
   ],
   "metadata": {
    "collapsed": false,
    "ExecuteTime": {
     "end_time": "2023-11-15T11:55:14.154655Z",
     "start_time": "2023-11-15T11:55:13.395458300Z"
    }
   },
   "id": "a4ca8f51c13acdee"
  },
  {
   "cell_type": "code",
   "execution_count": 20,
   "outputs": [
    {
     "data": {
      "text/plain": "[0.0,\n 0.0,\n 0.0,\n 0.0,\n 0.0,\n 0.015107031411904663,\n 0.0,\n 0.0,\n 0.011437575143462036,\n 0.0,\n 0.01630573166114663,\n 0.0,\n 0.0,\n 0.0,\n 0.0,\n 0.014674251145129666,\n 0.0,\n 0.0,\n 0.0,\n 0.0,\n 0.0,\n 0.0,\n 0.0,\n 0.0,\n 0.012402637752251484,\n 0.024648134639679607,\n 0.0,\n 0.0,\n 0.015332654284301389,\n 0.014674251145129666,\n 0.0,\n 0.0,\n 0.0,\n 0.0,\n 0.0,\n 0.0,\n 0.0,\n 0.0,\n 0.0,\n 0.0,\n 0.0,\n 0.0,\n 0.0,\n 0.0,\n 0.0,\n 0.0,\n 0.0,\n 0.0,\n 0.0,\n 0.0,\n 0.0,\n 0.0,\n 0.0,\n 0.0,\n 0.0,\n 0.013779378005671819,\n 0.0,\n 0.0,\n 0.0,\n 0.0,\n 0.0,\n 0.0,\n 0.0,\n 0.0,\n 0.0,\n 0.0,\n 0.0,\n 0.0,\n 0.0,\n 0.0,\n 0.0,\n 0.0,\n 0.0,\n 0.0,\n 0.0,\n 0.0,\n 0.0,\n 0.0,\n 0.0,\n 0.0,\n 0.0,\n 0.0,\n 0.0,\n 0.0,\n 0.0,\n 0.0,\n 0.0,\n 0.0,\n 0.0,\n 0.0,\n 0.0,\n 0.0,\n 0.0,\n 0.0,\n 0.0,\n 0.0,\n 0.0,\n 0.0,\n 0.0,\n 0.0,\n 0.0,\n 0.0,\n 0.0,\n 0.0,\n 0.0,\n 0.0,\n 0.0,\n 0.0,\n 0.0]"
     },
     "execution_count": 20,
     "metadata": {},
     "output_type": "execute_result"
    }
   ],
   "source": [
    "vectorize_tf_idf(t2, matrix)"
   ],
   "metadata": {
    "collapsed": false,
    "ExecuteTime": {
     "end_time": "2023-11-15T11:55:14.168587Z",
     "start_time": "2023-11-15T11:55:14.155653500Z"
    }
   },
   "id": "38f0fd44777bb3df"
  },
  {
   "cell_type": "markdown",
   "source": [
    "# Task 3"
   ],
   "metadata": {
    "collapsed": false
   },
   "id": "9679d9c138a81573"
  },
  {
   "cell_type": "code",
   "execution_count": 21,
   "outputs": [],
   "source": [
    "w2v = Word2Vec(sentences=[sentence for document in all_documents for sentence in document], epochs=40)"
   ],
   "metadata": {
    "collapsed": false,
    "ExecuteTime": {
     "end_time": "2023-11-15T11:55:15.024592900Z",
     "start_time": "2023-11-15T11:55:14.176586900Z"
    }
   },
   "id": "f6a868997f2a78cc"
  },
  {
   "cell_type": "code",
   "execution_count": 22,
   "outputs": [
    {
     "data": {
      "text/plain": "[('era', 0.6242043375968933),\n ('brown', 0.6150456666946411),\n ('became', 0.6050876975059509),\n ('honest', 0.5990947484970093),\n ('complain', 0.5651814937591553),\n ('coin', 0.5348435044288635),\n ('loving', 0.5299637317657471),\n ('miracle', 0.52959805727005),\n ('idea', 0.5284479856491089),\n ('arguing', 0.5245609879493713)]"
     },
     "execution_count": 22,
     "metadata": {},
     "output_type": "execute_result"
    }
   ],
   "source": [
    "w2v.wv.most_similar(\"christian\")"
   ],
   "metadata": {
    "collapsed": false,
    "ExecuteTime": {
     "end_time": "2023-11-15T11:55:15.036707600Z",
     "start_time": "2023-11-15T11:55:15.024592900Z"
    }
   },
   "id": "2ce14f862dcbacbd"
  },
  {
   "cell_type": "markdown",
   "source": [
    "# Task 4"
   ],
   "metadata": {
    "collapsed": false
   },
   "id": "59cceb592e3bfd59"
  },
  {
   "cell_type": "code",
   "execution_count": 23,
   "outputs": [],
   "source": [
    "def cosine_similarity(a, b):\n",
    "    return np.dot(a, b)/(np.linalg.norm(a) * np.linalg.norm(b))"
   ],
   "metadata": {
    "collapsed": false,
    "ExecuteTime": {
     "end_time": "2023-11-15T11:55:15.038719900Z",
     "start_time": "2023-11-15T11:55:15.036203400Z"
    }
   },
   "id": "6644db1b68e6d284"
  },
  {
   "cell_type": "code",
   "execution_count": 24,
   "outputs": [
    {
     "data": {
      "text/plain": "0.46441466"
     },
     "execution_count": 24,
     "metadata": {},
     "output_type": "execute_result"
    }
   ],
   "source": [
    "cosine_similarity(w2v.wv[\"christian\"], w2v.wv[\"atheist\"])"
   ],
   "metadata": {
    "collapsed": false,
    "ExecuteTime": {
     "end_time": "2023-11-15T11:55:15.041482Z",
     "start_time": "2023-11-15T11:55:15.038719900Z"
    }
   },
   "id": "44368cd7f4aec1a0"
  },
  {
   "cell_type": "code",
   "execution_count": 25,
   "outputs": [],
   "source": [
    "def draw_words(terms, vectors_source):\n",
    "    pca = PCA(n_components=2)\n",
    "    vectors_2d = pd.DataFrame(pca.fit_transform([vectors_source[term] for term in terms]))\n",
    "    vectors_2d.index = terms\n",
    "    vectors_2d.columns = [\"x\", \"y\"]\n",
    "    \n",
    "    p = sns.scatterplot(vectors_2d, x=\"x\", y=\"y\")\n",
    "    for i in vectors_2d.index:\n",
    "        item = vectors_2d.loc[i]\n",
    "        p.text(item.x, item.y, i)\n",
    "    return p"
   ],
   "metadata": {
    "collapsed": false,
    "ExecuteTime": {
     "end_time": "2023-11-15T11:55:15.045981700Z",
     "start_time": "2023-11-15T11:55:15.043474900Z"
    }
   },
   "id": "c1e9b4f634e29e44"
  },
  {
   "cell_type": "code",
   "execution_count": 26,
   "outputs": [
    {
     "data": {
      "text/plain": "<Axes: xlabel='x', ylabel='y'>"
     },
     "execution_count": 26,
     "metadata": {},
     "output_type": "execute_result"
    },
    {
     "data": {
      "text/plain": "<Figure size 640x480 with 1 Axes>",
      "image/png": "[encoded data removed]"
     },
     "metadata": {},
     "output_type": "display_data"
    }
   ],
   "source": [
    "terms_to_check = [\"christian\", \"jesus\", \"god\", \"muslim\", \"islamic\", \"islam\", \"atheist\", \"time\", \"world\", \"true\", \"wrong\", \"human\", \"person\", \"tell\", \"see\", \"opinion\", \"think\", \"view\", \"religion\"]\n",
    "draw_words(terms_to_check, w2v.wv)"
   ],
   "metadata": {
    "collapsed": false,
    "ExecuteTime": {
     "end_time": "2023-11-15T11:55:15.186935700Z",
     "start_time": "2023-11-15T11:55:15.045981700Z"
    }
   },
   "id": "99ad3a591c7a4730"
  },
  {
   "cell_type": "markdown",
   "source": [
    "# Task 5"
   ],
   "metadata": {
    "collapsed": false
   },
   "id": "29b07d34084b3df5"
  },
  {
   "cell_type": "code",
   "execution_count": 28,
   "outputs": [],
   "source": [
    "def transform_to_compare(vectors):\n",
    "    pca = PCA(n_components=len(w2v.wv[0]))\n",
    "    transformed = pca.fit_transform(vectors)\n",
    "    return transformed"
   ],
   "metadata": {
    "collapsed": false,
    "ExecuteTime": {
     "end_time": "2023-11-15T11:55:15.503379400Z",
     "start_time": "2023-11-15T11:55:15.499285400Z"
    }
   },
   "id": "292ffa81a7262ea1"
  },
  {
   "cell_type": "code",
   "execution_count": 29,
   "outputs": [],
   "source": [
    "terms_vectorized = [vectorize_tf_idf(i, matrix) for i in matrix.columns]"
   ],
   "metadata": {
    "collapsed": false,
    "ExecuteTime": {
     "end_time": "2023-11-15T11:55:15.528790Z",
     "start_time": "2023-11-15T11:55:15.504379Z"
    }
   },
   "id": "6b2500ff8a80d19c"
  },
  {
   "cell_type": "markdown",
   "source": [
    "# Task 6"
   ],
   "metadata": {
    "collapsed": false
   },
   "id": "2220719f794f1158"
  },
  {
   "cell_type": "code",
   "execution_count": 30,
   "outputs": [
    {
     "data": {
      "text/plain": "                 0         1         2         3             4             5   \\\natheist   -0.015747 -0.015390 -0.011894 -0.008664 -1.374645e-16  3.502237e-17   \nreligion  -0.017133 -0.017173 -0.013512 -0.010480 -1.674401e-16  1.031841e-16   \nu         -0.016449 -0.016282 -0.012696 -0.009536 -1.542849e-16 -5.119106e-16   \nlike      -0.013604 -0.012804 -0.009647 -0.006479  4.415714e-17 -1.455129e-16   \none       -0.012257 -0.011274 -0.008369 -0.005382 -1.464115e-16 -8.474203e-17   \n...             ...       ...       ...       ...           ...           ...   \nmuslim    -0.025079 -0.029440 -0.026460 -0.042638 -6.528967e-01 -4.670633e-01   \nobjective -0.011704 -0.010665 -0.007872 -0.004980 -8.066428e-17  7.717361e-18   \nneed      -0.019649 -0.020649 -0.016841 -0.015073 -3.203775e-16  1.116208e-16   \ncome      -0.017244 -0.017318 -0.013646 -0.010642 -4.543234e-16  1.706357e-16   \nislamic    0.940682  0.050632  0.023595  0.007360 -1.057950e-19 -9.104827e-17   \n\n                 6         7             8         9   ...            90  \\\natheist   -0.013296 -0.008398 -9.670062e-17 -0.005530  ...  1.595430e-18   \nreligion  -0.017108 -0.011226  3.010585e-16 -0.008188  ...  1.595430e-18   \nu         -0.015068 -0.009686 -1.254883e-16 -0.006674  ...  1.595430e-18   \nlike      -0.009276 -0.005635 -3.143991e-16 -0.003389  ...  1.595430e-18   \none       -0.007454 -0.004452  5.603275e-17 -0.002582  ...  1.595430e-18   \n...             ...       ...           ...       ...  ...           ...   \nmuslim     0.548011  0.053057  1.593064e-15  0.011228  ...  1.595430e-18   \nobjective -0.006816 -0.004047 -6.689624e-17 -0.002318  ... -1.672930e-17   \nneed      -0.029327 -0.021992 -4.356034e-16 -0.027178  ...  1.595430e-18   \ncome      -0.017471 -0.011507 -7.591945e-16 -0.008484  ...  1.595430e-18   \nislamic    0.007393  0.003879  6.222906e-17  0.001797  ...  3.260228e-17   \n\n                     91            92            93            94  \\\natheist    6.119553e-19 -2.697863e-19  2.036501e-18 -6.307378e-19   \nreligion   6.119553e-19 -2.697863e-19  2.036501e-18 -6.307378e-19   \nu          6.119553e-19 -2.697863e-19  2.036501e-18 -6.307378e-19   \nlike       6.119553e-19 -2.697863e-19  2.036501e-18 -6.307378e-19   \none        6.119553e-19 -2.697863e-19  2.036501e-18 -6.307378e-19   \n...                 ...           ...           ...           ...   \nmuslim     6.119553e-19 -2.697863e-19  2.036501e-18 -6.307378e-19   \nobjective  1.761835e-17  3.936786e-18  9.699881e-18 -6.231424e-18   \nneed       6.119553e-19 -2.697863e-19  2.036501e-18 -6.307378e-19   \ncome       6.119553e-19 -2.697863e-19  2.036501e-18 -6.307378e-19   \nislamic   -1.752397e-17 -1.367870e-17  4.136504e-18 -4.631534e-18   \n\n                     95            96            97            98  \\\natheist   -2.010128e-18 -3.348306e-19 -9.613560e-19  2.823311e-19   \nreligion  -2.010128e-18 -3.348306e-19 -9.613560e-19  2.823311e-19   \nu         -2.010128e-18 -3.348306e-19 -9.613560e-19  2.823311e-19   \nlike      -2.010128e-18 -3.348306e-19 -9.613560e-19  2.823311e-19   \none       -2.010128e-18 -3.348306e-19 -9.613560e-19  2.823311e-19   \n...                 ...           ...           ...           ...   \nmuslim    -2.010128e-18 -3.348306e-19 -9.613560e-19  2.823311e-19   \nobjective -7.656977e-18 -1.190479e-17  1.326562e-17 -3.571001e-17   \nneed      -2.010128e-18 -3.348306e-19 -9.613560e-19  2.823311e-19   \ncome      -2.010128e-18 -3.348306e-19 -9.613560e-19  2.823311e-19   \nislamic    1.147562e-18  6.002242e-18  1.126726e-18  2.850686e-18   \n\n                     99  \natheist    6.781970e-19  \nreligion   6.781970e-19  \nu          6.781970e-19  \nlike       6.781970e-19  \none        6.781970e-19  \n...                 ...  \nmuslim     6.781970e-19  \nobjective  1.774875e-17  \nneed       6.781970e-19  \ncome       6.781970e-19  \nislamic    5.828386e-18  \n\n[109 rows x 100 columns]",
      "text/html": "<div>\n<style scoped>\n    .dataframe tbody tr th:only-of-type {\n        vertical-align: middle;\n    }\n\n    .dataframe tbody tr th {\n        vertical-align: top;\n    }\n\n    .dataframe thead th {\n        text-align: right;\n    }\n</style>\n<table border=\"1\" class=\"dataframe\">\n  <thead>\n    <tr style=\"text-align: right;\">\n      <th></th>\n      <th>0</th>\n      <th>1</th>\n      <th>2</th>\n      <th>3</th>\n      <th>4</th>\n      <th>5</th>\n      <th>6</th>\n      <th>7</th>\n      <th>8</th>\n      <th>9</th>\n      <th>...</th>\n      <th>90</th>\n      <th>91</th>\n      <th>92</th>\n      <th>93</th>\n      <th>94</th>\n      <th>95</th>\n      <th>96</th>\n      <th>97</th>\n      <th>98</th>\n      <th>99</th>\n    </tr>\n  </thead>\n  <tbody>\n    <tr>\n      <th>atheist</th>\n      <td>-0.015747</td>\n      <td>-0.015390</td>\n      <td>-0.011894</td>\n      <td>-0.008664</td>\n      <td>-1.374645e-16</td>\n      <td>3.502237e-17</td>\n      <td>-0.013296</td>\n      <td>-0.008398</td>\n      <td>-9.670062e-17</td>\n      <td>-0.005530</td>\n      <td>...</td>\n      <td>1.595430e-18</td>\n      <td>6.119553e-19</td>\n      <td>-2.697863e-19</td>\n      <td>2.036501e-18</td>\n      <td>-6.307378e-19</td>\n      <td>-2.010128e-18</td>\n      <td>-3.348306e-19</td>\n      <td>-9.613560e-19</td>\n      <td>2.823311e-19</td>\n      <td>6.781970e-19</td>\n    </tr>\n    <tr>\n      <th>religion</th>\n      <td>-0.017133</td>\n      <td>-0.017173</td>\n      <td>-0.013512</td>\n      <td>-0.010480</td>\n      <td>-1.674401e-16</td>\n      <td>1.031841e-16</td>\n      <td>-0.017108</td>\n      <td>-0.011226</td>\n      <td>3.010585e-16</td>\n      <td>-0.008188</td>\n      <td>...</td>\n      <td>1.595430e-18</td>\n      <td>6.119553e-19</td>\n      <td>-2.697863e-19</td>\n      <td>2.036501e-18</td>\n      <td>-6.307378e-19</td>\n      <td>-2.010128e-18</td>\n      <td>-3.348306e-19</td>\n      <td>-9.613560e-19</td>\n      <td>2.823311e-19</td>\n      <td>6.781970e-19</td>\n    </tr>\n    <tr>\n      <th>u</th>\n      <td>-0.016449</td>\n      <td>-0.016282</td>\n      <td>-0.012696</td>\n      <td>-0.009536</td>\n      <td>-1.542849e-16</td>\n      <td>-5.119106e-16</td>\n      <td>-0.015068</td>\n      <td>-0.009686</td>\n      <td>-1.254883e-16</td>\n      <td>-0.006674</td>\n      <td>...</td>\n      <td>1.595430e-18</td>\n      <td>6.119553e-19</td>\n      <td>-2.697863e-19</td>\n      <td>2.036501e-18</td>\n      <td>-6.307378e-19</td>\n      <td>-2.010128e-18</td>\n      <td>-3.348306e-19</td>\n      <td>-9.613560e-19</td>\n      <td>2.823311e-19</td>\n      <td>6.781970e-19</td>\n    </tr>\n    <tr>\n      <th>like</th>\n      <td>-0.013604</td>\n      <td>-0.012804</td>\n      <td>-0.009647</td>\n      <td>-0.006479</td>\n      <td>4.415714e-17</td>\n      <td>-1.455129e-16</td>\n      <td>-0.009276</td>\n      <td>-0.005635</td>\n      <td>-3.143991e-16</td>\n      <td>-0.003389</td>\n      <td>...</td>\n      <td>1.595430e-18</td>\n      <td>6.119553e-19</td>\n      <td>-2.697863e-19</td>\n      <td>2.036501e-18</td>\n      <td>-6.307378e-19</td>\n      <td>-2.010128e-18</td>\n      <td>-3.348306e-19</td>\n      <td>-9.613560e-19</td>\n      <td>2.823311e-19</td>\n      <td>6.781970e-19</td>\n    </tr>\n    <tr>\n      <th>one</th>\n      <td>-0.012257</td>\n      <td>-0.011274</td>\n      <td>-0.008369</td>\n      <td>-0.005382</td>\n      <td>-1.464115e-16</td>\n      <td>-8.474203e-17</td>\n      <td>-0.007454</td>\n      <td>-0.004452</td>\n      <td>5.603275e-17</td>\n      <td>-0.002582</td>\n      <td>...</td>\n      <td>1.595430e-18</td>\n      <td>6.119553e-19</td>\n      <td>-2.697863e-19</td>\n      <td>2.036501e-18</td>\n      <td>-6.307378e-19</td>\n      <td>-2.010128e-18</td>\n      <td>-3.348306e-19</td>\n      <td>-9.613560e-19</td>\n      <td>2.823311e-19</td>\n      <td>6.781970e-19</td>\n    </tr>\n    <tr>\n      <th>...</th>\n      <td>...</td>\n      <td>...</td>\n      <td>...</td>\n      <td>...</td>\n      <td>...</td>\n      <td>...</td>\n      <td>...</td>\n      <td>...</td>\n      <td>...</td>\n      <td>...</td>\n      <td>...</td>\n      <td>...</td>\n      <td>...</td>\n      <td>...</td>\n      <td>...</td>\n      <td>...</td>\n      <td>...</td>\n      <td>...</td>\n      <td>...</td>\n      <td>...</td>\n      <td>...</td>\n    </tr>\n    <tr>\n      <th>muslim</th>\n      <td>-0.025079</td>\n      <td>-0.029440</td>\n      <td>-0.026460</td>\n      <td>-0.042638</td>\n      <td>-6.528967e-01</td>\n      <td>-4.670633e-01</td>\n      <td>0.548011</td>\n      <td>0.053057</td>\n      <td>1.593064e-15</td>\n      <td>0.011228</td>\n      <td>...</td>\n      <td>1.595430e-18</td>\n      <td>6.119553e-19</td>\n      <td>-2.697863e-19</td>\n      <td>2.036501e-18</td>\n      <td>-6.307378e-19</td>\n      <td>-2.010128e-18</td>\n      <td>-3.348306e-19</td>\n      <td>-9.613560e-19</td>\n      <td>2.823311e-19</td>\n      <td>6.781970e-19</td>\n    </tr>\n    <tr>\n      <th>objective</th>\n      <td>-0.011704</td>\n      <td>-0.010665</td>\n      <td>-0.007872</td>\n      <td>-0.004980</td>\n      <td>-8.066428e-17</td>\n      <td>7.717361e-18</td>\n      <td>-0.006816</td>\n      <td>-0.004047</td>\n      <td>-6.689624e-17</td>\n      <td>-0.002318</td>\n      <td>...</td>\n      <td>-1.672930e-17</td>\n      <td>1.761835e-17</td>\n      <td>3.936786e-18</td>\n      <td>9.699881e-18</td>\n      <td>-6.231424e-18</td>\n      <td>-7.656977e-18</td>\n      <td>-1.190479e-17</td>\n      <td>1.326562e-17</td>\n      <td>-3.571001e-17</td>\n      <td>1.774875e-17</td>\n    </tr>\n    <tr>\n      <th>need</th>\n      <td>-0.019649</td>\n      <td>-0.020649</td>\n      <td>-0.016841</td>\n      <td>-0.015073</td>\n      <td>-3.203775e-16</td>\n      <td>1.116208e-16</td>\n      <td>-0.029327</td>\n      <td>-0.021992</td>\n      <td>-4.356034e-16</td>\n      <td>-0.027178</td>\n      <td>...</td>\n      <td>1.595430e-18</td>\n      <td>6.119553e-19</td>\n      <td>-2.697863e-19</td>\n      <td>2.036501e-18</td>\n      <td>-6.307378e-19</td>\n      <td>-2.010128e-18</td>\n      <td>-3.348306e-19</td>\n      <td>-9.613560e-19</td>\n      <td>2.823311e-19</td>\n      <td>6.781970e-19</td>\n    </tr>\n    <tr>\n      <th>come</th>\n      <td>-0.017244</td>\n      <td>-0.017318</td>\n      <td>-0.013646</td>\n      <td>-0.010642</td>\n      <td>-4.543234e-16</td>\n      <td>1.706357e-16</td>\n      <td>-0.017471</td>\n      <td>-0.011507</td>\n      <td>-7.591945e-16</td>\n      <td>-0.008484</td>\n      <td>...</td>\n      <td>1.595430e-18</td>\n      <td>6.119553e-19</td>\n      <td>-2.697863e-19</td>\n      <td>2.036501e-18</td>\n      <td>-6.307378e-19</td>\n      <td>-2.010128e-18</td>\n      <td>-3.348306e-19</td>\n      <td>-9.613560e-19</td>\n      <td>2.823311e-19</td>\n      <td>6.781970e-19</td>\n    </tr>\n    <tr>\n      <th>islamic</th>\n      <td>0.940682</td>\n      <td>0.050632</td>\n      <td>0.023595</td>\n      <td>0.007360</td>\n      <td>-1.057950e-19</td>\n      <td>-9.104827e-17</td>\n      <td>0.007393</td>\n      <td>0.003879</td>\n      <td>6.222906e-17</td>\n      <td>0.001797</td>\n      <td>...</td>\n      <td>3.260228e-17</td>\n      <td>-1.752397e-17</td>\n      <td>-1.367870e-17</td>\n      <td>4.136504e-18</td>\n      <td>-4.631534e-18</td>\n      <td>1.147562e-18</td>\n      <td>6.002242e-18</td>\n      <td>1.126726e-18</td>\n      <td>2.850686e-18</td>\n      <td>5.828386e-18</td>\n    </tr>\n  </tbody>\n</table>\n<p>109 rows × 100 columns</p>\n</div>"
     },
     "execution_count": 30,
     "metadata": {},
     "output_type": "execute_result"
    }
   ],
   "source": [
    "terms_to_compare = pd.DataFrame(transform_to_compare(terms_vectorized))\n",
    "terms_to_compare.index = matrix.columns\n",
    "terms_to_compare"
   ],
   "metadata": {
    "collapsed": false,
    "ExecuteTime": {
     "end_time": "2023-11-15T11:55:15.559634200Z",
     "start_time": "2023-11-15T11:55:15.529790100Z"
    }
   },
   "id": "c879f31ce86d9db6"
  },
  {
   "cell_type": "code",
   "execution_count": 31,
   "outputs": [],
   "source": [
    "def compare_methods(w1, w2):\n",
    "    print(\"Results for words\", w1, \"and\", w2)\n",
    "    print(\"W2V:\", cosine_similarity(w2v.wv[w1], w2v.wv[w2]))\n",
    "    print(\"Tf-Idf:\", cosine_similarity(terms_to_compare.loc[w1], terms_to_compare.loc[w2]))\n",
    "    print()"
   ],
   "metadata": {
    "collapsed": false,
    "ExecuteTime": {
     "end_time": "2023-11-15T11:55:15.559634200Z",
     "start_time": "2023-11-15T11:55:15.554840800Z"
    }
   },
   "id": "7391dc72628e98c0"
  },
  {
   "cell_type": "code",
   "execution_count": 32,
   "outputs": [
    {
     "name": "stdout",
     "output_type": "stream",
     "text": [
      "Results for words islam and islamic\n",
      "W2V: 0.55658764\n",
      "Tf-Idf: 1.0000000000000002\n",
      "\n",
      "Results for words say and tell\n",
      "W2V: 0.33421552\n",
      "Tf-Idf: -0.01419358812209615\n",
      "\n",
      "Results for words say and islam\n",
      "W2V: 0.066667095\n",
      "Tf-Idf: -0.040002382194207084\n"
     ]
    }
   ],
   "source": [
    "compare_methods(\"islam\", \"islamic\")\n",
    "compare_methods(\"say\", \"tell\")\n",
    "compare_methods(\"say\", \"islam\")"
   ],
   "metadata": {
    "collapsed": false,
    "ExecuteTime": {
     "end_time": "2023-11-15T11:55:15.563107800Z",
     "start_time": "2023-11-15T11:55:15.557348Z"
    }
   },
   "id": "2f39e2a38b956be5"
  },
  {
   "cell_type": "code",
   "execution_count": 33,
   "outputs": [
    {
     "data": {
      "text/plain": "-1.0"
     },
     "execution_count": 33,
     "metadata": {},
     "output_type": "execute_result"
    }
   ],
   "source": [
    "cosine_similarity([-1, -2, -4], [1, 2, 4])"
   ],
   "metadata": {
    "collapsed": false,
    "ExecuteTime": {
     "end_time": "2023-11-15T11:55:15.564112200Z",
     "start_time": "2023-11-15T11:55:15.561638800Z"
    }
   },
   "id": "a9b14a2f64ca522f"
  },
  {
   "cell_type": "code",
   "execution_count": 34,
   "outputs": [],
   "source": [
    "tfidf_data = {}\n",
    "for i in range(len(matrix.columns)):\n",
    "    tfidf_data[matrix.columns[i]] = terms_vectorized[i]"
   ],
   "metadata": {
    "collapsed": false,
    "ExecuteTime": {
     "end_time": "2023-11-15T11:55:15.568927100Z",
     "start_time": "2023-11-15T11:55:15.564112200Z"
    }
   },
   "id": "a59991ba89e138f4"
  },
  {
   "cell_type": "code",
   "execution_count": 35,
   "outputs": [
    {
     "data": {
      "text/plain": "<Axes: xlabel='x', ylabel='y'>"
     },
     "execution_count": 35,
     "metadata": {},
     "output_type": "execute_result"
    },
    {
     "data": {
      "text/plain": "<Figure size 640x480 with 1 Axes>",
      "image/png": "[encoded data removed]"
     },
     "metadata": {},
     "output_type": "display_data"
    }
   ],
   "source": [
    "draw_words(terms_to_check, tfidf_data)"
   ],
   "metadata": {
    "collapsed": false,
    "ExecuteTime": {
     "end_time": "2023-11-15T11:55:15.696019600Z",
     "start_time": "2023-11-15T11:55:15.567926900Z"
    }
   },
   "id": "97b13c3080846ab6"
  },
  {
   "cell_type": "markdown",
   "source": [
    "# Task 7"
   ],
   "metadata": {
    "collapsed": false
   },
   "id": "1f88a9abe5f5cb37"
  },
  {
   "cell_type": "code",
   "execution_count": 72,
   "outputs": [],
   "source": [
    "def vectorize(sentences, w2v):\n",
    "    result_vec = np.zeros(w2v.vector_size)\n",
    "    for s in sentences:\n",
    "        sentence_vec = np.zeros(w2v.vector_size)\n",
    "        for w in s:\n",
    "            if w2v.wv.has_index_for(w):\n",
    "                sentence_vec += w2v.wv[w]\n",
    "        sentence_vec = sentence_vec / len(s) if len(s) > 0 else np.zeros(w2v.vector_size)\n",
    "        result_vec += sentence_vec\n",
    "    result_vec = result_vec / len(sentences) if len(sentences) > 0 else np.zeros(w2v.vector_size)\n",
    "    return result_vec"
   ],
   "metadata": {
    "collapsed": false,
    "ExecuteTime": {
     "end_time": "2023-11-15T12:43:32.077015300Z",
     "start_time": "2023-11-15T12:43:32.050509Z"
    }
   },
   "id": "80826ce08ee5a6d3"
  },
  {
   "cell_type": "code",
   "execution_count": 73,
   "outputs": [
    {
     "data": {
      "text/plain": "[['evolut', 'design', 'sell', 'darwin', 'fish'],\n ['fish', 'symbol', 'like', 'one'],\n ['christian', 'stick', 'car', 'feet', 'word', 'darwin', 'written'],\n ['delux', 'mould', '3d', 'plastic', 'fish', 'postpaid', 'us']]"
     },
     "execution_count": 73,
     "metadata": {},
     "output_type": "execute_result"
    }
   ],
   "source": [
    "preprocess_text(t1, True)"
   ],
   "metadata": {
    "collapsed": false,
    "ExecuteTime": {
     "end_time": "2023-11-15T12:43:33.607426800Z",
     "start_time": "2023-11-15T12:43:33.600728Z"
    }
   },
   "id": "9375749ba3399b2b"
  },
  {
   "cell_type": "code",
   "execution_count": 74,
   "outputs": [
    {
     "data": {
      "text/plain": "array([-0.04204241,  0.03296237,  0.08700531,  0.0746068 , -0.07086271,\n       -0.26138871, -0.0418698 ,  0.37853981, -0.08717171, -0.08237496,\n       -0.06488097, -0.1278687 , -0.08095836,  0.00680424, -0.08224174,\n        0.01699184, -0.04895443, -0.17025995,  0.12479181, -0.29970902,\n        0.21093774,  0.03805543, -0.01077029, -0.25536796, -0.01965586,\n        0.00135228, -0.10755542, -0.05358405, -0.13557458,  0.09985812,\n        0.02510427, -0.06889696, -0.06129372, -0.15732238, -0.01856953,\n        0.04396223, -0.04401058, -0.11649604,  0.06344152, -0.09122724,\n        0.01105387, -0.09118546, -0.114892  , -0.06795187,  0.23766756,\n       -0.04335369,  0.04365114, -0.10674193,  0.0201255 ,  0.10615522,\n        0.04812667,  0.02016139,  0.10588337,  0.05173719, -0.06125754,\n       -0.06986161,  0.03673267,  0.0705549 , -0.05413383, -0.00873108,\n        0.00530004, -0.03378986,  0.06994757,  0.12380662, -0.24027117,\n        0.15178992, -0.03573252,  0.06029197, -0.06825111,  0.12029287,\n       -0.08911265,  0.17841993,  0.23278415, -0.08758096,  0.09285087,\n        0.0609251 ,  0.00499257, -0.05409352, -0.05950267,  0.03176569,\n       -0.1275122 , -0.04537124, -0.10903957,  0.11644874,  0.04502798,\n       -0.07033698, -0.09905821,  0.04994502,  0.10462513,  0.03961527,\n        0.31157636,  0.10518234,  0.18183707,  0.20168863,  0.34084626,\n        0.09117581, -0.06322975, -0.04097098, -0.13058307, -0.04544367])"
     },
     "execution_count": 74,
     "metadata": {},
     "output_type": "execute_result"
    }
   ],
   "source": [
    "vectorize(preprocess_text(t1, True), w2v)"
   ],
   "metadata": {
    "collapsed": false,
    "ExecuteTime": {
     "end_time": "2023-11-15T12:43:33.809893400Z",
     "start_time": "2023-11-15T12:43:33.801172700Z"
    }
   },
   "id": "c16ddc9ebaeb5f86"
  },
  {
   "cell_type": "markdown",
   "source": [
    " # Task 8"
   ],
   "metadata": {
    "collapsed": false
   },
   "id": "1589de74e0bde7d6"
  },
  {
   "cell_type": "code",
   "execution_count": 75,
   "outputs": [],
   "source": [
    "vectorized_documents = {}\n",
    "for t in topics:\n",
    "    workdir = os.path.join(train_dir, t)\n",
    "    for filename in os.listdir(workdir):\n",
    "        stems = get_stems_processed(os.path.join(workdir, filename))\n",
    "        vectorized_documents[os.path.join(t, filename)] = vectorize(stems, w2v)\n",
    "    break # process only 1st topic"
   ],
   "metadata": {
    "collapsed": false,
    "ExecuteTime": {
     "end_time": "2023-11-15T12:43:45.652209600Z",
     "start_time": "2023-11-15T12:43:35.572963600Z"
    }
   },
   "id": "e3c2237e03de079b"
  },
  {
   "cell_type": "code",
   "execution_count": 76,
   "outputs": [],
   "source": [
    "with open(os.path.join(train_dir, \"..\", \"train_embeddings.tsv\"), \"w\") as f:\n",
    "    for k in vectorized_documents.keys():\n",
    "        print(k.replace(\".tsv\", \"\"), *vectorized_documents[k], sep=\"\\t\", file=f)"
   ],
   "metadata": {
    "collapsed": false,
    "ExecuteTime": {
     "end_time": "2023-11-15T12:43:45.699947100Z",
     "start_time": "2023-11-15T12:43:45.653211700Z"
    }
   },
   "id": "d29a38f81b9629f6"
  },
  {
   "cell_type": "code",
   "execution_count": null,
   "outputs": [],
   "source": [],
   "metadata": {
    "collapsed": false
   },
   "id": "d8d2e4746877d67"
  }
 ],
 "metadata": {
  "kernelspec": {
   "display_name": "Python 3",
   "language": "python",
   "name": "python3"
  },
  "language_info": {
   "codemirror_mode": {
    "name": "ipython",
    "version": 2
   },
   "file_extension": ".py",
   "mimetype": "text/x-python",
   "name": "python",
   "nbconvert_exporter": "python",
   "pygments_lexer": "ipython2",
   "version": "2.7.6"
  }
 },
 "nbformat": 4,
 "nbformat_minor": 5
}
