{
 "cells": [
  {
   "cell_type": "code",
   "execution_count": 18,
   "outputs": [],
   "source": [
    "import os\n",
    "import json\n",
    "from nltk.corpus import stopwords"
   ],
   "metadata": {
    "collapsed": false,
    "ExecuteTime": {
     "end_time": "2023-11-01T16:38:32.839653300Z",
     "start_time": "2023-11-01T16:38:32.815Z"
    }
   },
   "id": "d7e35c2d93e3339d"
  },
  {
   "cell_type": "code",
   "execution_count": 24,
   "outputs": [],
   "source": [
    "train_dir = os.path.realpath(\"../assets/annotated_corpus/train\")\n",
    "result_dir = os.path.realpath(\"../assets/wordcount/train\")"
   ],
   "metadata": {
    "collapsed": false,
    "ExecuteTime": {
     "end_time": "2023-11-01T16:38:58.526508100Z",
     "start_time": "2023-11-01T16:38:58.495772Z"
    }
   },
   "id": "initial_id"
  },
  {
   "cell_type": "code",
   "execution_count": 25,
   "outputs": [],
   "source": [
    "topics = os.listdir(train_dir)"
   ],
   "metadata": {
    "collapsed": false,
    "ExecuteTime": {
     "end_time": "2023-11-01T16:38:58.832480900Z",
     "start_time": "2023-11-01T16:38:58.821551900Z"
    }
   },
   "id": "2daf173c723b6ee9"
  },
  {
   "cell_type": "code",
   "execution_count": 26,
   "outputs": [],
   "source": [
    "def get_stems_processed(filepath):\n",
    "    stems = []\n",
    "    with open(os.path.join(workdir, filename)) as f:\n",
    "            lines = \"\".join(f.readlines())\n",
    "            sentences_raw = lines.split(\"\\n\\n\")\n",
    "            for s in sentences_raw:\n",
    "                words = s.split(\"\\n\")\n",
    "                if len(words) == 0 or words[0] == \"\":\n",
    "                    continue\n",
    "                stems_raw = list(map(lambda x: x.split(\"\\t\")[1], words))\n",
    "                lemmas = list(map(lambda x: x.split(\"\\t\")[2], words))\n",
    "                for i in range(len(stems_raw)):\n",
    "                    if lemmas[i] not in stopwords.words(\"english\"):\n",
    "                        stems.append(stems_raw[i])\n",
    "    return stems"
   ],
   "metadata": {
    "collapsed": false,
    "ExecuteTime": {
     "end_time": "2023-11-01T16:38:59.194066800Z",
     "start_time": "2023-11-01T16:38:59.171034600Z"
    }
   },
   "id": "2559dc3e03ad4875"
  },
  {
   "cell_type": "code",
   "execution_count": 27,
   "outputs": [],
   "source": [
    "def count_words(words):\n",
    "    word_count = {}\n",
    "    for w in words:\n",
    "        if w not in word_count.keys():\n",
    "            word_count[w] = 0\n",
    "        word_count[w] += 1\n",
    "    return word_count"
   ],
   "metadata": {
    "collapsed": false,
    "ExecuteTime": {
     "end_time": "2023-11-01T16:38:59.473627700Z",
     "start_time": "2023-11-01T16:38:59.455033800Z"
    }
   },
   "id": "d5021cd9226debb6"
  },
  {
   "cell_type": "code",
   "execution_count": 32,
   "outputs": [],
   "source": [
    "for t in topics:\n",
    "    workdir = os.path.join(train_dir, t)\n",
    "    resdir = os.path.join(result_dir, t)\n",
    "    if not os.path.isdir(resdir):\n",
    "        os.makedirs(resdir)\n",
    "    for filename in os.listdir(workdir):\n",
    "        stems = get_stems_processed(os.path.join(workdir, filename))\n",
    "        word_dict = count_words(stems)\n",
    "        word_dict = dict(sorted(word_dict.items(), key=lambda x: -x[1]))\n",
    "        with open(os.path.join(result_dir, t, filename.split(\".\")[0] + \".json\"), \"w\") as f:\n",
    "            json.dump(word_dict, f, indent=1)\n",
    "    "
   ],
   "metadata": {
    "collapsed": false,
    "ExecuteTime": {
     "end_time": "2023-11-03T15:36:01.372556500Z",
     "start_time": "2023-11-03T15:29:50.586139300Z"
    }
   },
   "id": "b110b36a52c8306e"
  },
  {
   "cell_type": "code",
   "execution_count": null,
   "outputs": [],
   "source": [],
   "metadata": {
    "collapsed": false
   },
   "id": "3e12d3573ea29ee7"
  }
 ],
 "metadata": {
  "kernelspec": {
   "display_name": "Python 3",
   "language": "python",
   "name": "python3"
  },
  "language_info": {
   "codemirror_mode": {
    "name": "ipython",
    "version": 2
   },
   "file_extension": ".py",
   "mimetype": "text/x-python",
   "name": "python",
   "nbconvert_exporter": "python",
   "pygments_lexer": "ipython2",
   "version": "2.7.6"
  }
 },
 "nbformat": 4,
 "nbformat_minor": 5
}
