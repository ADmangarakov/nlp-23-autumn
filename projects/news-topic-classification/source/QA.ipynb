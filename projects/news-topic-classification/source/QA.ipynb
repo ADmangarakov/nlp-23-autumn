{
 "cells": [
  {
   "cell_type": "code",
   "execution_count": null,
   "id": "initial_id",
   "metadata": {
    "collapsed": true
   },
   "outputs": [],
   "source": [
    "from ctransformers import AutoModelForCausalLM\n",
    "from DB import DB\n",
    "import gradio as gr"
   ]
  },
  {
   "cell_type": "code",
   "execution_count": null,
   "outputs": [],
   "source": [
    "llm = AutoModelForCausalLM.from_pretrained(\"TheBloke/Mistral-7B-OpenOrca-GGUF\", model_file=\"mistral-7b-openorca.Q4_K_M.gguf\", model_type=\"mistral\", gpu_layers=50)"
   ],
   "metadata": {
    "collapsed": false
   },
   "id": "4e1ecc822411f418"
  },
  {
   "cell_type": "code",
   "execution_count": null,
   "outputs": [],
   "source": [
    "database = DB(\"l2\", \"C:/Learning/NLP/data/DB\")"
   ],
   "metadata": {
    "collapsed": false
   },
   "id": "61a4e8040fd0c7ec"
  },
  {
   "cell_type": "code",
   "execution_count": null,
   "outputs": [],
   "source": [
    "def process_request(message, history):\n",
    "    context = \"\\n\".join(database.query(message, 5)[\"documents\"][0])\n",
    "    prompt = \"Answer the question using provided context. Your answer should be in your own words and be no longer than 50 words.\\n\"\n",
    "    prompt += \"Context: \" + context + \"\\n\"\n",
    "    prompt += \"Question: \" + message + \"\\n\"\n",
    "    prompt += \"Answer: \"\n",
    "    answer = llm(prompt)\n",
    "    return \"[\" + prompt + \"]\\n\\n\" + answer"
   ],
   "metadata": {
    "collapsed": false
   },
   "id": "57039b2e5263e03a"
  },
  {
   "cell_type": "code",
   "execution_count": null,
   "outputs": [],
   "source": [
    "demo = gr.ChatInterface(fn=process_request, title=\"Chat bot\")\n",
    "demo.launch()"
   ],
   "metadata": {
    "collapsed": false
   },
   "id": "e6b4e26fbb6b8837"
  },
  {
   "cell_type": "code",
   "execution_count": null,
   "outputs": [],
   "source": [],
   "metadata": {
    "collapsed": false
   },
   "id": "c850f4eabaa7912f"
  }
 ],
 "metadata": {
  "kernelspec": {
   "display_name": "Python 3",
   "language": "python",
   "name": "python3"
  },
  "language_info": {
   "codemirror_mode": {
    "name": "ipython",
    "version": 2
   },
   "file_extension": ".py",
   "mimetype": "text/x-python",
   "name": "python",
   "nbconvert_exporter": "python",
   "pygments_lexer": "ipython2",
   "version": "2.7.6"
  }
 },
 "nbformat": 4,
 "nbformat_minor": 5
}
