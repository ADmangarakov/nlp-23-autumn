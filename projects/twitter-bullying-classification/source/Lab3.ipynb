{
 "cells": [
  {
   "cell_type": "code",
   "execution_count": 2,
   "id": "766954ec-7ef4-4cd3-a1f4-16da2220e3a1",
   "metadata": {},
   "outputs": [],
   "source": [
    "import os\n",
    "import regex\n",
    "import math\n",
    "import csv\n",
    "from collections import Counter, OrderedDict\n",
    "from functools import reduce\n",
    "from operator import add\n",
    "\n",
    "import numpy as np\n",
    "import pandas as pd\n",
    "from nltk.corpus import stopwords\n",
    "from scipy import spatial\n",
    "from sklearn.decomposition import PCA\n",
    "import matplotlib.pyplot as plt\n",
    "\n",
    "from gensim.models import Word2Vec\n",
    "from tqdm.notebook import tqdm"
   ]
  },
  {
   "cell_type": "markdown",
   "id": "ff11cff2-441e-49a8-9698-ffa10e8d6e7a",
   "metadata": {},
   "source": [
    "# Пункт 1. Чтение данных и построение матрицы Term-Document"
   ]
  },
  {
   "cell_type": "code",
   "execution_count": 3,
   "id": "cdfb9ed8-c2bf-485a-9407-3fa3ff961895",
   "metadata": {},
   "outputs": [],
   "source": [
    "stop_words = set(stopwords.words('english'))\n",
    "emotiocons = r'(?:(?::|;|=)(?:-|_)?(?:\\)|\\(|D|P))|(?:[-*]_[-*])'\n",
    "ending_signs = r'(?:\\?|\\.|\\.\\.\\.|\\!|\\?\\!|\\!\\?)$'\n",
    "\n",
    "def read_data(subset=\"train\", squeeze_text=True, collect_analysis=True):\n",
    "\n",
    "    # if squeeze_text=True, then we won't split text by sentences and each text will consist with one array of tokens\n",
    "    # if squeeze_text=False, then wil be created corpus of all sentences\n",
    "    \n",
    "    token_frequency = Counter()\n",
    "    term_document_matrix = Counter()\n",
    "    term_document_matrix_v2 = dict()\n",
    "    \n",
    "    texts = dict()\n",
    "    \n",
    "    # Перебираем папки\n",
    "    for folder in tqdm(['age', 'ethnicity', 'gender', 'religion', 'other_cyberbullying', 'not_cyberbullying']):\n",
    "        # Путь к папке\n",
    "        folder_path = os.path.join(f'../assets/annotated-corpus/', subset, folder)\n",
    "        # Перебираем файлы в папке\n",
    "        for file in tqdm(os.listdir(folder_path)):\n",
    "            # Если это tsv файл\n",
    "            if file.endswith('.tsv'):\n",
    "                # Путь к файлу\n",
    "                file_path = os.path.join(folder_path, file)\n",
    "                # Читаем файл\n",
    "                try: \n",
    "                    df = pd.read_csv(file_path, sep='\\t', header=None)\n",
    "                except pd.errors.EmptyDataError:\n",
    "                    continue\n",
    "                    \n",
    "                # Группируем токены по предложениям (предполагает, что предложение отделено пустой строкой)\n",
    "                text = list()\n",
    "                sentence = list()\n",
    "                tokens_list = df[0].tolist()\n",
    "                for token in tokens_list:\n",
    "                    token = str(token).lower()\n",
    "                    if (regex.search(emotiocons, token) is None and regex.search(ending_signs, token) is not None) \\\n",
    "                        or token in stop_words:\n",
    "                        continue\n",
    "                    \n",
    "                    if squeeze_text:\n",
    "                        if token == 'nan':\n",
    "                            continue\n",
    "                        text.append(token)\n",
    "                    else:\n",
    "                        if token == 'nan':\n",
    "                            if len(sentence) > 0:\n",
    "                                text.append(sentence)\n",
    "                            sentence = []\n",
    "                            continue\n",
    "                        else:\n",
    "                            sentence.append(token)\n",
    "                    \n",
    "                    if collect_analysis:\n",
    "                        token_frequency[token] += 1\n",
    "                        doc_name = f\"{folder}_{file.rsplit('.', 1)[0]}\"\n",
    "                        term_document_matrix[(token, doc_name)] += 1\n",
    "                        if token not in term_document_matrix_v2:\n",
    "                            term_document_matrix_v2[token] = { doc_name: 1 }\n",
    "                        else:\n",
    "                            if doc_name not in term_document_matrix_v2[token]:\n",
    "                                term_document_matrix_v2[token][doc_name] = 1\n",
    "                            else:\n",
    "                                term_document_matrix_v2[token][doc_name] += 1\n",
    "                \n",
    "                if not squeeze_text and len(sentence) > 0:\n",
    "                    text.append(sentence)\n",
    "                \n",
    "                if len(text) > 0:\n",
    "                    texts[f\"{folder}_{file.rsplit('.', 1)[0]}\"] = text\n",
    "                    \n",
    "    return texts, token_frequency, term_document_matrix, term_document_matrix_v2"
   ]
  },
  {
   "cell_type": "code",
   "execution_count": 4,
   "id": "646e5c0c-591f-477b-9d64-6dfea5024cfc",
   "metadata": {},
   "outputs": [
    {
     "data": {
      "application/vnd.jupyter.widget-view+json": {
       "model_id": "a5aad1dd67a146f0a66761272e6b6355",
       "version_major": 2,
       "version_minor": 0
      },
      "text/plain": [
       "  0%|          | 0/6 [00:00<?, ?it/s]"
      ]
     },
     "metadata": {},
     "output_type": "display_data"
    },
    {
     "data": {
      "application/vnd.jupyter.widget-view+json": {
       "model_id": "5e9d99dced8045b1969919b86000f9cd",
       "version_major": 2,
       "version_minor": 0
      },
      "text/plain": [
       "  0%|          | 0/6024 [00:00<?, ?it/s]"
      ]
     },
     "metadata": {},
     "output_type": "display_data"
    },
    {
     "data": {
      "application/vnd.jupyter.widget-view+json": {
       "model_id": "3d3d69bca5ce44fcbc27a1a7b56cbb1a",
       "version_major": 2,
       "version_minor": 0
      },
      "text/plain": [
       "  0%|          | 0/5941 [00:00<?, ?it/s]"
      ]
     },
     "metadata": {},
     "output_type": "display_data"
    },
    {
     "data": {
      "application/vnd.jupyter.widget-view+json": {
       "model_id": "6348885f667c4d2f9c164dab470e5a27",
       "version_major": 2,
       "version_minor": 0
      },
      "text/plain": [
       "  0%|          | 0/6029 [00:00<?, ?it/s]"
      ]
     },
     "metadata": {},
     "output_type": "display_data"
    },
    {
     "data": {
      "application/vnd.jupyter.widget-view+json": {
       "model_id": "fcdc82f7740a4f3e8a7e768ebe3f5767",
       "version_major": 2,
       "version_minor": 0
      },
      "text/plain": [
       "  0%|          | 0/6021 [00:00<?, ?it/s]"
      ]
     },
     "metadata": {},
     "output_type": "display_data"
    },
    {
     "data": {
      "application/vnd.jupyter.widget-view+json": {
       "model_id": "9d28f437f5344884a2a6ce0c3e3f1467",
       "version_major": 2,
       "version_minor": 0
      },
      "text/plain": [
       "  0%|          | 0/5851 [00:00<?, ?it/s]"
      ]
     },
     "metadata": {},
     "output_type": "display_data"
    },
    {
     "data": {
      "application/vnd.jupyter.widget-view+json": {
       "model_id": "7b9cc61680874b3693040b27f8effc56",
       "version_major": 2,
       "version_minor": 0
      },
      "text/plain": [
       "  0%|          | 0/5876 [00:00<?, ?it/s]"
      ]
     },
     "metadata": {},
     "output_type": "display_data"
    }
   ],
   "source": [
    "train_texts, token_frequency, term_document_matrix, term_document_matrix_v2 = read_data(\"train\", True, True)"
   ]
  },
  {
   "cell_type": "code",
   "execution_count": 5,
   "id": "efab908b-cf53-476e-95d9-2fdc367f48c9",
   "metadata": {},
   "outputs": [
    {
     "data": {
      "application/vnd.jupyter.widget-view+json": {
       "model_id": "09711b00fb584ef29760fae642685791",
       "version_major": 2,
       "version_minor": 0
      },
      "text/plain": [
       "  0%|          | 0/6 [00:00<?, ?it/s]"
      ]
     },
     "metadata": {},
     "output_type": "display_data"
    },
    {
     "data": {
      "application/vnd.jupyter.widget-view+json": {
       "model_id": "9edc651312494c37a58605e4ad269c8d",
       "version_major": 2,
       "version_minor": 0
      },
      "text/plain": [
       "  0%|          | 0/1968 [00:00<?, ?it/s]"
      ]
     },
     "metadata": {},
     "output_type": "display_data"
    },
    {
     "data": {
      "application/vnd.jupyter.widget-view+json": {
       "model_id": "b21db367c521405c9cc06ee8070115bd",
       "version_major": 2,
       "version_minor": 0
      },
      "text/plain": [
       "  0%|          | 0/2018 [00:00<?, ?it/s]"
      ]
     },
     "metadata": {},
     "output_type": "display_data"
    },
    {
     "data": {
      "application/vnd.jupyter.widget-view+json": {
       "model_id": "72676946d48945e08a3c8e139d1e3cd9",
       "version_major": 2,
       "version_minor": 0
      },
      "text/plain": [
       "  0%|          | 0/1919 [00:00<?, ?it/s]"
      ]
     },
     "metadata": {},
     "output_type": "display_data"
    },
    {
     "data": {
      "application/vnd.jupyter.widget-view+json": {
       "model_id": "0d5ca5ea1dea49fea2a1f0a060e57a04",
       "version_major": 2,
       "version_minor": 0
      },
      "text/plain": [
       "  0%|          | 0/1976 [00:00<?, ?it/s]"
      ]
     },
     "metadata": {},
     "output_type": "display_data"
    },
    {
     "data": {
      "application/vnd.jupyter.widget-view+json": {
       "model_id": "f1150b0e3640459b85f01bba78c066e2",
       "version_major": 2,
       "version_minor": 0
      },
      "text/plain": [
       "  0%|          | 0/1972 [00:00<?, ?it/s]"
      ]
     },
     "metadata": {},
     "output_type": "display_data"
    },
    {
     "data": {
      "application/vnd.jupyter.widget-view+json": {
       "model_id": "c82750bbe4d54143ad1c07a510988a26",
       "version_major": 2,
       "version_minor": 0
      },
      "text/plain": [
       "  0%|          | 0/2061 [00:00<?, ?it/s]"
      ]
     },
     "metadata": {},
     "output_type": "display_data"
    }
   ],
   "source": [
    "test_texts, _, _, _ = read_data(\"test\", True, False)"
   ]
  },
  {
   "cell_type": "markdown",
   "id": "0440432b-4b23-4927-a06a-1b890f957bf3",
   "metadata": {},
   "source": [
    "# Пункт 2. Построение матрицы TD-IDF"
   ]
  },
  {
   "cell_type": "markdown",
   "id": "555d640e-5205-4e36-b703-dda77f721894",
   "metadata": {},
   "source": [
    "### Чистим данные от редких токенов"
   ]
  },
  {
   "cell_type": "code",
   "execution_count": 6,
   "id": "1fc22a6d-1c03-4c7d-8f04-7e45b7ca107c",
   "metadata": {},
   "outputs": [],
   "source": [
    "token_frequency_copy = token_frequency.copy()"
   ]
  },
  {
   "cell_type": "code",
   "execution_count": 7,
   "id": "590cdaff-9e79-4974-9445-17e76b25d1b2",
   "metadata": {},
   "outputs": [],
   "source": [
    "for k, v in token_frequency.items():\n",
    "    if v < 2:\n",
    "        del token_frequency_copy[k]"
   ]
  },
  {
   "cell_type": "code",
   "execution_count": 8,
   "id": "c2554bad-9e49-445d-ab49-0ffd983aff2a",
   "metadata": {},
   "outputs": [],
   "source": [
    "# Находим токены, которые встречаются 1 раз\n",
    "rare_tokens = dict(filter(lambda x: x[1] < 2, token_frequency.items())).keys()"
   ]
  },
  {
   "cell_type": "code",
   "execution_count": 10,
   "id": "6c2a0ef0-4909-4d71-a8e9-35f5f81d7178",
   "metadata": {},
   "outputs": [
    {
     "data": {
      "text/plain": [
       "(52603, 20015)"
      ]
     },
     "execution_count": 10,
     "metadata": {},
     "output_type": "execute_result"
    }
   ],
   "source": [
    "len(token_frequency), len(token_frequency) - len(rare_tokens)"
   ]
  },
  {
   "cell_type": "code",
   "execution_count": null,
   "id": "d430cdf3-17e9-4958-aee8-5a6fffaeb5a1",
   "metadata": {},
   "outputs": [],
   "source": []
  },
  {
   "cell_type": "code",
   "execution_count": 11,
   "id": "23dceb28-3275-45bf-8e57-37175571c3ef",
   "metadata": {},
   "outputs": [],
   "source": [
    "term_document_matrix_copy_v2 = term_document_matrix_v2.copy()"
   ]
  },
  {
   "cell_type": "code",
   "execution_count": 12,
   "id": "b3f1138f-e91c-4112-b84d-1f4d0d2a4e59",
   "metadata": {},
   "outputs": [],
   "source": [
    "for k, v in term_document_matrix_v2.items():\n",
    "    if k in rare_tokens:\n",
    "        del term_document_matrix_copy_v2[k]"
   ]
  },
  {
   "cell_type": "code",
   "execution_count": 13,
   "id": "468029b6-bc35-4e3c-8eea-74882561c695",
   "metadata": {},
   "outputs": [
    {
     "data": {
      "text/plain": [
       "(52603, 20015)"
      ]
     },
     "execution_count": 13,
     "metadata": {},
     "output_type": "execute_result"
    }
   ],
   "source": [
    "len(term_document_matrix_v2), len(term_document_matrix_copy_v2)"
   ]
  },
  {
   "cell_type": "markdown",
   "id": "692085f4-f55d-4653-8df6-2c611f46254b",
   "metadata": {},
   "source": [
    "### Строим матрицу Document-Term"
   ]
  },
  {
   "cell_type": "code",
   "execution_count": 14,
   "id": "f7d63911-9203-425a-b55e-284a455558fc",
   "metadata": {},
   "outputs": [],
   "source": [
    "document_term_matrix_v2  = dict()\n",
    "\n",
    "for term, v in term_document_matrix_copy_v2.items():\n",
    "    for doc, val in v.items():\n",
    "        if doc not in document_term_matrix_v2:\n",
    "            document_term_matrix_v2[doc] = { term: val }\n",
    "        else:\n",
    "            document_term_matrix_v2[doc][term] = val"
   ]
  },
  {
   "cell_type": "code",
   "execution_count": 15,
   "id": "3d7ef1be-57b8-425e-93bb-aaf10e2f3d6a",
   "metadata": {},
   "outputs": [
    {
     "data": {
      "text/plain": [
       "35095"
      ]
     },
     "execution_count": 15,
     "metadata": {},
     "output_type": "execute_result"
    }
   ],
   "source": [
    "len(dict(filter(lambda x: len(x[1]) > 1, document_term_matrix_v2.items())))"
   ]
  },
  {
   "cell_type": "code",
   "execution_count": 16,
   "id": "236c0370-89db-4b37-9859-4e1158de98ee",
   "metadata": {},
   "outputs": [
    {
     "data": {
      "text/plain": [
       "19521"
      ]
     },
     "execution_count": 16,
     "metadata": {},
     "output_type": "execute_result"
    }
   ],
   "source": [
    "len(dict(filter(lambda x: len(x[1]) > 1, term_document_matrix_v2.items())))"
   ]
  },
  {
   "cell_type": "markdown",
   "id": "b38973f3-5ecf-4d43-8b90-8cc3e1fa2574",
   "metadata": {},
   "source": [
    "### Строим матрицу TF-IDF"
   ]
  },
  {
   "cell_type": "code",
   "execution_count": 12,
   "id": "0eacab7c-a51b-4d61-883a-8d881b9fef68",
   "metadata": {},
   "outputs": [],
   "source": [
    "td_matrix = term_document_matrix_copy_v2\n",
    "dt_matrix = document_term_matrix_v2\n",
    "\n",
    "documents = dt_matrix.keys()\n",
    "n = len(dt_matrix)\n",
    "\n",
    "tf_idf = dict()\n",
    "\n",
    "for doc, term_vals in dt_matrix.items():\n",
    "    temp_calc = dict()\n",
    "    for term, val in term_vals.items():\n",
    "        tf = val / sum(term_vals.values())\n",
    "        idf = math.log(n / len(td_matrix[term].keys()))\n",
    "        temp_calc[term] = tf * idf\n",
    "    tf_idf[doc] = temp_calc"
   ]
  },
  {
   "cell_type": "markdown",
   "id": "f6cad0a6-dcaa-4e82-a8ff-c162f1d51ab7",
   "metadata": {},
   "source": [
    "#  Пункт 3\n",
    "Реализовать метод, позволяющий векторизовать произвольный текст с использованием нейронных сетей (предлагается использовать стандартную реализацию модели w2v или glove). Выбранную модель необходимо обучить на обучающей выборке."
   ]
  },
  {
   "cell_type": "code",
   "execution_count": 14,
   "id": "e353b433-8405-4456-b8a6-f5290156d15d",
   "metadata": {},
   "outputs": [],
   "source": [
    "pure_texts = list(train_texts.values())\n",
    "model = Word2Vec(sentences=pure_texts, vector_size=100, window=3, min_count=1, workers=4)"
   ]
  },
  {
   "cell_type": "code",
   "execution_count": 15,
   "id": "01e3e7ec-c279-4f9d-a822-7f53403d32ea",
   "metadata": {},
   "outputs": [
    {
     "data": {
      "text/plain": [
       "(45816036, 49273600)"
      ]
     },
     "execution_count": 15,
     "metadata": {},
     "output_type": "execute_result"
    }
   ],
   "source": [
    "model.train(pure_texts, total_examples=len(pure_texts), epochs=100)"
   ]
  },
  {
   "cell_type": "code",
   "execution_count": 9,
   "id": "532441c7-517a-4dc1-ac6b-46f6c895393b",
   "metadata": {},
   "outputs": [],
   "source": [
    "#token_frequency"
   ]
  },
  {
   "cell_type": "code",
   "execution_count": 16,
   "id": "f9769aed-fa27-42ae-adcf-11c0d14ff593",
   "metadata": {},
   "outputs": [],
   "source": [
    "vector1 = model.wv['black']\n",
    "vector2 = model.wv['white']\n",
    "\n",
    "vector3 = model.wv['fuck']\n",
    "vector4 = model.wv['dumb']\n",
    "vector5 = model.wv['bitch']\n",
    "vector6 = model.wv['idiot']\n",
    "vector7 = model.wv['stupid']\n",
    "\n",
    "vector8 = model.wv['people']\n",
    "vector9 = model.wv['girl']\n",
    "vector10 = model.wv['woman']\n",
    "vector11 = model.wv['man']\n",
    "\n",
    "vector12 = model.wv['islam']\n",
    "vector13 = model.wv['muslim']\n",
    "vector14 = model.wv['christian']"
   ]
  },
  {
   "cell_type": "markdown",
   "id": "e35ad7a0-8590-4e2f-9d95-e053c582b4d8",
   "metadata": {},
   "source": [
    "# Пункт 4\n",
    "\n",
    "Рассмотрим насколько близки между собой токены, выбранные в 3 пункте."
   ]
  },
  {
   "cell_type": "code",
   "execution_count": 18,
   "id": "1f6da6f9-4e5b-4bee-80d1-fd5cb018971b",
   "metadata": {},
   "outputs": [],
   "source": [
    "def cosine_sim_lib(vec1, vec2):\n",
    "    return 1 - spatial.distance.cosine(vec1, vec2)"
   ]
  },
  {
   "cell_type": "code",
   "execution_count": 19,
   "id": "3c1a290e-7c1d-4ad0-9476-d70112ca930c",
   "metadata": {},
   "outputs": [],
   "source": [
    "def cosine_sim(vec1, vec2):\n",
    "    assert len(vec1) == len(vec2) and not isinstance(vec1[0], list)\n",
    "    dot12, norm1, norm2 = 0, 0, 0\n",
    "    for x1, x2 in zip(vec1, vec2):\n",
    "        dot12 += x1 * x2\n",
    "        norm1 += x1 * x1\n",
    "        norm2 += x2 * x2\n",
    "    return dot12 / math.sqrt(norm1 * norm2)"
   ]
  },
  {
   "cell_type": "code",
   "execution_count": 20,
   "id": "2b1f91bf-fb54-4e14-ae95-ad23a32ce08e",
   "metadata": {},
   "outputs": [
    {
     "data": {
      "text/plain": [
       "(0.6877299085862061, 0.6877298355102539)"
      ]
     },
     "execution_count": 20,
     "metadata": {},
     "output_type": "execute_result"
    }
   ],
   "source": [
    "cosine_sim(vector1, vector2), cosine_sim_lib(vector1, vector2)"
   ]
  },
  {
   "cell_type": "code",
   "execution_count": null,
   "id": "e4a8553f-5fed-450b-b67f-52494a5b174c",
   "metadata": {},
   "outputs": [],
   "source": []
  },
  {
   "cell_type": "code",
   "execution_count": 21,
   "id": "9317a820-aadb-4698-90db-c3a1d3ce8020",
   "metadata": {},
   "outputs": [],
   "source": [
    "words = list(model.wv.key_to_index)\n",
    "X = [model.wv[word] for word in words]"
   ]
  },
  {
   "cell_type": "code",
   "execution_count": 22,
   "id": "84674c5b-b930-42e7-9b20-ec5206ab1ef4",
   "metadata": {},
   "outputs": [],
   "source": [
    "pca = PCA(n_components=2)\n",
    "result = pca.fit_transform(X)"
   ]
  },
  {
   "cell_type": "code",
   "execution_count": 23,
   "id": "0a4ef0af-1307-4082-bfbd-4173a348bc06",
   "metadata": {},
   "outputs": [
    {
     "data": {
      "image/png": "[encoded data removed]",
      "text/plain": [
       "<Figure size 3200x2400 with 1 Axes>"
      ]
     },
     "metadata": {},
     "output_type": "display_data"
    }
   ],
   "source": [
    "plt.figure(dpi=500)\n",
    "\n",
    "for vec, name in zip([vector1, vector2],['black', 'white']):\n",
    "    reduced_vec = pca.transform(vec[np.newaxis, ...])\n",
    "    plt.plot(reduced_vec[0][0], reduced_vec[0][1], 'o', color='red')\n",
    "    plt.annotate(name, (reduced_vec[0][0], reduced_vec[0][1]))\n",
    "\n",
    "for vec, name in zip([vector3, vector4, vector5, vector6, vector7], ['fuck', 'dumb', 'bitch', 'idiot', 'stupid']):\n",
    "    reduced_vec = pca.transform(vec[np.newaxis, ...])\n",
    "    plt.plot(reduced_vec[0][0], reduced_vec[0][1], 'o', color='blue')\n",
    "    plt.annotate(name, (reduced_vec[0][0], reduced_vec[0][1]))\n",
    "    \n",
    "for vec, name in zip([vector8, vector9, vector10, vector11], ['people', 'girl', 'woman', 'man']):\n",
    "    reduced_vec = pca.transform(vec[np.newaxis, ...])\n",
    "    plt.plot(reduced_vec[0][0], reduced_vec[0][1], 'o', color='orange')\n",
    "    plt.annotate(name, (reduced_vec[0][0], reduced_vec[0][1]))\n",
    "    \n",
    "for vec, name in zip([vector12, vector13, vector14], ['islam', 'muslim', 'christian']):\n",
    "    reduced_vec = pca.transform(vec[np.newaxis, ...])\n",
    "    plt.plot(reduced_vec[0][0], reduced_vec[0][1], 'o', color='green')\n",
    "    plt.annotate(name, (reduced_vec[0][0], reduced_vec[0][1]))\n",
    "\n",
    "plt.show()"
   ]
  },
  {
   "cell_type": "markdown",
   "id": "43d28848-5fca-46ab-8531-6d720ae193e4",
   "metadata": {},
   "source": [
    "# Пункт 5\n",
    "Сократим размерность матрицы TF-IDF. Для этого преобразуем её из эффективного формата хранения в разреженную матрицу"
   ]
  },
  {
   "cell_type": "code",
   "execution_count": 81,
   "id": "a43a73c5-4145-4d56-bc79-3dfcf31ef1dd",
   "metadata": {},
   "outputs": [
    {
     "data": {
      "text/plain": [
       "20015"
      ]
     },
     "execution_count": 81,
     "metadata": {},
     "output_type": "execute_result"
    }
   ],
   "source": [
    "len(list(td_matrix))"
   ]
  },
  {
   "cell_type": "code",
   "execution_count": 24,
   "id": "ad6ee436-07a3-47e3-8545-c3e0fc15ddf4",
   "metadata": {},
   "outputs": [],
   "source": [
    "terms = list(td_matrix)\n",
    "docs = list(dt_matrix)"
   ]
  },
  {
   "cell_type": "code",
   "execution_count": 25,
   "id": "d68577b0-c7ca-4725-8278-5b0bb458dd89",
   "metadata": {},
   "outputs": [],
   "source": [
    "sparse_data = np.full((len(docs), len(terms)), 0, dtype=np.float32)"
   ]
  },
  {
   "cell_type": "code",
   "execution_count": 26,
   "id": "72b874ad-7263-4a15-9c95-209c8a15107d",
   "metadata": {},
   "outputs": [
    {
     "data": {
      "application/vnd.jupyter.widget-view+json": {
       "model_id": "fbd5cf02e7ef4d269054a73699980f25",
       "version_major": 2,
       "version_minor": 0
      },
      "text/plain": [
       "0it [00:00, ?it/s]"
      ]
     },
     "metadata": {},
     "output_type": "display_data"
    }
   ],
   "source": [
    "for i, doc in tqdm(enumerate(docs)):\n",
    "    for j, term in enumerate(terms):\n",
    "        if term in tf_idf[doc]:\n",
    "            sparse_data[i, j] = tf_idf[doc][term]"
   ]
  },
  {
   "cell_type": "code",
   "execution_count": 27,
   "id": "af45ee7c-928a-4a6b-86a4-0806c03f0cf2",
   "metadata": {},
   "outputs": [
    {
     "data": {
      "text/plain": [
       "array([[0.55306715, 0.33864695, 0.52458876, ..., 0.        , 0.        ,\n",
       "        0.        ],\n",
       "       [0.21069226, 0.        , 0.        , ..., 0.        , 0.        ,\n",
       "        0.        ],\n",
       "       [0.16387175, 0.        , 0.        , ..., 0.        , 0.        ,\n",
       "        0.        ],\n",
       "       ...,\n",
       "       [0.        , 0.        , 0.        , ..., 0.        , 0.        ,\n",
       "        0.        ],\n",
       "       [0.        , 0.        , 0.        , ..., 0.        , 0.        ,\n",
       "        0.        ],\n",
       "       [0.        , 0.        , 0.        , ..., 0.        , 0.        ,\n",
       "        0.        ]], dtype=float32)"
      ]
     },
     "execution_count": 27,
     "metadata": {},
     "output_type": "execute_result"
    }
   ],
   "source": [
    "sparse_data"
   ]
  },
  {
   "cell_type": "code",
   "execution_count": 28,
   "id": "9c60026b-75b0-41bf-a0d5-47c36276cc0f",
   "metadata": {},
   "outputs": [],
   "source": [
    "pca_v2 = PCA(n_components=100)\n",
    "sparse_pca_data = pca_v2.fit_transform(sparse_data)"
   ]
  },
  {
   "cell_type": "markdown",
   "id": "10aae602-ba61-498a-866c-1a33c85d8d51",
   "metadata": {},
   "source": [
    "# Пункт 6\n",
    "С использованием разработанного метода подсчета косинусного расстояния сравнить эффективность метода векторизации с использованием нейронных сетей и эффективность базовых методов векторизации с последующим сокращением размерности."
   ]
  },
  {
   "cell_type": "code",
   "execution_count": 144,
   "id": "8224678d-c854-4009-a001-e9a5aa058209",
   "metadata": {},
   "outputs": [
    {
     "data": {
      "text/plain": [
       "dict_keys(['one', 'school', 'bully', 'bullies', 'called', 'got', 'grade', 'calling', 'middle', 'often', 'think', 'worst', 'absolutely', 'fragile', 'mom', 'gorilla', 'freak', 'assembly', 'sensitive'])"
      ]
     },
     "execution_count": 144,
     "metadata": {},
     "output_type": "execute_result"
    }
   ],
   "source": [
    "tf_idf[docs[500]].keys()"
   ]
  },
  {
   "cell_type": "code",
   "execution_count": 29,
   "id": "5f7da59f-2924-4c35-bda3-7f3fd780aaae",
   "metadata": {},
   "outputs": [],
   "source": [
    "model_data = np.full((len(docs), 100), 0, dtype=np.float32)\n",
    "for i, doc in enumerate(docs):\n",
    "    temp = np.full(100, 0, dtype=np.float32)\n",
    "    cnt = 0\n",
    "    for word in tf_idf[doc].keys():\n",
    "        temp += model.wv[word]\n",
    "        cnt += 1 \n",
    "    model_data[i] = temp / cnt"
   ]
  },
  {
   "cell_type": "code",
   "execution_count": 30,
   "id": "4c3b0a8a-a2d2-4e15-9914-cf6f00005e39",
   "metadata": {},
   "outputs": [],
   "source": [
    "top_words_v1 = dict(sorted(token_frequency.items(), key=lambda x: x[1], reverse=True)[:100])"
   ]
  },
  {
   "cell_type": "code",
   "execution_count": 32,
   "id": "461b7ba6-d78d-4389-8969-98f1ba16c992",
   "metadata": {},
   "outputs": [],
   "source": [
    "top_words_v2 = { k: v for k, v in token_frequency.items() if v > 200 }"
   ]
  },
  {
   "cell_type": "code",
   "execution_count": 33,
   "id": "0d62155e-f742-4016-b21c-95b308459082",
   "metadata": {},
   "outputs": [
    {
     "data": {
      "text/plain": [
       "347"
      ]
     },
     "execution_count": 33,
     "metadata": {},
     "output_type": "execute_result"
    }
   ],
   "source": [
    "len(top_words_v2)"
   ]
  },
  {
   "cell_type": "markdown",
   "id": "10598dd3-6877-42e3-bd54-6770bbc09724",
   "metadata": {},
   "source": [
    "Подберём тексты, содержащие популярные слова, при этом с разной меткой и минимальным числом слов 5"
   ]
  },
  {
   "cell_type": "code",
   "execution_count": 34,
   "id": "1d953a5c-1c0e-4bbf-b88e-d2caa1a4b975",
   "metadata": {},
   "outputs": [],
   "source": [
    "def is_doc_valid(doc_name, words, category, num_words, must_words):\n",
    "    return category in doc_name and len(words) >= num_words and len(words.intersection(must_words)) > 0"
   ]
  },
  {
   "cell_type": "code",
   "execution_count": 35,
   "id": "ffc3549a-ff07-497f-b8ce-aec56b501130",
   "metadata": {},
   "outputs": [],
   "source": [
    "docs_subset = list()\n",
    "texts_cnt = {\n",
    "    'age': 0, 'ethnicity': 0, 'gender': 0, 'religion': 0, 'other_cyberbullying': 0, 'not_cyberbullying': 0\n",
    "}\n",
    "num_words = 5\n",
    "num_docs_per_category = 3\n",
    "\n",
    "must_words = set(top_words_v1)\n",
    "for doc, words in dt_matrix.items():\n",
    "    ws = set(words.keys())\n",
    "    for category in texts_cnt.keys():\n",
    "        if texts_cnt[category] < num_docs_per_category and is_doc_valid(doc, ws, category, num_words, must_words):\n",
    "            texts_cnt[category] += 1\n",
    "            docs_subset.append(doc)\n",
    "            break"
   ]
  },
  {
   "cell_type": "code",
   "execution_count": 36,
   "id": "9c43f448-ba53-48ea-99e7-b93ce16d2da0",
   "metadata": {},
   "outputs": [
    {
     "data": {
      "text/plain": [
       "['age_11616',\n",
       " 'age_10468',\n",
       " 'age_19302',\n",
       " 'ethnicity_16151',\n",
       " 'ethnicity_24336',\n",
       " 'ethnicity_20965',\n",
       " 'gender_17267',\n",
       " 'gender_23868',\n",
       " 'gender_10534',\n",
       " 'religion_25570',\n",
       " 'religion_7335',\n",
       " 'religion_34092',\n",
       " 'other_cyberbullying_18008',\n",
       " 'other_cyberbullying_9291',\n",
       " 'other_cyberbullying_22619',\n",
       " 'not_cyberbullying_20594',\n",
       " 'not_cyberbullying_30989',\n",
       " 'not_cyberbullying_365']"
      ]
     },
     "execution_count": 36,
     "metadata": {},
     "output_type": "execute_result"
    }
   ],
   "source": [
    "docs_subset"
   ]
  },
  {
   "cell_type": "code",
   "execution_count": null,
   "id": "fef96ae2-73a7-46b4-ad11-186ea02ba010",
   "metadata": {},
   "outputs": [],
   "source": []
  },
  {
   "cell_type": "code",
   "execution_count": 37,
   "id": "ef064901-f608-4a36-9742-1a29d9764809",
   "metadata": {},
   "outputs": [
    {
     "name": "stdout",
     "output_type": "stream",
     "text": [
      "Words2Vec: age_11616 <-> age_11616: 1.0\n",
      "TF-IDF: age_11616 <-> age_11616: 1.0\n",
      "TF-IDF with PCA: age_11616 <-> age_11616: 1.0\n",
      "\n",
      "Words2Vec: age_11616 <-> age_10468: 0.8289028851209419\n",
      "TF-IDF: age_11616 <-> age_10468: 0.06144195056264724\n",
      "TF-IDF with PCA: age_11616 <-> age_10468: 0.004959522116622067\n",
      "\n",
      "Words2Vec: age_11616 <-> age_19302: 0.8543948737448885\n",
      "TF-IDF: age_11616 <-> age_19302: 0.08479716877827968\n",
      "TF-IDF with PCA: age_11616 <-> age_19302: 0.3300643829931652\n",
      "\n",
      "Words2Vec: age_11616 <-> ethnicity_16151: 0.6536122302441175\n",
      "TF-IDF: age_11616 <-> ethnicity_16151: 0.09267814258963003\n",
      "TF-IDF with PCA: age_11616 <-> ethnicity_16151: -0.10798980979802296\n",
      "\n",
      "Words2Vec: age_11616 <-> ethnicity_24336: 0.7397720614041581\n",
      "TF-IDF: age_11616 <-> ethnicity_24336: 0.05054347004972796\n",
      "TF-IDF with PCA: age_11616 <-> ethnicity_24336: -0.12682254362385034\n",
      "\n",
      "Words2Vec: age_11616 <-> ethnicity_20965: 0.6944009038244539\n",
      "TF-IDF: age_11616 <-> ethnicity_20965: 0.05219893775532761\n",
      "TF-IDF with PCA: age_11616 <-> ethnicity_20965: -0.011851032174357078\n",
      "\n",
      "Words2Vec: age_11616 <-> gender_17267: 0.7702496210510018\n",
      "TF-IDF: age_11616 <-> gender_17267: 0.04167162265654278\n",
      "TF-IDF with PCA: age_11616 <-> gender_17267: -0.08866435616214106\n",
      "\n",
      "Words2Vec: age_11616 <-> gender_23868: 0.7389538659495856\n",
      "TF-IDF: age_11616 <-> gender_23868: 0.07574911598128496\n",
      "TF-IDF with PCA: age_11616 <-> gender_23868: -0.06846312615503607\n",
      "\n",
      "Words2Vec: age_11616 <-> gender_10534: 0.72471953607015\n",
      "TF-IDF: age_11616 <-> gender_10534: 0.0788260597303917\n",
      "TF-IDF with PCA: age_11616 <-> gender_10534: -0.026885245387504794\n",
      "\n",
      "Words2Vec: age_11616 <-> religion_25570: 0.5828545586707667\n",
      "TF-IDF: age_11616 <-> religion_25570: 0.05519153944485679\n",
      "TF-IDF with PCA: age_11616 <-> religion_25570: -0.10540379705420942\n",
      "\n",
      "Words2Vec: age_11616 <-> religion_7335: 0.44803381680677806\n",
      "TF-IDF: age_11616 <-> religion_7335: 0.06015314706225575\n",
      "TF-IDF with PCA: age_11616 <-> religion_7335: -0.11807642012413226\n",
      "\n",
      "Words2Vec: age_11616 <-> religion_34092: 0.7093735874036897\n",
      "TF-IDF: age_11616 <-> religion_34092: 0.07806986598320696\n",
      "TF-IDF with PCA: age_11616 <-> religion_34092: -0.08064206514844947\n",
      "\n",
      "Words2Vec: age_11616 <-> other_cyberbullying_18008: 0.6097857144320091\n",
      "TF-IDF: age_11616 <-> other_cyberbullying_18008: 0.06887552889796528\n",
      "TF-IDF with PCA: age_11616 <-> other_cyberbullying_18008: -0.05464154921959257\n",
      "\n",
      "Words2Vec: age_11616 <-> other_cyberbullying_9291: 0.7176063950278249\n",
      "TF-IDF: age_11616 <-> other_cyberbullying_9291: 0.0835361280551713\n",
      "TF-IDF with PCA: age_11616 <-> other_cyberbullying_9291: 0.0017574453710172291\n",
      "\n",
      "Words2Vec: age_11616 <-> other_cyberbullying_22619: 0.5535926013472963\n",
      "TF-IDF: age_11616 <-> other_cyberbullying_22619: 0.11892573084368588\n",
      "TF-IDF with PCA: age_11616 <-> other_cyberbullying_22619: -0.09783796467657191\n",
      "\n",
      "Words2Vec: age_11616 <-> not_cyberbullying_20594: 0.5794404003749719\n",
      "TF-IDF: age_11616 <-> not_cyberbullying_20594: 0.07257821096566279\n",
      "TF-IDF with PCA: age_11616 <-> not_cyberbullying_20594: -0.13566922114594845\n",
      "\n",
      "Words2Vec: age_11616 <-> not_cyberbullying_30989: 0.5943308698140759\n",
      "TF-IDF: age_11616 <-> not_cyberbullying_30989: 0.11168498468449306\n",
      "TF-IDF with PCA: age_11616 <-> not_cyberbullying_30989: 0.5957651688791767\n",
      "\n",
      "Words2Vec: age_11616 <-> not_cyberbullying_365: 0.6442812086399529\n",
      "TF-IDF: age_11616 <-> not_cyberbullying_365: 0.06755067967317549\n",
      "TF-IDF with PCA: age_11616 <-> not_cyberbullying_365: -0.023253167067420703\n",
      "\n"
     ]
    }
   ],
   "source": [
    "base_doc = docs_subset[0]\n",
    "base_index = docs.index(base_doc)\n",
    "for doc in docs_subset:\n",
    "    index = docs.index(doc)\n",
    "    print(f\"Words2Vec: {base_doc} <-> {doc}:\", cosine_sim(model_data[base_index], model_data[index]))\n",
    "    print(f\"TF-IDF: {base_doc} <-> {doc}:\", cosine_sim(sparse_data[base_index], sparse_data[index]))\n",
    "    print(f\"TF-IDF with PCA: {base_doc} <-> {doc}:\", cosine_sim(sparse_pca_data[base_index], sparse_pca_data[index]))\n",
    "    print()"
   ]
  },
  {
   "cell_type": "markdown",
   "id": "67052ea1-0f9f-4a0a-9a34-467367661af5",
   "metadata": {},
   "source": [
    "# Пункт 7\n",
    "Реализовать метод, осуществляющий векторизацию произвольного текста"
   ]
  },
  {
   "cell_type": "code",
   "execution_count": 38,
   "id": "8742c593-485c-4717-8fc3-3b0e5ae2e1c6",
   "metadata": {},
   "outputs": [],
   "source": [
    "def inverse_td_matrix(td_matrix):\n",
    "    dt_matrix  = dict()\n",
    "\n",
    "    for term, v in td_matrix.items():\n",
    "        for doc, val in v.items():\n",
    "            if doc not in dt_matrix:\n",
    "                dt_matrix[doc] = { term: val }\n",
    "            else:\n",
    "                dt_matrix[doc][term] = val\n",
    "    return dt_matrix"
   ]
  },
  {
   "cell_type": "code",
   "execution_count": 39,
   "id": "c7cebbf7-bf2f-4c32-82a5-f1a780e7ea5c",
   "metadata": {},
   "outputs": [],
   "source": [
    "def calc_tf_idf(td_matrix, dt_matrix):\n",
    "    n = len(dt_matrix)  \n",
    "    tf_idf = dict()\n",
    "    \n",
    "    for doc, term_vals in tqdm(dt_matrix.items()):\n",
    "        temp_calc = dict()\n",
    "        for term, val in term_vals.items():\n",
    "            tf = val / sum(term_vals.values())\n",
    "            idf = math.log(n / len(td_matrix[term].keys()))\n",
    "            temp_calc[term] = tf * idf\n",
    "        tf_idf[doc] = temp_calc\n",
    "    return tf_idf"
   ]
  },
  {
   "cell_type": "code",
   "execution_count": 40,
   "id": "19b99911-45f6-41a1-8e92-94d8be232d59",
   "metadata": {},
   "outputs": [],
   "source": [
    "def clear_texts(texts, rare_tokens):\n",
    "    texts_copy = OrderedDict()\n",
    "    for key, text in tqdm(texts.items()):\n",
    "        text_copy = list()\n",
    "        for sentence in text:\n",
    "            sentence_copy = list()\n",
    "            for word in sentence:\n",
    "                if word not in rare_tokens:\n",
    "                    sentence_copy.append(word)\n",
    "            if len(sentence_copy) > 0:\n",
    "                text_copy.append(sentence_copy)\n",
    "        if len(text_copy) > 0:\n",
    "            texts_copy[key] = text_copy\n",
    "    return texts_copy"
   ]
  },
  {
   "cell_type": "code",
   "execution_count": 41,
   "id": "6997aa0d-9735-47a9-8530-a80aac790a28",
   "metadata": {},
   "outputs": [],
   "source": [
    "def vectorize_texts(subset, clear_rare_tokens=True):\n",
    "    print(\"Reading data and calculating term-document matrices\")\n",
    "    texts, token_frequency_base, term_document_matrix, td_matrix_base = read_data(subset, False, True)\n",
    "\n",
    "    texts = OrderedDict(texts)\n",
    "\n",
    "    if clear_rare_tokens:\n",
    "        print(\"Delete rare tokens in token_frequency\")\n",
    "        rare_tokens = dict(filter(lambda x: x[1] < 2, token_frequency.items())).keys()\n",
    "\n",
    "        print(\"Delete rare tokens in term-document matrix\")\n",
    "        td_matrix = td_matrix_base.copy()\n",
    "        for k, v in td_matrix_base.items():\n",
    "            if k in rare_tokens:\n",
    "                del td_matrix[k]\n",
    "\n",
    "        print(\"Clear texts\")\n",
    "        texts = clear_texts(texts, rare_tokens)\n",
    "\n",
    "    else:\n",
    "        td_matrix = td_matrix_base\n",
    "\n",
    "    print(\"Build document-term matrix\")\n",
    "    dt_matrix = inverse_td_matrix(td_matrix)\n",
    "\n",
    "    print(\"Calculate TF-IDF\")\n",
    "    tf_idf = calc_tf_idf(td_matrix, dt_matrix)\n",
    "\n",
    "    pure_texts = list(map(lambda x: reduce(add, x), texts.values()))\n",
    "\n",
    "    print(\"Train Word2Vec\")\n",
    "    model = Word2Vec(sentences=pure_texts, vector_size=100, window=3, min_count=1, workers=4)\n",
    "    model.train(pure_texts, total_examples=len(pure_texts), epochs=100)\n",
    "\n",
    "    print(\"Vectorize texts\")\n",
    "    model_data = np.full((len(dt_matrix), 100), 0, dtype=np.float32)\n",
    "    for i, (doc, sentences) in tqdm(enumerate(texts.items())):\n",
    "        temp = np.empty((0, 100), dtype=np.float32)\n",
    "        cnt = 0\n",
    "        for sentence in sentences:\n",
    "            sentence_vec = np.full(100, 0, dtype=np.float32)\n",
    "            for word in sentence:\n",
    "                sentence_vec += model.wv[word] * tf_idf[doc][word]\n",
    "            temp = np.vstack((temp, sentence_vec / sum(tf_idf[doc].values())))\n",
    "\n",
    "        model_data[i] = np.mean(temp, axis=0)\n",
    "\n",
    "    return texts, model_data"
   ]
  },
  {
   "cell_type": "markdown",
   "id": "1a7a2eae-14cf-433c-813a-1096e23941cb",
   "metadata": {},
   "source": [
    "# Пункт 8\n",
    "Выполнить векторизацию тестовой выборки с использованием метода, реализованного на предыдущем шаге. Результаты сохранить в формате tsv "
   ]
  },
  {
   "cell_type": "code",
   "execution_count": 43,
   "id": "b6dd0879-c165-4e0d-b62a-001ae17f18b3",
   "metadata": {},
   "outputs": [
    {
     "name": "stdout",
     "output_type": "stream",
     "text": [
      "Reading data and calculating term-document matrices\n"
     ]
    },
    {
     "data": {
      "application/vnd.jupyter.widget-view+json": {
       "model_id": "629459fbc8524e7dbacd39002dd81afe",
       "version_major": 2,
       "version_minor": 0
      },
      "text/plain": [
       "  0%|          | 0/6 [00:00<?, ?it/s]"
      ]
     },
     "metadata": {},
     "output_type": "display_data"
    },
    {
     "data": {
      "application/vnd.jupyter.widget-view+json": {
       "model_id": "021573236c774fb4b0448c9ed2a7f5ea",
       "version_major": 2,
       "version_minor": 0
      },
      "text/plain": [
       "  0%|          | 0/1968 [00:00<?, ?it/s]"
      ]
     },
     "metadata": {},
     "output_type": "display_data"
    },
    {
     "data": {
      "application/vnd.jupyter.widget-view+json": {
       "model_id": "d874dd25fffc4bc4af773b4bf5816de3",
       "version_major": 2,
       "version_minor": 0
      },
      "text/plain": [
       "  0%|          | 0/2018 [00:00<?, ?it/s]"
      ]
     },
     "metadata": {},
     "output_type": "display_data"
    },
    {
     "data": {
      "application/vnd.jupyter.widget-view+json": {
       "model_id": "27d68e59bcff4dbaacd32429d04d9392",
       "version_major": 2,
       "version_minor": 0
      },
      "text/plain": [
       "  0%|          | 0/1919 [00:00<?, ?it/s]"
      ]
     },
     "metadata": {},
     "output_type": "display_data"
    },
    {
     "data": {
      "application/vnd.jupyter.widget-view+json": {
       "model_id": "e83f8beb2ce747f5bcce823f4ffd4818",
       "version_major": 2,
       "version_minor": 0
      },
      "text/plain": [
       "  0%|          | 0/1976 [00:00<?, ?it/s]"
      ]
     },
     "metadata": {},
     "output_type": "display_data"
    },
    {
     "data": {
      "application/vnd.jupyter.widget-view+json": {
       "model_id": "7997d27cdb7f4a9e9941957caa7a46b4",
       "version_major": 2,
       "version_minor": 0
      },
      "text/plain": [
       "  0%|          | 0/1972 [00:00<?, ?it/s]"
      ]
     },
     "metadata": {},
     "output_type": "display_data"
    },
    {
     "data": {
      "application/vnd.jupyter.widget-view+json": {
       "model_id": "430fb4bc1e5d438f99f3fac4fee2b63c",
       "version_major": 2,
       "version_minor": 0
      },
      "text/plain": [
       "  0%|          | 0/2061 [00:00<?, ?it/s]"
      ]
     },
     "metadata": {},
     "output_type": "display_data"
    },
    {
     "name": "stdout",
     "output_type": "stream",
     "text": [
      "Delete rare tokens in token_frequency\n",
      "Delete rare tokens in term-document matrix\n",
      "Clear texts\n"
     ]
    },
    {
     "data": {
      "application/vnd.jupyter.widget-view+json": {
       "model_id": "0cf3ebc3a0a548888c0663f71a7697ce",
       "version_major": 2,
       "version_minor": 0
      },
      "text/plain": [
       "  0%|          | 0/11911 [00:00<?, ?it/s]"
      ]
     },
     "metadata": {},
     "output_type": "display_data"
    },
    {
     "name": "stdout",
     "output_type": "stream",
     "text": [
      "Build document-term matrix\n",
      "Calculate TF-IDF\n"
     ]
    },
    {
     "data": {
      "application/vnd.jupyter.widget-view+json": {
       "model_id": "b0bcc8dd83bc4377babe9d876236a07a",
       "version_major": 2,
       "version_minor": 0
      },
      "text/plain": [
       "  0%|          | 0/11893 [00:00<?, ?it/s]"
      ]
     },
     "metadata": {},
     "output_type": "display_data"
    },
    {
     "name": "stdout",
     "output_type": "stream",
     "text": [
      "Train Word2Vec\n",
      "Vectorize texts\n"
     ]
    },
    {
     "data": {
      "application/vnd.jupyter.widget-view+json": {
       "model_id": "e662feb98018475d92466c4ac3da1566",
       "version_major": 2,
       "version_minor": 0
      },
      "text/plain": [
       "0it [00:00, ?it/s]"
      ]
     },
     "metadata": {},
     "output_type": "display_data"
    }
   ],
   "source": [
    "texts, test_vecs = vectorize_texts(\"test\", clear_rare_tokens=True)"
   ]
  },
  {
   "cell_type": "code",
   "execution_count": 48,
   "id": "ee53f2de-bb81-4576-82a8-46e41a9a2ec2",
   "metadata": {},
   "outputs": [
    {
     "data": {
      "text/plain": [
       "(11893, 100)"
      ]
     },
     "execution_count": 48,
     "metadata": {},
     "output_type": "execute_result"
    }
   ],
   "source": [
    "test_vecs.shape"
   ]
  },
  {
   "cell_type": "code",
   "execution_count": 44,
   "id": "3e16f791-b8b0-4453-878c-ccd3ced8bbe2",
   "metadata": {},
   "outputs": [
    {
     "name": "stdout",
     "output_type": "stream",
     "text": [
      "Reading data and calculating term-document matrices\n"
     ]
    },
    {
     "data": {
      "application/vnd.jupyter.widget-view+json": {
       "model_id": "921b7f77a01f4a0c88bfddee5922e3bd",
       "version_major": 2,
       "version_minor": 0
      },
      "text/plain": [
       "  0%|          | 0/6 [00:00<?, ?it/s]"
      ]
     },
     "metadata": {},
     "output_type": "display_data"
    },
    {
     "data": {
      "application/vnd.jupyter.widget-view+json": {
       "model_id": "af9e1f538aec448da4d2a0b1ac06d204",
       "version_major": 2,
       "version_minor": 0
      },
      "text/plain": [
       "  0%|          | 0/6024 [00:00<?, ?it/s]"
      ]
     },
     "metadata": {},
     "output_type": "display_data"
    },
    {
     "data": {
      "application/vnd.jupyter.widget-view+json": {
       "model_id": "dbd97aae03c94ffd818ea31b7bf33588",
       "version_major": 2,
       "version_minor": 0
      },
      "text/plain": [
       "  0%|          | 0/5941 [00:00<?, ?it/s]"
      ]
     },
     "metadata": {},
     "output_type": "display_data"
    },
    {
     "data": {
      "application/vnd.jupyter.widget-view+json": {
       "model_id": "7e659dfcbb4543ee99aacfcf47239bb5",
       "version_major": 2,
       "version_minor": 0
      },
      "text/plain": [
       "  0%|          | 0/6029 [00:00<?, ?it/s]"
      ]
     },
     "metadata": {},
     "output_type": "display_data"
    },
    {
     "data": {
      "application/vnd.jupyter.widget-view+json": {
       "model_id": "0acfd40806194fbe92f46af16f8f7936",
       "version_major": 2,
       "version_minor": 0
      },
      "text/plain": [
       "  0%|          | 0/6021 [00:00<?, ?it/s]"
      ]
     },
     "metadata": {},
     "output_type": "display_data"
    },
    {
     "data": {
      "application/vnd.jupyter.widget-view+json": {
       "model_id": "4c0350295941467fad94e02ed318d077",
       "version_major": 2,
       "version_minor": 0
      },
      "text/plain": [
       "  0%|          | 0/5851 [00:00<?, ?it/s]"
      ]
     },
     "metadata": {},
     "output_type": "display_data"
    },
    {
     "data": {
      "application/vnd.jupyter.widget-view+json": {
       "model_id": "033fe656434247cd8cc362807a5753dc",
       "version_major": 2,
       "version_minor": 0
      },
      "text/plain": [
       "  0%|          | 0/5876 [00:00<?, ?it/s]"
      ]
     },
     "metadata": {},
     "output_type": "display_data"
    },
    {
     "name": "stdout",
     "output_type": "stream",
     "text": [
      "Delete rare tokens in token_frequency\n",
      "Delete rare tokens in term-document matrix\n",
      "Clear texts\n"
     ]
    },
    {
     "data": {
      "application/vnd.jupyter.widget-view+json": {
       "model_id": "8104295f8a344363872702eb61a7fc09",
       "version_major": 2,
       "version_minor": 0
      },
      "text/plain": [
       "  0%|          | 0/35728 [00:00<?, ?it/s]"
      ]
     },
     "metadata": {},
     "output_type": "display_data"
    },
    {
     "name": "stdout",
     "output_type": "stream",
     "text": [
      "Build document-term matrix\n",
      "Calculate TF-IDF\n"
     ]
    },
    {
     "data": {
      "application/vnd.jupyter.widget-view+json": {
       "model_id": "0b39efa56f8d4c058c696c0ed7561db8",
       "version_major": 2,
       "version_minor": 0
      },
      "text/plain": [
       "  0%|          | 0/35560 [00:00<?, ?it/s]"
      ]
     },
     "metadata": {},
     "output_type": "display_data"
    },
    {
     "name": "stdout",
     "output_type": "stream",
     "text": [
      "Train Word2Vec\n",
      "Vectorize texts\n"
     ]
    },
    {
     "data": {
      "application/vnd.jupyter.widget-view+json": {
       "model_id": "c1f816060da446d6b35bf552935c2393",
       "version_major": 2,
       "version_minor": 0
      },
      "text/plain": [
       "0it [00:00, ?it/s]"
      ]
     },
     "metadata": {},
     "output_type": "display_data"
    }
   ],
   "source": [
    "train_texts_v2, train_vecs = vectorize_texts(\"train\", clear_rare_tokens=True)"
   ]
  },
  {
   "cell_type": "code",
   "execution_count": 49,
   "id": "8e5fd9cd-fe4e-41ea-adb2-7c1aca331e53",
   "metadata": {},
   "outputs": [
    {
     "data": {
      "text/plain": [
       "(35560, 100)"
      ]
     },
     "execution_count": 49,
     "metadata": {},
     "output_type": "execute_result"
    }
   ],
   "source": [
    "train_vecs.shape"
   ]
  },
  {
   "cell_type": "code",
   "execution_count": 46,
   "id": "6f911981-a0d3-49a4-93ba-27b4b483864e",
   "metadata": {},
   "outputs": [],
   "source": [
    "def write_data(texts, vectors, subset=\"test\"):\n",
    "    with open(f'./assets/annotated-corpus/{subset}-embeddings.tsv', 'w', newline='') as tsvfile:\n",
    "        writer = csv.writer(tsvfile, delimiter='\\t', lineterminator='\\n')\n",
    "        for i, doc_name in enumerate(texts.keys()):\n",
    "            writer.writerow([doc_name] + vectors[i].tolist())"
   ]
  },
  {
   "cell_type": "code",
   "execution_count": 158,
   "id": "c87a6a69-86da-45a3-8c57-94eeaaed61a6",
   "metadata": {},
   "outputs": [],
   "source": [
    "write_data(texts, test_vecs, subset=\"test\")"
   ]
  },
  {
   "cell_type": "code",
   "execution_count": 47,
   "id": "5d86d763-b0ae-4b2b-befa-0ab67b7bfab1",
   "metadata": {},
   "outputs": [],
   "source": [
    "write_data(train_texts_v2, train_vecs, subset=\"train\")"
   ]
  }
 ],
 "metadata": {
  "kernelspec": {
   "display_name": "Python 3 (ipykernel)",
   "language": "python",
   "name": "python3"
  },
  "language_info": {
   "codemirror_mode": {
    "name": "ipython",
    "version": 3
   },
   "file_extension": ".py",
   "mimetype": "text/x-python",
   "name": "python",
   "nbconvert_exporter": "python",
   "pygments_lexer": "ipython3",
   "version": "3.10.6"
  }
 },
 "nbformat": 4,
 "nbformat_minor": 5
}
