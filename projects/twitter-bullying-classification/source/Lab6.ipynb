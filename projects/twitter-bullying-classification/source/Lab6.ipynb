{
 "cells": [
  {
   "cell_type": "code",
   "execution_count": null,
   "metadata": {},
   "outputs": [],
   "source": [
    "import re\n",
    "import numpy as np\n",
    "import pandas as pd\n",
    "\n",
    "from sklearn.model_selection import train_test_split\n",
    "\n",
    "import torch\n",
    "from transformers import AutoTokenizer, AutoModelForCausalLM, pipeline\n",
    "from sentence_transformers import SentenceTransformer\n",
    "\n",
    "from evaluate import load\n",
    "\n",
    "from chroma_db import ChromaDB\n",
    "from utils import split_into_sentences"
   ]
  },
  {
   "cell_type": "code",
   "execution_count": null,
   "metadata": {},
   "outputs": [],
   "source": [
    "df = pd.read_csv(\"../assets/cyberbullying_tweets.csv\")\n",
    "df.drop_duplicates(keep='first', inplace=True)\n",
    "df.head()"
   ]
  },
  {
   "cell_type": "code",
   "execution_count": null,
   "metadata": {},
   "outputs": [],
   "source": [
    "df[\"sentences\"] = df[\"tweet_text\"].apply(split_into_sentences)"
   ]
  },
  {
   "cell_type": "code",
   "execution_count": null,
   "metadata": {},
   "outputs": [],
   "source": [
    "df_train, df_test = train_test_split(df, test_size=0.15, random_state=42)"
   ]
  },
  {
   "cell_type": "markdown",
   "metadata": {
    "id": "vC9j9u6XJXAB"
   },
   "source": [
    "## ChromeDB"
   ]
  },
  {
   "cell_type": "code",
   "execution_count": null,
   "metadata": {},
   "outputs": [],
   "source": [
    "client = ChromaDB()\n",
    "collection = client.get_collection(\"tweets_collection_v2\", \"cosine\")"
   ]
  },
  {
   "cell_type": "code",
   "execution_count": null,
   "metadata": {},
   "outputs": [],
   "source": [
    "model_emb = SentenceTransformer('BAAI/bge-large-en-v1.5')"
   ]
  },
  {
   "cell_type": "code",
   "execution_count": null,
   "metadata": {},
   "outputs": [],
   "source": [
    "pd.set_option('display.max_colwidth', None)\n",
    "df_test[df_test.index == 19035]"
   ]
  },
  {
   "cell_type": "code",
   "execution_count": null,
   "metadata": {},
   "outputs": [],
   "source": [
    "questions_array = [\n",
    "    ((17920, 0), \"What the OLF Qarro group is doing?\", \"actively massacring ethnic christians\"),\n",
    "    ((19137, 0), \"Who does Blumenthal love?\", \"Palestinian terrorists\"),\n",
    "    ((5755, 0), \"Who has several chlorine production plants?\", \"Daesh\"),\n",
    "    ((17311, 2), \"Who strongly believes homosexuality is a sin?\", \"Brits\"),\n",
    "    ((19035, 0), \"Which country sells their sons to terrorists?\", \"Pakistan\")\n",
    "]"
   ]
  },
  {
   "cell_type": "code",
   "execution_count": null,
   "metadata": {},
   "outputs": [],
   "source": [
    "questions = [\n",
    "    \"What the OLF Qarro group is doing?\",\n",
    "    \"Who does Blumenthal love?\",\n",
    "    \"Who has several chlorine production plants?\",\n",
    "    \"Who strongly believes homosexuality is a sin?\",\n",
    "    \"Which country sells their sons to terrorists?\"\n",
    "]\n",
    "\n",
    "answers = [\n",
    "    \"massacring ethnic christians\",\n",
    "    \"Palestinian terrorists\",\n",
    "    \"Daesh\",\n",
    "    \"Brits\",\n",
    "    \"Pakistan\"\n",
    "]"
   ]
  },
  {
   "cell_type": "code",
   "execution_count": null,
   "metadata": {},
   "outputs": [],
   "source": [
    "def get_documents(q):\n",
    "    instruction = \"Represent this sentence for searching relevant passages:\"\n",
    "    query = instruction + \" \" + q\n",
    "    query = model_emb.encode(query, normalize_embeddings=True)\n",
    "    results = collection.query(50, query_embeddings=[query.tolist()])\n",
    "    return results[\"documents\"][0][:5]"
   ]
  },
  {
   "cell_type": "markdown",
   "metadata": {
    "id": "UNRwIk6oNNQZ"
   },
   "source": [
    "## Chat"
   ]
  },
  {
   "cell_type": "code",
   "execution_count": null,
   "metadata": {},
   "outputs": [],
   "source": [
    "model_name = \"distilbert-base-cased-distilled-squad\"\n",
    "qa_model = pipeline('question-answering', model=model_name, tokenizer=model_name)"
   ]
  },
  {
   "cell_type": "code",
   "execution_count": null,
   "metadata": {},
   "outputs": [],
   "source": [
    "bertscore = load(\"bertscore\")"
   ]
  },
  {
   "cell_type": "code",
   "execution_count": null,
   "metadata": {},
   "outputs": [],
   "source": [
    "results = [get_documents(question) for question in questions]"
   ]
  },
  {
   "cell_type": "code",
   "execution_count": null,
   "metadata": {},
   "outputs": [],
   "source": [
    "bs_all = []\n",
    "for q, a, index in zip(questions, answers, range(len(answers))):\n",
    "  print()\n",
    "  QA_input = {'question': q,\n",
    "             'context': ' '.join(results[index])}\n",
    "  res = qa_model(QA_input)\n",
    "  bs = bertscore.compute(predictions=[res['answer']], references=[a], lang=\"en\")\n",
    "  bs_all.append(bs)\n",
    "\n",
    "  print(f'Question: {q}\\nAnswer: {res[\"answer\"]}\\nUser answer: {a}\\nScore: {bs[\"f1\"][0]}\\n ')"
   ]
  },
  {
   "cell_type": "code",
   "execution_count": null,
   "metadata": {},
   "outputs": [],
   "source": [
    "QA_input"
   ]
  },
  {
   "cell_type": "code",
   "execution_count": null,
   "metadata": {},
   "outputs": [],
   "source": [
    "def chat_msg(question, history):\n",
    "    docs = get_documents(question)\n",
    "    qa_input = {\n",
    "        \"question\": question,\n",
    "        \"context\": \" \".join(docs)\n",
    "    }\n",
    "    \n",
    "    with torch.inference_mode():\n",
    "        result = qa_model(qa_input)\n",
    "        return result['answer']"
   ]
  },
  {
   "cell_type": "code",
   "execution_count": null,
   "metadata": {},
   "outputs": [],
   "source": [
    "import gradio as gr\n",
    "\n",
    "demo = gr.ChatInterface(fn=chat_msg, examples=[\"hello\", \"hola\", \"merhaba\"], title=\"Echo Bot\")\n",
    "demo.launch()"
   ]
  }
 ],
 "metadata": {
  "kernelspec": {
   "display_name": "Python 3 (ipykernel)",
   "language": "python",
   "name": "python3"
  },
  "language_info": {
   "codemirror_mode": {
    "name": "ipython",
    "version": 3
   },
   "file_extension": ".py",
   "mimetype": "text/x-python",
   "name": "python",
   "nbconvert_exporter": "python",
   "pygments_lexer": "ipython3",
   "version": "3.10.6"
  }
 },
 "nbformat": 4,
 "nbformat_minor": 4
}
