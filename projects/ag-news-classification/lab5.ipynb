{
 "cells": [
  {
   "cell_type": "code",
   "execution_count": null,
   "metadata": {},
   "outputs": [],
   "source": [
    "from sentence_transformers import SentenceTransformer\n",
    "model = SentenceTransformer('BAAI/bge-large-en-v1.5')"
   ]
  },
  {
   "cell_type": "code",
   "execution_count": null,
   "metadata": {},
   "outputs": [],
   "source": [
    "import pandas as pd\n",
    "data = pd.read_csv(\"./../assets/test.csv\",header=None)"
   ]
  },
  {
   "cell_type": "code",
   "execution_count": null,
   "metadata": {},
   "outputs": [],
   "source": [
    "values  = data.values"
   ]
  },
  {
   "cell_type": "code",
   "execution_count": null,
   "metadata": {},
   "outputs": [],
   "source": [
    "for i in range(len(values)):\n",
    "    values[i][0]=i"
   ]
  },
  {
   "cell_type": "code",
   "execution_count": null,
   "metadata": {},
   "outputs": [],
   "source": [
    "values"
   ]
  },
  {
   "cell_type": "code",
   "execution_count": null,
   "metadata": {},
   "outputs": [],
   "source": [
    "# values"
   ]
  },
  {
   "cell_type": "code",
   "execution_count": null,
   "metadata": {},
   "outputs": [],
   "source": [
    "all_embs =  []\n",
    "from tqdm import tqdm\n",
    "for el in tqdm(values):\n",
    "    embs = model.encode([el[2]], normalize_embeddings=True)\n",
    "    all_embs.append((el[0],embs))"
   ]
  },
  {
   "cell_type": "code",
   "execution_count": null,
   "metadata": {},
   "outputs": [],
   "source": [
    "all_embs[0][1][0].tolist()"
   ]
  },
  {
   "cell_type": "code",
   "execution_count": null,
   "metadata": {},
   "outputs": [],
   "source": [
    "import chromadb\n",
    "client = chromadb.Client()\n",
    "\n",
    "collection = client.create_collection(\"sample_collection2\")\n"
   ]
  },
  {
   "cell_type": "code",
   "execution_count": null,
   "metadata": {},
   "outputs": [],
   "source": [
    "abc = [el[1][0].tolist() for el in all_embs]"
   ]
  },
  {
   "cell_type": "code",
   "execution_count": null,
   "metadata": {},
   "outputs": [],
   "source": [
    "collection.add(\n",
    "    embeddings=abc,\n",
    "    metadatas=[{\"headline\":el} for el in values[:,1].tolist()],\n",
    "    ids=[str(el[0]) for el in all_embs]\n",
    ")"
   ]
  },
  {
   "cell_type": "code",
   "execution_count": null,
   "metadata": {},
   "outputs": [],
   "source": [
    "import random\n",
    "random_elements = [[el[0],el[2]] for el in random.choices(values,k=30)]"
   ]
  },
  {
   "cell_type": "code",
   "execution_count": null,
   "metadata": {},
   "outputs": [],
   "source": [
    "random_elements"
   ]
  },
  {
   "cell_type": "code",
   "execution_count": null,
   "metadata": {},
   "outputs": [],
   "source": [
    "questions_array = [\n",
    "    (1763, \"What color is the sky?\"),\n",
    "    (3897, \"What is the aftermath of Israel's 17-day military offensive in the Gaza Strip, and how is the situation being described?\"),\n",
    "    (6219, \"Can you provide details about Jeff Raikes' job interview and career move in the early 1980s?\"),\n",
    "    (5166, \"Why is The SCO Group delaying the launch of a website, and what is the subject of ongoing litigation involving the company?\"),\n",
    "    (5718, \"What is NASA planning to do with its X-43A hypersonic research aircraft, and what speed is it expected to reach?\"),\n",
    "    (1122, \"What impact did Intel Corp's revenue outlook have on shares of personal computer makers, and what concerns are being raised?\"),\n",
    "    (7535, \"What is the likely decision of a U.S. bankruptcy court regarding the sale of Russian oil group YUKOS's main production unit?\"),\n",
    "    (6000, \"How did US commercial crude oil inventories change in the week ending Nov. 12, according to the Energy Department?\"),\n",
    "    (3219, \"Why have UN officials been denied permission to check the safety of migrants deported to Libya from Italy?\"),\n",
    "    (6080, \"What is the purpose of reviewing pending criminal cases, and what are they trying to determine?\"),\n",
    "    (2035, \"What has caused panic in the bicycling community, and what is the subject of Internet rumors?\"),\n",
    "    (3223, \"Can anything stop the next global virus outbreak, and what is being investigated to understand the security system?\"),\n",
    "    (3073, \"What is notable about PalmOne's Tungsten T5 in terms of its storage capacity, and who is it designed for?\"),\n",
    "    (2083, \"What emotional plea has been issued by the family of a Briton held hostage in Iraq, and how does he view the Arab world?\"),\n",
    "    (6491, \"What is the debate among hurricane forecasters, and what are they looking for in tracking maps?\"),\n",
    "    (7151, \"Who did the Angels sign as their center fielder, and what is the value and duration of the contract?\"),\n",
    "    (5606, \"What is the significance of the T-shirt created by Bob Rose, and what does it speak to regarding the school's football revival?\"),\n",
    "    (5957, \"What contract agreement did Detroit Tigers relief pitcher Troy Percival reach with the Tigers?\"),\n",
    "    (5444, \"What has the Indian Prime Minister, Dr. Manmohan Singh, stated about the economic reforms in the country?\"),\n",
    "    (4856, \"What cost-cutting measures does Credit Suisse First Boston plan to implement, and why?\"),\n",
    "    (3138, \"What charges have been brought against a British man, and who does the U.S. authorities contend he conspired with?\"),\n",
    "    (6783, \"What changes occurred in the ranking of software infrastructure, hardware upgrades, and security, and when did this happen?\"),\n",
    "    (5684, \"Among three digital photography repair programs, what is noteworthy about Adobe Elements?\"),\n",
    "    (1618, \"What is IBM's plan for its Power5 line of servers, and what market segment will it target?\"),\n",
    "    (5315, \"What is the expectation for the stock related to Celebrex, and what condition could improve its situation?\"),\n",
    "    (5453, \"When is the solar sail Cosmos 1 set to be launched, and what is its unique feature?\"),\n",
    "    (1075, \"What initiative is Microsoft's Japanese arm taking regarding Windows XP Service Pack 2, and how will it distribute it?\"),\n",
    "    (1543, \"What charge does Iran vehemently deny, and what has the IAEA found in its investigation?\"),\n",
    "    (6596, \"What free-trade agreement was sealed between Korea and Singapore, and what areas does it cover?\"),\n",
    "    (4498, \"What information has been found about the new Treo 650, and what limitation does the Sprint version have regarding Bluetooth?\")\n",
    "]"
   ]
  },
  {
   "cell_type": "code",
   "execution_count": null,
   "metadata": {},
   "outputs": [],
   "source": [
    "instruction = \"Represent this sentence for searching relevant passages:\"\n",
    "search_results = []\n",
    "for q in questions_array:\n",
    "    query = instruction + \" \" + q[1]\n",
    "    query = model.encode(query, normalize_embeddings=True)\n",
    "    results = collection.query(query_embeddings=[query.tolist()],n_results=8000)\n",
    "    search_results.append(results[\"ids\"][0].index(str(q[0])))"
   ]
  },
  {
   "cell_type": "code",
   "execution_count": null,
   "metadata": {},
   "outputs": [],
   "source": [
    "results[\"ids\"]"
   ]
  },
  {
   "cell_type": "code",
   "execution_count": null,
   "metadata": {},
   "outputs": [],
   "source": [
    "search_results"
   ]
  },
  {
   "cell_type": "code",
   "execution_count": null,
   "metadata": {},
   "outputs": [],
   "source": [
    "from statistics import mean\n",
    "mean(search_results)"
   ]
  },
  {
   "cell_type": "code",
   "execution_count": null,
   "metadata": {},
   "outputs": [],
   "source": []
  },
  {
   "cell_type": "code",
   "execution_count": null,
   "metadata": {},
   "outputs": [],
   "source": []
  }
 ],
 "metadata": {
  "kernelspec": {
   "display_name": "Python 3",
   "language": "python",
   "name": "python3"
  },
  "language_info": {
   "codemirror_mode": {
    "name": "ipython",
    "version": 3
   },
   "file_extension": ".py",
   "mimetype": "text/x-python",
   "name": "python",
   "nbconvert_exporter": "python",
   "pygments_lexer": "ipython3",
   "version": "3.10.13"
  },
  "orig_nbformat": 4
 },
 "nbformat": 4,
 "nbformat_minor": 2
}
