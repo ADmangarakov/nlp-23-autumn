{
 "cells": [
  {
   "cell_type": "code",
   "execution_count": null,
   "metadata": {},
   "outputs": [],
   "source": [
    "import pandas as pd\n",
    "from tqdm import tqdm"
   ]
  },
  {
   "cell_type": "code",
   "execution_count": null,
   "metadata": {},
   "outputs": [],
   "source": [
    "c = pd.read_csv(f\"../assets/annotated-corpus/train/1.tsv\",delimiter='\\t',keep_default_na=False)\n",
    "lemmas = []\n",
    "sentence_lemmas=[]\n",
    "for el in  tqdm(c.values):\n",
    "    if el[1]!=\"<endofsentence>\":\n",
    "        sentence_lemmas.append(el[3])\n",
    "    else:\n",
    "        lemmas.append(sentence_lemmas)\n",
    "        sentence_lemmas=[]\n"
   ]
  },
  {
   "cell_type": "code",
   "execution_count": null,
   "metadata": {},
   "outputs": [],
   "source": [
    "import nltk\n",
    "from nltk.corpus import stopwords\n",
    "nltk.download('stopwords')\n",
    "stops = set(stopwords.words('english'))\n"
   ]
  },
  {
   "cell_type": "code",
   "execution_count": null,
   "metadata": {},
   "outputs": [],
   "source": [
    "import re\n",
    "filtered_lemmas = []\n",
    "for sentence in lemmas:\n",
    "    filtered_lemmas.append([])\n",
    "    for lemma in sentence:\n",
    "        if type(lemma) == str:\n",
    "            lemma_filtered = re.sub(r'[^\\w\\s]','', lemma)\n",
    "            if len(lemma_filtered)==0 or lemma_filtered in stops:\n",
    "                continue\n",
    "            filtered_lemmas[-1].append(lemma_filtered)"
   ]
  },
  {
   "cell_type": "code",
   "execution_count": null,
   "metadata": {},
   "outputs": [],
   "source": [
    "# from nltk.util import ngrams\n",
    "import itertools as itertools\n",
    "from collections import Counter \n",
    "\n",
    "word_cnt = Counter()\n",
    "trigram_cnt = Counter()\n",
    "for sentence in filtered_lemmas:\n",
    "    for i in range(len(sentence)-2):\n",
    "        w1,w2,w3 = sentence[i], sentence[i+1], sentence[i+2]\n",
    "        word_cnt[w1] += 1\n",
    "        trigram_cnt[(w1, w2, w3)] += 1"
   ]
  },
  {
   "cell_type": "code",
   "execution_count": null,
   "metadata": {},
   "outputs": [],
   "source": [
    "N_total = len(word_cnt)"
   ]
  },
  {
   "cell_type": "code",
   "execution_count": null,
   "metadata": {},
   "outputs": [],
   "source": [
    "def score_ngram(score_fn, w1, w2, w3):\n",
    "    ngram_cnt = trigram_cnt[(w1, w2, w3)]\n",
    "    if not ngram_cnt:\n",
    "        return\n",
    "    unigrams = (word_cnt[w1],word_cnt[w2],word_cnt[w3])\n",
    "    return score_fn(ngram_cnt,unigrams)\n",
    "\n",
    "def _score_ngrams(score_fn):\n",
    "    for tup in trigram_cnt:\n",
    "        score = score_ngram(score_fn, *tup)\n",
    "        if score is not None:\n",
    "            yield tup, score\n",
    "\n",
    "def score_ngrams(score_fn):\n",
    "    return sorted(_score_ngrams(score_fn), key=lambda t: (-t[1], t[0]))\n",
    "\n",
    "def nbest(score_fn,n):\n",
    "    return [p for p, s in score_ngrams(score_fn)[:n]]"
   ]
  },
  {
   "cell_type": "code",
   "execution_count": null,
   "metadata": {},
   "outputs": [],
   "source": [
    "def student_t(ngram_cnt,unigrams):\n",
    "    unigrams_product = 1\n",
    "    for el in unigrams:\n",
    "        unigrams_product*=el\n",
    "    return (ngram_cnt - (unigrams_product / (N_total ** (3 - 1)))) / (ngram_cnt + 1e-5) ** 0.5"
   ]
  },
  {
   "cell_type": "code",
   "execution_count": null,
   "metadata": {},
   "outputs": [],
   "source": [
    "nbest(student_t,50)"
   ]
  },
  {
   "cell_type": "code",
   "execution_count": null,
   "metadata": {},
   "outputs": [],
   "source": [
    "import nltk\n",
    "from nltk.collocations import *\n",
    "\n",
    "trigram_measures = nltk.collocations.TrigramAssocMeasures()\n",
    "\n",
    "flat_list = [item for sublist in filtered_lemmas for item in sublist]\n",
    "finder_thr = TrigramCollocationFinder.from_words(flat_list) "
   ]
  },
  {
   "cell_type": "code",
   "execution_count": null,
   "metadata": {},
   "outputs": [],
   "source": [
    "print(finder_thr.nbest(trigram_measures.student_t, 50))"
   ]
  }
 ],
 "metadata": {
  "kernelspec": {
   "display_name": "Python 3",
   "language": "python",
   "name": "python3"
  },
  "language_info": {
   "codemirror_mode": {
    "name": "ipython",
    "version": 3
   },
   "file_extension": ".py",
   "mimetype": "text/x-python",
   "name": "python",
   "nbconvert_exporter": "python",
   "pygments_lexer": "ipython3",
   "version": "3.9.13"
  },
  "orig_nbformat": 4
 },
 "nbformat": 4,
 "nbformat_minor": 2
}
