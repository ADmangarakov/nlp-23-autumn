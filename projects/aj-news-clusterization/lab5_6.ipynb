{
  "nbformat": 4,
  "nbformat_minor": 0,
  "metadata": {
    "colab": {
      "provenance": [],
      "gpuType": "T4"
    },
    "kernelspec": {
      "name": "python3",
      "display_name": "Python 3"
    },
    "language_info": {
      "name": "python"
    },
    "accelerator": "GPU"
  },
  "cells": [
    {
      "cell_type": "code",
      "execution_count": null,
      "metadata": {
        "id": "xlwYqVbKMsnZ"
      },
      "outputs": [],
      "source": [
        "%pip install chromadb\n",
        "%pip install sentence_transformers"
      ]
    },
    {
      "cell_type": "code",
      "source": [
        "from google.colab import drive\n",
        "drive.mount('/content/gdrive')"
      ],
      "metadata": {
        "id": "kNzUR9kdjCHi"
      },
      "execution_count": null,
      "outputs": []
    },
    {
      "cell_type": "code",
      "source": [
        "import pandas as pd\n",
        "import numpy as np\n",
        "from sentence_transformers import SentenceTransformer\n",
        "import chromadb"
      ],
      "metadata": {
        "id": "w0gWFDnf9PBk"
      },
      "execution_count": null,
      "outputs": []
    },
    {
      "cell_type": "code",
      "source": [
        "df = pd.read_csv('/content/gdrive/MyDrive/lab5_nlp/train_1.csv', header=None, names = ['topic','title', 'text'])\n",
        "df['ID'] = df.index"
      ],
      "metadata": {
        "id": "YvCixdeK9PJM"
      },
      "execution_count": null,
      "outputs": []
    },
    {
      "cell_type": "code",
      "source": [
        "df"
      ],
      "metadata": {
        "id": "A12sqg8nyXDb"
      },
      "execution_count": null,
      "outputs": []
    },
    {
      "cell_type": "code",
      "source": [
        "import nltk\n",
        "nltk.download('punkt')\n",
        "from nltk.tokenize import sent_tokenize\n",
        "\n",
        "def cut_text(text):\n",
        "\n",
        "  len_text = len(text)\n",
        "\n",
        "  all_len = 0\n",
        "  text_fragments = []\n",
        "  overlay = 100\n",
        "\n",
        "  while all_len+overlay<len_text:\n",
        "    text_fragments.append(text[all_len:all_len+200])\n",
        "    all_len+=overlay\n",
        "\n",
        "  return text_fragments\n",
        "\n",
        "def cut_text_by_sent(text):\n",
        "  sentences = sent_tokenize(text)\n",
        "  print(sentences)\n",
        "  len_text = len(text)\n",
        "\n",
        "  fragment_len = 0\n",
        "  text_fragments = []\n",
        "  text_fragment = []\n",
        "\n",
        "\n",
        "  for sent in sentences:\n",
        "\n",
        "    if len(sent)>200:\n",
        "      text_fragments.append(sent)\n",
        "    else:\n",
        "      if fragment_len<200:\n",
        "        text_fragment.append(sent)\n",
        "\n",
        "        fragment_len+=len(sent)\n",
        "      else:\n",
        "        text_fragments.append(' '.join(text_fragment))\n",
        "        text_fragment = [sent]\n",
        "        fragment_len = 0\n",
        "\n",
        "  text_fragments.append(' '.join(text_fragment))\n",
        "\n",
        "  text_fragments_len_lim = []\n",
        "  for fragment in text_fragments:\n",
        "    if len(fragment)>200:\n",
        "      frags = cut_text(fragment)\n",
        "      for f in frags:\n",
        "        text_fragments_len_lim.append(f)\n",
        "    else:\n",
        "        text_fragments_len_lim.append(fragment)\n",
        "  return text_fragments_len_lim"
      ],
      "metadata": {
        "id": "mEpbmRCThey4"
      },
      "execution_count": null,
      "outputs": []
    },
    {
      "cell_type": "code",
      "source": [
        "text = 'Необходимо записать ваш датасет в векторную базу данных и выполнить эксперименты по поиску схожих фрагментов текста, соответствующих запросу. Разбиение текстовых документов на фрагменты. Разработать алгоритм разбиения текстовых документов на фрагменты текста. Можно использовать уже существующие механизмы, например, разбиение по длине фрагмента текста в символах и пересечению с соседними фрагментами. Дополнительные баллы за усложненные варианты, например: учитывать границы токенов и предложений.Подготовка метаданных для каждого фрагмента, таких как класс документа, автор документа, ключевые слова и др. Векторизация фрагментов текста. В качестве метода векторизации можно использовать стороний api (huggingface, openai, etc.), w2v или любую другую модель на выбор. Рекомендуется применить модель с huggingface. Подходящие модели с huggingface можно выбрать по ссылке. Примеры моделей из huggingface:ai-forever/sbert_large_mt_nlu_ru (Russian language)sentence-transformers/paraphrase-multilingual-mpnet-base-v2 (50 languages)Создание Векторной Базы Данных (ВБД). Необходимо выбрать одну из доступных ВБД, например: Chroma (рекомендуемая с точки зрения простоты), Pinecone и т.д. Реализовать механизм загрузки и сохранения текстовых данных в ВБД. Поиск схожих фрагментов текста. Выбрать алгоритмы similarity для поиска схожих фрагментов текста. Реализовать механизм поиска схожих фрагментов по заданным запросам механизм поиска схожих фрагментов по заданным запросам механизм поиска схожих фрагментов по заданным запросам механизм поиска схожих фрагментов по заданным запросам механизм поиска схожих фрагментов по заданным запросам.'\n",
        "text_fragments = cut_text_by_sent(text)"
      ],
      "metadata": {
        "id": "DWTNiKZYhev2"
      },
      "execution_count": null,
      "outputs": []
    },
    {
      "cell_type": "code",
      "source": [
        "text_fragments"
      ],
      "metadata": {
        "id": "gVIO8tzktmdo"
      },
      "execution_count": null,
      "outputs": []
    },
    {
      "cell_type": "code",
      "source": [
        "[len(f) for f in text_fragments]"
      ],
      "metadata": {
        "id": "Ne0K8t4TqtpA"
      },
      "execution_count": null,
      "outputs": []
    },
    {
      "cell_type": "code",
      "source": [
        "class Loader:\n",
        "    def load_single_document(self, file_path: str):\n",
        "      pass\n",
        "\n",
        "    def load_documents(self, source_dir: str):\n",
        "      pass\n",
        "\n",
        "class Embedder():\n",
        "  def __init__(self):\n",
        "    self.model = SentenceTransformer('sentence-transformers/paraphrase-multilingual-mpnet-base-v2')\n",
        "\n",
        "  def get_embeddings(self, sentences):\n",
        "    return [[float(e) for e in list(emb)] for emb in list(self.model.encode(sentences))]\n",
        "\n",
        "\n",
        "\n",
        "class ChromaDB():\n",
        "    def __init__(self):\n",
        "      # self.client = chromadb.Client()\n",
        "      self.client = chromadb.PersistentClient(path=\"/content/gdrive/MyDrive/lab5_nlp\")\n",
        "\n",
        "\n",
        "    def clear(self, name):\n",
        "      self.client.delete_collection(name=name)\n",
        "      return self.client.list_collections()\n",
        "\n",
        "    def get_collection(self, name):\n",
        "      return self.client.get_collection(name=name)\n",
        "\n",
        "    def get_collections(self):\n",
        "      return self.client.list_collections()\n",
        "\n",
        "\n",
        "class ChromaCollection():\n",
        "    def __init__(self, collection_name, similarity, client):\n",
        "      self.collection_name = collection_name\n",
        "      self.similarity = similarity\n",
        "      self.client = client\n",
        "      self.collection = self.client.get_or_create_collection(name=collection_name, metadata={\"hnsw:space\": similarity})\n",
        "      # self.collection = self.client.get_collection(collection_name)\n",
        "\n",
        "    def add(self, embeddings, texts, topics, ids):\n",
        "      self.collection.add(\n",
        "          embeddings = embeddings,\n",
        "          documents = texts,\n",
        "          metadatas = [{\"source\": \"df\", \"topic\":f\"{topic}\"} for i, topic in enumerate(topics)],\n",
        "          ids = [f'id {i}' for i in ids]\n",
        ")\n",
        "\n",
        "    def query(self, embeddings, n_results):\n",
        "      return self.collection.query(\n",
        "          query_embeddings=embeddings,\n",
        "          n_results=n_results,\n",
        "          # where={\"metadata_field\": \"is_equal_to_this\"},\n",
        "          # where_document={\"$contains\":\"search_string\"}\n",
        "      )\n",
        "\n",
        "\n",
        "    def get(self):\n",
        "      return self.collection.get()\n",
        "\n",
        "    def count(self):\n",
        "      return self.collection.count()\n",
        "\n",
        "\n"
      ],
      "metadata": {
        "id": "upzMcA7t9PLb"
      },
      "execution_count": null,
      "outputs": []
    },
    {
      "cell_type": "code",
      "source": [
        "embedder = Embedder()"
      ],
      "metadata": {
        "id": "EyEvT0079POX"
      },
      "execution_count": null,
      "outputs": []
    },
    {
      "cell_type": "code",
      "source": [
        "# embeds = embedder.get_embeddings(df['text'][:40000])"
      ],
      "metadata": {
        "id": "rtLayPDk-puh"
      },
      "execution_count": null,
      "outputs": []
    },
    {
      "cell_type": "code",
      "source": [
        "client = ChromaDB()"
      ],
      "metadata": {
        "id": "ld89Sh_pPQRk"
      },
      "execution_count": null,
      "outputs": []
    },
    {
      "cell_type": "code",
      "source": [
        "client.get_collections()"
      ],
      "metadata": {
        "id": "c2uQFEBvPxTF"
      },
      "execution_count": null,
      "outputs": []
    },
    {
      "cell_type": "code",
      "source": [
        "# client.clear('l2_sim')"
      ],
      "metadata": {
        "id": "uTQrWuW8bNiA"
      },
      "execution_count": null,
      "outputs": []
    },
    {
      "cell_type": "code",
      "source": [
        "collection_cos = ChromaCollection('cos_sim', 'cosine', client.client)\n",
        "collection_l2 = ChromaCollection('l2_sim', 'l2', client.client)\n",
        "collection_Ip = ChromaCollection('Ip_sim', 'ip', client.client)"
      ],
      "metadata": {
        "id": "pL4AI3HKNLQT"
      },
      "execution_count": null,
      "outputs": []
    },
    {
      "cell_type": "code",
      "source": [
        "# collection_cos.add(embeds[0:40000], df['text'].values.tolist()[0:40000], df['topic'].values.tolist()[0:40000], df['ID'].values.tolist()[0:40000])\n",
        "# collection_l2.add(embeds[0:40000], df['text'].values.tolist()[0:40000], df['topic'].values.tolist()[0:40000], df['ID'].values.tolist()[0:40000])\n",
        "# collection_Ip.add(embeds[0:40000], df['text'].values.tolist()[0:40000], df['topic'].values.tolist()[0:40000], df['ID'].values.tolist()[0:40000])"
      ],
      "metadata": {
        "id": "sieYB3l1CytN"
      },
      "execution_count": null,
      "outputs": []
    },
    {
      "cell_type": "code",
      "source": [
        "# collection_cos.get()"
      ],
      "metadata": {
        "id": "DYM5sdqLC6rR"
      },
      "execution_count": null,
      "outputs": []
    },
    {
      "cell_type": "code",
      "source": [
        "print(collection_cos.count())\n",
        "print(collection_l2.count())\n",
        "print(collection_Ip.count())"
      ],
      "metadata": {
        "id": "0P3Z79i4C6o2"
      },
      "execution_count": null,
      "outputs": []
    },
    {
      "cell_type": "code",
      "source": [
        "questions = ['What are short-sellers seeing again?',\n",
        "             'What is Carlyle Group known for?',\n",
        "             'What factors are expected to hang over the stock market next week?',\n",
        "             'Why have authorities halted oil export flows from the main pipeline in southern Iraq?',\n",
        "             'What economic menace do world oil prices present?',\n",
        "             'What offset the positive outlook from computer maker Dell Inc. on stocks?',\n",
        "             'How much did the assets of the nation\\'s retail money market mutual funds fall in the latest week?',\n",
        "             'What indicators suggest that the economy is improving?',\n",
        "             'What was Danny Bazil Riley\\'s initial job and salary?',\n",
        "             'What are short-sellers seeing again on Wall Street?',\n",
        "\n",
        "             'Soaring crude prices plus worries about the economy and the outlook for earnings are expected to hang over the stock market next week during the depth of the summer doldrums?',\n",
        "             'Can OPEC do anything to douse oil prices in an oversupplied market?',\n",
        "             'Non-OPEC oil exporters should consider increasing output to cool record crude prices, according to OPEC President Purnomo Yusgiantoro. What is the suggestion amidst soaring oil prices?',\n",
        "             'Did the auction for Google Inc.\\'s initial public offering start off smoothly?',\n",
        "             'What happened to the dollar on Friday amidst data showing a record U.S. trade deficit?',\n",
        "             'When should you have the money talk with your elderly relatives?',\n",
        "             'Why has the back-to-school season become a huge marketing phenomenon?',\n",
        "             'Who has lost less in the stock market compared to growth-focused investors?',\n",
        "             'What has driven the US trade deficit to a record high?',\n",
        "             'According to a press report, which company could be bracing itself for a possible takeover attempt?',\n",
        "\n",
        "             'Were there last-minute worries over an interview with Google\\'s bosses in Playboy magazine?',\n",
        "             'According to official figures, is the eurozone economy still growing?',\n",
        "             'What is causing the slowdown in economic growth in Japan?',\n",
        "             'What was the impact of the South African central bank trimming interest rates without prior warning?',\n",
        "             'According to a new survey, what happened to the cost of buying cars over the past five years?',\n",
        "             'Why did South Korea\\'s central bank cut interest rates?',\n",
        "             'When did the auction of shares in Google take place?',\n",
        "             'Why did Hewlett-Packard shares fall and what is their warning for the final quarter?',\n",
        "             'What happened to one of the oldest textile operators on the Indian Ocean island of Mauritius?',\n",
        "             'Why did Chad ask the IMF for a loan?',\n",
        "\n",
        "             'Why is the company running the Japanese nuclear plant closing its reactors?',\n",
        "             'What is Trevor Baylis planning to do with his company?',\n",
        "             'Why is Saudi Arabia ready to push extra oil into the market?',\n",
        "             'What are the plans of the group led by UAE\\'s Etisalat after winning mobile phone licenses in Saudi Arabia?',\n",
        "             'Why did Network Rail bring in specialist Indian engineers?',\n",
        "             'What has been the focus of the scientists at NitroMed Inc. lately?',\n",
        "             'What bid did the person submit in the auction-style initial public offering of Google Inc.?',\n",
        "             'What is the reason given by Massachusetts bargain hunters for their increased shopping on the sales tax holiday?',\n",
        "             'What conclusion did IBM Corp. researchers come to regarding e-mail?',\n",
        "             'According to the article, in what ways did Bill Gates mess up as he guided Microsoft to greatness?',\n",
        "\n",
        "             'What does columnist Steve Bailey argue for in relation to legal weapons?',\n",
        "             'What contrasting views do President Bush and Senator John F. Kerry have on the US economy?',\n",
        "             'Who is the Marlborough-based technology company suing and what are they accused of?',\n",
        "             'What improvements are planned for Central Square in Lynn?',\n",
        "             'What improvements are planned for Central Square in Lynn?',\n",
        "             'What recent lawsuit refocuses attention on Gary Winnick?',\n",
        "             'What is the reason behind Russia\\'s emergence as a superpower?',\n",
        "             'What does Kevin B. Rollins discuss in relation to Dell?',\n",
        "             'What unique solution does Mr. Stein propose for the country\\'s need for cash?',\n",
        "             'Why did Quality Distribution experience a large loss in the second quarter?'\n",
        "\n",
        "]"
      ],
      "metadata": {
        "id": "x5l_qaL4_gIs"
      },
      "execution_count": null,
      "outputs": []
    },
    {
      "cell_type": "code",
      "source": [
        "q_embeds = embedder.get_embeddings(questions)"
      ],
      "metadata": {
        "id": "vgalbxtvbFhc"
      },
      "execution_count": null,
      "outputs": []
    },
    {
      "cell_type": "code",
      "source": [
        "questions = ['What offset the positive outlook from computer maker Dell Inc. on stocks?']\n"
      ],
      "metadata": {
        "id": "iNXUnXBqq5rM"
      },
      "execution_count": null,
      "outputs": []
    },
    {
      "cell_type": "code",
      "source": [
        "q_embeds = embedder.get_embeddings(questions)"
      ],
      "metadata": {
        "id": "k0R08PRRrBM6"
      },
      "execution_count": null,
      "outputs": []
    },
    {
      "cell_type": "markdown",
      "source": [
        "### cos"
      ],
      "metadata": {
        "id": "ERfstSO4fdkI"
      }
    },
    {
      "cell_type": "code",
      "source": [
        "results = collection_cos.query(q_embeds,10000)"
      ],
      "metadata": {
        "id": "yf-gUUvzMiXG"
      },
      "execution_count": null,
      "outputs": []
    },
    {
      "cell_type": "code",
      "source": [
        "results['documents'][0][:10]"
      ],
      "metadata": {
        "id": "lUpbDQ6MrJiX"
      },
      "execution_count": null,
      "outputs": []
    },
    {
      "cell_type": "code",
      "source": [
        "ind= []\n",
        "for i, res in enumerate(results['ids']):\n",
        "  try:\n",
        "    ind.append(res.index(f'id {i}'))\n",
        "  except:\n",
        "    ind.append(10000)"
      ],
      "metadata": {
        "id": "D4b0SZa1ER24"
      },
      "execution_count": null,
      "outputs": []
    },
    {
      "cell_type": "code",
      "source": [
        "ind"
      ],
      "metadata": {
        "id": "gIeGb49wGtd6"
      },
      "execution_count": null,
      "outputs": []
    },
    {
      "cell_type": "code",
      "source": [
        "sum(ind) / len(ind)"
      ],
      "metadata": {
        "id": "aD3Bv9Jic3qc"
      },
      "execution_count": null,
      "outputs": []
    },
    {
      "cell_type": "markdown",
      "source": [
        "### l2"
      ],
      "metadata": {
        "id": "BVTzjLhkfTNF"
      }
    },
    {
      "cell_type": "code",
      "source": [
        "results = collection_l2.query(q_embeds,1000)"
      ],
      "metadata": {
        "id": "jmi8d_rSaykk"
      },
      "execution_count": null,
      "outputs": []
    },
    {
      "cell_type": "code",
      "source": [
        "ind = []\n",
        "for i, res in enumerate(results['ids']):\n",
        "  try:\n",
        "    ind.append(res.index(f'id {i}'))\n",
        "  except:\n",
        "    ind.append(1000)"
      ],
      "metadata": {
        "id": "7lL0k78WCu-C"
      },
      "execution_count": null,
      "outputs": []
    },
    {
      "cell_type": "code",
      "source": [
        "ind"
      ],
      "metadata": {
        "id": "MnJXK9MwCu79"
      },
      "execution_count": null,
      "outputs": []
    },
    {
      "cell_type": "code",
      "source": [
        "sum(ind) / len(ind)"
      ],
      "metadata": {
        "id": "5dzNBF3kdJzz"
      },
      "execution_count": null,
      "outputs": []
    },
    {
      "cell_type": "markdown",
      "source": [
        "### Ip"
      ],
      "metadata": {
        "id": "7o0_KIepfZWm"
      }
    },
    {
      "cell_type": "code",
      "source": [
        "results = collection_Ip.query(q_embeds,1000)"
      ],
      "metadata": {
        "id": "ozyVR5wjCu3Y"
      },
      "execution_count": null,
      "outputs": []
    },
    {
      "cell_type": "code",
      "source": [],
      "metadata": {
        "id": "KyaTNnuEqm8t"
      },
      "execution_count": null,
      "outputs": []
    },
    {
      "cell_type": "code",
      "source": [
        "ind = []\n",
        "for i, res in enumerate(results['ids']):\n",
        "  try:\n",
        "    ind.append(res.index(f'id {i}'))\n",
        "  except:\n",
        "    ind.append(1000)"
      ],
      "metadata": {
        "id": "OA9vCBguDYbf"
      },
      "execution_count": null,
      "outputs": []
    },
    {
      "cell_type": "code",
      "source": [
        "ind"
      ],
      "metadata": {
        "id": "OS8MgZoOdWeg"
      },
      "execution_count": null,
      "outputs": []
    },
    {
      "cell_type": "code",
      "source": [
        "sum(ind) / len(ind)"
      ],
      "metadata": {
        "id": "f6C8fh0qdXQx"
      },
      "execution_count": null,
      "outputs": []
    },
    {
      "cell_type": "code",
      "source": [],
      "metadata": {
        "id": "IRuRAwd6gWFr"
      },
      "execution_count": null,
      "outputs": []
    },
    {
      "cell_type": "code",
      "source": [
        "df[:5].text.values"
      ],
      "metadata": {
        "id": "cUYnXpAMg0UZ"
      },
      "execution_count": null,
      "outputs": []
    },
    {
      "cell_type": "code",
      "source": [
        "questions = ['What are short-sellers seeing again?',\n",
        "             'What is Carlyle Group known for?',\n",
        "             'What factors are expected to hang over the stock market next week?',\n",
        "             'Why have authorities halted oil export flows from the main pipeline in southern Iraq?',\n",
        "             'What economic menace do world oil prices present?']"
      ],
      "metadata": {
        "id": "_sckkRHMgS_E"
      },
      "execution_count": null,
      "outputs": []
    },
    {
      "cell_type": "code",
      "source": [
        "q_embeds = embedder.get_embeddings(questions)"
      ],
      "metadata": {
        "id": "CLAIbOOtgWDV"
      },
      "execution_count": null,
      "outputs": []
    },
    {
      "cell_type": "code",
      "source": [
        "results = collection_cos.query(q_embeds,5)"
      ],
      "metadata": {
        "id": "ex4CPm_ze-JM"
      },
      "execution_count": null,
      "outputs": []
    },
    {
      "cell_type": "code",
      "source": [
        "results"
      ],
      "metadata": {
        "id": "BCFK_LkSf6Fg"
      },
      "execution_count": null,
      "outputs": []
    },
    {
      "cell_type": "code",
      "source": [],
      "metadata": {
        "id": "Pu1tj_x3guz3"
      },
      "execution_count": null,
      "outputs": []
    },
    {
      "cell_type": "code",
      "source": [],
      "metadata": {
        "id": "N79frxsS6gXf"
      },
      "execution_count": null,
      "outputs": []
    },
    {
      "cell_type": "markdown",
      "source": [
        "# LAB6"
      ],
      "metadata": {
        "id": "xPJtHFUc6lVT"
      }
    },
    {
      "cell_type": "markdown",
      "source": [
        "### model1: \"deepset/roberta-base-squad2\""
      ],
      "metadata": {
        "id": "IvgAfNbYzs-B"
      }
    },
    {
      "cell_type": "code",
      "source": [
        "questions = ['What political party is currently in power in the United States?',\n",
        "             'Who won the FIFA World Cup in 2018?',\n",
        "             'What is the latest technological advancement in computer processors?',\n",
        "             'Who is the 46th President of the United States?',\n",
        "             'Which country hosted the 2020 Summer Olympics?',\n",
        "             'What is the most popular social media platform worldwide?',\n",
        "             'Which sport requires the use of a shuttlecock?',\n",
        "             'What is the most-watched television series of all time?',\n",
        "             'Who is the CEO of Tesla Inc.?',\n",
        "             'Which country invented the internet?',\n",
        "             'Who is the current Prime Minister of the United Kingdom?',\n",
        "             'Which team has won the most Super Bowl titles?',\n",
        "             'What is the latest version of the iPhone?',\n",
        "             'Who is considered the greatest basketball player of all time?',\n",
        "             'What is the currency of Japan?',\n",
        "             'Who created the theory of relativity?',\n",
        "             'Which country has the largest population in the world?',\n",
        "             'What is the main component of solar panels?',\n",
        "             'Who wrote the novel \"1984\"?',\n",
        "             'Which country won the most medals in the 2021 Tokyo Olympics?',\n",
        "             'What is the largest tech company in the world by revenue?',\n",
        "             'Which city is hosting the 2022 FIFA World Cup?',\n",
        "             'Who won the Nobel Peace Prize in 2020?',\n",
        "             'What is the fastest land animal?',\n",
        "             'Who is the richest person in the world?',\n",
        "             'What is the capital of Australia?',\n",
        "             'What is the worlds largest social media network?',\n",
        "             'Who discovered the theory of evolution?',\n",
        "             'Which country won the 2019 Rugby World Cup?',\n",
        "             'What is the newest gaming console released by Sony?',\n",
        "             'Who wrote the play \"Romeo and Juliet\"?']\n",
        "\n",
        "answers = ['The Democratic Party',\n",
        "           'France',\n",
        "           'The introduction of 7-nanometer processors.',\n",
        "           'Joe Biden',\n",
        "           'Japan',\n",
        "           'Facebook',\n",
        "           'Badminton',\n",
        "           'Game of Thrones',\n",
        "           'Elon Musk',\n",
        "           'United States',\n",
        "           'Boris Johnson',\n",
        "           'Pittsburgh Steelers',\n",
        "           'iPhone 13',\n",
        "           'Michael Jordan',\n",
        "           'Japanese yen',\n",
        "           'Albert Einstein',\n",
        "           'China',\n",
        "           'Silicon',\n",
        "           'George Orwell',\n",
        "           'United States',\n",
        "           'Apple Inc.',\n",
        "           'Qatar',\n",
        "           'World Food Programme',\n",
        "           'Cheetah',\n",
        "           'Elon Musk',\n",
        "           'Canberra',\n",
        "           'Facebook',\n",
        "           'Charles Darwin',\n",
        "           'South Africa',\n",
        "           'PlayStation 5',\n",
        "           'William Shakespeare']"
      ],
      "metadata": {
        "id": "1usdfmaXPZNq"
      },
      "execution_count": null,
      "outputs": []
    },
    {
      "cell_type": "code",
      "source": [
        "q_embeds = embedder.get_embeddings(questions)"
      ],
      "metadata": {
        "id": "xDCjX5etPZGP"
      },
      "execution_count": null,
      "outputs": []
    },
    {
      "cell_type": "code",
      "source": [
        "results = collection_cos.query(q_embeds,5)"
      ],
      "metadata": {
        "id": "ylTMtpOoPZDx"
      },
      "execution_count": null,
      "outputs": []
    },
    {
      "cell_type": "code",
      "source": [
        "results['documents'][0]"
      ],
      "metadata": {
        "id": "sO3ut2mSZlxU"
      },
      "execution_count": null,
      "outputs": []
    },
    {
      "cell_type": "code",
      "source": [
        "from transformers import AutoModelForQuestionAnswering, AutoTokenizer, pipeline\n",
        "\n",
        "model_name = \"deepset/roberta-base-squad2\"\n",
        "\n",
        "nlp = pipeline('question-answering', model=model_name, tokenizer=model_name)"
      ],
      "metadata": {
        "id": "aCasdz4geAzq"
      },
      "execution_count": null,
      "outputs": []
    },
    {
      "cell_type": "code",
      "source": [
        "!pip install evaluate\n",
        "!pip install bert_score\n",
        "from evaluate import load\n",
        "bertscore = load(\"bertscore\")"
      ],
      "metadata": {
        "id": "kaXiY21OBKpk"
      },
      "execution_count": null,
      "outputs": []
    },
    {
      "cell_type": "code",
      "source": [
        "bs_all = []\n",
        "for q, a, index in zip(questions, answers, range(len(answers))):\n",
        "  QA_input = {'question': q,\n",
        "             'context': ' '.join(results['documents'][index])}\n",
        "  res = nlp(QA_input)\n",
        "  bs = bertscore.compute(predictions=[res['answer']], references=[a], lang=\"en\")\n",
        "  bs_all.append(bs)\n",
        "\n",
        "  print(f'Question: {q}\\nAnswer: {res[\"answer\"]}\\nUser answer: {a}\\nScore: {bs[\"f1\"][0]}\\n ')"
      ],
      "metadata": {
        "id": "niocHY9EQWGC"
      },
      "execution_count": null,
      "outputs": []
    },
    {
      "cell_type": "code",
      "source": [
        "f1_scores = [bs['f1'][0] for bs in bs_all]\n",
        "sum(f1_scores)/len(f1_scores)"
      ],
      "metadata": {
        "id": "IRcMk6puBKku"
      },
      "execution_count": null,
      "outputs": []
    },
    {
      "cell_type": "code",
      "source": [],
      "metadata": {
        "id": "oE1LUC9pm9Jz"
      },
      "execution_count": null,
      "outputs": []
    },
    {
      "cell_type": "code",
      "source": [
        "questions = ['What are short-sellers seeing again?',\n",
        "             'What is Carlyle Group known for?',\n",
        "             'What factors are expected to hang over the stock market next week?',\n",
        "             'Why have authorities halted oil export flows from the main pipeline in southern Iraq?',\n",
        "             'What economic menace do world oil prices present?',\n",
        "             'What offset the positive outlook from computer maker Dell Inc. on stocks?',\n",
        "             'How much did the assets of the nation\\'s retail money market mutual funds fall in the latest week?',\n",
        "             'What indicators suggest that the economy is improving?',\n",
        "             'What was Danny Bazil Riley\\'s initial job and salary?',\n",
        "             'What are short-sellers seeing again on Wall Street?',\n",
        "\n",
        "             'Soaring crude prices plus worries about the economy and the outlook for earnings are expected to hang over the stock market next week during the depth of the summer doldrums?',\n",
        "             'Can OPEC do anything to douse oil prices in an oversupplied market?',\n",
        "             'Non-OPEC oil exporters should consider increasing output to cool record crude prices, according to OPEC President Purnomo Yusgiantoro. What is the suggestion amidst soaring oil prices?',\n",
        "             'Did the auction for Google Inc.\\'s initial public offering start off smoothly?',\n",
        "             'What happened to the dollar on Friday amidst data showing a record U.S. trade deficit?',\n",
        "             'When should you have the money talk with your elderly relatives?',\n",
        "             'Why has the back-to-school season become a huge marketing phenomenon?',\n",
        "             'Who has lost less in the stock market compared to growth-focused investors?',\n",
        "             'What has driven the US trade deficit to a record high?',\n",
        "             'According to a press report, which company could be bracing itself for a possible takeover attempt?',\n",
        "\n",
        "             'Were there last-minute worries over an interview with Google\\'s bosses in Playboy magazine?',\n",
        "             'According to official figures, is the eurozone economy still growing?',\n",
        "             'What is causing the slowdown in economic growth in Japan?',\n",
        "             'What was the impact of the South African central bank trimming interest rates without prior warning?',\n",
        "             'According to a new survey, what happened to the cost of buying cars over the past five years?',\n",
        "             'Why did South Korea\\'s central bank cut interest rates?',\n",
        "             'When did the auction of shares in Google take place?',\n",
        "             'Why did Hewlett-Packard shares fall and what is their warning for the final quarter?',\n",
        "             'What happened to one of the oldest textile operators on the Indian Ocean island of Mauritius?',\n",
        "             'Why did Chad ask the IMF for a loan?'\n",
        "\n",
        "\n",
        "]\n",
        "\n",
        "\n",
        "answers = ['green',\n",
        "           'making well-timed and occasionally controversial plays in the defense industry',\n",
        "           'soaring crude prices, worries about the economy and the outlook for earnings',\n",
        "           'intelligence showed a rebel militia could strike infrastructure',\n",
        "           'new economic menace barely three months before the US presidential elections',\n",
        "           'oil prices surged past #36;46 a barrel', '#36;1.17 billion',\n",
        "           'retail sales bounced back and new claims for jobless benefits fell',\n",
        "           'general manager at a commercial real estate firm at an annual base salary of #36;70,000',\n",
        "           'green',\n",
        "\n",
        "           'soaring crude prices plus worries about the economy and the outlook for earnings',\n",
        "           'no, markets are already oversupplied by 2.8 million barrels per day (bpd) of crude',\n",
        "           'increasing output to cool record crude prices',\n",
        "           'no, it got off to a rocky start after the Web search company sidestepped a bullet from U.S. securities regulators',\n",
        "           'it tumbled broadly',\n",
        "           'soon',\n",
        "           'the purchasing power of kids',\n",
        "           'investors in value-focused mutual funds',\n",
        "           'oil costs',\n",
        "           'Shell',\n",
        "\n",
        "           'Yes',\n",
        "           'Yes, but there are warnings it may slow down later in the year',\n",
        "           'drop in domestic and corporate spending',\n",
        "           'the lack of warning hits the rand and surprises markets',\n",
        "           'The cost of buying both new and second-hand cars fell sharply',\n",
        "           'to drive growth in the economy',\n",
        "           'on Friday',\n",
        "           'disappointing third-quarter profits, final quarter will also fall short of expectations',\n",
        "           'it shut seven factories and cut 900 jobs',\n",
        "           'to pay for looking after more than 100,000 refugees from conflict-torn Darfur in western Sudan'\n",
        "           ]"
      ],
      "metadata": {
        "id": "qxmOuJwQm9HF"
      },
      "execution_count": null,
      "outputs": []
    },
    {
      "cell_type": "code",
      "source": [
        "q_embeds = embedder.get_embeddings(questions)"
      ],
      "metadata": {
        "id": "fKHzfCEvm9Em"
      },
      "execution_count": null,
      "outputs": []
    },
    {
      "cell_type": "code",
      "source": [
        "results = collection_cos.query(q_embeds,5)"
      ],
      "metadata": {
        "id": "mDT7R4Ouu-Gt"
      },
      "execution_count": null,
      "outputs": []
    },
    {
      "cell_type": "code",
      "source": [
        "bs_all = []\n",
        "for q, a, index in zip(questions, answers, range(len(answers))):\n",
        "  QA_input = {'question': q,\n",
        "             'context': ' '.join(results['documents'][index])}\n",
        "  res = nlp(QA_input)\n",
        "  bs = bertscore.compute(predictions=[res['answer']], references=[a], lang=\"en\")\n",
        "  bs_all.append(bs)\n",
        "\n",
        "  print(f'Question: {q}\\nAnswer: {res[\"answer\"]}\\nUser answer: {a}\\nScore: {bs[\"f1\"][0]}\\n ')"
      ],
      "metadata": {
        "id": "56vRjHw6m9CT"
      },
      "execution_count": null,
      "outputs": []
    },
    {
      "cell_type": "code",
      "source": [
        "f1_scores = [bs['f1'][0] for bs in bs_all]\n",
        "sum(f1_scores)/len(f1_scores)"
      ],
      "metadata": {
        "id": "vN2Pihobm8_0"
      },
      "execution_count": null,
      "outputs": []
    },
    {
      "cell_type": "code",
      "source": [],
      "metadata": {
        "id": "qGF5ki-T0V10"
      },
      "execution_count": null,
      "outputs": []
    },
    {
      "cell_type": "code",
      "source": [],
      "metadata": {
        "id": "ltGc4oiF0VzW"
      },
      "execution_count": null,
      "outputs": []
    },
    {
      "cell_type": "code",
      "source": [],
      "metadata": {
        "id": "ctyMBTjB0Vw0"
      },
      "execution_count": null,
      "outputs": []
    },
    {
      "cell_type": "code",
      "source": [],
      "metadata": {
        "id": "QX0lgEEG0Vtc"
      },
      "execution_count": null,
      "outputs": []
    },
    {
      "cell_type": "markdown",
      "source": [
        "### model 2: distilbert-base-cased-distilled-squad"
      ],
      "metadata": {
        "id": "x-LWwqI3zk2e"
      }
    },
    {
      "cell_type": "code",
      "source": [
        "model_name = 'distilbert-base-cased-distilled-squad'\n",
        "\n",
        "nlp = pipeline('question-answering', model=model_name, tokenizer=model_name)"
      ],
      "metadata": {
        "id": "2YzJTrA2m860"
      },
      "execution_count": null,
      "outputs": []
    },
    {
      "cell_type": "code",
      "source": [
        "questions = ['What political party is currently in power in the United States?',\n",
        "             'Who won the FIFA World Cup in 2018?',\n",
        "             'What is the latest technological advancement in computer processors?',\n",
        "             'Who is the 46th President of the United States?',\n",
        "             'Which country hosted the 2020 Summer Olympics?',\n",
        "             'What is the most popular social media platform worldwide?',\n",
        "             'Which sport requires the use of a shuttlecock?',\n",
        "             'What is the most-watched television series of all time?',\n",
        "             'Who is the CEO of Tesla Inc.?',\n",
        "             'Which country invented the internet?',\n",
        "             'Who is the current Prime Minister of the United Kingdom?',\n",
        "             'Which team has won the most Super Bowl titles?',\n",
        "             'What is the latest version of the iPhone?',\n",
        "             'Who is considered the greatest basketball player of all time?',\n",
        "             'What is the currency of Japan?',\n",
        "             'Who created the theory of relativity?',\n",
        "             'Which country has the largest population in the world?',\n",
        "             'What is the main component of solar panels?',\n",
        "             'Who wrote the novel \"1984\"?',\n",
        "             'Which country won the most medals in the 2021 Tokyo Olympics?',\n",
        "             'What is the largest tech company in the world by revenue?',\n",
        "             'Which city is hosting the 2022 FIFA World Cup?',\n",
        "             'Who won the Nobel Peace Prize in 2020?',\n",
        "             'What is the fastest land animal?',\n",
        "             'Who is the richest person in the world?',\n",
        "             'What is the capital of Australia?',\n",
        "             'What is the worlds largest social media network?',\n",
        "             'Who discovered the theory of evolution?',\n",
        "             'Which country won the 2019 Rugby World Cup?',\n",
        "             'What is the newest gaming console released by Sony?',\n",
        "             'Who wrote the play \"Romeo and Juliet\"?']\n",
        "\n",
        "answers = ['The Democratic Party',\n",
        "           'France',\n",
        "           'The introduction of 7-nanometer processors.',\n",
        "           'Joe Biden',\n",
        "           'Japan',\n",
        "           'Facebook',\n",
        "           'Badminton',\n",
        "           'Game of Thrones',\n",
        "           'Elon Musk',\n",
        "           'United States',\n",
        "           'Boris Johnson',\n",
        "           'Pittsburgh Steelers',\n",
        "           'iPhone 13',\n",
        "           'Michael Jordan',\n",
        "           'Japanese yen',\n",
        "           'Albert Einstein',\n",
        "           'China',\n",
        "           'Silicon',\n",
        "           'George Orwell',\n",
        "           'United States',\n",
        "           'Apple Inc.',\n",
        "           'Qatar',\n",
        "           'World Food Programme',\n",
        "           'Cheetah',\n",
        "           'Elon Musk',\n",
        "           'Canberra',\n",
        "           'Facebook',\n",
        "           'Charles Darwin',\n",
        "           'South Africa',\n",
        "           'PlayStation 5',\n",
        "           'William Shakespeare']"
      ],
      "metadata": {
        "id": "4wSUSc-Km84N"
      },
      "execution_count": null,
      "outputs": []
    },
    {
      "cell_type": "code",
      "source": [
        "q_embeds = embedder.get_embeddings(questions)"
      ],
      "metadata": {
        "id": "MqpW4naZm81N"
      },
      "execution_count": null,
      "outputs": []
    },
    {
      "cell_type": "code",
      "source": [
        "results = collection_cos.query(q_embeds,5)"
      ],
      "metadata": {
        "id": "UI7V_7IW0eJL"
      },
      "execution_count": null,
      "outputs": []
    },
    {
      "cell_type": "code",
      "source": [
        "bs_all = []\n",
        "for q, a, index in zip(questions, answers, range(len(answers))):\n",
        "  QA_input = {'question': q,\n",
        "             'context': ' '.join(results['documents'][index])}\n",
        "  res = nlp(QA_input)\n",
        "  bs = bertscore.compute(predictions=[res['answer']], references=[a], lang=\"en\")\n",
        "  bs_all.append(bs)\n",
        "\n",
        "  print(f'Question: {q}\\nAnswer: {res[\"answer\"]}\\nUser answer: {a}\\nScore: {bs[\"f1\"][0]}\\n ')"
      ],
      "metadata": {
        "id": "Q5kkfVd50eEw"
      },
      "execution_count": null,
      "outputs": []
    },
    {
      "cell_type": "code",
      "source": [
        "f1_scores = [bs['f1'][0] for bs in bs_all]\n",
        "sum(f1_scores)/len(f1_scores)"
      ],
      "metadata": {
        "id": "NLQLyOXa0eCd"
      },
      "execution_count": null,
      "outputs": []
    },
    {
      "cell_type": "code",
      "source": [],
      "metadata": {
        "id": "oeUvQLeq0oe3"
      },
      "execution_count": null,
      "outputs": []
    },
    {
      "cell_type": "markdown",
      "source": [
        "### Gradio"
      ],
      "metadata": {
        "id": "5sYqquAFlRT6"
      }
    },
    {
      "cell_type": "code",
      "source": [
        "!pip install gradio==3.48.0\n",
        "import gradio as gr"
      ],
      "metadata": {
        "id": "LPewLkw-kymD"
      },
      "execution_count": null,
      "outputs": []
    },
    {
      "cell_type": "code",
      "source": [
        "def echo(question, history):\n",
        "    q_embeds = embedder.get_embeddings([question])\n",
        "    results = collection_cos.query(q_embeds,5)\n",
        "    QA_input = {'question': question,\n",
        "             'context': ' '.join(results['documents'][0])}\n",
        "    res = nlp(QA_input)\n",
        "    return res['answer']"
      ],
      "metadata": {
        "id": "mFNZ0eLQlMWa"
      },
      "execution_count": null,
      "outputs": []
    },
    {
      "cell_type": "code",
      "source": [
        "demo = gr.ChatInterface(fn=echo, examples=[\"hello\", \"hola\", \"merhaba\"], title=\"QA Bot\")\n",
        "demo.launch()"
      ],
      "metadata": {
        "id": "70KKUZb-lMT7"
      },
      "execution_count": null,
      "outputs": []
    },
    {
      "cell_type": "code",
      "source": [],
      "metadata": {
        "id": "uqDLGXS6lMRs"
      },
      "execution_count": null,
      "outputs": []
    }
  ]
}