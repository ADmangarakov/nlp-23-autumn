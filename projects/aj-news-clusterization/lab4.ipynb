{
 "cells": [
  {
   "cell_type": "code",
   "execution_count": null,
   "id": "10390880",
   "metadata": {},
   "outputs": [],
   "source": [
    "import os\n",
    "import pandas as pd\n",
    "import json\n",
    "import numpy as np\n",
    "import matplotlib.pyplot as plt\n",
    "from tqdm import tqdm\n",
    "\n",
    "all_lemmas_test = []\n",
    "\n",
    "for folder in tqdm(['1', '2', '3', '4']):\n",
    "    folder_path = os.path.join('assets/annotated_corpus/test/', folder)\n",
    "\n",
    "    for file in os.listdir(folder_path):\n",
    "\n",
    "        if file.endswith('.tsv') and file.startswith('annotation'):\n",
    "\n",
    "            file_path = os.path.join(folder_path, file)\n",
    "\n",
    "            df = pd.read_csv(file_path, sep='\\t', header=None)\n",
    "\n",
    "            lemma_list = df[0].tolist()\n",
    "            sentence_lemmas = []\n",
    "            for lemma in lemma_list:\n",
    "                if str(lemma) != 'nan':\n",
    "                    sentence_lemmas.append(lemma)\n",
    "                else:\n",
    "                    all_lemmas_test.append(sentence_lemmas)\n",
    "                    sentence_lemmas = []\n",
    "\n",
    "            if len(sentence_lemmas) > 0:\n",
    "                all_lemmas_test.append(sentence_lemmas)"
   ]
  },
  {
   "cell_type": "code",
   "execution_count": null,
   "id": "418ff3b7",
   "metadata": {},
   "outputs": [],
   "source": [
    "import pickle\n",
    "with open(\"term_document_matrix\", \"rb\") as fp:   # Unpickling\n",
    "    term_document_matrix = pickle.load(fp)\n",
    "    \n",
    "with open(\"terms\", \"rb\") as fp:   # Unpickling\n",
    "    terms = pickle.load(fp)"
   ]
  },
  {
   "cell_type": "code",
   "execution_count": null,
   "id": "5a1b54f7",
   "metadata": {},
   "outputs": [],
   "source": [
    "def create_annotation(doc_topic_dist, n_comps):\n",
    "    \n",
    "    output_filename = f\"assets/annotated_corpus/test/probs_topics_{n_comps}.tsv\"\n",
    "    \n",
    "    with open(output_filename, \"w\", encoding=\"utf-8\") as f:\n",
    "        \n",
    "        for index, probs in zip(range(len(doc_topic_dist)),doc_topic_dist):\n",
    "\n",
    "                    f.write(f\"{index}\\t\") \n",
    "\n",
    "                    for prob in probs:\n",
    "                        f.write(f\"{prob}\\t\")\n",
    "\n",
    "                    f.write(\"\\n\")  "
   ]
  },
  {
   "cell_type": "code",
   "execution_count": null,
   "id": "0f670b1b",
   "metadata": {},
   "outputs": [],
   "source": [
    "import matplotlib.pyplot as plt\n",
    "import numpy as np\n",
    "from tqdm import tqdm, trange\n",
    "from sklearn.decomposition import LatentDirichletAllocation\n",
    "from sklearn.datasets import make_multilabel_classification\n",
    "\n",
    "def lda_for_comps(lda_comp, term_document_matrix, max_iter):\n",
    "    lda = LatentDirichletAllocation(n_components=lda_comp, random_state=0, max_iter=max_iter)\n",
    "    lda.fit(term_document_matrix)\n",
    "    \n",
    "    topic_words = {}\n",
    "    n_top_words= 10\n",
    "    \n",
    "    \n",
    "    doc_topic_dist = lda.transform(term_document_matrix)\n",
    "\n",
    "    for topic, comp in enumerate(lda.components_):  \n",
    "\n",
    "        word_idx = np.argsort(comp)[::-1][:n_top_words]\n",
    "\n",
    "        topic_words[topic] = [terms[i] for i in word_idx]\n",
    "        \n",
    "        \n",
    "        \n",
    "        with open(f'lab4/top_words_{lda_comp}_maxiter_{max_iter}', \"w\", encoding=\"utf-8\") as f:\n",
    "            \n",
    "            top_docs = np.argmax(doc_topic_dist, axis=0)\n",
    "            \n",
    "            for topic, words in topic_words.items():\n",
    "                f.write('Topic: %d \\n' % topic)\n",
    "                f.write('Top words: %s' % ', '.join(words))\n",
    "                f.write('\\n')\n",
    "                f.write('Top text:\\n'+' '.join(all_lemmas_test[top_docs[topic]]) +'\\n\\n')\n",
    "            \n",
    "            \n",
    "                        \n",
    "        \n",
    "                \n",
    "    \n",
    "        \n",
    "            \n",
    "        \n",
    "    create_annotation(doc_topic_dist, lda_comp)\n",
    "                \n",
    "                \n",
    "    return lda.perplexity(term_document_matrix)\n"
   ]
  },
  {
   "cell_type": "code",
   "execution_count": null,
   "id": "e7e3c5b0",
   "metadata": {},
   "outputs": [],
   "source": [
    "lda_comps = [2, 4, 5, 8, 10, 15, 20, 25, 30, 35, 40]"
   ]
  },
  {
   "cell_type": "code",
   "execution_count": null,
   "id": "5b684d06",
   "metadata": {
    "scrolled": true
   },
   "outputs": [],
   "source": [
    "perplexity = [lda_for_comps(lda_comp, term_document_matrix, max_iter=10) for lda_comp in tqdm(lda_comps)]"
   ]
  },
  {
   "cell_type": "code",
   "execution_count": null,
   "id": "4ea50dce",
   "metadata": {},
   "outputs": [],
   "source": [
    "perplexity"
   ]
  },
  {
   "cell_type": "code",
   "execution_count": null,
   "id": "44fdcaa6",
   "metadata": {},
   "outputs": [],
   "source": [
    "plt.figure(dpi=280, figsize=(8,4))\n",
    "\n",
    "plt.plot(lda_comps, perplexity, color='red')\n",
    "\n",
    "pol = np.poly1d(np.polyfit(lda_comps, perplexity, 5))\n",
    "\n",
    "plt.plot(lda_comps, [pol(lda_comp) for lda_comp in lda_comps], color='blue')\n",
    "\n",
    "plt.xlabel(\"n_comps\")\n",
    "plt.ylabel(\"perplexity\")\n",
    "\n",
    "plt.show()"
   ]
  },
  {
   "cell_type": "markdown",
   "id": "5811238a",
   "metadata": {},
   "source": [
    "#### В два раза меньше итераций"
   ]
  },
  {
   "cell_type": "code",
   "execution_count": null,
   "id": "7117361a",
   "metadata": {},
   "outputs": [],
   "source": [
    "perplexity = [lda_for_comps(lda_comp, term_document_matrix, max_iter=5) for lda_comp in tqdm(lda_comps)]"
   ]
  },
  {
   "cell_type": "code",
   "execution_count": null,
   "id": "142343ba",
   "metadata": {},
   "outputs": [],
   "source": [
    "plt.figure(dpi=280, figsize=(8,4))\n",
    "\n",
    "plt.plot(lda_comps, perplexity, color='red')\n",
    "\n",
    "pol = np.poly1d(np.polyfit(lda_comps, perplexity, 5))\n",
    "\n",
    "plt.plot(lda_comps, [pol(lda_comp) for lda_comp in lda_comps], color='blue')\n",
    "\n",
    "plt.xlabel(\"n_comps\")\n",
    "plt.ylabel(\"perplexity\")\n",
    "\n",
    "plt.show()"
   ]
  },
  {
   "cell_type": "markdown",
   "id": "d56cd9a8",
   "metadata": {},
   "source": [
    "#### В два раза больше итераций"
   ]
  },
  {
   "cell_type": "code",
   "execution_count": null,
   "id": "9c57e8ff",
   "metadata": {},
   "outputs": [],
   "source": [
    "perplexity = [lda_for_comps(lda_comp, term_document_matrix, max_iter=20) for lda_comp in tqdm(lda_comps)]"
   ]
  },
  {
   "cell_type": "code",
   "execution_count": null,
   "id": "79eeaa94",
   "metadata": {},
   "outputs": [],
   "source": [
    "plt.figure(dpi=280, figsize=(8,4))\n",
    "\n",
    "plt.plot(lda_comps, perplexity, color='red')\n",
    "\n",
    "pol = np.poly1d(np.polyfit(lda_comps, perplexity, 5))\n",
    "\n",
    "plt.plot(lda_comps, [pol(lda_comp) for lda_comp in lda_comps], color='blue')\n",
    "\n",
    "plt.xlabel(\"n_comps\")\n",
    "plt.ylabel(\"perplexity\")\n",
    "\n",
    "plt.show()"
   ]
  },
  {
   "cell_type": "code",
   "execution_count": null,
   "id": "18a3a6bd",
   "metadata": {},
   "outputs": [],
   "source": []
  },
  {
   "cell_type": "code",
   "execution_count": null,
   "id": "a190e9c2",
   "metadata": {},
   "outputs": [],
   "source": []
  }
 ],
 "metadata": {
  "kernelspec": {
   "display_name": "Python 3 (ipykernel)",
   "language": "python",
   "name": "python3"
  },
  "language_info": {
   "codemirror_mode": {
    "name": "ipython",
    "version": 3
   },
   "file_extension": ".py",
   "mimetype": "text/x-python",
   "name": "python",
   "nbconvert_exporter": "python",
   "pygments_lexer": "ipython3",
   "version": "3.9.12"
  }
 },
 "nbformat": 4,
 "nbformat_minor": 5
}
