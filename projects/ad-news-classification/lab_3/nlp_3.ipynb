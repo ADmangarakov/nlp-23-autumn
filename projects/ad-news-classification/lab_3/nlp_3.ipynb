{
 "cells": [
  {
   "cell_type": "code",
   "execution_count": 1,
   "outputs": [],
   "source": [
    "import os\n",
    "import re\n",
    "import json\n",
    "import pandas as pd\n",
    "import numpy as np\n",
    "import seaborn as sns\n",
    "from nltk.corpus import stopwords\n",
    "from math import log10\n",
    "from gensim.models import Word2Vec\n",
    "from sklearn.decomposition import PCA"
   ],
   "metadata": {
    "collapsed": false,
    "ExecuteTime": {
     "end_time": "2023-12-25T23:06:27.788396600Z",
     "start_time": "2023-12-25T23:06:19.187577300Z"
    }
   },
   "id": "d7e35c2d93e3339d"
  },
  {
   "cell_type": "code",
   "execution_count": 2,
   "outputs": [],
   "source": [
    "train_dir = os.path.realpath(\"../assets/annotated-corpus/train\")\n",
    "result_dir = os.path.realpath(\"../assets/wordcount/train\")"
   ],
   "metadata": {
    "collapsed": false,
    "ExecuteTime": {
     "end_time": "2023-12-25T23:06:27.828396700Z",
     "start_time": "2023-12-25T23:06:27.770401900Z"
    }
   },
   "id": "initial_id"
  },
  {
   "cell_type": "code",
   "execution_count": 3,
   "outputs": [
    {
     "data": {
      "text/plain": "['1', '2', '3', '4']"
     },
     "execution_count": 3,
     "metadata": {},
     "output_type": "execute_result"
    }
   ],
   "source": [
    "topics = os.listdir(train_dir)\n",
    "topics"
   ],
   "metadata": {
    "collapsed": false,
    "ExecuteTime": {
     "end_time": "2023-12-25T23:06:27.857406Z",
     "start_time": "2023-12-25T23:06:27.796400500Z"
    }
   },
   "id": "2daf173c723b6ee9"
  },
  {
   "cell_type": "markdown",
   "source": [
    "# Task 1"
   ],
   "metadata": {
    "collapsed": false
   },
   "id": "2bd6102f8a656476"
  },
  {
   "cell_type": "code",
   "execution_count": 4,
   "outputs": [],
   "source": [
    "def get_stems_processed(filepath):\n",
    "    sentences = []\n",
    "    pattern = r\"([A-Za-z]+[-.@]?)+\\w*\\.?\"\n",
    "    with open(filepath) as f:\n",
    "        lines = \"\".join(f.readlines())\n",
    "        sentences_raw = lines.split(\"\\n\\n\")\n",
    "        for s in sentences_raw:\n",
    "            stems = []\n",
    "            words = s.split(\"\\n\")\n",
    "            if len(words) == 0 or words[0] == \"\":\n",
    "                continue\n",
    "            stems_raw = list(map(lambda x: x.split(\"\\t\")[1], words))\n",
    "            lemmas = list(map(lambda x: x.split(\"\\t\")[2], words))\n",
    "            for i in range(len(stems_raw)):\n",
    "                if lemmas[i] not in stopwords.words(\"english\") and re.match(pattern, lemmas[i]) is not None:\n",
    "                    stems.append(stems_raw[i])\n",
    "            sentences.append(stems)\n",
    "    return sentences"
   ],
   "metadata": {
    "collapsed": false,
    "ExecuteTime": {
     "end_time": "2023-12-25T23:06:27.894394600Z",
     "start_time": "2023-12-25T23:06:27.832398300Z"
    }
   },
   "id": "2559dc3e03ad4875"
  },
  {
   "cell_type": "code",
   "execution_count": 5,
   "outputs": [],
   "source": [
    "def count_words_in_sentences(sentences):\n",
    "    word_count = {}\n",
    "    sentences_count = []\n",
    "    for sentence in sentences:\n",
    "        wbs_count = {}\n",
    "        for w in sentence:\n",
    "            if w not in wbs_count.keys():\n",
    "                wbs_count[w] = 0\n",
    "            wbs_count[w] += 1\n",
    "            if w not in word_count.keys():\n",
    "                word_count[w] = 0\n",
    "            word_count[w] += 1\n",
    "        sentences_count.append(wbs_count)\n",
    "    return word_count"
   ],
   "metadata": {
    "collapsed": false,
    "ExecuteTime": {
     "end_time": "2023-12-25T23:06:27.951396300Z",
     "start_time": "2023-12-25T23:06:27.857406Z"
    }
   },
   "id": "d5021cd9226debb6"
  },
  {
   "cell_type": "code",
   "execution_count": 6,
   "outputs": [
    {
     "name": "stdout",
     "output_type": "stream",
     "text": [
      "Total files for process: 120000\n",
      "Processed 1000 files. 1000 files per: 34.737349s\n",
      "Processed 2000 files. 1000 files per: 23.597014s\n",
      "Processed 3000 files. 1000 files per: 19.337387s\n",
      "Processed 4000 files. 1000 files per: 18.216569s\n",
      "Processed 5000 files. 1000 files per: 15.170497s\n",
      "Processed 6000 files. 1000 files per: 14.569158s\n",
      "Processed 7000 files. 1000 files per: 14.57633s\n",
      "Processed 8000 files. 1000 files per: 14.470864s\n",
      "Processed 9000 files. 1000 files per: 14.591524s\n",
      "Processed 10000 files. 1000 files per: 14.376304s\n",
      "Processed 11000 files. 1000 files per: 14.362876s\n",
      "Processed 12000 files. 1000 files per: 14.746865s\n",
      "Processed 13000 files. 1000 files per: 14.700675s\n",
      "Processed 14000 files. 1000 files per: 14.21825s\n",
      "Processed 15000 files. 1000 files per: 14.295133s\n",
      "Processed 16000 files. 1000 files per: 14.657657s\n",
      "Processed 17000 files. 1000 files per: 14.38588s\n",
      "Processed 18000 files. 1000 files per: 14.570852s\n",
      "Processed 19000 files. 1000 files per: 14.646748s\n",
      "Processed 20000 files. 1000 files per: 14.070114s\n",
      "Processed 21000 files. 1000 files per: 14.159991s\n",
      "Processed 22000 files. 1000 files per: 13.993402s\n",
      "Processed 23000 files. 1000 files per: 13.97305s\n",
      "Processed 24000 files. 1000 files per: 13.916531s\n",
      "Processed 25000 files. 1000 files per: 14.029346s\n",
      "Processed 26000 files. 1000 files per: 13.93583s\n",
      "Processed 27000 files. 1000 files per: 13.630146s\n",
      "Processed 28000 files. 1000 files per: 13.512183s\n",
      "Processed 29000 files. 1000 files per: 13.966109s\n",
      "Processed 30000 files. 1000 files per: 13.773957s\n",
      "Processed 31000 files. 1000 files per: 13.85125s\n",
      "Processed 32000 files. 1000 files per: 13.819409s\n",
      "Processed 33000 files. 1000 files per: 13.717699s\n",
      "Processed 34000 files. 1000 files per: 13.58505s\n",
      "Processed 35000 files. 1000 files per: 14.07923s\n",
      "Processed 36000 files. 1000 files per: 13.811783s\n",
      "Processed 37000 files. 1000 files per: 14.049619s\n",
      "Processed 38000 files. 1000 files per: 14.082285s\n",
      "Processed 39000 files. 1000 files per: 13.910014s\n",
      "Processed 40000 files. 1000 files per: 13.78106s\n",
      "Processed 41000 files. 1000 files per: 13.676697s\n",
      "Processed 42000 files. 1000 files per: 13.742304s\n",
      "Processed 43000 files. 1000 files per: 13.981683s\n",
      "Processed 44000 files. 1000 files per: 13.663529s\n",
      "Processed 45000 files. 1000 files per: 16.306952s\n",
      "Processed 46000 files. 1000 files per: 13.808925s\n",
      "Processed 47000 files. 1000 files per: 13.628973s\n",
      "Processed 48000 files. 1000 files per: 13.921078s\n",
      "Processed 49000 files. 1000 files per: 13.623518s\n",
      "Processed 50000 files. 1000 files per: 13.561241s\n",
      "Processed 51000 files. 1000 files per: 13.568218s\n",
      "Processed 52000 files. 1000 files per: 13.961083s\n",
      "Processed 53000 files. 1000 files per: 13.4983s\n",
      "Processed 54000 files. 1000 files per: 13.422722s\n",
      "Processed 55000 files. 1000 files per: 13.331932s\n",
      "Processed 56000 files. 1000 files per: 13.811951s\n",
      "Processed 57000 files. 1000 files per: 13.711871s\n",
      "Processed 58000 files. 1000 files per: 13.658831s\n",
      "Processed 59000 files. 1000 files per: 13.24656s\n",
      "Processed 60000 files. 1000 files per: 13.559571s\n",
      "Processed 61000 files. 1000 files per: 13.653036s\n",
      "Processed 62000 files. 1000 files per: 13.556046s\n",
      "Processed 63000 files. 1000 files per: 13.203828s\n",
      "Processed 64000 files. 1000 files per: 13.558101s\n",
      "Processed 65000 files. 1000 files per: 13.505194s\n",
      "Processed 66000 files. 1000 files per: 13.56776s\n",
      "Processed 67000 files. 1000 files per: 13.445289s\n",
      "Processed 68000 files. 1000 files per: 13.561489s\n",
      "Processed 69000 files. 1000 files per: 22.017312s\n",
      "Processed 70000 files. 1000 files per: 27.902738s\n",
      "Processed 71000 files. 1000 files per: 29.738057s\n",
      "Processed 72000 files. 1000 files per: 29.305821s\n",
      "Processed 73000 files. 1000 files per: 29.627073s\n",
      "Processed 74000 files. 1000 files per: 30.224415s\n",
      "Processed 75000 files. 1000 files per: 30.773541s\n",
      "Processed 76000 files. 1000 files per: 30.896799s\n",
      "Processed 77000 files. 1000 files per: 30.66811s\n",
      "Processed 78000 files. 1000 files per: 30.565823s\n",
      "Processed 79000 files. 1000 files per: 28.701267s\n",
      "Processed 80000 files. 1000 files per: 22.631607s\n",
      "Processed 81000 files. 1000 files per: 23.377287s\n",
      "Processed 82000 files. 1000 files per: 23.649943s\n",
      "Processed 83000 files. 1000 files per: 23.182373s\n",
      "Processed 84000 files. 1000 files per: 26.140667s\n",
      "Processed 85000 files. 1000 files per: 24.612704s\n",
      "Processed 86000 files. 1000 files per: 24.045825s\n",
      "Processed 87000 files. 1000 files per: 28.737351s\n",
      "Processed 88000 files. 1000 files per: 28.211979s\n",
      "Processed 89000 files. 1000 files per: 28.201444s\n",
      "Processed 90000 files. 1000 files per: 29.234975s\n",
      "Processed 91000 files. 1000 files per: 28.626725s\n",
      "Processed 92000 files. 1000 files per: 28.534455s\n",
      "Processed 93000 files. 1000 files per: 29.120964s\n",
      "Processed 94000 files. 1000 files per: 29.152041s\n",
      "Processed 95000 files. 1000 files per: 28.335416s\n",
      "Processed 96000 files. 1000 files per: 29.235171s\n",
      "Processed 97000 files. 1000 files per: 31.06955s\n",
      "Processed 98000 files. 1000 files per: 33.934847s\n",
      "Processed 99000 files. 1000 files per: 33.157684s\n",
      "Processed 100000 files. 1000 files per: 33.420363s\n",
      "Processed 101000 files. 1000 files per: 32.215358s\n",
      "Processed 102000 files. 1000 files per: 31.956734s\n",
      "Processed 103000 files. 1000 files per: 33.082823s\n",
      "Processed 104000 files. 1000 files per: 36.632376s\n",
      "Processed 105000 files. 1000 files per: 34.084408s\n",
      "Processed 106000 files. 1000 files per: 31.889308s\n",
      "Processed 107000 files. 1000 files per: 30.385409s\n",
      "Processed 108000 files. 1000 files per: 31.208031s\n",
      "Processed 109000 files. 1000 files per: 31.632754s\n",
      "Processed 110000 files. 1000 files per: 33.045479s\n",
      "Processed 111000 files. 1000 files per: 32.669086s\n",
      "Processed 112000 files. 1000 files per: 32.47433s\n",
      "Processed 113000 files. 1000 files per: 32.865749s\n",
      "Processed 114000 files. 1000 files per: 32.848477s\n",
      "Processed 115000 files. 1000 files per: 32.321776s\n",
      "Processed 116000 files. 1000 files per: 33.818124s\n",
      "Processed 117000 files. 1000 files per: 33.050337s\n",
      "Processed 118000 files. 1000 files per: 32.766699s\n",
      "Processed 119000 files. 1000 files per: 31.699103s\n",
      "Processed 120000 files. 1000 files per: 33.26947s\n"
     ]
    }
   ],
   "source": [
    "import datetime\n",
    "\n",
    "all_documents = []\n",
    "word_dict_raw = {}\n",
    "cntr = 0\n",
    "total_len = 0\n",
    "for t in topics:\n",
    "    total_len += len(os.listdir(os.path.join(train_dir, t)))\n",
    "print(f\"Total files for process: {total_len}\")\n",
    "\n",
    "for t in topics:\n",
    "    workdir = os.path.join(train_dir, t)\n",
    "    start_time = datetime.datetime.now()\n",
    "    for filename in os.listdir(workdir):\n",
    "        stems = get_stems_processed(os.path.join(workdir, filename))\n",
    "        all_documents.append(stems)\n",
    "        counts = count_words_in_sentences(stems)\n",
    "        for w in counts.keys():\n",
    "            if w not in word_dict_raw.keys():\n",
    "                word_dict_raw[w] = 0\n",
    "            word_dict_raw[w] += counts[w]\n",
    "        cntr += 1\n",
    "        if cntr % 1000 == 0:\n",
    "            print(f\"Processed {cntr} files. 1000 files per: {(datetime.datetime.now() - start_time).total_seconds()}s\")\n",
    "            start_time = datetime.datetime.now()"
   ],
   "metadata": {
    "collapsed": false,
    "ExecuteTime": {
     "end_time": "2023-12-25T23:48:59.261856400Z",
     "start_time": "2023-12-25T23:06:27.877398500Z"
    }
   },
   "id": "b110b36a52c8306e"
  },
  {
   "cell_type": "code",
   "execution_count": 7,
   "outputs": [],
   "source": [
    "word_dict = dict(word_dict_raw)\n",
    "\n",
    "for w in word_dict_raw.keys():\n",
    "    if word_dict_raw[w] < 3:\n",
    "        del word_dict[w]"
   ],
   "metadata": {
    "collapsed": false,
    "ExecuteTime": {
     "end_time": "2023-12-25T23:48:59.343856800Z",
     "start_time": "2023-12-25T23:48:59.256861700Z"
    }
   },
   "id": "8f0bb900731d4150"
  },
  {
   "cell_type": "code",
   "execution_count": 8,
   "outputs": [],
   "source": [
    "if not os.path.isdir(result_dir):\n",
    "    os.makedirs(result_dir, exist_ok=True)\n",
    "with open(os.path.join(result_dir, \"dictionary.json\"), \"w\") as f:\n",
    "    json.dump(word_dict, f, indent=1)"
   ],
   "metadata": {
    "collapsed": false,
    "ExecuteTime": {
     "end_time": "2023-12-25T23:48:59.540523Z",
     "start_time": "2023-12-25T23:48:59.331860100Z"
    }
   },
   "id": "d43163f1a726311"
  },
  {
   "cell_type": "code",
   "execution_count": 191,
   "outputs": [
    {
     "name": "stdout",
     "output_type": "stream",
     "text": [
      "Processed 1000 files. 1000 Files Per: 12.160512s\n",
      "Processed 2000 files. 1000 Files Per: 12.18704s\n",
      "Processed 3000 files. 1000 Files Per: 16.435404s\n",
      "Processed 4000 files. 1000 Files Per: 14.748235s\n",
      "Processed 5000 files. 1000 Files Per: 14.950337s\n",
      "Processed 6000 files. 1000 Files Per: 18.305409s\n",
      "Processed 7000 files. 1000 Files Per: 14.43797s\n",
      "Processed 8000 files. 1000 Files Per: 14.86086s\n",
      "Processed 9000 files. 1000 Files Per: 15.588874s\n",
      "Processed 10000 files. 1000 Files Per: 14.100073s\n",
      "Processed 11000 files. 1000 Files Per: 13.400248s\n",
      "Processed 12000 files. 1000 Files Per: 15.122078s\n",
      "Processed 13000 files. 1000 Files Per: 14.088672s\n",
      "Processed 14000 files. 1000 Files Per: 14.276741s\n",
      "Processed 15000 files. 1000 Files Per: 16.00925s\n",
      "Processed 16000 files. 1000 Files Per: 15.271889s\n",
      "Processed 17000 files. 1000 Files Per: 18.820368s\n",
      "Processed 18000 files. 1000 Files Per: 20.164487s\n",
      "Processed 19000 files. 1000 Files Per: 19.473286s\n",
      "Processed 20000 files. 1000 Files Per: 17.522625s\n",
      "Processed 21000 files. 1000 Files Per: 19.181564s\n",
      "Processed 22000 files. 1000 Files Per: 19.437429s\n",
      "Processed 23000 files. 1000 Files Per: 18.70371s\n",
      "Processed 24000 files. 1000 Files Per: 20.808491s\n",
      "Processed 25000 files. 1000 Files Per: 18.332085s\n",
      "Processed 26000 files. 1000 Files Per: 20.223157s\n",
      "Processed 27000 files. 1000 Files Per: 21.072935s\n",
      "Processed 28000 files. 1000 Files Per: 16.772727s\n",
      "Processed 29000 files. 1000 Files Per: 17.058209s\n",
      "Processed 30000 files. 1000 Files Per: 19.162097s\n",
      "Processed 31000 files. 1000 Files Per: 18.671586s\n",
      "Processed 32000 files. 1000 Files Per: 18.538023s\n",
      "Processed 33000 files. 1000 Files Per: 19.709582s\n",
      "Processed 34000 files. 1000 Files Per: 17.408285s\n",
      "Processed 35000 files. 1000 Files Per: 17.0639s\n",
      "Processed 36000 files. 1000 Files Per: 16.940741s\n",
      "Processed 37000 files. 1000 Files Per: 19.052053s\n",
      "Processed 38000 files. 1000 Files Per: 17.94952s\n",
      "Processed 39000 files. 1000 Files Per: 22.715976s\n",
      "Processed 40000 files. 1000 Files Per: 18.627802s\n",
      "Processed 41000 files. 1000 Files Per: 18.313042s\n",
      "Processed 42000 files. 1000 Files Per: 17.612727s\n",
      "Processed 43000 files. 1000 Files Per: 18.466283s\n",
      "Processed 44000 files. 1000 Files Per: 16.80196s\n",
      "Processed 45000 files. 1000 Files Per: 16.585977s\n",
      "Processed 46000 files. 1000 Files Per: 17.638869s\n",
      "Processed 47000 files. 1000 Files Per: 16.297506s\n",
      "Processed 48000 files. 1000 Files Per: 16.682108s\n",
      "Processed 49000 files. 1000 Files Per: 16.527363s\n",
      "Processed 50000 files. 1000 Files Per: 16.964329s\n",
      "Processed 51000 files. 1000 Files Per: 16.394657s\n",
      "Processed 52000 files. 1000 Files Per: 16.866298s\n",
      "Processed 53000 files. 1000 Files Per: 20.874197s\n",
      "Processed 54000 files. 1000 Files Per: 17.87295s\n",
      "Processed 55000 files. 1000 Files Per: 16.980673s\n",
      "Processed 56000 files. 1000 Files Per: 17.685099s\n",
      "Processed 57000 files. 1000 Files Per: 17.525609s\n",
      "Processed 58000 files. 1000 Files Per: 19.486315s\n",
      "Processed 59000 files. 1000 Files Per: 17.597316s\n",
      "Processed 60000 files. 1000 Files Per: 18.660315s\n",
      "Processed 61000 files. 1000 Files Per: 16.628183s\n",
      "Processed 62000 files. 1000 Files Per: 18.197164s\n",
      "Processed 63000 files. 1000 Files Per: 18.274978s\n",
      "Processed 64000 files. 1000 Files Per: 18.400627s\n",
      "Processed 65000 files. 1000 Files Per: 19.987822s\n",
      "Processed 66000 files. 1000 Files Per: 18.587229s\n",
      "Processed 67000 files. 1000 Files Per: 17.398274s\n",
      "Processed 68000 files. 1000 Files Per: 17.293769s\n",
      "Processed 69000 files. 1000 Files Per: 16.773619s\n",
      "Processed 70000 files. 1000 Files Per: 17.011855s\n",
      "Processed 71000 files. 1000 Files Per: 17.037521s\n",
      "Processed 72000 files. 1000 Files Per: 17.094311s\n",
      "Processed 73000 files. 1000 Files Per: 17.543312s\n",
      "Processed 74000 files. 1000 Files Per: 17.583932s\n",
      "Processed 75000 files. 1000 Files Per: 17.957356s\n",
      "Processed 76000 files. 1000 Files Per: 19.948503s\n",
      "Processed 77000 files. 1000 Files Per: 19.177697s\n",
      "Processed 78000 files. 1000 Files Per: 17.310083s\n",
      "Processed 79000 files. 1000 Files Per: 16.630298s\n",
      "Processed 80000 files. 1000 Files Per: 17.851835s\n",
      "Processed 81000 files. 1000 Files Per: 16.963725s\n",
      "Processed 82000 files. 1000 Files Per: 17.125818s\n",
      "Processed 83000 files. 1000 Files Per: 19.4457s\n",
      "Processed 84000 files. 1000 Files Per: 17.715097s\n",
      "Processed 85000 files. 1000 Files Per: 16.761527s\n",
      "Processed 86000 files. 1000 Files Per: 16.98237s\n",
      "Processed 87000 files. 1000 Files Per: 16.706387s\n",
      "Processed 88000 files. 1000 Files Per: 16.410452s\n",
      "Processed 89000 files. 1000 Files Per: 16.049217s\n",
      "Processed 90000 files. 1000 Files Per: 16.205344s\n",
      "Processed 91000 files. 1000 Files Per: 17.222708s\n",
      "Processed 92000 files. 1000 Files Per: 18.215748s\n",
      "Processed 93000 files. 1000 Files Per: 18.958604s\n",
      "Processed 94000 files. 1000 Files Per: 20.807243s\n",
      "Processed 95000 files. 1000 Files Per: 18.83469s\n",
      "Processed 96000 files. 1000 Files Per: 18.959343s\n",
      "Processed 97000 files. 1000 Files Per: 19.579079s\n",
      "Processed 98000 files. 1000 Files Per: 19.965658s\n",
      "Processed 99000 files. 1000 Files Per: 18.856945s\n",
      "Processed 100000 files. 1000 Files Per: 19.403176s\n",
      "Processed 101000 files. 1000 Files Per: 18.598561s\n",
      "Processed 102000 files. 1000 Files Per: 18.848593s\n",
      "Processed 103000 files. 1000 Files Per: 19.042709s\n",
      "Processed 104000 files. 1000 Files Per: 19.222229s\n",
      "Processed 105000 files. 1000 Files Per: 19.123664s\n",
      "Processed 106000 files. 1000 Files Per: 19.231362s\n",
      "Processed 107000 files. 1000 Files Per: 18.891714s\n",
      "Processed 108000 files. 1000 Files Per: 19.11337s\n",
      "Processed 109000 files. 1000 Files Per: 18.698241s\n",
      "Processed 110000 files. 1000 Files Per: 19.307006s\n",
      "Processed 111000 files. 1000 Files Per: 21.268865s\n",
      "Processed 112000 files. 1000 Files Per: 18.502365s\n",
      "Processed 113000 files. 1000 Files Per: 19.126389s\n",
      "Processed 114000 files. 1000 Files Per: 18.568606s\n",
      "Processed 115000 files. 1000 Files Per: 18.533775s\n",
      "Processed 116000 files. 1000 Files Per: 20.23525s\n",
      "Processed 117000 files. 1000 Files Per: 18.274011s\n",
      "Processed 118000 files. 1000 Files Per: 18.288817s\n",
      "Processed 119000 files. 1000 Files Per: 18.424287s\n",
      "Processed 120000 files. 1000 Files Per: 18.309686s\n"
     ]
    }
   ],
   "source": [
    "doc_names = []\n",
    "matrix_arr = []\n",
    "cnt = 0\n",
    "for t in topics:\n",
    "    workdir = os.path.join(train_dir, t)\n",
    "    start_time = datetime.datetime.now()\n",
    "    for filename in os.listdir(workdir):\n",
    "        doc_names.append(t + \"/\" + filename)\n",
    "        stems = get_stems_processed(os.path.join(workdir, filename))\n",
    "        counts = count_words_in_sentences(stems)\n",
    "        vec = []\n",
    "        for w in word_dict.keys():\n",
    "            if w in counts.keys():\n",
    "                vec.append(counts[w])\n",
    "            else:\n",
    "                vec.append(0)\n",
    "        matrix_arr.append(vec)\n",
    "        if sum(vec) == 0:\n",
    "            print(\"Zero vector for document\", filename)\n",
    "        cnt += 1\n",
    "        if cnt % 1000 == 0:\n",
    "            print(f\"Processed {cnt} files. 1000 Files Per: {(datetime.datetime.now() - start_time).total_seconds()}s\")\n",
    "            start_time = datetime.datetime.now()\n"
   ],
   "metadata": {
    "collapsed": false,
    "ExecuteTime": {
     "end_time": "2023-12-25T19:11:38.325039500Z",
     "start_time": "2023-12-25T18:35:59.608495300Z"
    }
   },
   "id": "cf8dd1e55e8e274e"
  },
  {
   "cell_type": "code",
   "execution_count": 211,
   "outputs": [
    {
     "ename": "KeyboardInterrupt",
     "evalue": "",
     "output_type": "error",
     "traceback": [
      "\u001B[1;31m---------------------------------------------------------------------------\u001B[0m",
      "\u001B[1;31mKeyboardInterrupt\u001B[0m                         Traceback (most recent call last)",
      "\u001B[1;32m~\\AppData\\Local\\Temp\\ipykernel_12408\\2101556052.py\u001B[0m in \u001B[0;36m<module>\u001B[1;34m\u001B[0m\n\u001B[0;32m      1\u001B[0m \u001B[0mm_len\u001B[0m \u001B[1;33m=\u001B[0m \u001B[0mlen\u001B[0m\u001B[1;33m(\u001B[0m\u001B[0mmatrix_arr\u001B[0m\u001B[1;33m)\u001B[0m\u001B[1;33m\u001B[0m\u001B[1;33m\u001B[0m\u001B[0m\n\u001B[1;32m----> 2\u001B[1;33m \u001B[0mm_1\u001B[0m \u001B[1;33m=\u001B[0m \u001B[0mpd\u001B[0m\u001B[1;33m.\u001B[0m\u001B[0mDataFrame\u001B[0m\u001B[1;33m(\u001B[0m\u001B[0mmatrix_arr\u001B[0m\u001B[1;33m[\u001B[0m\u001B[0mint\u001B[0m\u001B[1;33m(\u001B[0m\u001B[0mm_len\u001B[0m\u001B[1;33m/\u001B[0m\u001B[1;36m4\u001B[0m\u001B[1;33m)\u001B[0m\u001B[1;33m:\u001B[0m\u001B[0mint\u001B[0m\u001B[1;33m(\u001B[0m\u001B[1;36m2\u001B[0m\u001B[1;33m*\u001B[0m\u001B[0mm_len\u001B[0m\u001B[1;33m/\u001B[0m\u001B[1;36m4\u001B[0m\u001B[1;33m)\u001B[0m\u001B[1;33m]\u001B[0m\u001B[1;33m)\u001B[0m\u001B[1;33m\u001B[0m\u001B[1;33m\u001B[0m\u001B[0m\n\u001B[0m\u001B[0;32m      3\u001B[0m \u001B[0mm_1\u001B[0m\u001B[1;33m.\u001B[0m\u001B[0mcolumns\u001B[0m \u001B[1;33m=\u001B[0m \u001B[0mword_dict\u001B[0m\u001B[1;33m.\u001B[0m\u001B[0mkeys\u001B[0m\u001B[1;33m(\u001B[0m\u001B[1;33m)\u001B[0m\u001B[1;33m\u001B[0m\u001B[1;33m\u001B[0m\u001B[0m\n\u001B[0;32m      4\u001B[0m \u001B[0mm_1\u001B[0m\u001B[1;33m.\u001B[0m\u001B[0mindex\u001B[0m \u001B[1;33m=\u001B[0m \u001B[0mdoc_names\u001B[0m\u001B[1;33m[\u001B[0m\u001B[0mint\u001B[0m\u001B[1;33m(\u001B[0m\u001B[0mm_len\u001B[0m\u001B[1;33m/\u001B[0m\u001B[1;36m4\u001B[0m\u001B[1;33m)\u001B[0m\u001B[1;33m:\u001B[0m\u001B[0mint\u001B[0m\u001B[1;33m(\u001B[0m\u001B[1;36m2\u001B[0m\u001B[1;33m*\u001B[0m\u001B[0mm_len\u001B[0m\u001B[1;33m/\u001B[0m\u001B[1;36m4\u001B[0m\u001B[1;33m)\u001B[0m\u001B[1;33m]\u001B[0m\u001B[1;33m\u001B[0m\u001B[1;33m\u001B[0m\u001B[0m\n\u001B[0;32m      5\u001B[0m \u001B[0mm_1\u001B[0m\u001B[1;33m.\u001B[0m\u001B[0mto_csv\u001B[0m\u001B[1;33m(\u001B[0m\u001B[0mos\u001B[0m\u001B[1;33m.\u001B[0m\u001B[0mpath\u001B[0m\u001B[1;33m.\u001B[0m\u001B[0mjoin\u001B[0m\u001B[1;33m(\u001B[0m\u001B[0mresult_dir\u001B[0m\u001B[1;33m,\u001B[0m \u001B[1;34m\"term-document.csv\"\u001B[0m\u001B[1;33m)\u001B[0m\u001B[1;33m)\u001B[0m\u001B[1;33m\u001B[0m\u001B[1;33m\u001B[0m\u001B[0m\n",
      "\u001B[1;32mC:\\Programs\\anaconda3\\lib\\site-packages\\pandas\\core\\frame.py\u001B[0m in \u001B[0;36m__init__\u001B[1;34m(self, data, index, columns, dtype, copy)\u001B[0m\n\u001B[0;32m    719\u001B[0m                         \u001B[1;31m# ndarray], Index, Series], Sequence[Any]]\"\u001B[0m\u001B[1;33m\u001B[0m\u001B[1;33m\u001B[0m\u001B[0m\n\u001B[0;32m    720\u001B[0m                         \u001B[0mcolumns\u001B[0m \u001B[1;33m=\u001B[0m \u001B[0mensure_index\u001B[0m\u001B[1;33m(\u001B[0m\u001B[0mcolumns\u001B[0m\u001B[1;33m)\u001B[0m  \u001B[1;31m# type: ignore[arg-type]\u001B[0m\u001B[1;33m\u001B[0m\u001B[1;33m\u001B[0m\u001B[0m\n\u001B[1;32m--> 721\u001B[1;33m                     arrays, columns, index = nested_data_to_arrays(\n\u001B[0m\u001B[0;32m    722\u001B[0m                         \u001B[1;31m# error: Argument 3 to \"nested_data_to_arrays\" has incompatible\u001B[0m\u001B[1;33m\u001B[0m\u001B[1;33m\u001B[0m\u001B[0m\n\u001B[0;32m    723\u001B[0m                         \u001B[1;31m# type \"Optional[Collection[Any]]\"; expected \"Optional[Index]\"\u001B[0m\u001B[1;33m\u001B[0m\u001B[1;33m\u001B[0m\u001B[0m\n",
      "\u001B[1;32mC:\\Programs\\anaconda3\\lib\\site-packages\\pandas\\core\\internals\\construction.py\u001B[0m in \u001B[0;36mnested_data_to_arrays\u001B[1;34m(data, columns, index, dtype)\u001B[0m\n\u001B[0;32m    517\u001B[0m         \u001B[0mcolumns\u001B[0m \u001B[1;33m=\u001B[0m \u001B[0mensure_index\u001B[0m\u001B[1;33m(\u001B[0m\u001B[0mdata\u001B[0m\u001B[1;33m[\u001B[0m\u001B[1;36m0\u001B[0m\u001B[1;33m]\u001B[0m\u001B[1;33m.\u001B[0m\u001B[0m_fields\u001B[0m\u001B[1;33m)\u001B[0m\u001B[1;33m\u001B[0m\u001B[1;33m\u001B[0m\u001B[0m\n\u001B[0;32m    518\u001B[0m \u001B[1;33m\u001B[0m\u001B[0m\n\u001B[1;32m--> 519\u001B[1;33m     \u001B[0marrays\u001B[0m\u001B[1;33m,\u001B[0m \u001B[0mcolumns\u001B[0m \u001B[1;33m=\u001B[0m \u001B[0mto_arrays\u001B[0m\u001B[1;33m(\u001B[0m\u001B[0mdata\u001B[0m\u001B[1;33m,\u001B[0m \u001B[0mcolumns\u001B[0m\u001B[1;33m,\u001B[0m \u001B[0mdtype\u001B[0m\u001B[1;33m=\u001B[0m\u001B[0mdtype\u001B[0m\u001B[1;33m)\u001B[0m\u001B[1;33m\u001B[0m\u001B[1;33m\u001B[0m\u001B[0m\n\u001B[0m\u001B[0;32m    520\u001B[0m     \u001B[0mcolumns\u001B[0m \u001B[1;33m=\u001B[0m \u001B[0mensure_index\u001B[0m\u001B[1;33m(\u001B[0m\u001B[0mcolumns\u001B[0m\u001B[1;33m)\u001B[0m\u001B[1;33m\u001B[0m\u001B[1;33m\u001B[0m\u001B[0m\n\u001B[0;32m    521\u001B[0m \u001B[1;33m\u001B[0m\u001B[0m\n",
      "\u001B[1;32mC:\\Programs\\anaconda3\\lib\\site-packages\\pandas\\core\\internals\\construction.py\u001B[0m in \u001B[0;36mto_arrays\u001B[1;34m(data, columns, dtype)\u001B[0m\n\u001B[0;32m    881\u001B[0m         \u001B[0marr\u001B[0m \u001B[1;33m=\u001B[0m \u001B[0m_list_to_arrays\u001B[0m\u001B[1;33m(\u001B[0m\u001B[0mdata\u001B[0m\u001B[1;33m)\u001B[0m\u001B[1;33m\u001B[0m\u001B[1;33m\u001B[0m\u001B[0m\n\u001B[0;32m    882\u001B[0m \u001B[1;33m\u001B[0m\u001B[0m\n\u001B[1;32m--> 883\u001B[1;33m     \u001B[0mcontent\u001B[0m\u001B[1;33m,\u001B[0m \u001B[0mcolumns\u001B[0m \u001B[1;33m=\u001B[0m \u001B[0m_finalize_columns_and_data\u001B[0m\u001B[1;33m(\u001B[0m\u001B[0marr\u001B[0m\u001B[1;33m,\u001B[0m \u001B[0mcolumns\u001B[0m\u001B[1;33m,\u001B[0m \u001B[0mdtype\u001B[0m\u001B[1;33m)\u001B[0m\u001B[1;33m\u001B[0m\u001B[1;33m\u001B[0m\u001B[0m\n\u001B[0m\u001B[0;32m    884\u001B[0m     \u001B[1;32mreturn\u001B[0m \u001B[0mcontent\u001B[0m\u001B[1;33m,\u001B[0m \u001B[0mcolumns\u001B[0m\u001B[1;33m\u001B[0m\u001B[1;33m\u001B[0m\u001B[0m\n\u001B[0;32m    885\u001B[0m \u001B[1;33m\u001B[0m\u001B[0m\n",
      "\u001B[1;32mC:\\Programs\\anaconda3\\lib\\site-packages\\pandas\\core\\internals\\construction.py\u001B[0m in \u001B[0;36m_finalize_columns_and_data\u001B[1;34m(content, columns, dtype)\u001B[0m\n\u001B[0;32m    986\u001B[0m \u001B[1;33m\u001B[0m\u001B[0m\n\u001B[0;32m    987\u001B[0m     \u001B[1;32mif\u001B[0m \u001B[0mlen\u001B[0m\u001B[1;33m(\u001B[0m\u001B[0mcontents\u001B[0m\u001B[1;33m)\u001B[0m \u001B[1;32mand\u001B[0m \u001B[0mcontents\u001B[0m\u001B[1;33m[\u001B[0m\u001B[1;36m0\u001B[0m\u001B[1;33m]\u001B[0m\u001B[1;33m.\u001B[0m\u001B[0mdtype\u001B[0m \u001B[1;33m==\u001B[0m \u001B[0mnp\u001B[0m\u001B[1;33m.\u001B[0m\u001B[0mobject_\u001B[0m\u001B[1;33m:\u001B[0m\u001B[1;33m\u001B[0m\u001B[1;33m\u001B[0m\u001B[0m\n\u001B[1;32m--> 988\u001B[1;33m         \u001B[0mcontents\u001B[0m \u001B[1;33m=\u001B[0m \u001B[0m_convert_object_array\u001B[0m\u001B[1;33m(\u001B[0m\u001B[0mcontents\u001B[0m\u001B[1;33m,\u001B[0m \u001B[0mdtype\u001B[0m\u001B[1;33m=\u001B[0m\u001B[0mdtype\u001B[0m\u001B[1;33m)\u001B[0m\u001B[1;33m\u001B[0m\u001B[1;33m\u001B[0m\u001B[0m\n\u001B[0m\u001B[0;32m    989\u001B[0m \u001B[1;33m\u001B[0m\u001B[0m\n\u001B[0;32m    990\u001B[0m     \u001B[1;32mreturn\u001B[0m \u001B[0mcontents\u001B[0m\u001B[1;33m,\u001B[0m \u001B[0mcolumns\u001B[0m\u001B[1;33m\u001B[0m\u001B[1;33m\u001B[0m\u001B[0m\n",
      "\u001B[1;32mC:\\Programs\\anaconda3\\lib\\site-packages\\pandas\\core\\internals\\construction.py\u001B[0m in \u001B[0;36m_convert_object_array\u001B[1;34m(content, dtype)\u001B[0m\n\u001B[0;32m   1071\u001B[0m         \u001B[1;32mreturn\u001B[0m \u001B[0marr\u001B[0m\u001B[1;33m\u001B[0m\u001B[1;33m\u001B[0m\u001B[0m\n\u001B[0;32m   1072\u001B[0m \u001B[1;33m\u001B[0m\u001B[0m\n\u001B[1;32m-> 1073\u001B[1;33m     \u001B[0marrays\u001B[0m \u001B[1;33m=\u001B[0m \u001B[1;33m[\u001B[0m\u001B[0mconvert\u001B[0m\u001B[1;33m(\u001B[0m\u001B[0marr\u001B[0m\u001B[1;33m)\u001B[0m \u001B[1;32mfor\u001B[0m \u001B[0marr\u001B[0m \u001B[1;32min\u001B[0m \u001B[0mcontent\u001B[0m\u001B[1;33m]\u001B[0m\u001B[1;33m\u001B[0m\u001B[1;33m\u001B[0m\u001B[0m\n\u001B[0m\u001B[0;32m   1074\u001B[0m \u001B[1;33m\u001B[0m\u001B[0m\n\u001B[0;32m   1075\u001B[0m     \u001B[1;32mreturn\u001B[0m \u001B[0marrays\u001B[0m\u001B[1;33m\u001B[0m\u001B[1;33m\u001B[0m\u001B[0m\n",
      "\u001B[1;32mC:\\Programs\\anaconda3\\lib\\site-packages\\pandas\\core\\internals\\construction.py\u001B[0m in \u001B[0;36m<listcomp>\u001B[1;34m(.0)\u001B[0m\n\u001B[0;32m   1071\u001B[0m         \u001B[1;32mreturn\u001B[0m \u001B[0marr\u001B[0m\u001B[1;33m\u001B[0m\u001B[1;33m\u001B[0m\u001B[0m\n\u001B[0;32m   1072\u001B[0m \u001B[1;33m\u001B[0m\u001B[0m\n\u001B[1;32m-> 1073\u001B[1;33m     \u001B[0marrays\u001B[0m \u001B[1;33m=\u001B[0m \u001B[1;33m[\u001B[0m\u001B[0mconvert\u001B[0m\u001B[1;33m(\u001B[0m\u001B[0marr\u001B[0m\u001B[1;33m)\u001B[0m \u001B[1;32mfor\u001B[0m \u001B[0marr\u001B[0m \u001B[1;32min\u001B[0m \u001B[0mcontent\u001B[0m\u001B[1;33m]\u001B[0m\u001B[1;33m\u001B[0m\u001B[1;33m\u001B[0m\u001B[0m\n\u001B[0m\u001B[0;32m   1074\u001B[0m \u001B[1;33m\u001B[0m\u001B[0m\n\u001B[0;32m   1075\u001B[0m     \u001B[1;32mreturn\u001B[0m \u001B[0marrays\u001B[0m\u001B[1;33m\u001B[0m\u001B[1;33m\u001B[0m\u001B[0m\n",
      "\u001B[1;32mC:\\Programs\\anaconda3\\lib\\site-packages\\pandas\\core\\internals\\construction.py\u001B[0m in \u001B[0;36mconvert\u001B[1;34m(arr)\u001B[0m\n\u001B[0;32m   1068\u001B[0m         \u001B[1;32mif\u001B[0m \u001B[0mdtype\u001B[0m \u001B[1;33m!=\u001B[0m \u001B[0mnp\u001B[0m\u001B[1;33m.\u001B[0m\u001B[0mdtype\u001B[0m\u001B[1;33m(\u001B[0m\u001B[1;34m\"O\"\u001B[0m\u001B[1;33m)\u001B[0m\u001B[1;33m:\u001B[0m\u001B[1;33m\u001B[0m\u001B[1;33m\u001B[0m\u001B[0m\n\u001B[0;32m   1069\u001B[0m             \u001B[0marr\u001B[0m \u001B[1;33m=\u001B[0m \u001B[0mlib\u001B[0m\u001B[1;33m.\u001B[0m\u001B[0mmaybe_convert_objects\u001B[0m\u001B[1;33m(\u001B[0m\u001B[0marr\u001B[0m\u001B[1;33m)\u001B[0m\u001B[1;33m\u001B[0m\u001B[1;33m\u001B[0m\u001B[0m\n\u001B[1;32m-> 1070\u001B[1;33m             \u001B[0marr\u001B[0m \u001B[1;33m=\u001B[0m \u001B[0mmaybe_cast_to_datetime\u001B[0m\u001B[1;33m(\u001B[0m\u001B[0marr\u001B[0m\u001B[1;33m,\u001B[0m \u001B[0mdtype\u001B[0m\u001B[1;33m)\u001B[0m\u001B[1;33m\u001B[0m\u001B[1;33m\u001B[0m\u001B[0m\n\u001B[0m\u001B[0;32m   1071\u001B[0m         \u001B[1;32mreturn\u001B[0m \u001B[0marr\u001B[0m\u001B[1;33m\u001B[0m\u001B[1;33m\u001B[0m\u001B[0m\n\u001B[0;32m   1072\u001B[0m \u001B[1;33m\u001B[0m\u001B[0m\n",
      "\u001B[1;32mC:\\Programs\\anaconda3\\lib\\site-packages\\pandas\\core\\dtypes\\cast.py\u001B[0m in \u001B[0;36mmaybe_cast_to_datetime\u001B[1;34m(value, dtype)\u001B[0m\n\u001B[0;32m   1592\u001B[0m         \u001B[1;32mraise\u001B[0m \u001B[0mTypeError\u001B[0m\u001B[1;33m(\u001B[0m\u001B[1;34m\"value must be listlike\"\u001B[0m\u001B[1;33m)\u001B[0m\u001B[1;33m\u001B[0m\u001B[1;33m\u001B[0m\u001B[0m\n\u001B[0;32m   1593\u001B[0m \u001B[1;33m\u001B[0m\u001B[0m\n\u001B[1;32m-> 1594\u001B[1;33m     \u001B[1;32mif\u001B[0m \u001B[0mis_timedelta64_dtype\u001B[0m\u001B[1;33m(\u001B[0m\u001B[0mdtype\u001B[0m\u001B[1;33m)\u001B[0m\u001B[1;33m:\u001B[0m\u001B[1;33m\u001B[0m\u001B[1;33m\u001B[0m\u001B[0m\n\u001B[0m\u001B[0;32m   1595\u001B[0m         \u001B[1;31m# TODO: _from_sequence would raise ValueError in cases where\u001B[0m\u001B[1;33m\u001B[0m\u001B[1;33m\u001B[0m\u001B[0m\n\u001B[0;32m   1596\u001B[0m         \u001B[1;31m#  ensure_nanosecond_dtype raises TypeError\u001B[0m\u001B[1;33m\u001B[0m\u001B[1;33m\u001B[0m\u001B[0m\n",
      "\u001B[1;32mC:\\Programs\\anaconda3\\lib\\site-packages\\pandas\\core\\dtypes\\common.py\u001B[0m in \u001B[0;36mis_timedelta64_dtype\u001B[1;34m(arr_or_dtype)\u001B[0m\n\u001B[0;32m    418\u001B[0m         \u001B[1;32mreturn\u001B[0m \u001B[0marr_or_dtype\u001B[0m\u001B[1;33m.\u001B[0m\u001B[0mkind\u001B[0m \u001B[1;33m==\u001B[0m \u001B[1;34m\"m\"\u001B[0m\u001B[1;33m\u001B[0m\u001B[1;33m\u001B[0m\u001B[0m\n\u001B[0;32m    419\u001B[0m \u001B[1;33m\u001B[0m\u001B[0m\n\u001B[1;32m--> 420\u001B[1;33m     \u001B[1;32mreturn\u001B[0m \u001B[0m_is_dtype_type\u001B[0m\u001B[1;33m(\u001B[0m\u001B[0marr_or_dtype\u001B[0m\u001B[1;33m,\u001B[0m \u001B[0mclasses\u001B[0m\u001B[1;33m(\u001B[0m\u001B[0mnp\u001B[0m\u001B[1;33m.\u001B[0m\u001B[0mtimedelta64\u001B[0m\u001B[1;33m)\u001B[0m\u001B[1;33m)\u001B[0m\u001B[1;33m\u001B[0m\u001B[1;33m\u001B[0m\u001B[0m\n\u001B[0m\u001B[0;32m    421\u001B[0m \u001B[1;33m\u001B[0m\u001B[0m\n\u001B[0;32m    422\u001B[0m \u001B[1;33m\u001B[0m\u001B[0m\n",
      "\u001B[1;31mKeyboardInterrupt\u001B[0m: "
     ]
    }
   ],
   "source": [
    "m_len = len(matrix_arr)\n",
    "m_1 = pd.DataFrame(matrix_arr[:int(m_len/4)])\n",
    "m_1.columns = word_dict.keys()\n",
    "m_1.index = doc_names[:int(m_len/4)]"
   ],
   "metadata": {
    "collapsed": false,
    "ExecuteTime": {
     "end_time": "2023-12-25T19:58:52.349125800Z",
     "start_time": "2023-12-25T19:58:07.541626200Z"
    }
   },
   "id": "4d728bae1e5a8110"
  },
  {
   "cell_type": "code",
   "execution_count": null,
   "outputs": [],
   "source": [
    "m_1.to_csv(os.path.join(result_dir, \"term-document.csv\"))"
   ],
   "metadata": {
    "collapsed": false
   },
   "id": "63773b3839593cc8"
  },
  {
   "cell_type": "code",
   "execution_count": 214,
   "outputs": [],
   "source": [
    "m_len = len(matrix_arr)\n",
    "m_1 = pd.DataFrame(matrix_arr[int(3*m_len/4):])\n",
    "m_1.columns = word_dict.keys()\n",
    "m_1.index = doc_names[int(3*m_len/4):]\n",
    "m_1.to_csv(os.path.join(result_dir, \"term-document.csv\"), mode=\"a\", header=False)"
   ],
   "metadata": {
    "collapsed": false,
    "ExecuteTime": {
     "end_time": "2023-12-25T20:10:58.053851900Z",
     "start_time": "2023-12-25T20:09:00.660416900Z"
    }
   },
   "id": "88365367453b4408"
  },
  {
   "cell_type": "code",
   "execution_count": 210,
   "outputs": [],
   "source": [],
   "metadata": {
    "collapsed": false,
    "ExecuteTime": {
     "end_time": "2023-12-25T19:57:14.037836100Z",
     "start_time": "2023-12-25T19:56:23.175382100Z"
    }
   },
   "id": "a050b57e07cf57f3"
  },
  {
   "cell_type": "code",
   "execution_count": 202,
   "outputs": [
    {
     "ename": "MemoryError",
     "evalue": "Unable to allocate 5.56 GiB for an array with shape (120000, 6218) and data type object",
     "output_type": "error",
     "traceback": [
      "\u001B[1;31m---------------------------------------------------------------------------\u001B[0m",
      "\u001B[1;31mMemoryError\u001B[0m                               Traceback (most recent call last)",
      "\u001B[1;32m~\\AppData\\Local\\Temp\\ipykernel_12408\\2460612870.py\u001B[0m in \u001B[0;36m<module>\u001B[1;34m\u001B[0m\n\u001B[1;32m----> 1\u001B[1;33m \u001B[0mmatrix\u001B[0m \u001B[1;33m=\u001B[0m \u001B[0mpd\u001B[0m\u001B[1;33m.\u001B[0m\u001B[0mDataFrame\u001B[0m\u001B[1;33m(\u001B[0m\u001B[0mmatrix_arr\u001B[0m\u001B[1;33m)\u001B[0m\u001B[1;33m\u001B[0m\u001B[1;33m\u001B[0m\u001B[0m\n\u001B[0m\u001B[0;32m      2\u001B[0m \u001B[0mmatrix\u001B[0m\u001B[1;33m.\u001B[0m\u001B[0mcolumns\u001B[0m \u001B[1;33m=\u001B[0m \u001B[0mword_dict\u001B[0m\u001B[1;33m.\u001B[0m\u001B[0mkeys\u001B[0m\u001B[1;33m(\u001B[0m\u001B[1;33m)\u001B[0m\u001B[1;33m\u001B[0m\u001B[1;33m\u001B[0m\u001B[0m\n\u001B[0;32m      3\u001B[0m \u001B[0mmatrix\u001B[0m\u001B[1;33m.\u001B[0m\u001B[0mindex\u001B[0m \u001B[1;33m=\u001B[0m \u001B[0mdoc_names\u001B[0m\u001B[1;33m\u001B[0m\u001B[1;33m\u001B[0m\u001B[0m\n",
      "\u001B[1;32mC:\\Programs\\anaconda3\\lib\\site-packages\\pandas\\core\\frame.py\u001B[0m in \u001B[0;36m__init__\u001B[1;34m(self, data, index, columns, dtype, copy)\u001B[0m\n\u001B[0;32m    719\u001B[0m                         \u001B[1;31m# ndarray], Index, Series], Sequence[Any]]\"\u001B[0m\u001B[1;33m\u001B[0m\u001B[1;33m\u001B[0m\u001B[0m\n\u001B[0;32m    720\u001B[0m                         \u001B[0mcolumns\u001B[0m \u001B[1;33m=\u001B[0m \u001B[0mensure_index\u001B[0m\u001B[1;33m(\u001B[0m\u001B[0mcolumns\u001B[0m\u001B[1;33m)\u001B[0m  \u001B[1;31m# type: ignore[arg-type]\u001B[0m\u001B[1;33m\u001B[0m\u001B[1;33m\u001B[0m\u001B[0m\n\u001B[1;32m--> 721\u001B[1;33m                     arrays, columns, index = nested_data_to_arrays(\n\u001B[0m\u001B[0;32m    722\u001B[0m                         \u001B[1;31m# error: Argument 3 to \"nested_data_to_arrays\" has incompatible\u001B[0m\u001B[1;33m\u001B[0m\u001B[1;33m\u001B[0m\u001B[0m\n\u001B[0;32m    723\u001B[0m                         \u001B[1;31m# type \"Optional[Collection[Any]]\"; expected \"Optional[Index]\"\u001B[0m\u001B[1;33m\u001B[0m\u001B[1;33m\u001B[0m\u001B[0m\n",
      "\u001B[1;32mC:\\Programs\\anaconda3\\lib\\site-packages\\pandas\\core\\internals\\construction.py\u001B[0m in \u001B[0;36mnested_data_to_arrays\u001B[1;34m(data, columns, index, dtype)\u001B[0m\n\u001B[0;32m    517\u001B[0m         \u001B[0mcolumns\u001B[0m \u001B[1;33m=\u001B[0m \u001B[0mensure_index\u001B[0m\u001B[1;33m(\u001B[0m\u001B[0mdata\u001B[0m\u001B[1;33m[\u001B[0m\u001B[1;36m0\u001B[0m\u001B[1;33m]\u001B[0m\u001B[1;33m.\u001B[0m\u001B[0m_fields\u001B[0m\u001B[1;33m)\u001B[0m\u001B[1;33m\u001B[0m\u001B[1;33m\u001B[0m\u001B[0m\n\u001B[0;32m    518\u001B[0m \u001B[1;33m\u001B[0m\u001B[0m\n\u001B[1;32m--> 519\u001B[1;33m     \u001B[0marrays\u001B[0m\u001B[1;33m,\u001B[0m \u001B[0mcolumns\u001B[0m \u001B[1;33m=\u001B[0m \u001B[0mto_arrays\u001B[0m\u001B[1;33m(\u001B[0m\u001B[0mdata\u001B[0m\u001B[1;33m,\u001B[0m \u001B[0mcolumns\u001B[0m\u001B[1;33m,\u001B[0m \u001B[0mdtype\u001B[0m\u001B[1;33m=\u001B[0m\u001B[0mdtype\u001B[0m\u001B[1;33m)\u001B[0m\u001B[1;33m\u001B[0m\u001B[1;33m\u001B[0m\u001B[0m\n\u001B[0m\u001B[0;32m    520\u001B[0m     \u001B[0mcolumns\u001B[0m \u001B[1;33m=\u001B[0m \u001B[0mensure_index\u001B[0m\u001B[1;33m(\u001B[0m\u001B[0mcolumns\u001B[0m\u001B[1;33m)\u001B[0m\u001B[1;33m\u001B[0m\u001B[1;33m\u001B[0m\u001B[0m\n\u001B[0;32m    521\u001B[0m \u001B[1;33m\u001B[0m\u001B[0m\n",
      "\u001B[1;32mC:\\Programs\\anaconda3\\lib\\site-packages\\pandas\\core\\internals\\construction.py\u001B[0m in \u001B[0;36mto_arrays\u001B[1;34m(data, columns, dtype)\u001B[0m\n\u001B[0;32m    871\u001B[0m \u001B[1;33m\u001B[0m\u001B[0m\n\u001B[0;32m    872\u001B[0m     \u001B[1;32mif\u001B[0m \u001B[0misinstance\u001B[0m\u001B[1;33m(\u001B[0m\u001B[0mdata\u001B[0m\u001B[1;33m[\u001B[0m\u001B[1;36m0\u001B[0m\u001B[1;33m]\u001B[0m\u001B[1;33m,\u001B[0m \u001B[1;33m(\u001B[0m\u001B[0mlist\u001B[0m\u001B[1;33m,\u001B[0m \u001B[0mtuple\u001B[0m\u001B[1;33m)\u001B[0m\u001B[1;33m)\u001B[0m\u001B[1;33m:\u001B[0m\u001B[1;33m\u001B[0m\u001B[1;33m\u001B[0m\u001B[0m\n\u001B[1;32m--> 873\u001B[1;33m         \u001B[0marr\u001B[0m \u001B[1;33m=\u001B[0m \u001B[0m_list_to_arrays\u001B[0m\u001B[1;33m(\u001B[0m\u001B[0mdata\u001B[0m\u001B[1;33m)\u001B[0m\u001B[1;33m\u001B[0m\u001B[1;33m\u001B[0m\u001B[0m\n\u001B[0m\u001B[0;32m    874\u001B[0m     \u001B[1;32melif\u001B[0m \u001B[0misinstance\u001B[0m\u001B[1;33m(\u001B[0m\u001B[0mdata\u001B[0m\u001B[1;33m[\u001B[0m\u001B[1;36m0\u001B[0m\u001B[1;33m]\u001B[0m\u001B[1;33m,\u001B[0m \u001B[0mabc\u001B[0m\u001B[1;33m.\u001B[0m\u001B[0mMapping\u001B[0m\u001B[1;33m)\u001B[0m\u001B[1;33m:\u001B[0m\u001B[1;33m\u001B[0m\u001B[1;33m\u001B[0m\u001B[0m\n\u001B[0;32m    875\u001B[0m         \u001B[0marr\u001B[0m\u001B[1;33m,\u001B[0m \u001B[0mcolumns\u001B[0m \u001B[1;33m=\u001B[0m \u001B[0m_list_of_dict_to_arrays\u001B[0m\u001B[1;33m(\u001B[0m\u001B[0mdata\u001B[0m\u001B[1;33m,\u001B[0m \u001B[0mcolumns\u001B[0m\u001B[1;33m)\u001B[0m\u001B[1;33m\u001B[0m\u001B[1;33m\u001B[0m\u001B[0m\n",
      "\u001B[1;32mC:\\Programs\\anaconda3\\lib\\site-packages\\pandas\\core\\internals\\construction.py\u001B[0m in \u001B[0;36m_list_to_arrays\u001B[1;34m(data)\u001B[0m\n\u001B[0;32m    892\u001B[0m     \u001B[1;32melse\u001B[0m\u001B[1;33m:\u001B[0m\u001B[1;33m\u001B[0m\u001B[1;33m\u001B[0m\u001B[0m\n\u001B[0;32m    893\u001B[0m         \u001B[1;31m# list of lists\u001B[0m\u001B[1;33m\u001B[0m\u001B[1;33m\u001B[0m\u001B[0m\n\u001B[1;32m--> 894\u001B[1;33m         \u001B[0mcontent\u001B[0m \u001B[1;33m=\u001B[0m \u001B[0mlib\u001B[0m\u001B[1;33m.\u001B[0m\u001B[0mto_object_array\u001B[0m\u001B[1;33m(\u001B[0m\u001B[0mdata\u001B[0m\u001B[1;33m)\u001B[0m\u001B[1;33m\u001B[0m\u001B[1;33m\u001B[0m\u001B[0m\n\u001B[0m\u001B[0;32m    895\u001B[0m     \u001B[1;32mreturn\u001B[0m \u001B[0mcontent\u001B[0m\u001B[1;33m\u001B[0m\u001B[1;33m\u001B[0m\u001B[0m\n\u001B[0;32m    896\u001B[0m \u001B[1;33m\u001B[0m\u001B[0m\n",
      "\u001B[1;32mC:\\Programs\\anaconda3\\lib\\site-packages\\pandas\\_libs\\lib.pyx\u001B[0m in \u001B[0;36mpandas._libs.lib.to_object_array\u001B[1;34m()\u001B[0m\n",
      "\u001B[1;31mMemoryError\u001B[0m: Unable to allocate 5.56 GiB for an array with shape (120000, 6218) and data type object"
     ]
    }
   ],
   "source": [
    "matrix = pd.DataFrame(matrix_arr)\n",
    "matrix.columns = word_dict.keys()\n",
    "matrix.index = doc_names"
   ],
   "metadata": {
    "collapsed": false,
    "ExecuteTime": {
     "end_time": "2023-12-25T19:48:35.414416600Z",
     "start_time": "2023-12-25T19:48:35.346545600Z"
    }
   },
   "id": "36106ec70f48c833"
  },
  {
   "cell_type": "code",
   "execution_count": null,
   "outputs": [],
   "source": [
    "matrix.to_csv(os.path.join(result_dir, \"term-document.csv\"))"
   ],
   "metadata": {
    "collapsed": false,
    "ExecuteTime": {
     "start_time": "2023-12-25T19:36:41.748337400Z"
    }
   },
   "id": "6702d77768a1421"
  },
  {
   "cell_type": "markdown",
   "source": [
    "# Task 2"
   ],
   "metadata": {
    "collapsed": false
   },
   "id": "64b6976a8b02fb23"
  },
  {
   "cell_type": "code",
   "execution_count": 9,
   "outputs": [],
   "source": [
    "def tf_idf(words, matrix):\n",
    "    total_words = sum(words.values())\n",
    "    total_documents = len(matrix.index)\n",
    "    result = []\n",
    "    for w in matrix.columns:\n",
    "        if w not in words:\n",
    "            result.append(0.0)\n",
    "            continue\n",
    "        t_f = words[w] / total_words\n",
    "        d_f = sum(matrix[w] > 0)\n",
    "        tfidf = t_f * (log10(total_documents + 1) - log10(d_f + 1))\n",
    "        result.append(tfidf)\n",
    "    return result"
   ],
   "metadata": {
    "collapsed": false,
    "ExecuteTime": {
     "end_time": "2023-12-25T23:48:59.565521Z",
     "start_time": "2023-12-25T23:48:59.538527100Z"
    }
   },
   "id": "51d9dcb672e6d68"
  },
  {
   "cell_type": "code",
   "execution_count": 10,
   "outputs": [],
   "source": [
    "import os\n",
    "import re\n",
    "from nltk import WordNetLemmatizer, SnowballStemmer\n",
    "from nltk.corpus import stopwords\n",
    "from pathlib import Path"
   ],
   "metadata": {
    "collapsed": false,
    "ExecuteTime": {
     "end_time": "2023-12-25T23:48:59.566521500Z",
     "start_time": "2023-12-25T23:48:59.552522100Z"
    }
   },
   "id": "4defd670ec7ee8bd"
  },
  {
   "cell_type": "code",
   "execution_count": 11,
   "outputs": [],
   "source": [
    "def split_to_words(sentence):\n",
    "    words = re.findall(r\"\\w+@\\w+\\.\\w+|\\+\\d{1,3}-\\d{3}-\\d{3}-\\d{2}-\\d{2}|\\w+\", sentence)\n",
    "    return words"
   ],
   "metadata": {
    "collapsed": false,
    "ExecuteTime": {
     "end_time": "2023-12-25T23:48:59.662523600Z",
     "start_time": "2023-12-25T23:48:59.569523100Z"
    }
   },
   "id": "5e5ff41f7235a219"
  },
  {
   "cell_type": "code",
   "execution_count": 12,
   "outputs": [],
   "source": [
    "def split_to_sent(text):\n",
    "    text = re.sub(r\"(?<=&lt;).*?(?=&gt;)\", \" \", text)\n",
    "    text = re.sub(r\"&gt;\", \" \", text)\n",
    "    text = re.sub(r\"&lt;\", \" \", text)\n",
    "    sentences = re.split(\n",
    "        r\"(((?<!\\w\\.\\w.)(?<!\\s\\w\\.)(?<![A-Z][a-z]\\.)(?<=\\.|\\?|\\!)\\s(?=[A-Z]))|((?<![\\,\\-\\:])\\n(?=[A-Z]|\\\" )))\", text)[\n",
    "                ::4]\n",
    "    return sentences"
   ],
   "metadata": {
    "collapsed": false,
    "ExecuteTime": {
     "end_time": "2023-12-25T23:48:59.663522800Z",
     "start_time": "2023-12-25T23:48:59.585526400Z"
    }
   },
   "id": "8ff75febf3edacc1"
  },
  {
   "cell_type": "code",
   "execution_count": 13,
   "outputs": [],
   "source": [
    "def preprocess_text(text, by_sentences=False):\n",
    "    stemmer = SnowballStemmer(\"english\")\n",
    "    lemmatizer = WordNetLemmatizer()\n",
    "    sentences = split_to_sent(text)\n",
    "    result = []\n",
    "    for s in sentences:\n",
    "        sentence = []\n",
    "        for w in split_to_words(s):\n",
    "            w_processed = re.sub(r\"[.!?,]$\", \"\", w).lower()\n",
    "            if lemmatizer.lemmatize(w_processed) not in stopwords.words(\"english\"):\n",
    "                sentence.append(stemmer.stem(w_processed))\n",
    "        if by_sentences:\n",
    "            result.append(sentence)\n",
    "        else:\n",
    "            result += sentence\n",
    "    return result"
   ],
   "metadata": {
    "collapsed": false,
    "ExecuteTime": {
     "end_time": "2023-12-25T23:48:59.666521900Z",
     "start_time": "2023-12-25T23:48:59.606521500Z"
    }
   },
   "id": "2aa70e8abb5a96a6"
  },
  {
   "cell_type": "code",
   "execution_count": 14,
   "outputs": [],
   "source": [
    "def vectorize_tf_idf(text, matrix):\n",
    "    preprocessed = preprocess_text(text)\n",
    "    text_dict = count_words_in_sentences([preprocessed])\n",
    "    return tf_idf(text_dict, matrix)"
   ],
   "metadata": {
    "collapsed": false,
    "ExecuteTime": {
     "end_time": "2023-12-25T23:48:59.667524800Z",
     "start_time": "2023-12-25T23:48:59.633522Z"
    }
   },
   "id": "3cb7fdae298659b2"
  },
  {
   "cell_type": "code",
   "execution_count": 15,
   "outputs": [],
   "source": [
    "matrix = pd.read_csv(os.path.join(result_dir, \"term-document.csv\"), index_col=0)"
   ],
   "metadata": {
    "collapsed": false,
    "ExecuteTime": {
     "end_time": "2023-12-25T23:54:03.919588500Z",
     "start_time": "2023-12-25T23:48:59.649522600Z"
    }
   },
   "id": "9cd35ecb4b091b81"
  },
  {
   "cell_type": "code",
   "execution_count": 16,
   "outputs": [],
   "source": [
    "t1 = \"\"\"Evolution Designs sell the \"Darwin fish\".  It's a fish symbol, like the ones\n",
    "Christians stick on their cars, but with feet and the word \"Darwin\" written\n",
    "inside.  The deluxe moulded 3D plastic fish is $4.95 postpaid in the US.\"\"\""
   ],
   "metadata": {
    "collapsed": false,
    "ExecuteTime": {
     "end_time": "2023-12-25T23:54:04.057586900Z",
     "start_time": "2023-12-25T23:54:03.951590Z"
    }
   },
   "id": "bd61b3172b8d9297"
  },
  {
   "cell_type": "code",
   "execution_count": 17,
   "outputs": [],
   "source": [
    "t2 = \"\"\"A story based on the premise that the US Congress is mysteriously\n",
    "assassinated, and fundamentalists quickly take charge of the nation to set it\n",
    "\"right\" again.  The book is the diary of a woman's life as she tries to live\n",
    "under the new Christian theocracy.  Women's right to own property is revoked,\n",
    "and their bank accounts are closed; sinful luxuries are outlawed, and the\n",
    "radio is only used for readings from the Bible.  Crimes are punished\n",
    "retroactively: doctors who performed legal abortions in the \"old world\" are\n",
    "hunted down and hanged.  Atwood's writing style is difficult to get used to\n",
    "at first, but the tale grows more and more chilling as it goes on.\"\"\""
   ],
   "metadata": {
    "collapsed": false,
    "ExecuteTime": {
     "end_time": "2023-12-25T23:54:04.168585100Z",
     "start_time": "2023-12-25T23:54:03.973588700Z"
    }
   },
   "id": "838f6dd06cf84563"
  },
  {
   "cell_type": "code",
   "execution_count": 18,
   "outputs": [
    {
     "data": {
      "text/plain": "[0.0,\n 0.0,\n 0.0,\n 0.0,\n 0.0,\n 0.0,\n 0.0,\n 0.0,\n 0.0,\n 0.0,\n 0.0,\n 0.0,\n 0.0,\n 0.0,\n 0.0,\n 0.0,\n 0.0,\n 0.0,\n 0.0,\n 0.0,\n 0.0,\n 0.07201380727389917,\n 0.0,\n 0.0,\n 0.0,\n 0.0,\n 0.0,\n 0.0,\n 0.0,\n 0.0,\n 0.0,\n 0.0,\n 0.0,\n 0.0,\n 0.0,\n 0.0,\n 0.0,\n 0.0,\n 0.0,\n 0.0,\n 0.0,\n 0.0,\n 0.0,\n 0.0,\n 0.0,\n 0.0,\n 0.0,\n 0.0,\n 0.0,\n 0.0,\n 0.0,\n 0.0,\n 0.0,\n 0.0,\n 0.0,\n 0.0,\n 0.0,\n 0.0,\n 0.0,\n 0.0,\n 0.0,\n 0.0,\n 0.0,\n 0.0,\n 0.0,\n 0.0,\n 0.0,\n 0.0,\n 0.0,\n 0.0,\n 0.0,\n 0.0,\n 0.0,\n 0.0,\n 0.0,\n 0.0,\n 0.0,\n 0.0,\n 0.0,\n 0.0,\n 0.0,\n 0.0,\n 0.0,\n 0.0,\n 0.0,\n 0.0,\n 0.0,\n 0.0,\n 0.0,\n 0.0,\n 0.0,\n 0.0,\n 0.0,\n 0.0,\n 0.0,\n 0.0,\n 0.0,\n 0.0,\n 0.0,\n 0.0]"
     },
     "execution_count": 18,
     "metadata": {},
     "output_type": "execute_result"
    }
   ],
   "source": [
    "vectorize_tf_idf(t1, matrix)[:100]"
   ],
   "metadata": {
    "collapsed": false,
    "ExecuteTime": {
     "end_time": "2023-12-25T23:54:11.323526400Z",
     "start_time": "2023-12-25T23:54:04.002585900Z"
    }
   },
   "id": "a4ca8f51c13acdee"
  },
  {
   "cell_type": "code",
   "execution_count": 19,
   "outputs": [
    {
     "data": {
      "text/plain": "[0.0,\n 0.0,\n 0.0,\n 0.0,\n 0.0,\n 0.0,\n 0.0,\n 0.0,\n 0.0,\n 0.0,\n 0.0,\n 0.0,\n 0.0,\n 0.0,\n 0.0,\n 0.0,\n 0.0,\n 0.0,\n 0.0,\n 0.0,\n 0.0,\n 0.0,\n 0.0,\n 0.0,\n 0.0,\n 0.0,\n 0.0,\n 0.0,\n 0.0,\n 0.0,\n 0.0,\n 0.0,\n 0.0,\n 0.0,\n 0.0,\n 0.0,\n 0.0,\n 0.0,\n 0.0,\n 0.0,\n 0.029751089129029136,\n 0.0,\n 0.0,\n 0.0,\n 0.0,\n 0.0,\n 0.0,\n 0.0,\n 0.0,\n 0.0,\n 0.0,\n 0.0,\n 0.0,\n 0.0,\n 0.0,\n 0.0,\n 0.0,\n 0.0,\n 0.0,\n 0.0,\n 0.0,\n 0.025625816488124634,\n 0.0,\n 0.0,\n 0.0,\n 0.0,\n 0.0,\n 0.0,\n 0.0,\n 0.0,\n 0.0,\n 0.0,\n 0.0,\n 0.0,\n 0.0,\n 0.0,\n 0.0,\n 0.0,\n 0.0,\n 0.02026599618583556,\n 0.0,\n 0.0,\n 0.0,\n 0.0,\n 0.0,\n 0.0,\n 0.0,\n 0.0,\n 0.0,\n 0.0,\n 0.0,\n 0.0,\n 0.0,\n 0.0,\n 0.0,\n 0.0,\n 0.0,\n 0.0,\n 0.0,\n 0.0]"
     },
     "execution_count": 19,
     "metadata": {},
     "output_type": "execute_result"
    }
   ],
   "source": [
    "vectorize_tf_idf(t2, matrix)[:100]"
   ],
   "metadata": {
    "collapsed": false,
    "ExecuteTime": {
     "end_time": "2023-12-25T23:54:12.792514100Z",
     "start_time": "2023-12-25T23:54:11.328523300Z"
    }
   },
   "id": "38f0fd44777bb3df"
  },
  {
   "cell_type": "markdown",
   "source": [
    "# Task 3"
   ],
   "metadata": {
    "collapsed": false
   },
   "id": "9679d9c138a81573"
  },
  {
   "cell_type": "code",
   "execution_count": 20,
   "outputs": [],
   "source": [
    "w2v = Word2Vec(sentences=[sentence for document in all_documents for sentence in document], epochs=40)\n",
    "w2v.save(os.path.join(train_dir, \"..\", \"w2v_weights\"))"
   ],
   "metadata": {
    "collapsed": false,
    "ExecuteTime": {
     "end_time": "2023-12-25T23:57:23.005963Z",
     "start_time": "2023-12-25T23:54:12.789513800Z"
    }
   },
   "id": "f6a868997f2a78cc"
  },
  {
   "cell_type": "code",
   "execution_count": 21,
   "outputs": [
    {
     "data": {
      "text/plain": "[('cathol', 0.5365188121795654),\n ('devout', 0.5312540531158447),\n ('chesnot', 0.4825665354728699),\n ('canterburi', 0.48174959421157837),\n ('church', 0.4620301425457001),\n ('pope', 0.4593251943588257),\n ('laettner', 0.45599958300590515),\n ('duca', 0.4544411897659302),\n ('vieri', 0.44649961590766907),\n ('becker', 0.439924031496048)]"
     },
     "execution_count": 21,
     "metadata": {},
     "output_type": "execute_result"
    }
   ],
   "source": [
    "w2v.wv.most_similar(\"christian\")"
   ],
   "metadata": {
    "collapsed": false,
    "ExecuteTime": {
     "end_time": "2023-12-25T23:57:23.156961700Z",
     "start_time": "2023-12-25T23:57:23.009965700Z"
    }
   },
   "id": "2ce14f862dcbacbd"
  },
  {
   "cell_type": "markdown",
   "source": [
    "# Task 4"
   ],
   "metadata": {
    "collapsed": false
   },
   "id": "59cceb592e3bfd59"
  },
  {
   "cell_type": "code",
   "execution_count": 22,
   "outputs": [],
   "source": [
    "def cosine_similarity(a, b):\n",
    "    return np.dot(a, b) / (np.linalg.norm(a) * np.linalg.norm(b))"
   ],
   "metadata": {
    "collapsed": false,
    "ExecuteTime": {
     "end_time": "2023-12-25T23:57:23.226962400Z",
     "start_time": "2023-12-25T23:57:23.161961800Z"
    }
   },
   "id": "6644db1b68e6d284"
  },
  {
   "cell_type": "code",
   "execution_count": 23,
   "outputs": [
    {
     "data": {
      "text/plain": "0.36233634"
     },
     "execution_count": 23,
     "metadata": {},
     "output_type": "execute_result"
    }
   ],
   "source": [
    "cosine_similarity(w2v.wv[\"christian\"], w2v.wv[\"politician\"])"
   ],
   "metadata": {
    "collapsed": false,
    "ExecuteTime": {
     "end_time": "2023-12-25T23:57:23.255961600Z",
     "start_time": "2023-12-25T23:57:23.185963400Z"
    }
   },
   "id": "44368cd7f4aec1a0"
  },
  {
   "cell_type": "code",
   "execution_count": 24,
   "outputs": [],
   "source": [
    "def draw_words(terms, vectors_source):\n",
    "    pca = PCA(n_components=2)\n",
    "    vectors_2d = pd.DataFrame(pca.fit_transform([vectors_source[term] for term in terms]))\n",
    "    vectors_2d.index = terms\n",
    "    vectors_2d.columns = [\"x\", \"y\"]\n",
    "    p = sns.scatterplot(data=vectors_2d, x=\"x\", y=\"y\")\n",
    "\n",
    "    for i in vectors_2d.index:\n",
    "        item = vectors_2d.loc[i]\n",
    "        p.text(item.x, item.y, i)\n",
    "    return p"
   ],
   "metadata": {
    "collapsed": false,
    "ExecuteTime": {
     "end_time": "2023-12-25T23:57:23.285959300Z",
     "start_time": "2023-12-25T23:57:23.210962900Z"
    }
   },
   "id": "c1e9b4f634e29e44"
  },
  {
   "cell_type": "code",
   "execution_count": 25,
   "outputs": [
    {
     "data": {
      "text/plain": "<AxesSubplot:xlabel='x', ylabel='y'>"
     },
     "execution_count": 25,
     "metadata": {},
     "output_type": "execute_result"
    },
    {
     "data": {
      "text/plain": "<Figure size 640x480 with 1 Axes>",
      "image/png": "[encoded data removed]"
     },
     "metadata": {},
     "output_type": "display_data"
    }
   ],
   "source": [
    "terms_to_check = [\"christian\", \"muslim\", \"islam\", \"time\", \"world\", \"true\",\n",
    "                  \"wrong\", \"human\", \"person\", \"tell\", \"see\", \"opinion\", \"think\", \"view\", \"religion\"]\n",
    "draw_words(terms_to_check, w2v.wv)"
   ],
   "metadata": {
    "collapsed": false,
    "ExecuteTime": {
     "end_time": "2023-12-25T23:57:23.900621600Z",
     "start_time": "2023-12-25T23:57:23.239960700Z"
    }
   },
   "id": "99ad3a591c7a4730"
  },
  {
   "cell_type": "markdown",
   "source": [
    "# Task 5"
   ],
   "metadata": {
    "collapsed": false
   },
   "id": "29b07d34084b3df5"
  },
  {
   "cell_type": "code",
   "execution_count": 26,
   "outputs": [],
   "source": [
    "def transform_to_compare(vectors):\n",
    "    pca = PCA(n_components=len(w2v.wv[0]))\n",
    "    transformed = pca.fit_transform(vectors)\n",
    "    return transformed"
   ],
   "metadata": {
    "collapsed": false,
    "ExecuteTime": {
     "end_time": "2023-12-25T23:57:23.925615200Z",
     "start_time": "2023-12-25T23:57:23.900621600Z"
    }
   },
   "id": "292ffa81a7262ea1"
  },
  {
   "cell_type": "code",
   "execution_count": 27,
   "outputs": [],
   "source": [
    "terms_vectorized = [vectorize_tf_idf(i, matrix) for i in matrix.columns]"
   ],
   "metadata": {
    "collapsed": false,
    "ExecuteTime": {
     "end_time": "2023-12-25T23:59:10.580928700Z",
     "start_time": "2023-12-25T23:57:23.916620400Z"
    }
   },
   "id": "6b2500ff8a80d19c"
  },
  {
   "cell_type": "markdown",
   "source": [
    "# Task 6"
   ],
   "metadata": {
    "collapsed": false
   },
   "id": "2220719f794f1158"
  },
  {
   "cell_type": "code",
   "execution_count": 28,
   "outputs": [],
   "source": [
    "to_cmp = transform_to_compare(terms_vectorized)"
   ],
   "metadata": {
    "collapsed": false,
    "ExecuteTime": {
     "end_time": "2023-12-25T23:59:27.036470900Z",
     "start_time": "2023-12-25T23:59:10.584930900Z"
    }
   },
   "id": "11173fe88a13984d"
  },
  {
   "cell_type": "code",
   "execution_count": 29,
   "outputs": [],
   "source": [
    "terms_to_compare = pd.DataFrame(to_cmp)\n",
    "terms_to_compare.index = matrix.columns"
   ],
   "metadata": {
    "collapsed": false,
    "ExecuteTime": {
     "end_time": "2023-12-25T23:59:27.113469700Z",
     "start_time": "2023-12-25T23:59:27.041471Z"
    }
   },
   "id": "c879f31ce86d9db6"
  },
  {
   "cell_type": "code",
   "execution_count": 30,
   "outputs": [],
   "source": [
    "def compare_methods(w1, w2):\n",
    "    print(\"Results for words\", w1, \"and\", w2)\n",
    "    print(\"W2V:\", cosine_similarity(w2v.wv[w1], w2v.wv[w2]))\n",
    "    print(\"Tf-Idf:\", cosine_similarity(terms_to_compare.loc[w1], terms_to_compare.loc[w2]))\n",
    "    print()"
   ],
   "metadata": {
    "collapsed": false,
    "ExecuteTime": {
     "end_time": "2023-12-25T23:59:27.114469500Z",
     "start_time": "2023-12-25T23:59:27.078469800Z"
    }
   },
   "id": "7391dc72628e98c0"
  },
  {
   "cell_type": "code",
   "execution_count": 31,
   "outputs": [
    {
     "name": "stdout",
     "output_type": "stream",
     "text": [
      "Results for words time and muslim\n",
      "W2V: -0.13441443\n",
      "Tf-Idf: 0.9988986318325437\n",
      "\n",
      "Results for words say and tell\n",
      "W2V: 0.64280057\n",
      "Tf-Idf: 0.9980211883786051\n",
      "\n",
      "Results for words person and time\n",
      "W2V: 0.22495331\n",
      "Tf-Idf: 0.9996011998239979\n"
     ]
    }
   ],
   "source": [
    "compare_methods(\"time\", \"muslim\")\n",
    "compare_methods(\"say\", \"tell\")\n",
    "compare_methods(\"person\", \"time\")"
   ],
   "metadata": {
    "collapsed": false,
    "ExecuteTime": {
     "end_time": "2023-12-25T23:59:27.163470700Z",
     "start_time": "2023-12-25T23:59:27.105470Z"
    }
   },
   "id": "2f39e2a38b956be5"
  },
  {
   "cell_type": "code",
   "execution_count": 32,
   "outputs": [],
   "source": [
    "tfidf_data = {}\n",
    "for i in range(len(matrix.columns)):\n",
    "    tfidf_data[matrix.columns[i]] = terms_vectorized[i]"
   ],
   "metadata": {
    "collapsed": false,
    "ExecuteTime": {
     "end_time": "2023-12-25T23:59:27.315465800Z",
     "start_time": "2023-12-25T23:59:27.134466800Z"
    }
   },
   "id": "a59991ba89e138f4"
  },
  {
   "cell_type": "code",
   "execution_count": 33,
   "outputs": [
    {
     "data": {
      "text/plain": "<AxesSubplot:xlabel='x', ylabel='y'>"
     },
     "execution_count": 33,
     "metadata": {},
     "output_type": "execute_result"
    },
    {
     "data": {
      "text/plain": "<Figure size 640x480 with 1 Axes>",
      "image/png": "[encoded data removed]"
     },
     "metadata": {},
     "output_type": "display_data"
    }
   ],
   "source": [
    "draw_words(terms_to_check, tfidf_data)"
   ],
   "metadata": {
    "collapsed": false,
    "ExecuteTime": {
     "end_time": "2023-12-25T23:59:28.079459400Z",
     "start_time": "2023-12-25T23:59:27.218472100Z"
    }
   },
   "id": "97b13c3080846ab6"
  },
  {
   "cell_type": "markdown",
   "source": [
    "# Task 7"
   ],
   "metadata": {
    "collapsed": false
   },
   "id": "1f88a9abe5f5cb37"
  },
  {
   "cell_type": "code",
   "execution_count": 34,
   "outputs": [],
   "source": [
    "def vectorize(sentences, w2v):\n",
    "    result_vec = np.zeros(w2v.vector_size)\n",
    "    for s in sentences:\n",
    "        sentence_vec = np.zeros(w2v.vector_size)\n",
    "        for w in s:\n",
    "            if w2v.wv.has_index_for(w):\n",
    "                sentence_vec += w2v.wv[w]\n",
    "        sentence_vec = sentence_vec / len(s) if len(s) > 0 else np.zeros(w2v.vector_size)\n",
    "        result_vec += sentence_vec\n",
    "    result_vec = result_vec / len(sentences) if len(sentences) > 0 else np.zeros(w2v.vector_size)\n",
    "    return result_vec"
   ],
   "metadata": {
    "collapsed": false,
    "ExecuteTime": {
     "end_time": "2023-12-25T23:59:28.316459100Z",
     "start_time": "2023-12-25T23:59:28.076460300Z"
    }
   },
   "id": "80826ce08ee5a6d3"
  },
  {
   "cell_type": "code",
   "execution_count": 35,
   "outputs": [
    {
     "data": {
      "text/plain": "[['evolut',\n  'design',\n  'sell',\n  'darwin',\n  'fish',\n  'fish',\n  'symbol',\n  'like',\n  'one'],\n ['christian',\n  'stick',\n  'car',\n  'feet',\n  'word',\n  'darwin',\n  'written',\n  'insid',\n  'delux',\n  'mould',\n  '3d',\n  'plastic',\n  'fish',\n  '4',\n  '95',\n  'postpaid',\n  'us']]"
     },
     "execution_count": 35,
     "metadata": {},
     "output_type": "execute_result"
    }
   ],
   "source": [
    "preprocess_text(t1, True)"
   ],
   "metadata": {
    "collapsed": false,
    "ExecuteTime": {
     "end_time": "2023-12-25T23:59:28.320458900Z",
     "start_time": "2023-12-25T23:59:28.099460900Z"
    }
   },
   "id": "9375749ba3399b2b"
  },
  {
   "cell_type": "code",
   "execution_count": 36,
   "outputs": [
    {
     "data": {
      "text/plain": "array([-0.61716539, -0.09720683,  0.20117598,  0.11210588, -0.44843442,\n       -0.22371527,  0.59126214,  0.22266231, -0.34861236, -0.07772593,\n       -0.24463488, -0.31253492, -0.05768895, -0.72058062, -0.34076974,\n       -0.76761443,  0.21472387,  0.38699245, -0.10278071, -0.14707191,\n        0.83177092, -0.42763585, -0.21895555,  0.19870429,  0.57872711,\n       -0.18278595, -0.47269855, -0.34106249,  0.2486803 ,  0.51570295,\n        0.47754321,  0.20432898,  0.30520501,  0.48427061, -0.40446676,\n        1.01076176, -0.26457323,  0.30873169, -0.28713756, -0.57976236,\n        0.51354063, -0.0861626 ,  0.77506607,  0.23444437,  0.13789807,\n        0.2842686 , -0.02537989,  0.22153247, -0.65283671,  0.31433313,\n       -0.08159082, -0.57425156,  0.27752921, -0.46222388,  0.37769223,\n       -0.35936638,  0.00944828,  0.17914666, -0.10678736, -0.19000884,\n       -0.41625943, -0.26557376, -0.16251822, -0.13691936, -0.94887959,\n        0.02305152,  0.45031578,  0.49620253, -0.11132001,  0.53160602,\n       -1.14216943,  0.23337462,  1.24837283,  0.90312207,  0.20075729,\n       -0.62351123, -0.3158735 , -0.87249593, -0.75886437, -0.33871663,\n        0.06771869, -0.21963993, -0.31021266,  0.26068677,  0.05663235,\n       -0.47549948,  0.43900777, -0.20340799,  0.02764992, -0.5395289 ,\n       -0.30381572,  0.23168767,  0.01389027, -0.28983752,  0.03553516,\n       -0.28710095,  0.73741497,  0.5251241 ,  0.51200048,  0.22313865])"
     },
     "execution_count": 36,
     "metadata": {},
     "output_type": "execute_result"
    }
   ],
   "source": [
    "vectorize(preprocess_text(t1, True), w2v)"
   ],
   "metadata": {
    "collapsed": false,
    "ExecuteTime": {
     "end_time": "2023-12-25T23:59:28.354459300Z",
     "start_time": "2023-12-25T23:59:28.179457200Z"
    }
   },
   "id": "c16ddc9ebaeb5f86"
  },
  {
   "cell_type": "markdown",
   "source": [
    " # Task 8"
   ],
   "metadata": {
    "collapsed": false
   },
   "id": "1589de74e0bde7d6"
  },
  {
   "cell_type": "code",
   "execution_count": 37,
   "outputs": [],
   "source": [
    "w2v = Word2Vec.load(os.path.join(train_dir, \"..\", \"w2v_weights\"))\n",
    "vectorized_documents = {}\n",
    "for t in topics:\n",
    "    workdir = os.path.join(train_dir, t)\n",
    "    for filename in os.listdir(workdir):\n",
    "        stems = get_stems_processed(os.path.join(workdir, filename))\n",
    "        vectorized_documents[os.path.join(t, filename)] = vectorize(stems, w2v)"
   ],
   "metadata": {
    "collapsed": false,
    "ExecuteTime": {
     "end_time": "2023-12-26T00:33:26.100681700Z",
     "start_time": "2023-12-25T23:59:28.246461600Z"
    }
   },
   "id": "e3c2237e03de079b"
  },
  {
   "cell_type": "code",
   "execution_count": 38,
   "outputs": [],
   "source": [
    "with open(os.path.join(train_dir, \"..\", \"train_embeddings.tsv\"), \"w\") as f:\n",
    "    for k in vectorized_documents.keys():\n",
    "        print(k.replace(\".tsv\", \"\"), *vectorized_documents[k], sep=\"\\t\", file=f)"
   ],
   "metadata": {
    "collapsed": false,
    "ExecuteTime": {
     "end_time": "2023-12-26T00:34:03.007463100Z",
     "start_time": "2023-12-26T00:33:26.105676600Z"
    }
   },
   "id": "d29a38f81b9629f6"
  },
  {
   "cell_type": "code",
   "execution_count": 40,
   "outputs": [],
   "source": [
    "test_dir = os.path.realpath(\"../assets/annotated-corpus/test\")\n",
    "vectorized_documents = {}\n",
    "for t in topics:\n",
    "    workdir = os.path.join(test_dir, t)\n",
    "    for filename in os.listdir(workdir):\n",
    "        stems = get_stems_processed(os.path.join(workdir, filename))\n",
    "        vectorized_documents[os.path.join(t, filename)] = vectorize(stems, w2v)"
   ],
   "metadata": {
    "collapsed": false,
    "ExecuteTime": {
     "end_time": "2023-12-26T04:01:48.275454Z",
     "start_time": "2023-12-26T03:59:40.509749100Z"
    }
   },
   "id": "d8d2e4746877d67"
  },
  {
   "cell_type": "code",
   "execution_count": 41,
   "outputs": [],
   "source": [
    "with open(os.path.join(train_dir, \"..\", \"test_embeddings.tsv\"), \"w\") as f:\n",
    "    for k in vectorized_documents.keys():\n",
    "        print(k.replace(\".tsv\", \"\"), *vectorized_documents[k], sep=\"\\t\", file=f)"
   ],
   "metadata": {
    "collapsed": false,
    "ExecuteTime": {
     "end_time": "2023-12-26T04:01:50.154045500Z",
     "start_time": "2023-12-26T04:01:48.279454700Z"
    }
   },
   "id": "ec4d0303f4a39ce"
  },
  {
   "cell_type": "code",
   "execution_count": null,
   "outputs": [],
   "source": [],
   "metadata": {
    "collapsed": false
   },
   "id": "ea53bc8382ae3f7b"
  }
 ],
 "metadata": {
  "kernelspec": {
   "display_name": "Python 3",
   "language": "python",
   "name": "python3"
  },
  "language_info": {
   "codemirror_mode": {
    "name": "ipython",
    "version": 2
   },
   "file_extension": ".py",
   "mimetype": "text/x-python",
   "name": "python",
   "nbconvert_exporter": "python",
   "pygments_lexer": "ipython2",
   "version": "2.7.6"
  }
 },
 "nbformat": 4,
 "nbformat_minor": 5
}
