{
 "cells": [
  {
   "cell_type": "code",
   "execution_count": 1,
   "id": "initial_id",
   "metadata": {
    "collapsed": true,
    "ExecuteTime": {
     "end_time": "2023-12-25T11:37:20.112581800Z",
     "start_time": "2023-12-25T11:36:52.421353500Z"
    }
   },
   "outputs": [
    {
     "name": "stderr",
     "output_type": "stream",
     "text": [
      "[nltk_data] Downloading package punkt to C:\\Users\\Mangarakov\n",
      "[nltk_data]     Alexandr\\AppData\\Roaming\\nltk_data...\n",
      "[nltk_data]   Package punkt is already up-to-date!\n",
      "[nltk_data] Downloading package omw-1.4 to C:\\Users\\Mangarakov\n",
      "[nltk_data]     Alexandr\\AppData\\Roaming\\nltk_data...\n",
      "[nltk_data]   Package omw-1.4 is already up-to-date!\n"
     ]
    }
   ],
   "source": [
    "import nltk\n",
    "\n",
    "nltk.download('punkt')\n",
    "nltk.download('omw-1.4')\n",
    "from nltk.tokenize import word_tokenize, sent_tokenize\n",
    "import pandas as pd"
   ]
  },
  {
   "cell_type": "code",
   "execution_count": 2,
   "outputs": [
    {
     "name": "stdout",
     "output_type": "stream",
     "text": [
      "   label                                               text\n",
      "0      3  Wall St. Bears Claw Back Into the Black (Reute...\n",
      "1      3  Carlyle Looks Toward Commercial Aerospace (Reu...\n",
      "2      3  Oil and Economy Cloud Stocks' Outlook (Reuters...\n",
      "3      3  Iraq Halts Oil Exports from Main Southern Pipe...\n",
      "4      3  Oil prices soar to all-time record, posing new...\n",
      "Carlyle Looks Toward Commercial Aerospace (Reuters). Reuters - Private investment firm Carlyle Group,\\which has a reputation for making well-timed and occasionally\\controversial plays in the defense industry, has quietly placed\\its bets on another part of the market.\n"
     ]
    }
   ],
   "source": [
    "import os\n",
    "\n",
    "df = pd.read_csv(os.path.join('../../dataset/raw/train.csv'), names=['label', 'Title', 'Description'])\n",
    "df['text'] = (df['Title'] + '. ' + df['Description'])\n",
    "df.drop(columns=['Title', 'Description'], axis=1, inplace=True)\n",
    "print(df.head())\n",
    "print(df['text'][1])"
   ],
   "metadata": {
    "collapsed": false,
    "ExecuteTime": {
     "end_time": "2023-12-25T11:37:21.109578500Z",
     "start_time": "2023-12-25T11:37:20.120584800Z"
    }
   },
   "id": "10d57caa4259352a"
  },
  {
   "cell_type": "code",
   "execution_count": 3,
   "outputs": [
    {
     "data": {
      "text/plain": "0         3\n1         3\n2         3\n3         3\n4         3\n         ..\n119995    1\n119996    2\n119997    2\n119998    2\n119999    2\nName: label, Length: 120000, dtype: int64"
     },
     "execution_count": 3,
     "metadata": {},
     "output_type": "execute_result"
    }
   ],
   "source": [
    "df['label']"
   ],
   "metadata": {
    "collapsed": false,
    "ExecuteTime": {
     "end_time": "2023-12-25T11:37:21.207579200Z",
     "start_time": "2023-12-25T11:37:21.113583900Z"
    }
   },
   "id": "ad6c6f57643b7841"
  },
  {
   "cell_type": "code",
   "execution_count": 4,
   "outputs": [],
   "source": [
    "import re\n",
    "\n",
    "def split_to_sent(text):\n",
    "    text = re.sub(r\"(?<=&lt;).*?(?=&gt;)\", \" \", text)\n",
    "    text = re.sub(r\"&gt;\", \" \", text)\n",
    "    text = re.sub(r\"&lt;\", \" \", text)\n",
    "    sentences = re.split(\n",
    "        r\"(((?<!\\w\\.\\w.)(?<!\\s\\w\\.)(?<![A-Z][a-z]\\.)(?<=\\.|\\?|\\!)\\s(?=[A-Z]))|((?<![\\,\\-\\:])\\n(?=[A-Z]|\\\" )))\", text)[::4]\n",
    "    return sentences"
   ],
   "metadata": {
    "collapsed": false,
    "ExecuteTime": {
     "end_time": "2023-12-25T11:37:21.209578500Z",
     "start_time": "2023-12-25T11:37:21.148579800Z"
    }
   },
   "id": "f16b78e23c14172f"
  },
  {
   "cell_type": "code",
   "execution_count": 5,
   "outputs": [],
   "source": [
    "def split_to_words(sentence):\n",
    "    words = re.findall(r\"\\w+@\\w+\\.\\w+|\\+\\d{1,3}-\\d{3}-\\d{3}-\\d{2}-\\d{2}|\\w+\", sentence)\n",
    "    return words"
   ],
   "metadata": {
    "collapsed": false,
    "ExecuteTime": {
     "end_time": "2023-12-25T11:37:21.211581300Z",
     "start_time": "2023-12-25T11:37:21.175580900Z"
    }
   },
   "id": "bded99f420ae9022"
  },
  {
   "cell_type": "code",
   "execution_count": 6,
   "outputs": [],
   "source": [
    "def save_to_file(original, lemmatized, stemmed, id, path):\n",
    "    with open(os.path.join(path, id), \"w\") as f:\n",
    "        for i in range(len(original)):\n",
    "            if original[i] == \"\\n\":\n",
    "                print(\"\", file=f)\n",
    "            else:\n",
    "                print(original[i], stemmed[i], lemmatized[i], sep=\"\\t\", file=f)"
   ],
   "metadata": {
    "collapsed": false,
    "ExecuteTime": {
     "end_time": "2023-12-25T11:37:21.328580900Z",
     "start_time": "2023-12-25T11:37:21.192582500Z"
    }
   },
   "id": "e627613a3632834b"
  },
  {
   "cell_type": "code",
   "execution_count": 7,
   "outputs": [
    {
     "name": "stderr",
     "output_type": "stream",
     "text": [
      "[nltk_data] Downloading package wordnet to C:\\Users\\Mangarakov\n",
      "[nltk_data]     Alexandr\\AppData\\Roaming\\nltk_data...\n",
      "[nltk_data]   Package wordnet is already up-to-date!\n"
     ]
    }
   ],
   "source": [
    "from nltk import WordNetLemmatizer\n",
    "from nltk import SnowballStemmer\n",
    "import nltk\n",
    "nltk.download('wordnet')\n",
    "\n",
    "\n",
    "def process_file(df, path):\n",
    "    wnl = WordNetLemmatizer()\n",
    "    sst = SnowballStemmer(\"english\")\n",
    "    counter = 0\n",
    "    for index, row in df.iterrows():\n",
    "        sentences = split_to_sent(row['text'])\n",
    "        words_dic = []\n",
    "        counter += 1\n",
    "        for s in sentences:\n",
    "            words_dic += split_to_words(s)\n",
    "            words_dic.append(\"\\n\")\n",
    "        lemmatized = []\n",
    "        stemmed = []\n",
    "        original = []\n",
    "        for w in words_dic:\n",
    "            w_processed = re.sub(r\"[.!?,]$\", \"\", w).lower()\n",
    "            lemmatized.append(wnl.lemmatize(w_processed))\n",
    "            stemmed.append(sst.stem(w_processed))\n",
    "            original.append(w_processed)\n",
    "        save_to_file(original, lemmatized, stemmed, os.path.join(str(row['label']), f'{str(counter)}.tsv'), path)"
   ],
   "metadata": {
    "collapsed": false,
    "ExecuteTime": {
     "end_time": "2023-12-25T11:37:21.331775800Z",
     "start_time": "2023-12-25T11:37:21.226582500Z"
    }
   },
   "id": "b2f4a0464b92971e"
  },
  {
   "cell_type": "code",
   "execution_count": 7,
   "outputs": [],
   "source": [],
   "metadata": {
    "collapsed": false,
    "ExecuteTime": {
     "end_time": "2023-12-25T11:37:21.361308100Z",
     "start_time": "2023-12-25T11:37:21.326584800Z"
    }
   },
   "id": "eae86957a0812dbe"
  },
  {
   "cell_type": "code",
   "execution_count": 8,
   "outputs": [],
   "source": [
    "df = pd.read_csv(os.path.join('../../dataset/raw/train.csv'), names=['label', 'Title', 'Description'])\n",
    "df['text'] = (df['Title'] + '. ' + df['Description'])\n",
    "df.drop(columns=['Title', 'Description'], axis=1, inplace=True)\n",
    "\n",
    "process_file(df, os.path.join('..', 'assets', 'annotated-corpus', 'train'))"
   ],
   "metadata": {
    "collapsed": false,
    "ExecuteTime": {
     "end_time": "2023-12-25T11:45:31.318174500Z",
     "start_time": "2023-12-25T11:37:21.350309100Z"
    }
   },
   "id": "9dc8c43fc3a82676"
  },
  {
   "cell_type": "code",
   "execution_count": 9,
   "outputs": [],
   "source": [
    "df = pd.read_csv(os.path.join('../../dataset/raw/test.csv'), names=['label', 'Title', 'Description'])\n",
    "df['text'] = (df['Title'] + '. ' + df['Description'])\n",
    "df.drop(columns=['Title', 'Description'], axis=1, inplace=True)\n",
    "\n",
    "process_file(df, os.path.join('..', 'assets', 'annotated-corpus', 'test'))"
   ],
   "metadata": {
    "collapsed": false,
    "ExecuteTime": {
     "end_time": "2023-12-25T11:45:58.557854700Z",
     "start_time": "2023-12-25T11:45:31.328178900Z"
    }
   },
   "id": "65ad549a2d70ff6c"
  },
  {
   "cell_type": "code",
   "execution_count": null,
   "outputs": [],
   "source": [],
   "metadata": {
    "collapsed": false
   },
   "id": "174c4b216214cc80"
  }
 ],
 "metadata": {
  "kernelspec": {
   "display_name": "Python 3",
   "language": "python",
   "name": "python3"
  },
  "language_info": {
   "codemirror_mode": {
    "name": "ipython",
    "version": 2
   },
   "file_extension": ".py",
   "mimetype": "text/x-python",
   "name": "python",
   "nbconvert_exporter": "python",
   "pygments_lexer": "ipython2",
   "version": "2.7.6"
  }
 },
 "nbformat": 4,
 "nbformat_minor": 5
}
