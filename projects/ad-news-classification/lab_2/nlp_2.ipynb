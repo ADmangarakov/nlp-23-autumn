{
 "cells": [
  {
   "cell_type": "code",
   "execution_count": 1,
   "id": "initial_id",
   "metadata": {
    "collapsed": true,
    "ExecuteTime": {
     "end_time": "2023-12-27T08:40:28.909533300Z",
     "start_time": "2023-12-27T08:40:17.064396700Z"
    }
   },
   "outputs": [],
   "source": [
    "import os\n",
    "import nltk\n",
    "import numpy as np\n",
    "from nltk.corpus import stopwords"
   ]
  },
  {
   "cell_type": "code",
   "execution_count": 2,
   "outputs": [
    {
     "name": "stderr",
     "output_type": "stream",
     "text": [
      "[nltk_data] Downloading package stopwords to C:\\Users\\Mangarakov\n",
      "[nltk_data]     Alexandr\\AppData\\Roaming\\nltk_data...\n",
      "[nltk_data]   Package stopwords is already up-to-date!\n"
     ]
    },
    {
     "data": {
      "text/plain": "True"
     },
     "execution_count": 2,
     "metadata": {},
     "output_type": "execute_result"
    }
   ],
   "source": [
    "nltk.download('stopwords')"
   ],
   "metadata": {
    "collapsed": false,
    "ExecuteTime": {
     "end_time": "2023-12-27T08:40:29.390561300Z",
     "start_time": "2023-12-27T08:40:28.907529500Z"
    }
   },
   "id": "f4b26fb355c7206"
  },
  {
   "cell_type": "code",
   "execution_count": 3,
   "outputs": [],
   "source": [
    "assets_dir = os.path.realpath(\"../assets/annotated-corpus\")\n",
    "train_dir = os.path.join(assets_dir, \"test\")"
   ],
   "metadata": {
    "collapsed": false,
    "ExecuteTime": {
     "end_time": "2023-12-27T08:40:29.400569100Z",
     "start_time": "2023-12-27T08:40:29.386531900Z"
    }
   },
   "id": "9420cfb06c1f3041"
  },
  {
   "cell_type": "code",
   "execution_count": 4,
   "outputs": [],
   "source": [
    "topics = os.listdir(train_dir)"
   ],
   "metadata": {
    "collapsed": false,
    "ExecuteTime": {
     "end_time": "2023-12-27T08:40:29.460268800Z",
     "start_time": "2023-12-27T08:40:29.404530900Z"
    }
   },
   "id": "9dbffc9c44c7843f"
  },
  {
   "cell_type": "code",
   "execution_count": 5,
   "outputs": [],
   "source": [
    "sentences = []\n",
    "for t in topics:\n",
    "    workdir = os.path.join(train_dir, t)\n",
    "    for filename in os.listdir(workdir):\n",
    "        with open(os.path.join(workdir, filename)) as f:\n",
    "            lines = \"\".join(f.readlines())\n",
    "            sentences_raw = lines.split(\"\\n\\n\")\n",
    "            for s in sentences_raw:\n",
    "                words = s.split(\"\\n\")\n",
    "                if len(words) == 0 or words[0] == \"\":\n",
    "                    continue\n",
    "                stems_raw = list(map(lambda x: x.split(\"\\t\")[1], words))\n",
    "                lemmas = list(map(lambda x: x.split(\"\\t\")[2], words))\n",
    "                stems = []\n",
    "                for i in range(len(stems_raw)):\n",
    "                    if lemmas[i] not in stopwords.words(\"english\"):\n",
    "                        stems.append(stems_raw[i])\n",
    "                sentences.append(stems)\n"
   ],
   "metadata": {
    "collapsed": false,
    "ExecuteTime": {
     "end_time": "2023-12-27T08:42:30.621447Z",
     "start_time": "2023-12-27T08:40:29.423535500Z"
    }
   },
   "id": "c0e482236537c952"
  },
  {
   "cell_type": "code",
   "execution_count": 6,
   "outputs": [
    {
     "data": {
      "text/plain": "16277"
     },
     "execution_count": 6,
     "metadata": {},
     "output_type": "execute_result"
    }
   ],
   "source": [
    "len(sentences)"
   ],
   "metadata": {
    "collapsed": false,
    "ExecuteTime": {
     "end_time": "2023-12-27T08:42:30.637450900Z",
     "start_time": "2023-12-27T08:42:30.623449Z"
    }
   },
   "id": "8ee431edefba4092"
  },
  {
   "cell_type": "code",
   "execution_count": 7,
   "outputs": [],
   "source": [
    "ngram_length = 3"
   ],
   "metadata": {
    "collapsed": false,
    "ExecuteTime": {
     "end_time": "2023-12-27T08:42:30.682486900Z",
     "start_time": "2023-12-27T08:42:30.640452800Z"
    }
   },
   "id": "706b2390f64e8dc2"
  },
  {
   "cell_type": "code",
   "execution_count": 8,
   "outputs": [],
   "source": [
    "ngrams = []\n",
    "word_count = {}\n",
    "ngrams_count = {}\n",
    "for s in sentences:\n",
    "    counter = 0\n",
    "    for w in s:\n",
    "        if w not in word_count.keys():\n",
    "            word_count[w] = 0\n",
    "        word_count[w] += 1\n",
    "        counter += 1\n",
    "    if counter < ngram_length:\n",
    "        continue\n",
    "    for i in range(len(s) - ngram_length + 1):\n",
    "        ngram = tuple(s[i:i+ngram_length])\n",
    "        if ngram not in ngrams_count.keys():\n",
    "            ngrams_count[ngram] = 0\n",
    "        ngrams_count[ngram] += 1\n",
    "        ngrams.append(ngram)\n"
   ],
   "metadata": {
    "collapsed": false,
    "ExecuteTime": {
     "end_time": "2023-12-27T08:42:31.018117400Z",
     "start_time": "2023-12-27T08:42:30.731454300Z"
    }
   },
   "id": "3f8232d82f82f9b5"
  },
  {
   "cell_type": "code",
   "execution_count": 9,
   "outputs": [
    {
     "data": {
      "text/plain": "170813"
     },
     "execution_count": 9,
     "metadata": {},
     "output_type": "execute_result"
    }
   ],
   "source": [
    "len(ngrams)"
   ],
   "metadata": {
    "collapsed": false,
    "ExecuteTime": {
     "end_time": "2023-12-27T08:42:31.035125900Z",
     "start_time": "2023-12-27T08:42:31.019119600Z"
    }
   },
   "id": "645d2bf792d524e2"
  },
  {
   "cell_type": "code",
   "execution_count": 10,
   "outputs": [
    {
     "data": {
      "text/plain": "[('39', 2802),\n ('new', 1349),\n ('said', 1312),\n ('has', 1219),\n ('reuter', 1040),\n ('ap', 1038),\n ('year', 948),\n ('was', 855),\n ('us', 848),\n ('quot', 700),\n ('two', 672),\n ('compani', 660),\n ('first', 657),\n ('say', 554),\n ('one', 549),\n ('world', 536),\n ('report', 532),\n ('u', 511),\n ('monday', 510),\n ('game', 509),\n ('tuesday', 505),\n ('thursday', 466),\n ('state', 466),\n ('1', 464),\n ('win', 461),\n ('wednesday', 453),\n ('inc', 449),\n ('plan', 446),\n ('week', 445),\n ('time', 441)]"
     },
     "execution_count": 10,
     "metadata": {},
     "output_type": "execute_result"
    }
   ],
   "source": [
    "sorted(word_count.items(), key=lambda x: -x[1])[:30]"
   ],
   "metadata": {
    "collapsed": false,
    "ExecuteTime": {
     "end_time": "2023-12-27T08:42:31.093119800Z",
     "start_time": "2023-12-27T08:42:31.037153Z"
    }
   },
   "id": "6439c66a95bedb34"
  },
  {
   "cell_type": "code",
   "execution_count": 11,
   "outputs": [
    {
     "data": {
      "text/plain": "[(('new', 'york', 'reuter'), 141),\n (('quot', 'profil', 'research'), 71),\n (('n', 'quot', 'profil'), 40),\n (('boston', 'red', 'sox'), 39),\n (('york', 'reuter', 'u'), 33),\n (('presid', 'vladimir', 'putin'), 25),\n (('world', '39', 'largest'), 23),\n (('georg', 'w', 'bush'), 22),\n (('new', 'york', 'yanke'), 22),\n (('prime', 'minist', 'ariel'), 21),\n (('minist', 'ariel', 'sharon'), 21),\n (('intern', 'space', 'station'), 20),\n (('reuter', 'u', 'stock'), 19),\n (('reuter', 'oil', 'price'), 19),\n (('st', 'loui', 'cardin'), 18),\n (('secur', 'exchang', 'commiss'), 18),\n (('russian', 'presid', 'vladimir'), 17),\n (('crude', 'oil', 'price'), 17),\n (('delta', 'air', 'line'), 17),\n (('third', 'quarter', 'earn'), 17),\n (('high', 'oil', 'price'), 16),\n (('major', 'leagu', 'basebal'), 16),\n (('secretari', 'state', 'colin'), 16),\n (('prime', 'minist', 'toni'), 15),\n (('minist', 'toni', 'blair'), 15),\n (('world', 'cup', 'qualifi'), 15),\n (('washington', 'reuter', 'u'), 15),\n (('world', '39', 'biggest'), 15),\n (('third', 'quarter', 'profit'), 15),\n (('advanc', 'micro', 'devic'), 15)]"
     },
     "execution_count": 11,
     "metadata": {},
     "output_type": "execute_result"
    }
   ],
   "source": [
    "sorted(ngrams_count.items(), key=lambda x: -x[1])[:30]"
   ],
   "metadata": {
    "collapsed": false,
    "ExecuteTime": {
     "end_time": "2023-12-27T08:42:31.157118Z",
     "start_time": "2023-12-27T08:42:31.067120700Z"
    }
   },
   "id": "dccccee88e69fef6"
  },
  {
   "cell_type": "code",
   "execution_count": 12,
   "outputs": [
    {
     "data": {
      "text/plain": "203230"
     },
     "execution_count": 12,
     "metadata": {},
     "output_type": "execute_result"
    }
   ],
   "source": [
    "total_words = sum(word_count.values())\n",
    "total_words\n"
   ],
   "metadata": {
    "collapsed": false,
    "ExecuteTime": {
     "end_time": "2023-12-27T08:42:31.176117200Z",
     "start_time": "2023-12-27T08:42:31.146121200Z"
    }
   },
   "id": "57340fb3a953ba"
  },
  {
   "cell_type": "markdown",
   "source": [
    "### f(n, c) - ngrams_count[ngram], частота встречаемости ключевого слова n в паре с коллокатом c;\n",
    "### N - total_words, общее число словоупотреблений в корпусе (тексте);\n",
    "### П_i f(u_i) - count_mul_result, Произведение абсолютных частот i-й униграммы в 3-грамме"
   ],
   "metadata": {
    "collapsed": false
   },
   "id": "8a676f2b41e06348"
  },
  {
   "cell_type": "code",
   "execution_count": 13,
   "outputs": [
    {
     "data": {
      "text/plain": "[(('tung', 'chee', 'hwa'), 35.26550771428075),\n (('kandanski', '781', '442'), 35.26550771428075),\n (('shadi', 'nook', 'cranni'), 35.26550771428075),\n (('klien', 'vitantonio', 'liuzzi'), 35.26550771428075),\n (('macaca', 'munzala', 'arunach'), 35.26550771428075),\n (('unsign', 'adewal', 'ogunley'), 35.26550771428075),\n (('intravascular', 'coagul', 'dic'), 35.26550771428075),\n (('ku', 'klux', 'klan'), 35.26550771428075),\n (('thelma', 'drake', 'norfolk'), 35.26550771428075),\n (('gino', 'guidug', 'guh'), 35.26550771428075),\n (('petroliam', 'nasion', 'bhd'), 35.26550771428075),\n (('pickoff', 'cutoff', 'bunt'), 35.26550771428075),\n (('palett', 'pastel', 'hue'), 35.26550771428075),\n (('bink', 'lookalik', 'gungan'), 35.26550771428075),\n (('humidor', 'darth', 'vader'), 35.26550771428075),\n (('exot', 'melaleuca', 'iguana'), 35.26550771428075),\n (('sarwan', 'shivnarin', 'chanderpaul'), 35.26550771428075),\n (('munzala', 'arunach', 'macaqu'), 35.26550771428075),\n (('olympiqu', 'marseill', '1993'), 35.26550771428075),\n (('azahari', 'noordin', 'moh'), 35.26550771428075),\n (('mou', 'tamanthi', 'hydroelectr'), 35.26550771428075),\n (('terin', 'humphrey', 'annia'), 35.26550771428075),\n (('4345mfp', 'multifunct', 'copier'), 35.26550771428075),\n (('binti', 'pengiran', 'salleh'), 35.26550771428075),\n (('jo', 'wilfri', 'tsonga'), 35.26550771428075),\n (('suitor', 'foodland', 'foa'), 35.26550771428075),\n (('loren', 'galler', 'rabinowitz'), 35.26550771428075),\n (('mp3s', 'blatant', 'disregard'), 35.26550771428075),\n (('inver', 'caledonian', 'thistl'), 35.26550771428075),\n (('ramnaresh', 'sarwan', 'shivnarin'), 35.26550771428075)]"
     },
     "execution_count": 13,
     "metadata": {},
     "output_type": "execute_result"
    }
   ],
   "source": [
    "ngram_score = {}\n",
    "for ngram in set(ngrams):\n",
    "    count_mul_result = 1\n",
    "    for word in ngram:\n",
    "        count_mul_result *= word_count[word]\n",
    "    ngram_score[ngram] = np.log2(ngrams_count[ngram] * (total_words**(ngram_length-1)) / count_mul_result)\n",
    "sorted(ngram_score.items(), key=lambda x: -x[1])[0:30]\n"
   ],
   "metadata": {
    "collapsed": false,
    "ExecuteTime": {
     "end_time": "2023-12-27T08:42:31.979117300Z",
     "start_time": "2023-12-27T08:42:31.165119900Z"
    }
   },
   "id": "239eade116446b8a"
  },
  {
   "cell_type": "code",
   "execution_count": 14,
   "outputs": [
    {
     "data": {
      "text/plain": "[(('jane', 'westborough', 'woke'), 35.26550771428075),\n (('nr', 'narayana', 'murthi'), 35.26550771428075),\n (('sher', 'bahadur', 'deuba'), 35.26550771428075),\n (('yu', 'shyi', 'kun'), 35.26550771428075),\n (('guidug', 'guh', 'doo'), 35.26550771428075),\n (('troi', 'rivier', 'que'), 35.26550771428075),\n (('netinfomanag', 'postfix', 'serveradmin'), 35.26550771428075),\n (('lonesom', 'dove', 'aggi'), 35.26550771428075),\n (('bb', 'lob', 'avg'), 35.26550771428075),\n (('mcteer', 'lonesom', 'dove'), 35.26550771428075),\n (('laserjet', '4345mfp', 'multifunct'), 35.26550771428075),\n (('folger', 'espresso', 'dunkin'), 35.26550771428075),\n (('middleborough', 'middleboro', 'cobra'), 35.26550771428075),\n (('781', '442', '0750'), 35.26550771428075),\n (('nesn', 'weei', 'lhp'), 35.26550771428075),\n (('drool', 'alt', 'rocker'), 35.26550771428075),\n (('cna', 'academia', 'sinica'), 35.26550771428075),\n (('fsb', 'fud', 'foi'), 35.26550771428075),\n (('fourier', 'spectromet', 'pfs'), 35.26550771428075),\n (('blatant', 'disregard', 'hilari'), 35.26550771428075),\n (('axel', 'bugg', 'brasilia'), 35.26550771428075),\n (('ellen', 'zane', 'oversaw'), 35.26550771428075),\n (('bo', 'schembechl', 'darrel'), 34.26550771428075),\n (('sardinia', 'piero', 'rosati'), 34.26550771428075),\n (('kicker', 'josh', 'scobe'), 34.26550771428075),\n (('horizont', 'drinker', 'rejoic'), 34.26550771428075),\n (('bosma', 'pablo', 'herrera'), 34.26550771428075),\n (('des', 'processeur', 'amd64'), 34.26550771428075),\n (('mckendre', 'alma', 'mater'), 34.26550771428075),\n (('miriam', 'kandanski', '781'), 34.26550771428075)]"
     },
     "execution_count": 14,
     "metadata": {},
     "output_type": "execute_result"
    }
   ],
   "source": [
    "ngram_score = {}\n",
    "for ngram in set(ngrams):\n",
    "    count_sum_log_result = 0\n",
    "    for word in ngram:\n",
    "        count_sum_log_result += np.log2(word_count[word])\n",
    "    ngram_score[ngram] = np.log2(ngrams_count[ngram]) + (ngram_length-1)*np.log2(total_words) - count_sum_log_result\n",
    "sorted(ngram_score.items(), key=lambda x: -x[1])[30:60]"
   ],
   "metadata": {
    "collapsed": false,
    "ExecuteTime": {
     "end_time": "2023-12-27T08:42:33.827789200Z",
     "start_time": "2023-12-27T08:42:31.981118700Z"
    }
   },
   "id": "661ceaa1ed22338c"
  },
  {
   "cell_type": "code",
   "execution_count": 15,
   "outputs": [
    {
     "data": {
      "text/plain": "[('1913', 'doesnt', 'clearcut'),\n ('4345mfp', 'multifunct', 'copier'),\n ('781', '442', '0750'),\n ('axel', 'bugg', 'brasilia'),\n ('azahari', 'noordin', 'moh'),\n ('bb', 'lob', 'avg'),\n ('bink', 'lookalik', 'gungan'),\n ('binti', 'pengiran', 'salleh'),\n ('blatant', 'disregard', 'hilari'),\n ('cna', 'academia', 'sinica'),\n ('drool', 'alt', 'rocker'),\n ('ellen', 'zane', 'oversaw'),\n ('exot', 'melaleuca', 'iguana'),\n ('folger', 'espresso', 'dunkin'),\n ('fourier', 'spectromet', 'pfs'),\n ('fsb', 'fud', 'foi'),\n ('gino', 'guidug', 'guh'),\n ('guidug', 'guh', 'doo'),\n ('humidor', 'darth', 'vader'),\n ('intravascular', 'coagul', 'dic'),\n ('inver', 'caledonian', 'thistl'),\n ('jane', 'westborough', 'woke'),\n ('jarkko', 'nieminen', 'overpow'),\n ('jo', 'wilfri', 'tsonga'),\n ('kandanski', '781', '442'),\n ('klien', 'vitantonio', 'liuzzi'),\n ('kristen', 'philipkoski', 'headshak'),\n ('ku', 'klux', 'klan'),\n ('laserjet', '4345mfp', 'multifunct'),\n ('lonesom', 'dove', 'aggi')]"
     },
     "execution_count": 15,
     "metadata": {},
     "output_type": "execute_result"
    }
   ],
   "source": [
    "from nltk.collocations import  *\n",
    "from nltk import Text\n",
    "import nltk\n",
    "text = []\n",
    "for s in sentences:\n",
    "    text += s\n",
    "finder = TrigramCollocationFinder.from_words(Text(text))\n",
    "finder.nbest(nltk.collocations.TrigramAssocMeasures().mi_like, 30)"
   ],
   "metadata": {
    "collapsed": false,
    "ExecuteTime": {
     "end_time": "2023-12-27T08:42:35.950585500Z",
     "start_time": "2023-12-27T08:42:33.833786600Z"
    }
   },
   "id": "7fa7f548f73d5ff4"
  },
  {
   "cell_type": "code",
   "execution_count": null,
   "outputs": [],
   "source": [],
   "metadata": {
    "collapsed": false
   },
   "id": "4544e7480a9c22b7"
  }
 ],
 "metadata": {
  "kernelspec": {
   "display_name": "Python 3",
   "language": "python",
   "name": "python3"
  },
  "language_info": {
   "codemirror_mode": {
    "name": "ipython",
    "version": 2
   },
   "file_extension": ".py",
   "mimetype": "text/x-python",
   "name": "python",
   "nbconvert_exporter": "python",
   "pygments_lexer": "ipython2",
   "version": "2.7.6"
  }
 },
 "nbformat": 4,
 "nbformat_minor": 5
}
